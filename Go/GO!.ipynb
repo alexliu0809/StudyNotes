{
 "cells": [
  {
   "cell_type": "markdown",
   "metadata": {},
   "source": [
    "# References\n",
    "* [Go Language Documentation Page](http://golang.org/doc/)\n",
    "* [Effective Go](http://golang.org/doc/effective_go.html)\n",
    "* [Go Tutorial](https://tour.golang.org/)"
   ]
  },
  {
   "cell_type": "markdown",
   "metadata": {},
   "source": [
    "# Packages\n",
    "Every Go program is made up of packages.\n",
    "\n",
    "Programs start running in package ``main``. The ``main()`` func will be called.\n",
    "\n",
    "This program is using the packages with import paths ``\"fmt\"`` and ``\"math/rand\"``.\n",
    "\n",
    "By convention, the package name is the same as the last element of the import path. For instance, the \"math/rand\" package comprises files that begin with the statement package ``rand`` (aka ``rand.something``)."
   ]
  },
  {
   "cell_type": "code",
   "execution_count": 1,
   "metadata": {},
   "outputs": [
    {
     "name": "stdout",
     "output_type": "stream",
     "text": [
      "My favorite number is 1\n"
     ]
    }
   ],
   "source": [
    "// Define a package. This is where the program starts running\n",
    "package main\n",
    "\n",
    "// import some other packages.\n",
    "import (\n",
    "    \"fmt\"\n",
    "    \"math/rand\"\n",
    ")\n",
    "\n",
    "\n",
    "// define main func, like C, everything starts with a main.\n",
    "func main() {\n",
    "    fmt.Println(\"My favorite number is\", rand.Intn(10))\n",
    "}\n",
    "\n",
    "// in real program you don't have to call this\n",
    "main()"
   ]
  },
  {
   "cell_type": "markdown",
   "metadata": {},
   "source": [
    "# Imports\n",
    "This code groups the imports into a parenthesized, \"factored\" import statement.\n",
    "\n",
    "You can also write multiple import statements, like:\n",
    "```GO\n",
    "import \"fmt\"\n",
    "import \"math\"\n",
    "```\n",
    "But it is good style to use the factored import statement."
   ]
  },
  {
   "cell_type": "code",
   "execution_count": 2,
   "metadata": {},
   "outputs": [
    {
     "name": "stdout",
     "output_type": "stream",
     "text": [
      "Now you have 2.6457513110645907 problems.\n"
     ]
    }
   ],
   "source": [
    "package main\n",
    "\n",
    "import \"fmt\"\n",
    "import \"math\"\n",
    "\n",
    "func main() {\n",
    "    fmt.Printf(\"Now you have %g problems.\\n\", math.Sqrt(7))\n",
    "}\n",
    "\n",
    "// in real program you don't have to call this\n",
    "main()"
   ]
  },
  {
   "cell_type": "markdown",
   "metadata": {},
   "source": [
    "# Exported names\n",
    "In Go, a name is exported if it begins with a capital letter. For example, ``Pizza`` is an exported name, as is ``Pi``, which is exported from the math package.\n",
    "\n",
    "``pizza`` and ``pi`` do not start with a capital letter, so they are not exported.\n",
    "\n",
    "When importing a package, you can refer only to its exported names. Any \"unexported\" names are not accessible from outside the package."
   ]
  },
  {
   "cell_type": "code",
   "execution_count": 3,
   "metadata": {},
   "outputs": [
    {
     "ename": "ERROR",
     "evalue": "repl.go:13:17: package math \"math\" has no symbol pi",
     "output_type": "error",
     "traceback": [
      "repl.go:13:17: package math \"math\" has no symbol pi"
     ]
    }
   ],
   "source": [
    "// Run the code. Notice the error message.\n",
    "\n",
    "// To fix the error, rename math.pi to math.Pi and try it again.\n",
    "\n",
    "package main\n",
    "\n",
    "import (\n",
    "    \"fmt\"\n",
    "    \"math\"\n",
    ")\n",
    "\n",
    "func main() {\n",
    "    fmt.Println(math.pi)\n",
    "}\n",
    "main()"
   ]
  },
  {
   "cell_type": "code",
   "execution_count": 4,
   "metadata": {},
   "outputs": [
    {
     "name": "stdout",
     "output_type": "stream",
     "text": [
      "3.141592653589793\n"
     ]
    }
   ],
   "source": [
    "// A name is exported if it begins with a capital letter.\n",
    "package main\n",
    "\n",
    "import (\n",
    "    \"fmt\"\n",
    "    \"math\"\n",
    ")\n",
    "\n",
    "func main() {\n",
    "    fmt.Println(math.Pi)\n",
    "}\n",
    "main()"
   ]
  },
  {
   "cell_type": "markdown",
   "metadata": {},
   "source": [
    "# Functions\n",
    "A function can take zero or more arguments.\n",
    "\n",
    "In this example, add takes two parameters of type ``int`` and return an ``int``.\n",
    "\n",
    "Notice that the type comes after the variable name."
   ]
  },
  {
   "cell_type": "code",
   "execution_count": 5,
   "metadata": {},
   "outputs": [
    {
     "name": "stdout",
     "output_type": "stream",
     "text": [
      "55\n"
     ]
    }
   ],
   "source": [
    "package main\n",
    "\n",
    "import \"fmt\"\n",
    "\n",
    "func add(x int, y int) int {\n",
    "    return x + y\n",
    "}\n",
    "\n",
    "func main() {\n",
    "    fmt.Println(add(42, 13))\n",
    "}\n",
    "\n",
    "main()"
   ]
  },
  {
   "cell_type": "markdown",
   "metadata": {},
   "source": [
    "When two or more consecutive named function parameters share a type, you can omit the type from all but the last.\n",
    "\n",
    "In this example, we shortened\n",
    "```GO\n",
    "x int, y int\n",
    "```\n",
    "to\n",
    "```GO\n",
    "x, y int\n",
    "```"
   ]
  },
  {
   "cell_type": "code",
   "execution_count": 6,
   "metadata": {},
   "outputs": [
    {
     "name": "stdout",
     "output_type": "stream",
     "text": [
      "55\n"
     ]
    }
   ],
   "source": [
    "package main\n",
    "\n",
    "import \"fmt\"\n",
    "\n",
    "func add(x, y int) int {\n",
    "    return x + y\n",
    "}\n",
    "\n",
    "func main() {\n",
    "    fmt.Println(add(42, 13))\n",
    "}\n",
    "main()"
   ]
  },
  {
   "cell_type": "markdown",
   "metadata": {},
   "source": [
    "# Multiple results\n",
    "A function can return any number of results.\n",
    "\n",
    "The ``swap`` function returns two strings."
   ]
  },
  {
   "cell_type": "code",
   "execution_count": 7,
   "metadata": {},
   "outputs": [
    {
     "name": "stdout",
     "output_type": "stream",
     "text": [
      "world hello\n"
     ]
    }
   ],
   "source": [
    "package main\n",
    "\n",
    "import \"fmt\"\n",
    "\n",
    "func swap(x, y string) (string, string) {\n",
    "    return y, x\n",
    "}\n",
    "\n",
    "func main() {\n",
    "    a, b := swap(\"hello\", \"world\")\n",
    "    fmt.Println(a, b)\n",
    "}\n",
    "main()"
   ]
  },
  {
   "cell_type": "markdown",
   "metadata": {},
   "source": [
    "# Named return values\n",
    "Go's return values may be named. If so, they are treated as variables defined at the top of the function.\n",
    "\n",
    "These names should be used to document the meaning of the return values.\n",
    "\n",
    "A ``return`` statement without arguments returns the named return values. This is known as a \"naked\" return.\n",
    "\n",
    "Naked return statements should be used only in short functions, as with the example shown here. They can harm readability in longer functions."
   ]
  },
  {
   "cell_type": "code",
   "execution_count": 8,
   "metadata": {},
   "outputs": [],
   "source": [
    "package main\n",
    "\n",
    "import \"fmt\"\n",
    "\n",
    "func split(sum int) (x, y int) {\n",
    "    x = sum * 4 / 9\n",
    "    y = sum - x\n",
    "    return\n",
    "}\n",
    "\n",
    "func main() {\n",
    "    fmt.Println(split(17))\n",
    "}\n"
   ]
  },
  {
   "cell_type": "markdown",
   "metadata": {},
   "source": [
    "If no named return value is defined and you explicitly call return, nothing is returned."
   ]
  },
  {
   "cell_type": "code",
   "execution_count": 9,
   "metadata": {},
   "outputs": [
    {
     "name": "stdout",
     "output_type": "stream",
     "text": [
      "17\n"
     ]
    }
   ],
   "source": [
    "package main\n",
    "\n",
    "import \"fmt\"\n",
    "\n",
    "func split(sum int) {\n",
    "    fmt.Println(sum)\n",
    "    return\n",
    "}\n",
    "\n",
    "func main() {\n",
    "    split(17)\n",
    "}\n",
    "main()"
   ]
  },
  {
   "cell_type": "markdown",
   "metadata": {},
   "source": [
    "# Variables\n",
    "The ``var`` statement declares a list of variables; as in function argument lists, the type is last.\n",
    "\n",
    "A ``var`` statement can be at package or function level. We see both in this example.\n",
    "\n",
    "The default value for any numeric type will be 0. For boolean values the default is false and for strings it will be an empty string. While the Go programming language does have a type of nil , a string cannot be of this type."
   ]
  },
  {
   "cell_type": "code",
   "execution_count": 10,
   "metadata": {},
   "outputs": [
    {
     "name": "stdout",
     "output_type": "stream",
     "text": [
      "0 false false false\n"
     ]
    }
   ],
   "source": [
    "package main\n",
    "\n",
    "import \"fmt\"\n",
    "\n",
    "var c, python, java bool\n",
    "\n",
    "func main() {\n",
    "    var i int\n",
    "    fmt.Println(i, c, python, java)\n",
    "}\n",
    "main()"
   ]
  },
  {
   "cell_type": "markdown",
   "metadata": {},
   "source": [
    "# Variables with initializers\n",
    "A ``var`` declaration can include initializers, one per variable.\n",
    "\n",
    "If an initializer is present, the type can be omitted; the variable will take the type of the initializer."
   ]
  },
  {
   "cell_type": "code",
   "execution_count": 11,
   "metadata": {},
   "outputs": [
    {
     "name": "stdout",
     "output_type": "stream",
     "text": [
      "1 2 true false no!\n"
     ]
    }
   ],
   "source": [
    "package main\n",
    "\n",
    "import \"fmt\"\n",
    "\n",
    "var i, j int = 1, 2\n",
    "\n",
    "func main() {\n",
    "    var c, python, java = true, false, \"no!\"\n",
    "    fmt.Println(i, j, c, python, java)\n",
    "}\n",
    "main()"
   ]
  },
  {
   "cell_type": "markdown",
   "metadata": {},
   "source": [
    "# Short variable declarations\n",
    "Inside a function (only. available inside a func), the ``:=`` short assignment statement can be used in place of a ``var`` declaration with implicit type.\n",
    "\n",
    "Outside a function, every statement begins with a keyword (``var``, ``func``, and so on) and so the ``:=`` construct is not available."
   ]
  },
  {
   "cell_type": "code",
   "execution_count": 12,
   "metadata": {},
   "outputs": [],
   "source": [
    "package main\n",
    "\n",
    "import \"fmt\"\n",
    "\n",
    "func main() {\n",
    "    var i, j int = 1, 2\n",
    "    k := 3\n",
    "    c, python, java := true, false, \"no!\"\n",
    "\n",
    "    fmt.Println(i, j, k, c, python, java)\n",
    "}\n"
   ]
  },
  {
   "cell_type": "markdown",
   "metadata": {},
   "source": [
    "# Basic types\n",
    "Go's basic types are\n",
    "```Go\n",
    "bool\n",
    "\n",
    "string\n",
    "\n",
    "int  int8  int16  int32  int64\n",
    "uint uint8 uint16 uint32 uint64 uintptr\n",
    "\n",
    "byte // alias for uint8\n",
    "\n",
    "rune // alias for int32\n",
    "     // represents a Unicode code point\n",
    "\n",
    "float32 float64\n",
    "\n",
    "complex64 complex128\n",
    "```\n",
    "The example shows variables of several types, and also that variable declarations may be \"factored\" into blocks, as with import statements.\n",
    "\n",
    "The ``int``, ``uint``, and ``uintptr`` types are usually 32 bits wide on 32-bit systems and 64 bits wide on 64-bit systems. When you need an integer value you should use int unless you have a specific reason to use a sized or unsigned integer type."
   ]
  },
  {
   "cell_type": "code",
   "execution_count": 13,
   "metadata": {},
   "outputs": [
    {
     "name": "stdout",
     "output_type": "stream",
     "text": [
      "Type: bool Value: false\n",
      "Type: uint64 Value: 18446744073709551615\n",
      "Type: complex128 Value: (2+3i)\n"
     ]
    }
   ],
   "source": [
    "package main\n",
    "\n",
    "import (\n",
    "    \"fmt\"\n",
    "    \"math/cmplx\"\n",
    ")\n",
    "\n",
    "var (\n",
    "    ToBe   bool       = false\n",
    "    // Regarding why this is legit:\n",
    "    //https://stackoverflow.com/questions/26833421/how-does-1-64-1-work\n",
    "    MaxInt uint64     = 1<<64 - 1\n",
    "    \n",
    "    //MaxInt uint64     = 1<<64\n",
    "    //this will not be okay, because uint64 can't hold this value\n",
    "    z      complex128 = cmplx.Sqrt(-5 + 12i)\n",
    ")\n",
    "\n",
    "func main() {\n",
    "    fmt.Printf(\"Type: %T Value: %v\\n\", ToBe, ToBe)\n",
    "    fmt.Printf(\"Type: %T Value: %v\\n\", MaxInt, MaxInt)\n",
    "    fmt.Printf(\"Type: %T Value: %v\\n\", z, z)\n",
    "}\n",
    "main()"
   ]
  },
  {
   "cell_type": "markdown",
   "metadata": {},
   "source": [
    "# Zero values\n",
    "\n",
    "Variables declared without an explicit initial value are given their zero value.\n",
    "\n",
    "The zero value is:\n",
    "\n",
    "``0`` for numeric types,\n",
    "\n",
    "``false`` for the boolean type, and\n",
    "\n",
    "``\"\"`` (the empty string) for strings.\n"
   ]
  },
  {
   "cell_type": "code",
   "execution_count": 14,
   "metadata": {},
   "outputs": [
    {
     "name": "stdout",
     "output_type": "stream",
     "text": [
      "0 0 false \"\"\n"
     ]
    }
   ],
   "source": [
    "package main\n",
    "\n",
    "import \"fmt\"\n",
    "\n",
    "func main() {\n",
    "    var i int\n",
    "    var f float64\n",
    "    var b bool\n",
    "    var s string\n",
    "    fmt.Printf(\"%v %v %v %q\\n\", i, f, b, s)\n",
    "}\n",
    "main()"
   ]
  },
  {
   "cell_type": "markdown",
   "metadata": {},
   "source": [
    "# Type conversions\n",
    "The expression ``T(v)`` converts the value ``v`` to the type ``T``.\n",
    "\n",
    "Some numeric conversions:\n",
    "```\n",
    "var i int = 42\n",
    "var f float64 = float64(i)\n",
    "var u uint = uint(f)\n",
    "```\n",
    "Or, put more simply:\n",
    "```\n",
    "i := 42\n",
    "f := float64(i)\n",
    "u := uint(f)\n",
    "```\n",
    "Unlike in C, in Go assignment between items of different type **requires an explicit conversion**. Try removing the float64 or uint conversions in the example and see what happens."
   ]
  },
  {
   "cell_type": "code",
   "execution_count": 15,
   "metadata": {},
   "outputs": [
    {
     "name": "stdout",
     "output_type": "stream",
     "text": [
      "3 4 5\n"
     ]
    }
   ],
   "source": [
    "package main\n",
    "\n",
    "import (\n",
    "    \"fmt\"\n",
    "    \"math\"\n",
    ")\n",
    "\n",
    "func main() {\n",
    "    var x, y int = 3, 4\n",
    "    var f float64 = math.Sqrt(float64(x*x + y*y))\n",
    "    var z uint = uint(f)\n",
    "    fmt.Println(x, y, z)\n",
    "}\n",
    "main()"
   ]
  },
  {
   "cell_type": "code",
   "execution_count": 16,
   "metadata": {},
   "outputs": [
    {
     "ename": "ERROR",
     "evalue": "repl.go:11:9: incompatible types in assignment: uint = float64",
     "output_type": "error",
     "traceback": [
      "repl.go:11:9: incompatible types in assignment: uint = float64"
     ]
    }
   ],
   "source": [
    "package main\n",
    "\n",
    "import (\n",
    "    \"fmt\"\n",
    "    \"math\"\n",
    ")\n",
    "\n",
    "func main() {\n",
    "    var x, y int = 3, 4\n",
    "    var f float64 = math.Sqrt(float64(x*x + y*y))\n",
    "    var z uint = f\n",
    "    fmt.Println(x, y, z)\n",
    "}\n",
    "main()"
   ]
  },
  {
   "cell_type": "markdown",
   "metadata": {},
   "source": [
    "# Type inference\n",
    "When declaring a variable **without specifying an explicit type** (either by using the ``:=`` syntax or var ``=`` expression syntax), **the variable's type is inferred** from the value on the right hand side.\n",
    "\n",
    "When the right hand side of the declaration is typed, the new variable is of that same type:\n",
    "```\n",
    "var i int\n",
    "j := i // j is an int\n",
    "```\n",
    "But when the right hand side contains an untyped numeric constant, the new variable may be an ``int``, ``float64``, or ``complex128`` depending on the precision of the constant:\n",
    "```\n",
    "i := 42           // int\n",
    "f := 3.142        // float64\n",
    "g := 0.867 + 0.5i // complex128\n",
    "```\n"
   ]
  },
  {
   "cell_type": "code",
   "execution_count": 17,
   "metadata": {},
   "outputs": [
    {
     "name": "stdout",
     "output_type": "stream",
     "text": [
      "v is of type int\n"
     ]
    }
   ],
   "source": [
    "package main\n",
    "\n",
    "import \"fmt\"\n",
    "\n",
    "func main() {\n",
    "    v := 42 // change me!\n",
    "    fmt.Printf(\"v is of type %T\\n\", v)\n",
    "}\n",
    "main()"
   ]
  },
  {
   "cell_type": "code",
   "execution_count": 18,
   "metadata": {},
   "outputs": [
    {
     "name": "stdout",
     "output_type": "stream",
     "text": [
      "v is of type float64\n"
     ]
    }
   ],
   "source": [
    "package main\n",
    "\n",
    "import \"fmt\"\n",
    "\n",
    "func main() {\n",
    "    v := 42.213213 // change me!\n",
    "    fmt.Printf(\"v is of type %T\\n\", v)\n",
    "}\n",
    "main()"
   ]
  },
  {
   "cell_type": "code",
   "execution_count": 19,
   "metadata": {},
   "outputs": [
    {
     "name": "stdout",
     "output_type": "stream",
     "text": [
      "v is of type complex128\n"
     ]
    }
   ],
   "source": [
    "package main\n",
    "\n",
    "import \"fmt\"\n",
    "\n",
    "func main() {\n",
    "    v := 2 + 3i // change me!\n",
    "    fmt.Printf(\"v is of type %T\\n\", v)\n",
    "}\n",
    "main()"
   ]
  },
  {
   "cell_type": "markdown",
   "metadata": {},
   "source": [
    "# Constants\n",
    "Constants are **declared like variables, but with the const keyword**.\n",
    "\n",
    "Constants can be character, string, boolean, or numeric values.\n",
    "\n",
    "Constants **cannot be declared using the := syntax**."
   ]
  },
  {
   "cell_type": "code",
   "execution_count": 20,
   "metadata": {},
   "outputs": [
    {
     "name": "stdout",
     "output_type": "stream",
     "text": [
      "Hello 世界\n",
      "Happy 3.14 Day\n",
      "Go rules? true\n"
     ]
    }
   ],
   "source": [
    "package main\n",
    "\n",
    "import \"fmt\"\n",
    "\n",
    "const Pi = 3.14\n",
    "const Pi2 float64 = 3.14\n",
    "\n",
    "func main() {\n",
    "    const World = \"世界\"\n",
    "    fmt.Println(\"Hello\", World)\n",
    "    fmt.Println(\"Happy\", Pi, \"Day\")\n",
    "\n",
    "    const Truth = true\n",
    "    fmt.Println(\"Go rules?\", Truth)\n",
    "}\n",
    "main()"
   ]
  },
  {
   "cell_type": "markdown",
   "metadata": {},
   "source": [
    "# Numeric Constants\n",
    "Numeric constants are high-precision values.\n",
    "\n",
    "An untyped constant takes the type needed by its context.\n",
    "\n",
    "Printing ``needInt(Big)`` will cause an error bcs converting 1 << 100 to int will result in an overflow.\n",
    "\n",
    "(An ``int`` can store at maximum a 64-bit integer, and sometimes less.)"
   ]
  },
  {
   "cell_type": "code",
   "execution_count": 21,
   "metadata": {},
   "outputs": [
    {
     "name": "stdout",
     "output_type": "stream",
     "text": [
      "21\n",
      "0.2\n",
      "0\n"
     ]
    }
   ],
   "source": [
    "package main\n",
    "\n",
    "import \"fmt\"\n",
    "\n",
    "const (\n",
    "    // Create a huge number by shifting a 1 bit left 100 places.\n",
    "    // In other words, the binary number that is 1 followed by 100 zeroes.\n",
    "    Big = 1 << 100\n",
    "    // Shift it right again 99 places, so we end up with 1<<1, or 2.\n",
    "    Small = Big >> 99\n",
    "    \n",
    "    // you dont want to do this just bcs it will restrict the value of const\n",
    "    // Big int = 1 << 63\n",
    ")\n",
    "\n",
    "func needInt(x int) int { return x*10 + 1 }\n",
    "func needFloat(x float64) float64 {\n",
    "    return x * 0.1\n",
    "}\n",
    "\n",
    "func main() {\n",
    "    fmt.Println(needInt(Small))\n",
    "    fmt.Println(needFloat(Small))\n",
    "    fmt.Println(needFloat(Big))\n",
    "    \n",
    "    // this will raise an error when converted to int.\n",
    "    //fmt.Println(needInt(Big))\n",
    "}\n",
    "main()"
   ]
  },
  {
   "cell_type": "markdown",
   "metadata": {},
   "source": [
    "# For\n",
    "Go has only one looping construct, the ``for`` loop.\n",
    "\n",
    "The basic ``for`` loop has three components separated by semicolons:\n",
    "\n",
    "    the init statement: executed before the first iteration\n",
    "    the condition expression: evaluated before every iteration\n",
    "    the post statement: executed at the end of every iteration\n",
    "    The init statement will often be a short variable declaration, and the variables declared there are visible only in the scope of the for statement.\n",
    "\n",
    "The loop will stop iterating once the boolean condition evaluates to ``false``.\n",
    "\n",
    "Note: Unlike other languages like C, Java, or JavaScript there are **no parentheses** surrounding the three components of the for statement and the braces ``{ }`` are always required."
   ]
  },
  {
   "cell_type": "code",
   "execution_count": 26,
   "metadata": {},
   "outputs": [
    {
     "ename": "ERROR",
     "evalue": "repl.go:11:12: expected ')', found ':=' (and 1 more errors)",
     "output_type": "error",
     "traceback": [
      "repl.go:11:12: expected ')', found ':=' (and 1 more errors)"
     ]
    }
   ],
   "source": [
    "package main\n",
    "\n",
    "import \"fmt\"\n",
    "\n",
    "func main() {\n",
    "    sum := 0\n",
    "    for i := 0; i < 10; i++ {\n",
    "        sum += i\n",
    "    }\n",
    "    \n",
    "    for i := 0; i < 10; i++ {\n",
    "        sum += i\n",
    "    }\n",
    "    fmt.Println(sum)\n",
    "}\n",
    "main()"
   ]
  },
  {
   "cell_type": "markdown",
   "metadata": {},
   "source": [
    "# For continued\n",
    "The init and post statements are optional."
   ]
  },
  {
   "cell_type": "code",
   "execution_count": 23,
   "metadata": {},
   "outputs": [
    {
     "name": "stdout",
     "output_type": "stream",
     "text": [
      "1024\n"
     ]
    }
   ],
   "source": [
    "package main\n",
    "\n",
    "import \"fmt\"\n",
    "\n",
    "func main() {\n",
    "    sum := 1\n",
    "    for ; sum < 1000; {\n",
    "        sum += sum\n",
    "    }\n",
    "    fmt.Println(sum)\n",
    "}\n",
    "main()"
   ]
  },
  {
   "cell_type": "markdown",
   "metadata": {},
   "source": [
    "# For is Go's \"while\"\n",
    "At that point you can drop the semicolons: C's ``while`` is spelled ``for`` in Go."
   ]
  },
  {
   "cell_type": "code",
   "execution_count": 24,
   "metadata": {},
   "outputs": [
    {
     "name": "stdout",
     "output_type": "stream",
     "text": [
      "1024\n"
     ]
    }
   ],
   "source": [
    "package main\n",
    "\n",
    "import \"fmt\"\n",
    "\n",
    "func main() {\n",
    "    sum := 1\n",
    "    for sum < 1000 {\n",
    "    sum += sum\n",
    "    }\n",
    "    fmt.Println(sum)\n",
    "}\n",
    "main()"
   ]
  },
  {
   "cell_type": "markdown",
   "metadata": {},
   "source": [
    "# Forever\n",
    "If you omit the loop condition it loops forever, so an infinite loop is compactly expressed."
   ]
  },
  {
   "cell_type": "code",
   "execution_count": 25,
   "metadata": {},
   "outputs": [],
   "source": [
    "package main\n",
    "\n",
    "func main() {\n",
    "    //for {\n",
    "    //}\n",
    "}\n",
    "main()"
   ]
  },
  {
   "cell_type": "markdown",
   "metadata": {},
   "source": [
    "# If\n",
    "Go's if statements are like its for loops; the expression **need not be surrounded by parentheses** ``( )`` but the braces ``{ }`` are required."
   ]
  },
  {
   "cell_type": "code",
   "execution_count": 28,
   "metadata": {},
   "outputs": [
    {
     "name": "stdout",
     "output_type": "stream",
     "text": [
      "1.4142135623730951 2i\n"
     ]
    }
   ],
   "source": [
    "package main\n",
    "\n",
    "import (\n",
    "    \"fmt\"\n",
    "    \"math\"\n",
    ")\n",
    "\n",
    "func sqrt(x float64) string {\n",
    "    if x < 0 {\n",
    "        return sqrt(-x) + \"i\"\n",
    "    }\n",
    "    return fmt.Sprint(math.Sqrt(x))\n",
    "}\n",
    "\n",
    "func main() {\n",
    "    fmt.Println(sqrt(2), sqrt(-4))\n",
    "}\n",
    "main()"
   ]
  },
  {
   "cell_type": "markdown",
   "metadata": {},
   "source": [
    "# If with a short statement\n",
    "Like for, the if statement **can start with a short statement to execute before the condition**.\n",
    "\n",
    "Variables declared by the statement are only in scope until the end of the if.\n",
    "\n",
    "(Try using v in the last return statement.)"
   ]
  },
  {
   "cell_type": "code",
   "execution_count": 31,
   "metadata": {},
   "outputs": [
    {
     "name": "stdout",
     "output_type": "stream",
     "text": [
      "9 20\n"
     ]
    }
   ],
   "source": [
    "package main\n",
    "\n",
    "import (\n",
    "    \"fmt\"\n",
    "    \"math\"\n",
    ")\n",
    "\n",
    "func pow(x, n, lim float64) float64 {\n",
    "    if v := math.Pow(x, n); v < lim {\n",
    "        return v\n",
    "    }\n",
    "    return lim\n",
    "}\n",
    "\n",
    "func main() {\n",
    "    fmt.Println(\n",
    "        pow(3, 2, 10),\n",
    "        pow(3, 3, 20),\n",
    "    )\n",
    "}\n",
    "main()"
   ]
  },
  {
   "cell_type": "markdown",
   "metadata": {},
   "source": [
    "# If and else\n",
    "Variables declared inside an if short statement **are also available inside any of the else** blocks.\n",
    "\n",
    "(Both calls to pow return their results before the call to fmt.Println in main begins.)"
   ]
  },
  {
   "cell_type": "code",
   "execution_count": 34,
   "metadata": {},
   "outputs": [
    {
     "name": "stdout",
     "output_type": "stream",
     "text": [
      "27 >= 20\n",
      "9 20\n"
     ]
    }
   ],
   "source": [
    "package main\n",
    "\n",
    "import (\n",
    "    \"fmt\"\n",
    "    \"math\"\n",
    ")\n",
    "\n",
    "func pow(x, n, lim float64) float64 {\n",
    "    if v := math.Pow(x, n); v < lim {\n",
    "        return v\n",
    "    } else {\n",
    "        fmt.Printf(\"%g >= %g\\n\", v, lim)\n",
    "    }\n",
    "    // can't use v here, though\n",
    "    return lim\n",
    "}\n",
    "\n",
    "func main() {\n",
    "    fmt.Println(\n",
    "        pow(3, 2, 10),\n",
    "        pow(3, 3, 20),\n",
    "    )\n",
    "}\n",
    "main()"
   ]
  },
  {
   "cell_type": "markdown",
   "metadata": {},
   "source": [
    "# Switch\n",
    "A ``switch`` statement is a shorter way to write a sequence of ``if - else`` statements. It **runs the first case** whose value is equal to the condition expression. It also supports a short statement before it begins\n",
    "\n",
    "Go's switch is like the one in C, C++, Java, JavaScript, and PHP, except that Go only runs the selected case, not all the cases that follow. In effect, the ``break`` statement that is needed at the end of each case in those languages **is provided automatically in Go**. Another important difference is that **Go's switch cases need not be constants, and the values involved need not be integers**."
   ]
  },
  {
   "cell_type": "code",
   "execution_count": 38,
   "metadata": {},
   "outputs": [
    {
     "name": "stdout",
     "output_type": "stream",
     "text": [
      "Go runs on OS X.\n"
     ]
    }
   ],
   "source": [
    "package main\n",
    "\n",
    "import (\n",
    "    \"fmt\"\n",
    "    \"runtime\"\n",
    ")\n",
    "\n",
    "func main() {\n",
    "    fmt.Print(\"Go runs on \")\n",
    "    switch os := runtime.GOOS; os {\n",
    "    case \"darwin\":\n",
    "        fmt.Println(\"OS X.\")\n",
    "    case \"linux\":\n",
    "        fmt.Println(\"Linux.\")\n",
    "    default:\n",
    "        // freebsd, openbsd,\n",
    "        // plan9, windows...\n",
    "        fmt.Printf(\"%s.\\n\", os)\n",
    "    }\n",
    "}\n",
    "main()"
   ]
  },
  {
   "cell_type": "markdown",
   "metadata": {},
   "source": [
    "## Switch evaluation order\n",
    "Switch cases evaluate cases from top to bottom, stopping when a case succeeds.\n",
    "\n",
    "(For example,\n",
    "```GO\n",
    "switch i {\n",
    "case 0:\n",
    "case f():\n",
    "}\n",
    "```\n",
    "does not call f if i==0.)"
   ]
  },
  {
   "cell_type": "code",
   "execution_count": 41,
   "metadata": {},
   "outputs": [
    {
     "name": "stdout",
     "output_type": "stream",
     "text": [
      "When's Saturday?\n",
      "Today.\n"
     ]
    }
   ],
   "source": [
    "package main\n",
    "\n",
    "import (\n",
    "    \"fmt\"\n",
    "    \"time\"\n",
    ")\n",
    "\n",
    "func main() {\n",
    "    fmt.Println(\"When's Saturday?\")\n",
    "    today := time.Now().Weekday()\n",
    "    switch time.Saturday {\n",
    "    case today + 0:\n",
    "    fmt.Println(\"Today.\")\n",
    "    case today + 1:\n",
    "    fmt.Println(\"Tomorrow.\")\n",
    "    case today + 2:\n",
    "    fmt.Println(\"In two days.\")\n",
    "    case today + 3:\n",
    "    fmt.Println(\"In three days.\")\n",
    "    case today + 4:\n",
    "    fmt.Println(\"In four days.\")\n",
    "    default:\n",
    "    fmt.Println(\"Too far away.\")\n",
    "    }\n",
    "}\n",
    "main()"
   ]
  },
  {
   "cell_type": "markdown",
   "metadata": {},
   "source": [
    "# Switch with no condition\n",
    "\n",
    "Switch without a condition is the same as ``switch true``.\n",
    "\n",
    "This construct can be a clean way to write long if-then-else chains. It's basically trying to look for a ``true`` in the conditions below."
   ]
  },
  {
   "cell_type": "code",
   "execution_count": 43,
   "metadata": {},
   "outputs": [
    {
     "name": "stdout",
     "output_type": "stream",
     "text": [
      "Good afternoon.\n"
     ]
    }
   ],
   "source": [
    "package main\n",
    "\n",
    "import (\n",
    "    \"fmt\"\n",
    "    \"time\"\n",
    ")\n",
    "\n",
    "func main() {\n",
    "    t := time.Now()\n",
    "    switch {\n",
    "    case t.Hour() < 12:\n",
    "        fmt.Println(\"Good morning!\")\n",
    "    case t.Hour() < 17:\n",
    "        fmt.Println(\"Good afternoon.\")\n",
    "    default:\n",
    "        fmt.Println(\"Good evening.\")\n",
    "    }\n",
    "}\n",
    "main()"
   ]
  },
  {
   "cell_type": "markdown",
   "metadata": {},
   "source": [
    "# Defer\n",
    "A ``defer`` statement defers the execution of a function **until the surrounding function returns (aka parent func)**.\n",
    "\n",
    "The deferred call's **arguments are evaluated immediately**, but the function call **is not executed until the surrounding function returns**.\n",
    "\n",
    "``defer`` is often used where e.g. ``ensure`` and ``finally`` would be used in other languages.\n",
    "\n",
    "In Go language, multiple defer statements are allowed in the same program and **they are executed in LIFO**."
   ]
  },
  {
   "cell_type": "code",
   "execution_count": 46,
   "metadata": {},
   "outputs": [
    {
     "name": "stdout",
     "output_type": "stream",
     "text": [
      "hello\n",
      "main returned\n",
      "defer until main returned\n"
     ]
    }
   ],
   "source": [
    "package main\n",
    "\n",
    "import \"fmt\"\n",
    "\n",
    "func main() {\n",
    "    defer fmt.Println(\"defer until main returned\")\n",
    "\n",
    "    fmt.Println(\"hello\")\n",
    "    fmt.Println(\"main returned\")\n",
    "}\n",
    "main()\n"
   ]
  },
  {
   "cell_type": "markdown",
   "metadata": {},
   "source": [
    "# Stacking defers\n",
    "Deferred function calls are pushed onto a stack. When a function returns, its deferred calls are executed in last-in-first-out order.\n",
    "\n",
    "To learn more about defer statements read [this blog post](https://blog.golang.org/defer-panic-and-recover)."
   ]
  },
  {
   "cell_type": "code",
   "execution_count": 49,
   "metadata": {},
   "outputs": [
    {
     "name": "stdout",
     "output_type": "stream",
     "text": [
      "counting\n",
      "done\n",
      "9\n",
      "8\n",
      "7\n",
      "6\n",
      "5\n",
      "4\n",
      "3\n",
      "2\n",
      "1\n",
      "0\n"
     ]
    }
   ],
   "source": [
    "package main\n",
    "\n",
    "import \"fmt\"\n",
    "\n",
    "func main() {\n",
    "    fmt.Println(\"counting\")\n",
    "    \n",
    "    // for loop is not a function\n",
    "    for i := 0; i < 10; i++ {\n",
    "        defer fmt.Println(i)\n",
    "    }\n",
    "\n",
    "    fmt.Println(\"done\")\n",
    "}\n",
    "main()"
   ]
  },
  {
   "cell_type": "code",
   "execution_count": null,
   "metadata": {},
   "outputs": [],
   "source": []
  }
 ],
 "metadata": {
  "kernelspec": {
   "display_name": "Go",
   "language": "go",
   "name": "gophernotes"
  },
  "language_info": {
   "codemirror_mode": "",
   "file_extension": ".go",
   "mimetype": "",
   "name": "go",
   "nbconvert_exporter": "",
   "pygments_lexer": "",
   "version": "go1.14.1"
  }
 },
 "nbformat": 4,
 "nbformat_minor": 2
}
