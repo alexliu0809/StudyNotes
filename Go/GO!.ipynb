{
 "cells": [
  {
   "cell_type": "markdown",
   "metadata": {},
   "source": [
    "# References\n",
    "* [Go Language Documentation Page](http://golang.org/doc/)\n",
    "* [Effective Go](http://golang.org/doc/effective_go.html)\n",
    "* [Go Tutorial](https://tour.golang.org/)"
   ]
  },
  {
   "cell_type": "markdown",
   "metadata": {},
   "source": [
    "# Packages\n",
    "Every Go program is made up of packages.\n",
    "\n",
    "Programs start running in package ``main``. The ``main()`` func will be called.\n",
    "\n",
    "This program is using the packages with import paths ``\"fmt\"`` and ``\"math/rand\"``.\n",
    "\n",
    "By convention, the package name is the same as the last element of the import path. For instance, the \"math/rand\" package comprises files that begin with the statement package ``rand`` (aka ``rand.something``)."
   ]
  },
  {
   "cell_type": "code",
   "execution_count": 1,
   "metadata": {},
   "outputs": [
    {
     "name": "stdout",
     "output_type": "stream",
     "text": [
      "My favorite number is 1\n"
     ]
    }
   ],
   "source": [
    "// Define a package. This is where the program starts running\n",
    "package main\n",
    "\n",
    "// import some other packages.\n",
    "import (\n",
    "    \"fmt\"\n",
    "    \"math/rand\"\n",
    ")\n",
    "\n",
    "\n",
    "// define main func, like C, everything starts with a main.\n",
    "func main() {\n",
    "    fmt.Println(\"My favorite number is\", rand.Intn(10))\n",
    "}\n",
    "\n",
    "// in real program you don't have to call this\n",
    "main()"
   ]
  },
  {
   "cell_type": "markdown",
   "metadata": {},
   "source": [
    "# Imports\n",
    "This code groups the imports into a parenthesized, \"factored\" import statement.\n",
    "\n",
    "You can also write multiple import statements, like:\n",
    "```GO\n",
    "import \"fmt\"\n",
    "import \"math\"\n",
    "```\n",
    "But it is good style to use the factored import statement."
   ]
  },
  {
   "cell_type": "code",
   "execution_count": 2,
   "metadata": {},
   "outputs": [
    {
     "name": "stdout",
     "output_type": "stream",
     "text": [
      "Now you have 2.6457513110645907 problems.\n"
     ]
    }
   ],
   "source": [
    "package main\n",
    "\n",
    "import \"fmt\"\n",
    "import \"math\"\n",
    "\n",
    "func main() {\n",
    "    fmt.Printf(\"Now you have %g problems.\\n\", math.Sqrt(7))\n",
    "}\n",
    "\n",
    "// in real program you don't have to call this\n",
    "main()"
   ]
  },
  {
   "cell_type": "markdown",
   "metadata": {},
   "source": [
    "# Exported names\n",
    "In Go, a name is exported if it begins with a capital letter. For example, ``Pizza`` is an exported name, as is ``Pi``, which is exported from the math package.\n",
    "\n",
    "``pizza`` and ``pi`` do not start with a capital letter, so they are not exported.\n",
    "\n",
    "When importing a package, you can refer only to its exported names. Any \"unexported\" names are not accessible from outside the package."
   ]
  },
  {
   "cell_type": "code",
   "execution_count": 3,
   "metadata": {},
   "outputs": [
    {
     "ename": "ERROR",
     "evalue": "repl.go:13:17: package math \"math\" has no symbol pi",
     "output_type": "error",
     "traceback": [
      "repl.go:13:17: package math \"math\" has no symbol pi"
     ]
    }
   ],
   "source": [
    "// Run the code. Notice the error message.\n",
    "\n",
    "// To fix the error, rename math.pi to math.Pi and try it again.\n",
    "\n",
    "package main\n",
    "\n",
    "import (\n",
    "    \"fmt\"\n",
    "    \"math\"\n",
    ")\n",
    "\n",
    "func main() {\n",
    "    fmt.Println(math.pi)\n",
    "}\n",
    "main()"
   ]
  },
  {
   "cell_type": "code",
   "execution_count": 4,
   "metadata": {},
   "outputs": [
    {
     "name": "stdout",
     "output_type": "stream",
     "text": [
      "3.141592653589793\n"
     ]
    }
   ],
   "source": [
    "// A name is exported if it begins with a capital letter.\n",
    "package main\n",
    "\n",
    "import (\n",
    "    \"fmt\"\n",
    "    \"math\"\n",
    ")\n",
    "\n",
    "func main() {\n",
    "    fmt.Println(math.Pi)\n",
    "}\n",
    "main()"
   ]
  },
  {
   "cell_type": "markdown",
   "metadata": {},
   "source": [
    "# Functions\n",
    "A function can take zero or more arguments.\n",
    "\n",
    "In this example, add takes two parameters of type ``int`` and return an ``int``.\n",
    "\n",
    "Notice that the type comes after the variable name."
   ]
  },
  {
   "cell_type": "code",
   "execution_count": 5,
   "metadata": {},
   "outputs": [
    {
     "name": "stdout",
     "output_type": "stream",
     "text": [
      "55\n"
     ]
    }
   ],
   "source": [
    "package main\n",
    "\n",
    "import \"fmt\"\n",
    "\n",
    "func add(x int, y int) int {\n",
    "    return x + y\n",
    "}\n",
    "\n",
    "func main() {\n",
    "    fmt.Println(add(42, 13))\n",
    "}\n",
    "\n",
    "main()"
   ]
  },
  {
   "cell_type": "markdown",
   "metadata": {},
   "source": [
    "When two or more consecutive named function parameters share a type, you can omit the type from all but the last.\n",
    "\n",
    "In this example, we shortened\n",
    "```GO\n",
    "x int, y int\n",
    "```\n",
    "to\n",
    "```GO\n",
    "x, y int\n",
    "```"
   ]
  },
  {
   "cell_type": "code",
   "execution_count": 6,
   "metadata": {},
   "outputs": [
    {
     "name": "stdout",
     "output_type": "stream",
     "text": [
      "55\n"
     ]
    }
   ],
   "source": [
    "package main\n",
    "\n",
    "import \"fmt\"\n",
    "\n",
    "func add(x, y int) int {\n",
    "    return x + y\n",
    "}\n",
    "\n",
    "func main() {\n",
    "    fmt.Println(add(42, 13))\n",
    "}\n",
    "main()"
   ]
  },
  {
   "cell_type": "markdown",
   "metadata": {},
   "source": [
    "# Multiple results\n",
    "A function can return any number of results.\n",
    "\n",
    "The ``swap`` function returns two strings."
   ]
  },
  {
   "cell_type": "code",
   "execution_count": 7,
   "metadata": {},
   "outputs": [
    {
     "name": "stdout",
     "output_type": "stream",
     "text": [
      "world hello\n"
     ]
    }
   ],
   "source": [
    "package main\n",
    "\n",
    "import \"fmt\"\n",
    "\n",
    "func swap(x, y string) (string, string) {\n",
    "    return y, x\n",
    "}\n",
    "\n",
    "func main() {\n",
    "    a, b := swap(\"hello\", \"world\")\n",
    "    fmt.Println(a, b)\n",
    "}\n",
    "main()"
   ]
  },
  {
   "cell_type": "markdown",
   "metadata": {},
   "source": [
    "# Named return values\n",
    "Go's return values may be named. If so, they are treated as variables defined at the top of the function.\n",
    "\n",
    "These names should be used to document the meaning of the return values.\n",
    "\n",
    "A ``return`` statement without arguments returns the named return values. This is known as a \"naked\" return.\n",
    "\n",
    "Naked return statements should be used only in short functions, as with the example shown here. They can harm readability in longer functions."
   ]
  },
  {
   "cell_type": "code",
   "execution_count": 8,
   "metadata": {},
   "outputs": [],
   "source": [
    "package main\n",
    "\n",
    "import \"fmt\"\n",
    "\n",
    "func split(sum int) (x, y int) {\n",
    "    x = sum * 4 / 9\n",
    "    y = sum - x\n",
    "    return\n",
    "}\n",
    "\n",
    "func main() {\n",
    "    fmt.Println(split(17))\n",
    "}\n"
   ]
  },
  {
   "cell_type": "markdown",
   "metadata": {},
   "source": [
    "If no named return value is defined and you explicitly call return, nothing is returned."
   ]
  },
  {
   "cell_type": "code",
   "execution_count": 9,
   "metadata": {},
   "outputs": [
    {
     "name": "stdout",
     "output_type": "stream",
     "text": [
      "17\n"
     ]
    }
   ],
   "source": [
    "package main\n",
    "\n",
    "import \"fmt\"\n",
    "\n",
    "func split(sum int) {\n",
    "    fmt.Println(sum)\n",
    "    return\n",
    "}\n",
    "\n",
    "func main() {\n",
    "    split(17)\n",
    "}\n",
    "main()"
   ]
  },
  {
   "cell_type": "markdown",
   "metadata": {},
   "source": [
    "# Variables\n",
    "The ``var`` statement declares a list of variables; as in function argument lists, the type is last.\n",
    "\n",
    "A ``var`` statement can be at package or function level. We see both in this example.\n",
    "\n",
    "The default value for any numeric type will be 0. For boolean values the default is false and for strings it will be an empty string. While the Go programming language does have a type of nil , a string cannot be of this type."
   ]
  },
  {
   "cell_type": "code",
   "execution_count": 10,
   "metadata": {},
   "outputs": [
    {
     "name": "stdout",
     "output_type": "stream",
     "text": [
      "0 false false false\n"
     ]
    }
   ],
   "source": [
    "package main\n",
    "\n",
    "import \"fmt\"\n",
    "\n",
    "var c, python, java bool\n",
    "\n",
    "func main() {\n",
    "    var i int\n",
    "    fmt.Println(i, c, python, java)\n",
    "}\n",
    "main()"
   ]
  },
  {
   "cell_type": "markdown",
   "metadata": {},
   "source": [
    "# Variables with initializers\n",
    "A ``var`` declaration can include initializers, one per variable.\n",
    "\n",
    "If an initializer is present, the type can be omitted; the variable will take the type of the initializer."
   ]
  },
  {
   "cell_type": "code",
   "execution_count": 11,
   "metadata": {},
   "outputs": [
    {
     "name": "stdout",
     "output_type": "stream",
     "text": [
      "1 2 true false no!\n"
     ]
    }
   ],
   "source": [
    "package main\n",
    "\n",
    "import \"fmt\"\n",
    "\n",
    "var i, j int = 1, 2\n",
    "\n",
    "func main() {\n",
    "    var c, python, java = true, false, \"no!\"\n",
    "    fmt.Println(i, j, c, python, java)\n",
    "}\n",
    "main()"
   ]
  },
  {
   "cell_type": "markdown",
   "metadata": {},
   "source": [
    "# Short variable declarations\n",
    "Inside a function (only. available inside a func), the ``:=`` short assignment statement can be used in place of a ``var`` declaration with implicit type.\n",
    "\n",
    "Outside a function, every statement begins with a keyword (``var``, ``func``, and so on) and so the ``:=`` construct is not available."
   ]
  },
  {
   "cell_type": "code",
   "execution_count": 12,
   "metadata": {},
   "outputs": [],
   "source": [
    "package main\n",
    "\n",
    "import \"fmt\"\n",
    "\n",
    "func main() {\n",
    "    var i, j int = 1, 2\n",
    "    k := 3\n",
    "    c, python, java := true, false, \"no!\"\n",
    "\n",
    "    fmt.Println(i, j, k, c, python, java)\n",
    "}\n"
   ]
  },
  {
   "cell_type": "markdown",
   "metadata": {},
   "source": [
    "# Basic types\n",
    "Go's basic types are\n",
    "```Go\n",
    "bool\n",
    "\n",
    "string\n",
    "\n",
    "int  int8  int16  int32  int64\n",
    "uint uint8 uint16 uint32 uint64 uintptr\n",
    "\n",
    "byte // alias for uint8\n",
    "\n",
    "rune // alias for int32\n",
    "     // represents a Unicode code point\n",
    "\n",
    "float32 float64\n",
    "\n",
    "complex64 complex128\n",
    "```\n",
    "The example shows variables of several types, and also that variable declarations may be \"factored\" into blocks, as with import statements.\n",
    "\n",
    "The ``int``, ``uint``, and ``uintptr`` types are usually 32 bits wide on 32-bit systems and 64 bits wide on 64-bit systems. When you need an integer value you should use int unless you have a specific reason to use a sized or unsigned integer type."
   ]
  },
  {
   "cell_type": "code",
   "execution_count": 13,
   "metadata": {},
   "outputs": [
    {
     "name": "stdout",
     "output_type": "stream",
     "text": [
      "Type: bool Value: false\n",
      "Type: uint64 Value: 18446744073709551615\n",
      "Type: complex128 Value: (2+3i)\n"
     ]
    }
   ],
   "source": [
    "package main\n",
    "\n",
    "import (\n",
    "    \"fmt\"\n",
    "    \"math/cmplx\"\n",
    ")\n",
    "\n",
    "var (\n",
    "    ToBe   bool       = false\n",
    "    // Regarding why this is legit:\n",
    "    //https://stackoverflow.com/questions/26833421/how-does-1-64-1-work\n",
    "    MaxInt uint64     = 1<<64 - 1\n",
    "    \n",
    "    //MaxInt uint64     = 1<<64\n",
    "    //this will not be okay, because uint64 can't hold this value\n",
    "    z      complex128 = cmplx.Sqrt(-5 + 12i)\n",
    ")\n",
    "\n",
    "func main() {\n",
    "    fmt.Printf(\"Type: %T Value: %v\\n\", ToBe, ToBe)\n",
    "    fmt.Printf(\"Type: %T Value: %v\\n\", MaxInt, MaxInt)\n",
    "    fmt.Printf(\"Type: %T Value: %v\\n\", z, z)\n",
    "}\n",
    "main()"
   ]
  },
  {
   "cell_type": "markdown",
   "metadata": {},
   "source": [
    "# Zero values\n",
    "\n",
    "Variables declared without an explicit initial value are given their zero value.\n",
    "\n",
    "The zero value is:\n",
    "\n",
    "``0`` for numeric types,\n",
    "\n",
    "``false`` for the boolean type, and\n",
    "\n",
    "``\"\"`` (the empty string) for strings.\n"
   ]
  },
  {
   "cell_type": "code",
   "execution_count": 14,
   "metadata": {},
   "outputs": [
    {
     "name": "stdout",
     "output_type": "stream",
     "text": [
      "0 0 false \"\"\n"
     ]
    }
   ],
   "source": [
    "package main\n",
    "\n",
    "import \"fmt\"\n",
    "\n",
    "func main() {\n",
    "    var i int\n",
    "    var f float64\n",
    "    var b bool\n",
    "    var s string\n",
    "    fmt.Printf(\"%v %v %v %q\\n\", i, f, b, s)\n",
    "}\n",
    "main()"
   ]
  },
  {
   "cell_type": "markdown",
   "metadata": {},
   "source": [
    "# Type conversions\n",
    "The expression ``T(v)`` converts the value ``v`` to the type ``T``.\n",
    "\n",
    "Some numeric conversions:\n",
    "```\n",
    "var i int = 42\n",
    "var f float64 = float64(i)\n",
    "var u uint = uint(f)\n",
    "```\n",
    "Or, put more simply:\n",
    "```\n",
    "i := 42\n",
    "f := float64(i)\n",
    "u := uint(f)\n",
    "```\n",
    "Unlike in C, in Go assignment between items of different type **requires an explicit conversion**. Try removing the float64 or uint conversions in the example and see what happens."
   ]
  },
  {
   "cell_type": "code",
   "execution_count": 15,
   "metadata": {},
   "outputs": [
    {
     "name": "stdout",
     "output_type": "stream",
     "text": [
      "3 4 5\n"
     ]
    }
   ],
   "source": [
    "package main\n",
    "\n",
    "import (\n",
    "    \"fmt\"\n",
    "    \"math\"\n",
    ")\n",
    "\n",
    "func main() {\n",
    "    var x, y int = 3, 4\n",
    "    var f float64 = math.Sqrt(float64(x*x + y*y))\n",
    "    var z uint = uint(f)\n",
    "    fmt.Println(x, y, z)\n",
    "}\n",
    "main()"
   ]
  },
  {
   "cell_type": "code",
   "execution_count": 16,
   "metadata": {},
   "outputs": [
    {
     "ename": "ERROR",
     "evalue": "repl.go:11:9: incompatible types in assignment: uint = float64",
     "output_type": "error",
     "traceback": [
      "repl.go:11:9: incompatible types in assignment: uint = float64"
     ]
    }
   ],
   "source": [
    "package main\n",
    "\n",
    "import (\n",
    "    \"fmt\"\n",
    "    \"math\"\n",
    ")\n",
    "\n",
    "func main() {\n",
    "    var x, y int = 3, 4\n",
    "    var f float64 = math.Sqrt(float64(x*x + y*y))\n",
    "    var z uint = f\n",
    "    fmt.Println(x, y, z)\n",
    "}\n",
    "main()"
   ]
  },
  {
   "cell_type": "markdown",
   "metadata": {},
   "source": [
    "# Type inference\n",
    "When declaring a variable **without specifying an explicit type** (either by using the ``:=`` syntax or var ``=`` expression syntax), **the variable's type is inferred** from the value on the right hand side.\n",
    "\n",
    "When the right hand side of the declaration is typed, the new variable is of that same type:\n",
    "```\n",
    "var i int\n",
    "j := i // j is an int\n",
    "```\n",
    "But when the right hand side contains an untyped numeric constant, the new variable may be an ``int``, ``float64``, or ``complex128`` depending on the precision of the constant:\n",
    "```\n",
    "i := 42           // int\n",
    "f := 3.142        // float64\n",
    "g := 0.867 + 0.5i // complex128\n",
    "```\n"
   ]
  },
  {
   "cell_type": "code",
   "execution_count": 17,
   "metadata": {},
   "outputs": [
    {
     "name": "stdout",
     "output_type": "stream",
     "text": [
      "v is of type int\n"
     ]
    }
   ],
   "source": [
    "package main\n",
    "\n",
    "import \"fmt\"\n",
    "\n",
    "func main() {\n",
    "    v := 42 // change me!\n",
    "    fmt.Printf(\"v is of type %T\\n\", v)\n",
    "}\n",
    "main()"
   ]
  },
  {
   "cell_type": "code",
   "execution_count": 18,
   "metadata": {},
   "outputs": [
    {
     "name": "stdout",
     "output_type": "stream",
     "text": [
      "v is of type float64\n"
     ]
    }
   ],
   "source": [
    "package main\n",
    "\n",
    "import \"fmt\"\n",
    "\n",
    "func main() {\n",
    "    v := 42.213213 // change me!\n",
    "    fmt.Printf(\"v is of type %T\\n\", v)\n",
    "}\n",
    "main()"
   ]
  },
  {
   "cell_type": "code",
   "execution_count": 19,
   "metadata": {},
   "outputs": [
    {
     "name": "stdout",
     "output_type": "stream",
     "text": [
      "v is of type complex128\n"
     ]
    }
   ],
   "source": [
    "package main\n",
    "\n",
    "import \"fmt\"\n",
    "\n",
    "func main() {\n",
    "    v := 2 + 3i // change me!\n",
    "    fmt.Printf(\"v is of type %T\\n\", v)\n",
    "}\n",
    "main()"
   ]
  },
  {
   "cell_type": "markdown",
   "metadata": {},
   "source": [
    "# Constants\n",
    "Constants are **declared like variables, but with the const keyword**.\n",
    "\n",
    "Constants can be character, string, boolean, or numeric values.\n",
    "\n",
    "Constants **cannot be declared using the := syntax**."
   ]
  },
  {
   "cell_type": "code",
   "execution_count": 20,
   "metadata": {},
   "outputs": [
    {
     "name": "stdout",
     "output_type": "stream",
     "text": [
      "Hello 世界\n",
      "Happy 3.14 Day\n",
      "Go rules? true\n"
     ]
    }
   ],
   "source": [
    "package main\n",
    "\n",
    "import \"fmt\"\n",
    "\n",
    "const Pi = 3.14\n",
    "const Pi2 float64 = 3.14\n",
    "\n",
    "func main() {\n",
    "    const World = \"世界\"\n",
    "    fmt.Println(\"Hello\", World)\n",
    "    fmt.Println(\"Happy\", Pi, \"Day\")\n",
    "\n",
    "    const Truth = true\n",
    "    fmt.Println(\"Go rules?\", Truth)\n",
    "}\n",
    "main()"
   ]
  },
  {
   "cell_type": "markdown",
   "metadata": {},
   "source": [
    "# Numeric Constants\n",
    "Numeric constants are high-precision values.\n",
    "\n",
    "An untyped constant takes the type needed by its context.\n",
    "\n",
    "Printing ``needInt(Big)`` will cause an error bcs converting 1 << 100 to int will result in an overflow.\n",
    "\n",
    "(An ``int`` can store at maximum a 64-bit integer, and sometimes less.)"
   ]
  },
  {
   "cell_type": "code",
   "execution_count": 21,
   "metadata": {},
   "outputs": [
    {
     "name": "stdout",
     "output_type": "stream",
     "text": [
      "21\n",
      "0.2\n",
      "0\n"
     ]
    }
   ],
   "source": [
    "package main\n",
    "\n",
    "import \"fmt\"\n",
    "\n",
    "const (\n",
    "    // Create a huge number by shifting a 1 bit left 100 places.\n",
    "    // In other words, the binary number that is 1 followed by 100 zeroes.\n",
    "    Big = 1 << 100\n",
    "    // Shift it right again 99 places, so we end up with 1<<1, or 2.\n",
    "    Small = Big >> 99\n",
    "    \n",
    "    // you dont want to do this just bcs it will restrict the value of const\n",
    "    // Big int = 1 << 63\n",
    ")\n",
    "\n",
    "func needInt(x int) int { return x*10 + 1 }\n",
    "func needFloat(x float64) float64 {\n",
    "    return x * 0.1\n",
    "}\n",
    "\n",
    "func main() {\n",
    "    fmt.Println(needInt(Small))\n",
    "    fmt.Println(needFloat(Small))\n",
    "    fmt.Println(needFloat(Big))\n",
    "    \n",
    "    // this will raise an error when converted to int.\n",
    "    //fmt.Println(needInt(Big))\n",
    "}\n",
    "main()"
   ]
  },
  {
   "cell_type": "markdown",
   "metadata": {},
   "source": [
    "# For\n",
    "Go has only one looping construct, the ``for`` loop.\n",
    "\n",
    "The basic ``for`` loop has three components separated by semicolons:\n",
    "\n",
    "    the init statement: executed before the first iteration\n",
    "    the condition expression: evaluated before every iteration\n",
    "    the post statement: executed at the end of every iteration\n",
    "    The init statement will often be a short variable declaration, and the variables declared there are visible only in the scope of the for statement.\n",
    "\n",
    "The loop will stop iterating once the boolean condition evaluates to ``false``.\n",
    "\n",
    "Note: Unlike other languages like C, Java, or JavaScript there are **no parentheses** surrounding the three components of the for statement and the braces ``{ }`` are always required."
   ]
  },
  {
   "cell_type": "code",
   "execution_count": 26,
   "metadata": {},
   "outputs": [
    {
     "ename": "ERROR",
     "evalue": "repl.go:11:12: expected ')', found ':=' (and 1 more errors)",
     "output_type": "error",
     "traceback": [
      "repl.go:11:12: expected ')', found ':=' (and 1 more errors)"
     ]
    }
   ],
   "source": [
    "package main\n",
    "\n",
    "import \"fmt\"\n",
    "\n",
    "func main() {\n",
    "    sum := 0\n",
    "    for i := 0; i < 10; i++ {\n",
    "        sum += i\n",
    "    }\n",
    "    \n",
    "    for i := 0; i < 10; i++ {\n",
    "        sum += i\n",
    "    }\n",
    "    fmt.Println(sum)\n",
    "}\n",
    "main()"
   ]
  },
  {
   "cell_type": "markdown",
   "metadata": {},
   "source": [
    "# For continued\n",
    "The init and post statements are optional."
   ]
  },
  {
   "cell_type": "code",
   "execution_count": 23,
   "metadata": {},
   "outputs": [
    {
     "name": "stdout",
     "output_type": "stream",
     "text": [
      "1024\n"
     ]
    }
   ],
   "source": [
    "package main\n",
    "\n",
    "import \"fmt\"\n",
    "\n",
    "func main() {\n",
    "    sum := 1\n",
    "    for ; sum < 1000; {\n",
    "        sum += sum\n",
    "    }\n",
    "    fmt.Println(sum)\n",
    "}\n",
    "main()"
   ]
  },
  {
   "cell_type": "markdown",
   "metadata": {},
   "source": [
    "# For is Go's \"while\"\n",
    "At that point you can drop the semicolons: C's ``while`` is spelled ``for`` in Go."
   ]
  },
  {
   "cell_type": "code",
   "execution_count": 24,
   "metadata": {},
   "outputs": [
    {
     "name": "stdout",
     "output_type": "stream",
     "text": [
      "1024\n"
     ]
    }
   ],
   "source": [
    "package main\n",
    "\n",
    "import \"fmt\"\n",
    "\n",
    "func main() {\n",
    "    sum := 1\n",
    "    for sum < 1000 {\n",
    "    sum += sum\n",
    "    }\n",
    "    fmt.Println(sum)\n",
    "}\n",
    "main()"
   ]
  },
  {
   "cell_type": "markdown",
   "metadata": {},
   "source": [
    "# Forever\n",
    "If you omit the loop condition it loops forever, so an infinite loop is compactly expressed."
   ]
  },
  {
   "cell_type": "code",
   "execution_count": 25,
   "metadata": {},
   "outputs": [],
   "source": [
    "package main\n",
    "\n",
    "func main() {\n",
    "    //for {\n",
    "    //}\n",
    "}\n",
    "main()"
   ]
  },
  {
   "cell_type": "markdown",
   "metadata": {},
   "source": [
    "# If\n",
    "Go's if statements are like its for loops; the expression **need not be surrounded by parentheses** ``( )`` but the braces ``{ }`` are required."
   ]
  },
  {
   "cell_type": "code",
   "execution_count": 28,
   "metadata": {},
   "outputs": [
    {
     "name": "stdout",
     "output_type": "stream",
     "text": [
      "1.4142135623730951 2i\n"
     ]
    }
   ],
   "source": [
    "package main\n",
    "\n",
    "import (\n",
    "    \"fmt\"\n",
    "    \"math\"\n",
    ")\n",
    "\n",
    "func sqrt(x float64) string {\n",
    "    if x < 0 {\n",
    "        return sqrt(-x) + \"i\"\n",
    "    }\n",
    "    return fmt.Sprint(math.Sqrt(x))\n",
    "}\n",
    "\n",
    "func main() {\n",
    "    fmt.Println(sqrt(2), sqrt(-4))\n",
    "}\n",
    "main()"
   ]
  },
  {
   "cell_type": "markdown",
   "metadata": {},
   "source": [
    "# If with a short statement\n",
    "Like for, the if statement **can start with a short statement to execute before the condition**.\n",
    "\n",
    "Variables declared by the statement are only in scope until the end of the if.\n",
    "\n",
    "(Try using v in the last return statement.)"
   ]
  },
  {
   "cell_type": "code",
   "execution_count": 31,
   "metadata": {},
   "outputs": [
    {
     "name": "stdout",
     "output_type": "stream",
     "text": [
      "9 20\n"
     ]
    }
   ],
   "source": [
    "package main\n",
    "\n",
    "import (\n",
    "    \"fmt\"\n",
    "    \"math\"\n",
    ")\n",
    "\n",
    "func pow(x, n, lim float64) float64 {\n",
    "    if v := math.Pow(x, n); v < lim {\n",
    "        return v\n",
    "    }\n",
    "    return lim\n",
    "}\n",
    "\n",
    "func main() {\n",
    "    fmt.Println(\n",
    "        pow(3, 2, 10),\n",
    "        pow(3, 3, 20),\n",
    "    )\n",
    "}\n",
    "main()"
   ]
  },
  {
   "cell_type": "markdown",
   "metadata": {},
   "source": [
    "# If and else\n",
    "Variables declared inside an if short statement **are also available inside any of the else** blocks.\n",
    "\n",
    "(Both calls to pow return their results before the call to fmt.Println in main begins.)"
   ]
  },
  {
   "cell_type": "code",
   "execution_count": 34,
   "metadata": {},
   "outputs": [
    {
     "name": "stdout",
     "output_type": "stream",
     "text": [
      "27 >= 20\n",
      "9 20\n"
     ]
    }
   ],
   "source": [
    "package main\n",
    "\n",
    "import (\n",
    "    \"fmt\"\n",
    "    \"math\"\n",
    ")\n",
    "\n",
    "func pow(x, n, lim float64) float64 {\n",
    "    if v := math.Pow(x, n); v < lim {\n",
    "        return v\n",
    "    } else {\n",
    "        fmt.Printf(\"%g >= %g\\n\", v, lim)\n",
    "    }\n",
    "    // can't use v here, though\n",
    "    return lim\n",
    "}\n",
    "\n",
    "func main() {\n",
    "    fmt.Println(\n",
    "        pow(3, 2, 10),\n",
    "        pow(3, 3, 20),\n",
    "    )\n",
    "}\n",
    "main()"
   ]
  },
  {
   "cell_type": "markdown",
   "metadata": {},
   "source": [
    "# Switch\n",
    "A ``switch`` statement is a shorter way to write a sequence of ``if - else`` statements. It **runs the first case** whose value is equal to the condition expression. It also supports a short statement before it begins\n",
    "\n",
    "Go's switch is like the one in C, C++, Java, JavaScript, and PHP, except that Go only runs the selected case, not all the cases that follow. In effect, the ``break`` statement that is needed at the end of each case in those languages **is provided automatically in Go**. Another important difference is that **Go's switch cases need not be constants, and the values involved need not be integers**."
   ]
  },
  {
   "cell_type": "code",
   "execution_count": 38,
   "metadata": {},
   "outputs": [
    {
     "name": "stdout",
     "output_type": "stream",
     "text": [
      "Go runs on OS X.\n"
     ]
    }
   ],
   "source": [
    "package main\n",
    "\n",
    "import (\n",
    "    \"fmt\"\n",
    "    \"runtime\"\n",
    ")\n",
    "\n",
    "func main() {\n",
    "    fmt.Print(\"Go runs on \")\n",
    "    switch os := runtime.GOOS; os {\n",
    "    case \"darwin\":\n",
    "        fmt.Println(\"OS X.\")\n",
    "    case \"linux\":\n",
    "        fmt.Println(\"Linux.\")\n",
    "    default:\n",
    "        // freebsd, openbsd,\n",
    "        // plan9, windows...\n",
    "        fmt.Printf(\"%s.\\n\", os)\n",
    "    }\n",
    "}\n",
    "main()"
   ]
  },
  {
   "cell_type": "markdown",
   "metadata": {},
   "source": [
    "## Switch evaluation order\n",
    "Switch cases evaluate cases from top to bottom, stopping when a case succeeds.\n",
    "\n",
    "(For example,\n",
    "```GO\n",
    "switch i {\n",
    "case 0:\n",
    "case f():\n",
    "}\n",
    "```\n",
    "does not call f if i==0.)"
   ]
  },
  {
   "cell_type": "code",
   "execution_count": 41,
   "metadata": {},
   "outputs": [
    {
     "name": "stdout",
     "output_type": "stream",
     "text": [
      "When's Saturday?\n",
      "Today.\n"
     ]
    }
   ],
   "source": [
    "package main\n",
    "\n",
    "import (\n",
    "    \"fmt\"\n",
    "    \"time\"\n",
    ")\n",
    "\n",
    "func main() {\n",
    "    fmt.Println(\"When's Saturday?\")\n",
    "    today := time.Now().Weekday()\n",
    "    switch time.Saturday {\n",
    "    case today + 0:\n",
    "    fmt.Println(\"Today.\")\n",
    "    case today + 1:\n",
    "    fmt.Println(\"Tomorrow.\")\n",
    "    case today + 2:\n",
    "    fmt.Println(\"In two days.\")\n",
    "    case today + 3:\n",
    "    fmt.Println(\"In three days.\")\n",
    "    case today + 4:\n",
    "    fmt.Println(\"In four days.\")\n",
    "    default:\n",
    "    fmt.Println(\"Too far away.\")\n",
    "    }\n",
    "}\n",
    "main()"
   ]
  },
  {
   "cell_type": "markdown",
   "metadata": {},
   "source": [
    "# Switch with no condition\n",
    "\n",
    "Switch without a condition is the same as ``switch true``.\n",
    "\n",
    "This construct can be a clean way to write long if-then-else chains. It's basically trying to look for a ``true`` in the conditions below."
   ]
  },
  {
   "cell_type": "code",
   "execution_count": 43,
   "metadata": {},
   "outputs": [
    {
     "name": "stdout",
     "output_type": "stream",
     "text": [
      "Good afternoon.\n"
     ]
    }
   ],
   "source": [
    "package main\n",
    "\n",
    "import (\n",
    "    \"fmt\"\n",
    "    \"time\"\n",
    ")\n",
    "\n",
    "func main() {\n",
    "    t := time.Now()\n",
    "    switch {\n",
    "    case t.Hour() < 12:\n",
    "        fmt.Println(\"Good morning!\")\n",
    "    case t.Hour() < 17:\n",
    "        fmt.Println(\"Good afternoon.\")\n",
    "    default:\n",
    "        fmt.Println(\"Good evening.\")\n",
    "    }\n",
    "}\n",
    "main()"
   ]
  },
  {
   "cell_type": "markdown",
   "metadata": {},
   "source": [
    "# Defer\n",
    "A ``defer`` statement defers the execution of a function **until the surrounding function returns (aka parent func)**.\n",
    "\n",
    "The deferred call's **arguments are evaluated immediately**, but the function call **is not executed until the surrounding function returns**.\n",
    "\n",
    "``defer`` is often used where e.g. ``ensure`` and ``finally`` would be used in other languages.\n",
    "\n",
    "In Go language, multiple defer statements are allowed in the same program and **they are executed in LIFO**."
   ]
  },
  {
   "cell_type": "code",
   "execution_count": 46,
   "metadata": {},
   "outputs": [
    {
     "name": "stdout",
     "output_type": "stream",
     "text": [
      "hello\n",
      "main returned\n",
      "defer until main returned\n"
     ]
    }
   ],
   "source": [
    "package main\n",
    "\n",
    "import \"fmt\"\n",
    "\n",
    "func main() {\n",
    "    defer fmt.Println(\"defer until main returned\")\n",
    "\n",
    "    fmt.Println(\"hello\")\n",
    "    fmt.Println(\"main returned\")\n",
    "}\n",
    "main()\n"
   ]
  },
  {
   "cell_type": "markdown",
   "metadata": {},
   "source": [
    "# Stacking defers\n",
    "Deferred function calls are pushed onto a stack. When a function returns, its deferred calls are executed in last-in-first-out order.\n",
    "\n",
    "To learn more about defer statements read [this blog post](https://blog.golang.org/defer-panic-and-recover)."
   ]
  },
  {
   "cell_type": "code",
   "execution_count": 49,
   "metadata": {},
   "outputs": [
    {
     "name": "stdout",
     "output_type": "stream",
     "text": [
      "counting\n",
      "done\n",
      "9\n",
      "8\n",
      "7\n",
      "6\n",
      "5\n",
      "4\n",
      "3\n",
      "2\n",
      "1\n",
      "0\n"
     ]
    }
   ],
   "source": [
    "package main\n",
    "\n",
    "import \"fmt\"\n",
    "\n",
    "func main() {\n",
    "    fmt.Println(\"counting\")\n",
    "    \n",
    "    // for loop is not a function\n",
    "    for i := 0; i < 10; i++ {\n",
    "        defer fmt.Println(i)\n",
    "    }\n",
    "\n",
    "    fmt.Println(\"done\")\n",
    "}\n",
    "main()"
   ]
  },
  {
   "cell_type": "markdown",
   "metadata": {},
   "source": [
    "# Pointers\n",
    "Go has pointers. A pointer holds the memory address of a value.\n",
    "\n",
    "The type ``*T`` is a pointer to a T value. Its zero value is ``nil``.\n",
    "\n",
    "The ``&`` operator generates a pointer to its operand.\n",
    "```GO\n",
    "var p *int\n",
    "i := 42\n",
    "p = &i\n",
    "```\n",
    "\n",
    "The ``*`` operator denotes the pointer's underlying value.\n",
    "```\n",
    "fmt.Println(*p) // read i through the pointer p\n",
    "*p = 21         // set i through the pointer p\n",
    "```\n",
    "\n",
    "This is known as \"dereferencing\" or \"indirecting\".\n",
    "\n",
    "Unlike C, Go **has no pointer arithmetic**."
   ]
  },
  {
   "cell_type": "code",
   "execution_count": 2,
   "metadata": {},
   "outputs": [
    {
     "name": "stdout",
     "output_type": "stream",
     "text": [
      "42\n",
      "21\n",
      "73\n"
     ]
    }
   ],
   "source": [
    "package main\n",
    "\n",
    "import \"fmt\"\n",
    "\n",
    "func main() {\n",
    "    i, j := 42, 2701\n",
    "\n",
    "    p := &i         // point to i\n",
    "    fmt.Println(*p) // read i through the pointer\n",
    "    *p = 21         // set i through the pointer\n",
    "    fmt.Println(i)  // see the new value of i\n",
    "\n",
    "    p = &j         // point to j\n",
    "    *p = *p / 37   // divide j through the pointer\n",
    "    fmt.Println(j) // see the new value of j\n",
    "}\n",
    "main()"
   ]
  },
  {
   "cell_type": "markdown",
   "metadata": {},
   "source": [
    "# Structs\n",
    "A ``struct`` is a collection of fields.\n",
    "\n",
    "Struct fields are accessed using a dot ``.``."
   ]
  },
  {
   "cell_type": "code",
   "execution_count": 9,
   "metadata": {},
   "outputs": [
    {
     "name": "stdout",
     "output_type": "stream",
     "text": [
      "1 2\n",
      "{1 3}\n",
      "{4 4}\n"
     ]
    }
   ],
   "source": [
    "package main\n",
    "\n",
    "import \"fmt\"\n",
    "\n",
    "type Vertex struct {\n",
    "    X int\n",
    "    Y int\n",
    "}\n",
    "\n",
    "func main() {\n",
    "    a := Vertex{1, 2}\n",
    "    fmt.Println(a.X, a.Y)\n",
    "    \n",
    "    fmt.Println(Vertex{1,3})\n",
    "    \n",
    "    b := Vertex{}\n",
    "    b.X = 4\n",
    "    b.Y = 4\n",
    "    fmt.Println(b)\n",
    "}\n",
    "main()"
   ]
  },
  {
   "cell_type": "markdown",
   "metadata": {},
   "source": [
    "# Pointers to structs\n",
    "Struct fields can be accessed through a struct pointer.\n",
    "\n",
    "To access the field ``X`` of a struct when we have the struct pointer p we could write ``(*p).X``. However, that notation is cumbersome, so the language permits us instead to write just ``p.X``, **without the explicit dereference**. Note here that you can **only assume implicit defreference when accessing a field**."
   ]
  },
  {
   "cell_type": "code",
   "execution_count": 15,
   "metadata": {},
   "outputs": [
    {
     "name": "stdout",
     "output_type": "stream",
     "text": [
      "{1000000000 2}\n",
      "{10 10}\n",
      "&{10 10}\n",
      "{10 10}\n"
     ]
    }
   ],
   "source": [
    "package main\n",
    "\n",
    "import \"fmt\"\n",
    "\n",
    "type Vertex struct {\n",
    "    X int\n",
    "    Y int\n",
    "}\n",
    "\n",
    "func main() {\n",
    "    v := Vertex{1, 2}\n",
    "    p := &v\n",
    "    p.X = 1e9\n",
    "    fmt.Println(v)\n",
    "    \n",
    "    var p2 *Vertex = &v\n",
    "    p2.X = 10\n",
    "    p2.Y = 10\n",
    "    fmt.Println(v)\n",
    "    fmt.Println(p)\n",
    "    fmt.Println(*p)\n",
    "    \n",
    "}\n",
    "main()"
   ]
  },
  {
   "cell_type": "markdown",
   "metadata": {},
   "source": [
    "# Struct Literals\n",
    "A struct literal denotes a newly allocated struct value by listing the values of its fields.\n",
    "\n",
    "You can list just a subset of fields by using the ``Name:`` syntax. (And the order of named fields is irrelevant.)\n",
    "\n",
    "The special prefix `&` returns a pointer to the struct value."
   ]
  },
  {
   "cell_type": "code",
   "execution_count": 17,
   "metadata": {},
   "outputs": [
    {
     "name": "stdout",
     "output_type": "stream",
     "text": [
      "{1 2} &{1 2} {1 0} {0 0}\n"
     ]
    }
   ],
   "source": [
    "package main\n",
    "\n",
    "import \"fmt\"\n",
    "\n",
    "type Vertex struct {\n",
    "    X, Y int\n",
    "}\n",
    "\n",
    "var (\n",
    "    v1 = Vertex{1, 2}  // has type Vertex\n",
    "    v2 = Vertex{X: 1}  // Y:0 is implicit\n",
    "    v3 = Vertex{}      // X:0 and Y:0\n",
    "    p  = &Vertex{1, 2} // has type *Vertex\n",
    ")\n",
    "\n",
    "func main() {\n",
    "    fmt.Println(v1, p, v2, v3)\n",
    "}\n",
    "main()"
   ]
  },
  {
   "cell_type": "markdown",
   "metadata": {},
   "source": [
    "# Arrays\n",
    "The type ``[n]T`` is an array of ``n`` values of type `T`. Its length `n` is part of its type ([4]int and [5]int are distinct, incompatible types)\n",
    "\n",
    "The expression\n",
    "```\n",
    "var a [10]int\n",
    "```\n",
    "declares a variable a as an array of ten integers. Arrays do not need to be initialized explicitly; the zero value of an array is a ready-to-use array whose elements are themselves zeroed (like `c` in the example below).\n",
    "\n",
    "An array's length is part of its type, so **arrays cannot be resized**. This seems limiting, but don't worry; Go provides a convenient way of working with arrays. Like C, you **cannot use a variable to set the array size**.\n",
    "\n",
    "The in-memory representation of [4]int is just four integer values laid out sequentially:\n",
    "\n",
    "![arr_mem](https://blog.golang.org/slices-intro/slice-array.png)\n",
    "\n",
    "Go's arrays are values. **An array variable denotes the entire array**; it is **not a pointer to the first array element** (as would be the case in C). This means that **when you assign or pass around an array value you will make a copy of its contents**. (To avoid the copy you could pass a pointer to the array, but then that's a pointer to an array, not an array.) One way to think about arrays is as a sort of struct but with indexed rather than named fields: a fixed-size composite value.\n",
    "\n",
    "An array literal can be specified like so:\n",
    "```\n",
    "b := [2]string{\"Penn\", \"Teller\"}\n",
    "```\n",
    "Or, you can have the compiler count the array elements for you:\n",
    "```\n",
    "b := [...]string{\"Penn\", \"Teller\"}\n",
    "```\n",
    "In both cases, the type of b is [2]string."
   ]
  },
  {
   "cell_type": "code",
   "execution_count": 50,
   "metadata": {},
   "outputs": [
    {
     "name": "stdout",
     "output_type": "stream",
     "text": [
      "Hello World\n",
      "[Hello World]\n",
      "[2 3 5 7 11 13]\n",
      "[0 0 0]\n",
      "[Penn Teller]\n"
     ]
    }
   ],
   "source": [
    "package main\n",
    "\n",
    "import \"fmt\"\n",
    "\n",
    "func main() {\n",
    "    var a [2]string\n",
    "    a[0] = \"Hello\"\n",
    "    a[1] = \"World\"\n",
    "    fmt.Println(a[0], a[1])\n",
    "    fmt.Println(a)\n",
    "\n",
    "    primes := [6]int{2, 3, 5, 7, 11, 13}\n",
    "    fmt.Println(primes)\n",
    "    \n",
    "    //b := 5\n",
    "    //var c [b]string //this is not ok\n",
    "    \n",
    "    var c [3]int\n",
    "    fmt.Println(c)\n",
    "    \n",
    "    d := [...]string{\"Penn\", \"Teller\"}\n",
    "    fmt.Println(d)\n",
    "}\n",
    "main()"
   ]
  },
  {
   "cell_type": "markdown",
   "metadata": {},
   "source": [
    "# Slices\n",
    "An array has a fixed size. A slice, on the other hand, is a dynamically-sized, flexible view into the elements of an array. In practice, slices are much more common than arrays.\n",
    "\n",
    "The type ``[]T`` is a slice with elements of type ``T``.\n",
    "\n",
    "A slice is formed by specifying two indices, a low and high bound, separated by a colon:\n",
    "```go\n",
    "a[low : high]\n",
    "```\n",
    "This selects a half-open range which includes the first element, but excludes the last one.\n",
    "\n",
    "The following expression creates a slice which includes elements 1 through 3 of ``a``:\n",
    "```go\n",
    "a[1:4]\n",
    "```\n",
    "# Slices are like references to arrays\n",
    "**A slice does not store any data**, it just describes a section of an underlying array.\n",
    "\n",
    "Changing the elements of a slice modifies the corresponding elements of its underlying array.\n",
    "\n",
    "Other slices that share the same underlying array will see those changes."
   ]
  },
  {
   "cell_type": "code",
   "execution_count": 26,
   "metadata": {},
   "outputs": [
    {
     "name": "stdout",
     "output_type": "stream",
     "text": [
      "[3 5 7]\n",
      "[5 7 11]\n"
     ]
    }
   ],
   "source": [
    "package main\n",
    "\n",
    "import \"fmt\"\n",
    "\n",
    "func main() {\n",
    "    primes := [6]int{2, 3, 5, 7, 11, 13}\n",
    "\n",
    "    var s []int = primes[1:4]\n",
    "    fmt.Println(s)\n",
    "    \n",
    "    // there's a limit there.\n",
    "    a := primes[2:5]\n",
    "    \n",
    "    // you can't do this, but bcs you know the array size, so this is ok\n",
    "    //a := primes[3:9]\n",
    "    fmt.Println(a)\n",
    "\n",
    "}\n",
    "main()"
   ]
  },
  {
   "cell_type": "code",
   "execution_count": 28,
   "metadata": {},
   "outputs": [
    {
     "name": "stdout",
     "output_type": "stream",
     "text": [
      "[John Paul George Ringo]\n",
      "[John Paul] [Paul George]\n",
      "[John XXX] [XXX George]\n",
      "[John XXX George Ringo]\n"
     ]
    }
   ],
   "source": [
    "package main\n",
    "\n",
    "import \"fmt\"\n",
    "\n",
    "func main() {\n",
    "names := [4]string{\n",
    "    \"John\",\n",
    "    \"Paul\",\n",
    "    \"George\",\n",
    "    \"Ringo\",\n",
    "    }\n",
    "    fmt.Println(names)\n",
    "\n",
    "    a := names[0:2]\n",
    "    b := names[1:3]\n",
    "    fmt.Println(a, b)\n",
    "\n",
    "    b[0] = \"XXX\"\n",
    "    fmt.Println(a, b)\n",
    "    fmt.Println(names)\n",
    "}\n",
    "main()"
   ]
  },
  {
   "cell_type": "markdown",
   "metadata": {},
   "source": [
    "# Slice literals\n",
    "A slice literal is like an array literal without the length.\n",
    "\n",
    "This is an array literal:\n",
    "```\n",
    "[3]bool{true, true, false}\n",
    "```\n",
    "And this creates the same array as above, then builds a slice that references it:\n",
    "```\n",
    "// this returns a slice, rather than an array. It creates an array and then returns a slice pointing to it.\n",
    "[]bool{true, true, false}\n",
    "```"
   ]
  },
  {
   "cell_type": "code",
   "execution_count": 38,
   "metadata": {},
   "outputs": [
    {
     "name": "stdout",
     "output_type": "stream",
     "text": [
      "[2 3 5 7 11 13]\n",
      "[true false true true false true]\n",
      "[{2 true} {3 false} {5 true} {7 true} {11 false} {13 true}]\n"
     ]
    }
   ],
   "source": [
    "package main\n",
    "\n",
    "import \"fmt\"\n",
    "\n",
    "func main() {\n",
    "    q := []int{2, 3, 5, 7, 11, 13}\n",
    "    q1 := q[2:4]\n",
    "    fmt.Println(q)\n",
    "\n",
    "    r := []bool{true, false, true, true, false, true}\n",
    "    fmt.Println(r)\n",
    "\n",
    "    s := []struct {\n",
    "        i int\n",
    "        b bool\n",
    "    }{\n",
    "        {2, true},\n",
    "        {3, false},\n",
    "        {5, true},\n",
    "        {7, true},\n",
    "        {11, false},\n",
    "        {13, true},\n",
    "    }\n",
    "    fmt.Println(s)\n",
    "}\n",
    "main()"
   ]
  },
  {
   "cell_type": "markdown",
   "metadata": {},
   "source": [
    "# Slice defaults\n",
    "When slicing, you may omit the high or low bounds to use their defaults instead.\n",
    "\n",
    "The default is zero for the low bound and the length of the slice for the high bound.\n",
    "\n",
    "For the array\n",
    "```go\n",
    "var a [10]int\n",
    "```\n",
    "these slice expressions are equivalent:\n",
    "```go\n",
    "a[0:10]\n",
    "a[:10]\n",
    "a[0:]\n",
    "a[:]\n",
    "```"
   ]
  },
  {
   "cell_type": "code",
   "execution_count": 39,
   "metadata": {},
   "outputs": [
    {
     "name": "stdout",
     "output_type": "stream",
     "text": [
      "[3 5 7]\n",
      "[3 5]\n",
      "[5]\n"
     ]
    }
   ],
   "source": [
    "package main\n",
    "\n",
    "import \"fmt\"\n",
    "\n",
    "func main() {\n",
    "    s := []int{2, 3, 5, 7, 11, 13}\n",
    "\n",
    "    s = s[1:4]\n",
    "    fmt.Println(s)\n",
    "\n",
    "    s = s[:2]\n",
    "    fmt.Println(s)\n",
    "\n",
    "    s = s[1:]\n",
    "    fmt.Println(s)\n",
    "}\n",
    "main()"
   ]
  },
  {
   "cell_type": "markdown",
   "metadata": {},
   "source": [
    "# Slice length and capacity\n",
    "A slice has both **a length** and **a capacity**.\n",
    "\n",
    "The **length** of a slice is **the number of elements it contains**.\n",
    "\n",
    "The **capacity** of a slice is the number of elements in the underlying array, counting from the first element in the slice.\n",
    "\n",
    "The length and capacity of a slice ``s`` can be obtained using the expressions ``len(s)`` and ``cap(s)``.\n",
    "\n",
    "You can extend a slice's length by re-slicing it, provided it has sufficient capacity. Try changing one of the slice operations in the example program to extend it beyond its capacity and see what happens."
   ]
  },
  {
   "cell_type": "code",
   "execution_count": 41,
   "metadata": {},
   "outputs": [
    {
     "name": "stdout",
     "output_type": "stream",
     "text": [
      "len=6 cap=6 [2 3 5 7 11 13]\n",
      "len=0 cap=6 []\n",
      "len=4 cap=6 [2 3 5 7]\n",
      "len=2 cap=4 [5 7]\n"
     ]
    }
   ],
   "source": [
    "package main\n",
    "\n",
    "import \"fmt\"\n",
    "\n",
    "func main() {\n",
    "    s := []int{2, 3, 5, 7, 11, 13}\n",
    "    printSlice(s)\n",
    "\n",
    "    // Slice the slice to give it zero length.\n",
    "    s = s[:0]\n",
    "    printSlice(s)\n",
    "\n",
    "    // Extend its length.\n",
    "    s = s[:4]\n",
    "    printSlice(s)\n",
    "\n",
    "    // Drop its first two values.\n",
    "    s = s[2:]\n",
    "    printSlice(s)\n",
    "}\n",
    "\n",
    "func printSlice(s []int) {\n",
    "    fmt.Printf(\"len=%d cap=%d %v\\n\", len(s), cap(s), s)\n",
    "}\n",
    "main()"
   ]
  },
  {
   "cell_type": "markdown",
   "metadata": {},
   "source": [
    "# Nil slices\n",
    "The **zero value of a slice** is ``nil``.\n",
    "\n",
    "A **nil slice has a length and capacity of 0** and has no underlying array."
   ]
  },
  {
   "cell_type": "code",
   "execution_count": 43,
   "metadata": {},
   "outputs": [
    {
     "name": "stdout",
     "output_type": "stream",
     "text": [
      "[] 0 0\n",
      "nil!\n"
     ]
    }
   ],
   "source": [
    "package main\n",
    "\n",
    "import \"fmt\"\n",
    "\n",
    "func main() {\n",
    "    var s []int\n",
    "    fmt.Println(s, len(s), cap(s))\n",
    "    if s == nil {\n",
    "        fmt.Println(\"nil!\")\n",
    "    }\n",
    "}\n",
    "main()"
   ]
  },
  {
   "cell_type": "markdown",
   "metadata": {},
   "source": [
    "# Creating a slice with make\n",
    "Slices can be created with the built-in ``make`` function; this is how you create dynamically-sized arrays.\n",
    "\n",
    "The make function allocates a zeroed array and returns a slice that refers to that array:\n",
    "```\n",
    "a := make([]int, 5)  // len(a)=5\n",
    "```\n",
    "To specify a capacity, pass a third argument to make:\n",
    "```\n",
    "b := make([]int, 0, 5) // len(b)=0, cap(b)=5\n",
    "\n",
    "b = b[:cap(b)] // len(b)=5, cap(b)=5\n",
    "b = b[1:]      // len(b)=4, cap(b)=4\n",
    "```"
   ]
  },
  {
   "cell_type": "code",
   "execution_count": 45,
   "metadata": {},
   "outputs": [
    {
     "name": "stdout",
     "output_type": "stream",
     "text": [
      "a len=5 cap=5 [0 0 0 0 0]\n",
      "b len=0 cap=5 []\n",
      "c len=2 cap=5 [0 0]\n",
      "d len=3 cap=3 [0 0 0]\n"
     ]
    }
   ],
   "source": [
    "package main\n",
    "\n",
    "import \"fmt\"\n",
    "\n",
    "func main() {\n",
    "    a := make([]int, 5)\n",
    "    printSlice(\"a\", a)\n",
    "\n",
    "    b := make([]int, 0, 5)\n",
    "    printSlice(\"b\", b)\n",
    "\n",
    "    c := b[:2]\n",
    "    printSlice(\"c\", c)\n",
    "    \n",
    "    // see this is possible bcs c is a slice,you can extend it. It's operating on the underlying array\n",
    "    d := c[2:5]\n",
    "    printSlice(\"d\", d)\n",
    "}\n",
    "\n",
    "func printSlice(s string, x []int) {\n",
    "    fmt.Printf(\"%s len=%d cap=%d %v\\n\",\n",
    "    s, len(x), cap(x), x)\n",
    "}\n",
    "main()"
   ]
  },
  {
   "cell_type": "markdown",
   "metadata": {},
   "source": [
    "# Slice internals\n",
    "A slice is a descriptor of an array segment. It consists of a pointer to the array, the length of the segment, and its capacity (the maximum length of the segment).\n",
    "\n",
    "![slice_internal](https://blog.golang.org/slices-intro/slice-struct.png)\n",
    "\n",
    "A slice by make([]byte, 5), is structured like this:\n",
    "\n",
    "![slice_5](https://blog.golang.org/slices-intro/slice-1.png)\n",
    "\n",
    "The length is the number of elements referred to by the slice. The capacity is the number of elements in the underlying array (**beginning at the element referred to by the slice pointer**). The distinction between length and capacity will be made clear as we walk through the next few examples.\n",
    "\n",
    "As we slice s, observe the changes in the slice data structure and their relation to the underlying array:\n",
    "\n",
    "s = s[2:4]\n",
    "\n",
    "![s_24](https://blog.golang.org/slices-intro/slice-2.png)\n",
    "\n",
    "**Slicing does not copy the slice's data**. It creates a new slice value that points to the original array. This makes slice operations as efficient as manipulating array indices. Therefore, **modifying the elements (not the slice itself) of a re-slice modifies the elements of the original slice**:\n",
    "```go\n",
    "d := []byte{'r', 'o', 'a', 'd'}\n",
    "e := d[2:]\n",
    "// e == []byte{'a', 'd'}\n",
    "e[1] = 'm'\n",
    "// e == []byte{'a', 'm'}\n",
    "// d == []byte{'r', 'o', 'a', 'm'}\n",
    "```\n",
    "Earlier we sliced s to a length shorter than its capacity. We can grow s to its capacity by slicing it again:\n",
    "```go\n",
    "s = s[:cap(s)]\n",
    "```\n",
    "![cap_s](https://blog.golang.org/slices-intro/slice-3.png)\n",
    "A slice cannot be grown beyond its capacity. Attempting to do so will cause a runtime panic, just as when indexing outside the bounds of a slice or array. Similarly, **slices cannot be re-sliced below zero to access earlier elements in the array**."
   ]
  },
  {
   "cell_type": "markdown",
   "metadata": {},
   "source": [
    "# Slices of slices\n",
    "Slices can contain any type, including other slices."
   ]
  },
  {
   "cell_type": "code",
   "execution_count": 51,
   "metadata": {},
   "outputs": [
    {
     "name": "stdout",
     "output_type": "stream",
     "text": [
      "X _ X\n",
      "O _ X\n",
      "_ _ O\n"
     ]
    }
   ],
   "source": [
    "package main\n",
    "\n",
    "import (\n",
    "    \"fmt\"\n",
    "    \"strings\"\n",
    ")\n",
    "\n",
    "func main() {\n",
    "    // Create a tic-tac-toe board.\n",
    "    board := [][]string{\n",
    "        []string{\"_\", \"_\", \"_\"},\n",
    "        []string{\"_\", \"_\", \"_\"},\n",
    "        []string{\"_\", \"_\", \"_\"},\n",
    "    }\n",
    "\n",
    "    // The players take turns.\n",
    "    board[0][0] = \"X\"\n",
    "    board[2][2] = \"O\"\n",
    "    board[1][2] = \"X\"\n",
    "    board[1][0] = \"O\"\n",
    "    board[0][2] = \"X\"\n",
    "\n",
    "    for i := 0; i < len(board); i++ {\n",
    "        fmt.Printf(\"%s\\n\", strings.Join(board[i], \" \"))\n",
    "    }\n",
    "}\n",
    "main()"
   ]
  },
  {
   "cell_type": "markdown",
   "metadata": {},
   "source": [
    "# Growing Slice\n",
    "To increase the capacity of a slice one must create a new, larger slice and copy the contents of the original slice into it. This technique is how dynamic array implementations from other languages work behind the scenes. The next example doubles the capacity of s by making a new slice, t, copying the contents of s into t, and then assigning the slice value t to s:\n",
    "```go\n",
    "s = make([]byte, 5)\n",
    "t := make([]byte, len(s), (cap(s)+1)*2) // +1 in case cap(s) == 0\n",
    "for i := range s {\n",
    "        t[i] = s[i]\n",
    "}\n",
    "s = t\n",
    "```\n",
    "The looping piece of this common operation is made easier by the built-in copy function. As the name suggests, copy copies data from a source slice to a destination slice. It returns the number of elements copied.\n",
    "```go\n",
    "func copy(dst, src []T) int\n",
    "```\n",
    "The copy function supports copying between slices of different lengths (it will copy only up to the smaller number of elements). In addition, copy can handle source and destination slices that share the same underlying array, handling overlapping slices correctly.\n",
    "\n",
    "Using copy, we can simplify the code snippet above:\n",
    "\n",
    "```go\n",
    "t := make([]byte, len(s), (cap(s)+1)*2)\n",
    "copy(t, s)\n",
    "s = t\n",
    "```"
   ]
  },
  {
   "cell_type": "code",
   "execution_count": 61,
   "metadata": {},
   "outputs": [
    {
     "name": "stdout",
     "output_type": "stream",
     "text": [
      "s len=5 cap=5 [1 2 3 4 5]\n",
      "t len=5 cap=12 [0 0 0 0 0]\n",
      "s len=5 cap=12 [1 2 3 4 5]\n",
      "s1 len=5 cap=12 [1 2 3 4 5]\n"
     ]
    }
   ],
   "source": [
    "package main\n",
    "\n",
    "import (\n",
    "    \"fmt\"\n",
    "    \"strings\"\n",
    ")\n",
    "\n",
    "func main() {\n",
    "    // one way of growing a slice into double the size\n",
    "    s := []byte{1, 2, 3, 4, 5}\n",
    "    printSlice(\"s\", s)\n",
    "    t := make([]byte, len(s), (cap(s)+1)*2) // +1 in case cap(s) == 0\n",
    "    printSlice(\"t\", t)\n",
    "    for i := range s {\n",
    "        t[i] = s[i]\n",
    "    }\n",
    "    s = t\n",
    "    printSlice(\"s\", s)\n",
    "    \n",
    "    // a simplified way of growing a slice into double the size\n",
    "    t1 := make([]byte, len(s), (cap(s)+1)*2)\n",
    "    copy(t, s)\n",
    "    s1 := t\n",
    "    printSlice(\"s1\", s1)\n",
    "}\n",
    "\n",
    "func printSlice(name string, x []byte) {\n",
    "    fmt.Printf(\"%s len=%d cap=%d %v\\n\",\n",
    "    name, len(x), cap(x), x)\n",
    "}\n",
    "main()"
   ]
  },
  {
   "cell_type": "markdown",
   "metadata": {},
   "source": [
    "## Append\n",
    "A common operation is to append data to the end of a slice. This function appends byte elements to a slice of bytes, growing the slice if necessary, and returns the updated slice value:\n",
    "```go\n",
    "func AppendByte(slice []byte, data ...byte) []byte {\n",
    "    m := len(slice)\n",
    "    n := m + len(data)\n",
    "    if n > cap(slice) { // if necessary, reallocate\n",
    "        // allocate double what's needed, for future growth.\n",
    "        newSlice := make([]byte, (n+1)*2)\n",
    "        copy(newSlice, slice)\n",
    "        slice = newSlice\n",
    "    }\n",
    "    slice = slice[0:n]\n",
    "    copy(slice[m:n], data)\n",
    "    return slice\n",
    "}\n",
    "```\n",
    "One could use AppendByte like this:\n",
    "```go\n",
    "p := []byte{2, 3, 5}\n",
    "p = AppendByte(p, 7, 11, 13)\n",
    "// p == []byte{2, 3, 5, 7, 11, 13}\n",
    "```\n",
    "Functions like ``AppendByte`` are useful because they offer complete control over the way the slice is grown. Depending on the characteristics of the program, it may be desirable to allocate in smaller or larger chunks, or to put a ceiling on the size of a reallocation.\n",
    "\n",
    "But most programs don't need complete control, so Go provides a built-in ``append`` function that's good for most purposes; it has the signature\n",
    "```go\n",
    "func append(s []T, x ...T) []T\n",
    "```\n",
    "The append function appends the elements x to the end of the slice s, and grows the slice if a greater capacity is needed. **The new array size (aka new cap) is determined by the built-in func**.\n",
    "```go\n",
    "a := make([]int, 1)\n",
    "// a == []int{0}\n",
    "a = append(a, 1, 2, 3)\n",
    "// a == []int{0, 1, 2, 3}\n",
    "```\n",
    "To append one slice to another, use ... to expand the second argument to a list of arguments.\n",
    "```go\n",
    "a := []string{\"John\", \"Paul\"}\n",
    "b := []string{\"George\", \"Ringo\", \"Pete\"}\n",
    "a = append(a, b...) // equivalent to \"append(a, b[0], b[1], b[2])\"\n",
    "// a == []string{\"John\", \"Paul\", \"George\", \"Ringo\", \"Pete\"}\n",
    "```\n",
    "Since the zero value of a slice (nil) acts like a zero-length slice, you can declare a slice variable and then append to it in a loop:\n",
    "```go\n",
    "// Filter returns a new slice holding only\n",
    "// the elements of s that satisfy fn()\n",
    "func Filter(s []int, fn func(int) bool) []int {\n",
    "    var p []int // == nil\n",
    "    for _, v := range s {\n",
    "        if fn(v) {\n",
    "            p = append(p, v)\n",
    "        }\n",
    "    }\n",
    "    return p\n",
    "}\n",
    "```"
   ]
  },
  {
   "cell_type": "code",
   "execution_count": 67,
   "metadata": {},
   "outputs": [
    {
     "name": "stdout",
     "output_type": "stream",
     "text": [
      "Use Naive\n",
      "p len=3 cap=3 [2 3 5]\n",
      "p len=6 cap=14 [2 3 5 7 11 13]\n",
      "Use Built-in Append\n",
      "p len=3 cap=3 [2 3 5]\n",
      "p len=5 cap=6 [2 3 5 7 11]\n",
      "Append Slice to Slice\n",
      "p len=3 cap=3 [2 3 5]\n",
      "p len=5 cap=6 [2 3 5 1 4]\n"
     ]
    }
   ],
   "source": [
    "package main\n",
    "\n",
    "import (\n",
    "    \"fmt\"\n",
    "    \"strings\"\n",
    ")\n",
    "\n",
    "func main() {\n",
    "    // append to a slice using naive approach\n",
    "    fmt.Println(\"Use Naive\")\n",
    "    p := []byte{2, 3, 5}\n",
    "    printSlice(\"p\",p)\n",
    "    p = AppendByte(p, 7, 11, 13)\n",
    "    printSlice(\"p\",p)\n",
    "    \n",
    "    // append to a slice using more advanced\n",
    "    fmt.Println(\"Use Built-in Append\")\n",
    "    p := []byte{2, 3, 5}\n",
    "    printSlice(\"p\",p)\n",
    "    p = append(p, 7, 11)\n",
    "    printSlice(\"p\",p)\n",
    "    \n",
    "    // append a slice to a slice \n",
    "    fmt.Println(\"Append Slice to Slice\")\n",
    "    a := []byte{1,4}\n",
    "    p := []byte{2, 3, 5}\n",
    "    printSlice(\"p\",p)\n",
    "    p = append(p, a...)\n",
    "    printSlice(\"p\",p)\n",
    "}\n",
    "\n",
    "// a naive way of creating append, also double the array size (after_append_size + 1) * 2\n",
    "func AppendByte(slice []byte, data ...byte) []byte {\n",
    "    m := len(slice)\n",
    "    n := m + len(data)\n",
    "    if n > cap(slice) { // if necessary, reallocate\n",
    "        // allocate double what's needed, for future growth.\n",
    "        newSlice := make([]byte, (n+1)*2)\n",
    "        copy(newSlice, slice)\n",
    "        slice = newSlice\n",
    "    }\n",
    "    slice = slice[0:n]\n",
    "    copy(slice[m:n], data)\n",
    "    return slice\n",
    "}\n",
    "\n",
    "func printSlice(name string, x []byte) {\n",
    "    fmt.Printf(\"%s len=%d cap=%d %v\\n\",\n",
    "    name, len(x), cap(x), x)\n",
    "}\n",
    "main()"
   ]
  },
  {
   "cell_type": "markdown",
   "metadata": {},
   "source": [
    "# A possible \"gotcha\"\n",
    "As mentioned earlier, re-slicing a slice doesn't make a copy of the underlying array. **The full array will be kept in memory until it is no longer referenced**. Occasionally this can cause the program to hold all the data in memory when only a small piece of it is needed.\n",
    "\n",
    "To fix this problem one can copy the interesting data using the ``copy`` function to a new slice before returning it. \n",
    "```go\n",
    "func copy(dst, src []Type) int\n",
    "```\n",
    "Copy will **copy the acutal data**. The source and destination may overlap. Copy returns the number of elements copied, which will be the minimum of len(src) and len(dst)."
   ]
  },
  {
   "cell_type": "code",
   "execution_count": 78,
   "metadata": {},
   "outputs": [
    {
     "name": "stdout",
     "output_type": "stream",
     "text": [
      "3\n",
      "[1 2 3 4 5 6 7 8]\n",
      "[1 100 3]\n"
     ]
    }
   ],
   "source": [
    "package main\n",
    "\n",
    "import (\n",
    "    \"fmt\"\n",
    "    \"strings\"\n",
    ")\n",
    "\n",
    "func main(){\n",
    "    var large = []int{1,2,3,4,5,6,7,8}\n",
    "    var a = make([]int,3)\n",
    "    n := copy(a, large)\n",
    "    fmt.Println(n)\n",
    "    a[1] = 100\n",
    "    fmt.Println(large)\n",
    "    fmt.Println(a)\n",
    "}\n",
    "main()"
   ]
  },
  {
   "cell_type": "markdown",
   "metadata": {},
   "source": [
    "# Range\n",
    "The ``range`` form of the ``for`` loop **iterates over a slice or map**.\n",
    "\n",
    "When ranging over a slice, **two values are returned for each iteration**. The first is the index, and the second is a copy of the element at that index."
   ]
  },
  {
   "cell_type": "code",
   "execution_count": 80,
   "metadata": {},
   "outputs": [
    {
     "name": "stdout",
     "output_type": "stream",
     "text": [
      "2**0 = 1\n",
      "2**1 = 2\n",
      "2**2 = 4\n",
      "2**3 = 8\n",
      "2**4 = 16\n",
      "2**5 = 32\n",
      "2**6 = 64\n",
      "2**7 = 128\n"
     ]
    }
   ],
   "source": [
    "package main\n",
    "\n",
    "import \"fmt\"\n",
    "\n",
    "var pow = []int{1, 2, 4, 8, 16, 32, 64, 128}\n",
    "\n",
    "func main() {\n",
    "    for i, v := range pow {\n",
    "        fmt.Printf(\"2**%d = %d\\n\", i, v)\n",
    "    }\n",
    "}\n",
    "main()"
   ]
  },
  {
   "cell_type": "markdown",
   "metadata": {},
   "source": [
    "# Range continued\n",
    "You can skip the index or value by assigning to `_`.\n",
    "```go\n",
    "for i, _ := range pow\n",
    "for _, value := range pow\n",
    "```\n",
    "If you only want the index, you can omit the second variable.\n",
    "```go\n",
    "for i := range pow\n",
    "```\n",
    "This provides a **convenient way to iterate over the slice while changing its value**:\n",
    "```go\n",
    "for i := range pow {\n",
    "        pow[i] = 1 << uint(i) // == 2**i\n",
    "}\n",
    "```"
   ]
  },
  {
   "cell_type": "code",
   "execution_count": 85,
   "metadata": {},
   "outputs": [
    {
     "name": "stdout",
     "output_type": "stream",
     "text": [
      "1\n",
      "2\n",
      "4\n"
     ]
    }
   ],
   "source": [
    "package main\n",
    "\n",
    "import \"fmt\"\n",
    "\n",
    "func main() {\n",
    "    pow := make([]int, 3)\n",
    "    // use index only, such that you can change the value in the actual array.\n",
    "    for i := range pow {\n",
    "        pow[i] = 1 << uint(i) // == 2**i\n",
    "    }\n",
    "    for _, value := range pow {\n",
    "        fmt.Printf(\"%d\\n\", value)\n",
    "    }\n",
    "}\n",
    "main()"
   ]
  },
  {
   "cell_type": "code",
   "execution_count": null,
   "metadata": {},
   "outputs": [],
   "source": []
  }
 ],
 "metadata": {
  "kernelspec": {
   "display_name": "Go",
   "language": "go",
   "name": "gophernotes"
  },
  "language_info": {
   "codemirror_mode": "",
   "file_extension": ".go",
   "mimetype": "",
   "name": "go",
   "nbconvert_exporter": "",
   "pygments_lexer": "",
   "version": "go1.14.1"
  }
 },
 "nbformat": 4,
 "nbformat_minor": 2
}
