{
 "cells": [
  {
   "cell_type": "markdown",
   "metadata": {},
   "source": [
    "# References\n",
    "* [Go Language Documentation Page](http://golang.org/doc/)\n",
    "* [Effective Go](http://golang.org/doc/effective_go.html)\n",
    "* [Go Tutorial](https://tour.golang.org/)\n",
    "* [Go Network Programming](https://ipfs.io/ipfs/QmfYeDhGH9bZzihBUDEQbCbTc5k5FZKURMUoUvfmc27BwL/rpc/index.html)"
   ]
  },
  {
   "cell_type": "markdown",
   "metadata": {},
   "source": [
    "# Packages\n",
    "Every Go program is made up of packages.\n",
    "\n",
    "Programs start running in package ``main``. The ``main()`` func will be called.\n",
    "\n",
    "This program is using the packages with import paths ``\"fmt\"`` and ``\"math/rand\"``.\n",
    "\n",
    "By convention, the package name is the same as the last element of the import path. For instance, the \"math/rand\" package comprises files that begin with the statement package ``rand`` (aka ``rand.something``)."
   ]
  },
  {
   "cell_type": "code",
   "execution_count": 1,
   "metadata": {},
   "outputs": [
    {
     "name": "stdout",
     "output_type": "stream",
     "text": [
      "My favorite number is 1\n"
     ]
    }
   ],
   "source": [
    "// Define a package. This is where the program starts running\n",
    "package main\n",
    "\n",
    "// import some other packages.\n",
    "import (\n",
    "    \"fmt\"\n",
    "    \"math/rand\"\n",
    ")\n",
    "\n",
    "\n",
    "// define main func, like C, everything starts with a main.\n",
    "func main() {\n",
    "    fmt.Println(\"My favorite number is\", rand.Intn(10))\n",
    "}\n",
    "\n",
    "// in real program you don't have to call this\n",
    "main()"
   ]
  },
  {
   "cell_type": "markdown",
   "metadata": {},
   "source": [
    "# Imports\n",
    "This code groups the imports into a parenthesized, \"factored\" import statement.\n",
    "\n",
    "You can also write multiple import statements, like:\n",
    "```GO\n",
    "import \"fmt\"\n",
    "import \"math\"\n",
    "```\n",
    "But it is good style to use the factored import statement."
   ]
  },
  {
   "cell_type": "code",
   "execution_count": 2,
   "metadata": {},
   "outputs": [
    {
     "name": "stdout",
     "output_type": "stream",
     "text": [
      "Now you have 2.6457513110645907 problems.\n"
     ]
    }
   ],
   "source": [
    "package main\n",
    "\n",
    "import \"fmt\"\n",
    "import \"math\"\n",
    "\n",
    "func main() {\n",
    "    fmt.Printf(\"Now you have %g problems.\\n\", math.Sqrt(7))\n",
    "}\n",
    "\n",
    "// in real program you don't have to call this\n",
    "main()"
   ]
  },
  {
   "cell_type": "markdown",
   "metadata": {},
   "source": [
    "# Exported names\n",
    "In Go, a name is exported if it begins with a capital letter. For example, ``Pizza`` is an exported name, as is ``Pi``, which is exported from the math package.\n",
    "\n",
    "``pizza`` and ``pi`` do not start with a capital letter, so they are not exported.\n",
    "\n",
    "When importing a package, you can refer only to its exported names. Any \"unexported\" names are not accessible from outside the package."
   ]
  },
  {
   "cell_type": "code",
   "execution_count": 3,
   "metadata": {},
   "outputs": [
    {
     "ename": "ERROR",
     "evalue": "repl.go:13:17: package math \"math\" has no symbol pi",
     "output_type": "error",
     "traceback": [
      "repl.go:13:17: package math \"math\" has no symbol pi"
     ]
    }
   ],
   "source": [
    "// Run the code. Notice the error message.\n",
    "\n",
    "// To fix the error, rename math.pi to math.Pi and try it again.\n",
    "\n",
    "package main\n",
    "\n",
    "import (\n",
    "    \"fmt\"\n",
    "    \"math\"\n",
    ")\n",
    "\n",
    "func main() {\n",
    "    fmt.Println(math.pi)\n",
    "}\n",
    "main()"
   ]
  },
  {
   "cell_type": "code",
   "execution_count": 4,
   "metadata": {},
   "outputs": [
    {
     "name": "stdout",
     "output_type": "stream",
     "text": [
      "3.141592653589793\n"
     ]
    }
   ],
   "source": [
    "// A name is exported if it begins with a capital letter.\n",
    "package main\n",
    "\n",
    "import (\n",
    "    \"fmt\"\n",
    "    \"math\"\n",
    ")\n",
    "\n",
    "func main() {\n",
    "    fmt.Println(math.Pi)\n",
    "}\n",
    "main()"
   ]
  },
  {
   "cell_type": "markdown",
   "metadata": {},
   "source": [
    "# Functions\n",
    "A function can take zero or more arguments.\n",
    "\n",
    "In this example, add takes two parameters of type ``int`` and return an ``int``.\n",
    "\n",
    "Notice that the type comes after the variable name."
   ]
  },
  {
   "cell_type": "code",
   "execution_count": 5,
   "metadata": {},
   "outputs": [
    {
     "name": "stdout",
     "output_type": "stream",
     "text": [
      "55\n"
     ]
    }
   ],
   "source": [
    "package main\n",
    "\n",
    "import \"fmt\"\n",
    "\n",
    "func add(x int, y int) int {\n",
    "    return x + y\n",
    "}\n",
    "\n",
    "func main() {\n",
    "    fmt.Println(add(42, 13))\n",
    "}\n",
    "\n",
    "main()"
   ]
  },
  {
   "cell_type": "markdown",
   "metadata": {},
   "source": [
    "When two or more consecutive named function parameters share a type, you can omit the type from all but the last.\n",
    "\n",
    "In this example, we shortened\n",
    "```GO\n",
    "x int, y int\n",
    "```\n",
    "to\n",
    "```GO\n",
    "x, y int\n",
    "```"
   ]
  },
  {
   "cell_type": "code",
   "execution_count": 6,
   "metadata": {},
   "outputs": [
    {
     "name": "stdout",
     "output_type": "stream",
     "text": [
      "55\n"
     ]
    }
   ],
   "source": [
    "package main\n",
    "\n",
    "import \"fmt\"\n",
    "\n",
    "func add(x, y int) int {\n",
    "    return x + y\n",
    "}\n",
    "\n",
    "func main() {\n",
    "    fmt.Println(add(42, 13))\n",
    "}\n",
    "main()"
   ]
  },
  {
   "cell_type": "markdown",
   "metadata": {},
   "source": [
    "# Multiple results\n",
    "A function can return any number of results.\n",
    "\n",
    "The ``swap`` function returns two strings."
   ]
  },
  {
   "cell_type": "code",
   "execution_count": 7,
   "metadata": {},
   "outputs": [
    {
     "name": "stdout",
     "output_type": "stream",
     "text": [
      "world hello\n"
     ]
    }
   ],
   "source": [
    "package main\n",
    "\n",
    "import \"fmt\"\n",
    "\n",
    "func swap(x, y string) (string, string) {\n",
    "    return y, x\n",
    "}\n",
    "\n",
    "func main() {\n",
    "    a, b := swap(\"hello\", \"world\")\n",
    "    fmt.Println(a, b)\n",
    "}\n",
    "main()"
   ]
  },
  {
   "cell_type": "markdown",
   "metadata": {},
   "source": [
    "# Named return values\n",
    "Go's return values may be named. If so, they are treated as variables defined at the top of the function.\n",
    "\n",
    "These names should be used to document the meaning of the return values.\n",
    "\n",
    "A ``return`` statement without arguments returns the named return values. This is known as a \"naked\" return.\n",
    "\n",
    "Naked return statements should be used only in short functions, as with the example shown here. They can harm readability in longer functions."
   ]
  },
  {
   "cell_type": "code",
   "execution_count": 8,
   "metadata": {},
   "outputs": [],
   "source": [
    "package main\n",
    "\n",
    "import \"fmt\"\n",
    "\n",
    "func split(sum int) (x, y int) {\n",
    "    x = sum * 4 / 9\n",
    "    y = sum - x\n",
    "    return\n",
    "}\n",
    "\n",
    "func main() {\n",
    "    fmt.Println(split(17))\n",
    "}\n"
   ]
  },
  {
   "cell_type": "markdown",
   "metadata": {},
   "source": [
    "If no named return value is defined and you explicitly call return, nothing is returned."
   ]
  },
  {
   "cell_type": "code",
   "execution_count": 9,
   "metadata": {},
   "outputs": [
    {
     "name": "stdout",
     "output_type": "stream",
     "text": [
      "17\n"
     ]
    }
   ],
   "source": [
    "package main\n",
    "\n",
    "import \"fmt\"\n",
    "\n",
    "func split(sum int) {\n",
    "    fmt.Println(sum)\n",
    "    return\n",
    "}\n",
    "\n",
    "func main() {\n",
    "    split(17)\n",
    "}\n",
    "main()"
   ]
  },
  {
   "cell_type": "markdown",
   "metadata": {},
   "source": [
    "# Variables\n",
    "The ``var`` statement declares a list of variables; as in function argument lists, the type is last.\n",
    "\n",
    "A ``var`` statement can be at package or function level. We see both in this example.\n",
    "\n",
    "The default value for any numeric type will be 0. For boolean values the default is false and for strings it will be an empty string. While the Go programming language does have a type of nil , a string cannot be of this type."
   ]
  },
  {
   "cell_type": "code",
   "execution_count": 10,
   "metadata": {},
   "outputs": [
    {
     "name": "stdout",
     "output_type": "stream",
     "text": [
      "0 false false false\n"
     ]
    }
   ],
   "source": [
    "package main\n",
    "\n",
    "import \"fmt\"\n",
    "\n",
    "var c, python, java bool\n",
    "\n",
    "func main() {\n",
    "    var i int\n",
    "    fmt.Println(i, c, python, java)\n",
    "}\n",
    "main()"
   ]
  },
  {
   "cell_type": "markdown",
   "metadata": {},
   "source": [
    "# Variables with initializers\n",
    "A ``var`` declaration can include initializers, one per variable.\n",
    "\n",
    "If an initializer is present, the type can be omitted; the variable will take the type of the initializer."
   ]
  },
  {
   "cell_type": "code",
   "execution_count": 11,
   "metadata": {},
   "outputs": [
    {
     "name": "stdout",
     "output_type": "stream",
     "text": [
      "1 2 true false no!\n"
     ]
    }
   ],
   "source": [
    "package main\n",
    "\n",
    "import \"fmt\"\n",
    "\n",
    "var i, j int = 1, 2\n",
    "\n",
    "func main() {\n",
    "    var c, python, java = true, false, \"no!\"\n",
    "    fmt.Println(i, j, c, python, java)\n",
    "}\n",
    "main()"
   ]
  },
  {
   "cell_type": "markdown",
   "metadata": {},
   "source": [
    "# Short variable declarations\n",
    "Inside a function (only. available inside a func), the ``:=`` short assignment statement can be used in place of a ``var`` declaration with implicit type.\n",
    "\n",
    "Outside a function, every statement begins with a keyword (``var``, ``func``, and so on) and so the ``:=`` construct is not available."
   ]
  },
  {
   "cell_type": "code",
   "execution_count": 12,
   "metadata": {},
   "outputs": [],
   "source": [
    "package main\n",
    "\n",
    "import \"fmt\"\n",
    "\n",
    "func main() {\n",
    "    var i, j int = 1, 2\n",
    "    k := 3\n",
    "    c, python, java := true, false, \"no!\"\n",
    "\n",
    "    fmt.Println(i, j, k, c, python, java)\n",
    "}\n"
   ]
  },
  {
   "cell_type": "markdown",
   "metadata": {},
   "source": [
    "# Basic types\n",
    "Go's basic types are\n",
    "```Go\n",
    "bool\n",
    "\n",
    "string\n",
    "\n",
    "int  int8  int16  int32  int64\n",
    "uint uint8 uint16 uint32 uint64 uintptr\n",
    "\n",
    "byte // alias for uint8\n",
    "\n",
    "rune // alias for int32\n",
    "     // represents a Unicode code point\n",
    "\n",
    "float32 float64\n",
    "\n",
    "complex64 complex128\n",
    "```\n",
    "The example shows variables of several types, and also that variable declarations may be \"factored\" into blocks, as with import statements.\n",
    "\n",
    "The ``int``, ``uint``, and ``uintptr`` types are usually 32 bits wide on 32-bit systems and 64 bits wide on 64-bit systems. When you need an integer value you should use int unless you have a specific reason to use a sized or unsigned integer type."
   ]
  },
  {
   "cell_type": "code",
   "execution_count": 13,
   "metadata": {},
   "outputs": [
    {
     "name": "stdout",
     "output_type": "stream",
     "text": [
      "Type: bool Value: false\n",
      "Type: uint64 Value: 18446744073709551615\n",
      "Type: complex128 Value: (2+3i)\n"
     ]
    }
   ],
   "source": [
    "package main\n",
    "\n",
    "import (\n",
    "    \"fmt\"\n",
    "    \"math/cmplx\"\n",
    ")\n",
    "\n",
    "var (\n",
    "    ToBe   bool       = false\n",
    "    // Regarding why this is legit:\n",
    "    //https://stackoverflow.com/questions/26833421/how-does-1-64-1-work\n",
    "    MaxInt uint64     = 1<<64 - 1\n",
    "    \n",
    "    //MaxInt uint64     = 1<<64\n",
    "    //this will not be okay, because uint64 can't hold this value\n",
    "    z      complex128 = cmplx.Sqrt(-5 + 12i)\n",
    ")\n",
    "\n",
    "func main() {\n",
    "    fmt.Printf(\"Type: %T Value: %v\\n\", ToBe, ToBe)\n",
    "    fmt.Printf(\"Type: %T Value: %v\\n\", MaxInt, MaxInt)\n",
    "    fmt.Printf(\"Type: %T Value: %v\\n\", z, z)\n",
    "}\n",
    "main()"
   ]
  },
  {
   "cell_type": "markdown",
   "metadata": {},
   "source": [
    "# Zero values\n",
    "\n",
    "Variables declared without an explicit initial value are given their zero value.\n",
    "\n",
    "The zero value is:\n",
    "\n",
    "``0`` for numeric types,\n",
    "\n",
    "``false`` for the boolean type, and\n",
    "\n",
    "``\"\"`` (the empty string) for strings.\n"
   ]
  },
  {
   "cell_type": "code",
   "execution_count": 14,
   "metadata": {},
   "outputs": [
    {
     "name": "stdout",
     "output_type": "stream",
     "text": [
      "0 0 false \"\"\n"
     ]
    }
   ],
   "source": [
    "package main\n",
    "\n",
    "import \"fmt\"\n",
    "\n",
    "func main() {\n",
    "    var i int\n",
    "    var f float64\n",
    "    var b bool\n",
    "    var s string\n",
    "    fmt.Printf(\"%v %v %v %q\\n\", i, f, b, s)\n",
    "}\n",
    "main()"
   ]
  },
  {
   "cell_type": "markdown",
   "metadata": {},
   "source": [
    "# Type conversions\n",
    "The expression ``T(v)`` converts the value ``v`` to the type ``T``.\n",
    "\n",
    "Some numeric conversions:\n",
    "```\n",
    "var i int = 42\n",
    "var f float64 = float64(i)\n",
    "var u uint = uint(f)\n",
    "```\n",
    "Or, put more simply:\n",
    "```\n",
    "i := 42\n",
    "f := float64(i)\n",
    "u := uint(f)\n",
    "```\n",
    "Unlike in C, in Go assignment between items of different type **requires an explicit conversion**. Try removing the float64 or uint conversions in the example and see what happens."
   ]
  },
  {
   "cell_type": "code",
   "execution_count": 15,
   "metadata": {},
   "outputs": [
    {
     "name": "stdout",
     "output_type": "stream",
     "text": [
      "3 4 5\n"
     ]
    }
   ],
   "source": [
    "package main\n",
    "\n",
    "import (\n",
    "    \"fmt\"\n",
    "    \"math\"\n",
    ")\n",
    "\n",
    "func main() {\n",
    "    var x, y int = 3, 4\n",
    "    var f float64 = math.Sqrt(float64(x*x + y*y))\n",
    "    var z uint = uint(f)\n",
    "    fmt.Println(x, y, z)\n",
    "}\n",
    "main()"
   ]
  },
  {
   "cell_type": "code",
   "execution_count": 16,
   "metadata": {},
   "outputs": [
    {
     "ename": "ERROR",
     "evalue": "repl.go:11:9: incompatible types in assignment: uint = float64",
     "output_type": "error",
     "traceback": [
      "repl.go:11:9: incompatible types in assignment: uint = float64"
     ]
    }
   ],
   "source": [
    "package main\n",
    "\n",
    "import (\n",
    "    \"fmt\"\n",
    "    \"math\"\n",
    ")\n",
    "\n",
    "func main() {\n",
    "    var x, y int = 3, 4\n",
    "    var f float64 = math.Sqrt(float64(x*x + y*y))\n",
    "    var z uint = f\n",
    "    fmt.Println(x, y, z)\n",
    "}\n",
    "main()"
   ]
  },
  {
   "cell_type": "markdown",
   "metadata": {},
   "source": [
    "# Type inference\n",
    "When declaring a variable **without specifying an explicit type** (either by using the ``:=`` syntax or var ``=`` expression syntax), **the variable's type is inferred** from the value on the right hand side.\n",
    "\n",
    "When the right hand side of the declaration is typed, the new variable is of that same type:\n",
    "```\n",
    "var i int\n",
    "j := i // j is an int\n",
    "```\n",
    "But when the right hand side contains an untyped numeric constant, the new variable may be an ``int``, ``float64``, or ``complex128`` depending on the precision of the constant:\n",
    "```\n",
    "i := 42           // int\n",
    "f := 3.142        // float64\n",
    "g := 0.867 + 0.5i // complex128\n",
    "```\n"
   ]
  },
  {
   "cell_type": "code",
   "execution_count": 17,
   "metadata": {},
   "outputs": [
    {
     "name": "stdout",
     "output_type": "stream",
     "text": [
      "v is of type int\n"
     ]
    }
   ],
   "source": [
    "package main\n",
    "\n",
    "import \"fmt\"\n",
    "\n",
    "func main() {\n",
    "    v := 42 // change me!\n",
    "    fmt.Printf(\"v is of type %T\\n\", v)\n",
    "}\n",
    "main()"
   ]
  },
  {
   "cell_type": "code",
   "execution_count": 18,
   "metadata": {},
   "outputs": [
    {
     "name": "stdout",
     "output_type": "stream",
     "text": [
      "v is of type float64\n"
     ]
    }
   ],
   "source": [
    "package main\n",
    "\n",
    "import \"fmt\"\n",
    "\n",
    "func main() {\n",
    "    v := 42.213213 // change me!\n",
    "    fmt.Printf(\"v is of type %T\\n\", v)\n",
    "}\n",
    "main()"
   ]
  },
  {
   "cell_type": "code",
   "execution_count": 19,
   "metadata": {},
   "outputs": [
    {
     "name": "stdout",
     "output_type": "stream",
     "text": [
      "v is of type complex128\n"
     ]
    }
   ],
   "source": [
    "package main\n",
    "\n",
    "import \"fmt\"\n",
    "\n",
    "func main() {\n",
    "    v := 2 + 3i // change me!\n",
    "    fmt.Printf(\"v is of type %T\\n\", v)\n",
    "}\n",
    "main()"
   ]
  },
  {
   "cell_type": "markdown",
   "metadata": {},
   "source": [
    "# Constants\n",
    "Constants are **declared like variables, but with the const keyword**.\n",
    "\n",
    "Constants can be character, string, boolean, or numeric values.\n",
    "\n",
    "Constants **cannot be declared using the := syntax**."
   ]
  },
  {
   "cell_type": "code",
   "execution_count": 20,
   "metadata": {},
   "outputs": [
    {
     "name": "stdout",
     "output_type": "stream",
     "text": [
      "Hello 世界\n",
      "Happy 3.14 Day\n",
      "Go rules? true\n"
     ]
    }
   ],
   "source": [
    "package main\n",
    "\n",
    "import \"fmt\"\n",
    "\n",
    "const Pi = 3.14\n",
    "const Pi2 float64 = 3.14\n",
    "\n",
    "func main() {\n",
    "    const World = \"世界\"\n",
    "    fmt.Println(\"Hello\", World)\n",
    "    fmt.Println(\"Happy\", Pi, \"Day\")\n",
    "\n",
    "    const Truth = true\n",
    "    fmt.Println(\"Go rules?\", Truth)\n",
    "}\n",
    "main()"
   ]
  },
  {
   "cell_type": "markdown",
   "metadata": {},
   "source": [
    "# Numeric Constants\n",
    "Numeric constants are high-precision values.\n",
    "\n",
    "An untyped constant takes the type needed by its context.\n",
    "\n",
    "Printing ``needInt(Big)`` will cause an error bcs converting 1 << 100 to int will result in an overflow.\n",
    "\n",
    "(An ``int`` can store at maximum a 64-bit integer, and sometimes less.)"
   ]
  },
  {
   "cell_type": "code",
   "execution_count": 21,
   "metadata": {},
   "outputs": [
    {
     "name": "stdout",
     "output_type": "stream",
     "text": [
      "21\n",
      "0.2\n",
      "0\n"
     ]
    }
   ],
   "source": [
    "package main\n",
    "\n",
    "import \"fmt\"\n",
    "\n",
    "const (\n",
    "    // Create a huge number by shifting a 1 bit left 100 places.\n",
    "    // In other words, the binary number that is 1 followed by 100 zeroes.\n",
    "    Big = 1 << 100\n",
    "    // Shift it right again 99 places, so we end up with 1<<1, or 2.\n",
    "    Small = Big >> 99\n",
    "    \n",
    "    // you dont want to do this just bcs it will restrict the value of const\n",
    "    // Big int = 1 << 63\n",
    ")\n",
    "\n",
    "func needInt(x int) int { return x*10 + 1 }\n",
    "func needFloat(x float64) float64 {\n",
    "    return x * 0.1\n",
    "}\n",
    "\n",
    "func main() {\n",
    "    fmt.Println(needInt(Small))\n",
    "    fmt.Println(needFloat(Small))\n",
    "    fmt.Println(needFloat(Big))\n",
    "    \n",
    "    // this will raise an error when converted to int.\n",
    "    //fmt.Println(needInt(Big))\n",
    "}\n",
    "main()"
   ]
  },
  {
   "cell_type": "markdown",
   "metadata": {},
   "source": [
    "# For\n",
    "Go has only one looping construct, the ``for`` loop.\n",
    "\n",
    "The basic ``for`` loop has three components separated by semicolons:\n",
    "\n",
    "    the init statement: executed before the first iteration\n",
    "    the condition expression: evaluated before every iteration\n",
    "    the post statement: executed at the end of every iteration\n",
    "    The init statement will often be a short variable declaration, and the variables declared there are visible only in the scope of the for statement.\n",
    "\n",
    "The loop will stop iterating once the boolean condition evaluates to ``false``.\n",
    "\n",
    "Note: Unlike other languages like C, Java, or JavaScript there are **no parentheses** surrounding the three components of the for statement and the braces ``{ }`` are always required."
   ]
  },
  {
   "cell_type": "code",
   "execution_count": 22,
   "metadata": {},
   "outputs": [
    {
     "name": "stdout",
     "output_type": "stream",
     "text": [
      "90\n"
     ]
    }
   ],
   "source": [
    "package main\n",
    "\n",
    "import \"fmt\"\n",
    "\n",
    "func main() {\n",
    "    sum := 0\n",
    "    for i := 0; i < 10; i++ {\n",
    "        sum += i\n",
    "    }\n",
    "    \n",
    "    for i := 0; i < 10; i++ {\n",
    "        sum += i\n",
    "    }\n",
    "    fmt.Println(sum)\n",
    "}\n",
    "main()"
   ]
  },
  {
   "cell_type": "markdown",
   "metadata": {},
   "source": [
    "# For continued\n",
    "The init and post statements are optional."
   ]
  },
  {
   "cell_type": "code",
   "execution_count": 23,
   "metadata": {},
   "outputs": [
    {
     "name": "stdout",
     "output_type": "stream",
     "text": [
      "1024\n"
     ]
    }
   ],
   "source": [
    "package main\n",
    "\n",
    "import \"fmt\"\n",
    "\n",
    "func main() {\n",
    "    sum := 1\n",
    "    for ; sum < 1000; {\n",
    "        sum += sum\n",
    "    }\n",
    "    fmt.Println(sum)\n",
    "}\n",
    "main()"
   ]
  },
  {
   "cell_type": "markdown",
   "metadata": {},
   "source": [
    "# For is Go's \"while\"\n",
    "At that point you can drop the semicolons: C's ``while`` is spelled ``for`` in Go."
   ]
  },
  {
   "cell_type": "code",
   "execution_count": 24,
   "metadata": {},
   "outputs": [
    {
     "name": "stdout",
     "output_type": "stream",
     "text": [
      "1024\n"
     ]
    }
   ],
   "source": [
    "package main\n",
    "\n",
    "import \"fmt\"\n",
    "\n",
    "func main() {\n",
    "    sum := 1\n",
    "    for sum < 1000 {\n",
    "    sum += sum\n",
    "    }\n",
    "    fmt.Println(sum)\n",
    "}\n",
    "main()"
   ]
  },
  {
   "cell_type": "markdown",
   "metadata": {},
   "source": [
    "# Forever\n",
    "If you omit the loop condition it loops forever, so an infinite loop is compactly expressed."
   ]
  },
  {
   "cell_type": "code",
   "execution_count": 25,
   "metadata": {},
   "outputs": [],
   "source": [
    "package main\n",
    "\n",
    "func main() {\n",
    "    //for {\n",
    "    //}\n",
    "}\n",
    "main()"
   ]
  },
  {
   "cell_type": "markdown",
   "metadata": {},
   "source": [
    "# If\n",
    "Go's if statements are like its for loops; the expression **need not be surrounded by parentheses** ``( )`` but the braces ``{ }`` are required."
   ]
  },
  {
   "cell_type": "code",
   "execution_count": 26,
   "metadata": {},
   "outputs": [
    {
     "name": "stdout",
     "output_type": "stream",
     "text": [
      "1.4142135623730951 2i\n"
     ]
    }
   ],
   "source": [
    "package main\n",
    "\n",
    "import (\n",
    "    \"fmt\"\n",
    "    \"math\"\n",
    ")\n",
    "\n",
    "func sqrt(x float64) string {\n",
    "    if x < 0 {\n",
    "        return sqrt(-x) + \"i\"\n",
    "    }\n",
    "    return fmt.Sprint(math.Sqrt(x))\n",
    "}\n",
    "\n",
    "func main() {\n",
    "    fmt.Println(sqrt(2), sqrt(-4))\n",
    "}\n",
    "main()"
   ]
  },
  {
   "cell_type": "markdown",
   "metadata": {},
   "source": [
    "# If with a short statement\n",
    "Like for, the if statement **can start with a short statement to execute before the condition**.\n",
    "\n",
    "Variables declared by the statement are only in scope until the end of the if.\n",
    "\n",
    "(Try using v in the last return statement.)"
   ]
  },
  {
   "cell_type": "code",
   "execution_count": 27,
   "metadata": {},
   "outputs": [
    {
     "name": "stdout",
     "output_type": "stream",
     "text": [
      "9 20\n"
     ]
    }
   ],
   "source": [
    "package main\n",
    "\n",
    "import (\n",
    "    \"fmt\"\n",
    "    \"math\"\n",
    ")\n",
    "\n",
    "func pow(x, n, lim float64) float64 {\n",
    "    if v := math.Pow(x, n); v < lim {\n",
    "        return v\n",
    "    }\n",
    "    return lim\n",
    "}\n",
    "\n",
    "func main() {\n",
    "    fmt.Println(\n",
    "        pow(3, 2, 10),\n",
    "        pow(3, 3, 20),\n",
    "    )\n",
    "}\n",
    "main()"
   ]
  },
  {
   "cell_type": "markdown",
   "metadata": {},
   "source": [
    "# If and else\n",
    "Variables declared inside an if short statement **are also available inside any of the else** blocks.\n",
    "\n",
    "(Both calls to pow return their results before the call to fmt.Println in main begins.)\n",
    "\n",
    "# If...else if...else\n",
    "**Must** follow the format below, otherwise there will be weird errors.\n",
    "```go\n",
    "if  condition-1 { \n",
    "    // code to be executed if condition-1 is true\n",
    "} else if condition-2 { // you can't start a new line here.\n",
    "    // code to be executed if condition-2 is true\n",
    "} else {\n",
    "    // code to be executed if both condition1 and condition2 are false\n",
    "}\n",
    "```"
   ]
  },
  {
   "cell_type": "code",
   "execution_count": 28,
   "metadata": {},
   "outputs": [
    {
     "name": "stdout",
     "output_type": "stream",
     "text": [
      "27 >= 20\n",
      "9 20\n"
     ]
    }
   ],
   "source": [
    "package main\n",
    "\n",
    "import (\n",
    "    \"fmt\"\n",
    "    \"math\"\n",
    ")\n",
    "\n",
    "func pow(x, n, lim float64) float64 {\n",
    "    if v := math.Pow(x, n); v < lim {\n",
    "        return v\n",
    "    } else {\n",
    "        fmt.Printf(\"%g >= %g\\n\", v, lim)\n",
    "    }\n",
    "    // can't use v here, though\n",
    "    return lim\n",
    "}\n",
    "\n",
    "func main() {\n",
    "    fmt.Println(\n",
    "        pow(3, 2, 10),\n",
    "        pow(3, 3, 20),\n",
    "    )\n",
    "}\n",
    "main()"
   ]
  },
  {
   "cell_type": "markdown",
   "metadata": {},
   "source": [
    "# Switch\n",
    "A ``switch`` statement is a shorter way to write a sequence of ``if - else`` statements. It **runs the first case** whose value is equal to the condition expression. It also supports a short statement before it begins\n",
    "\n",
    "Go's switch is like the one in C, C++, Java, JavaScript, and PHP, except that Go only runs the selected case, not all the cases that follow. In effect, the ``break`` statement that is needed at the end of each case in those languages **is provided automatically in Go**. Another important difference is that **Go's switch cases need not be constants, and the values involved need not be integers**."
   ]
  },
  {
   "cell_type": "code",
   "execution_count": 29,
   "metadata": {},
   "outputs": [
    {
     "name": "stdout",
     "output_type": "stream",
     "text": [
      "Go runs on OS X.\n"
     ]
    }
   ],
   "source": [
    "package main\n",
    "\n",
    "import (\n",
    "    \"fmt\"\n",
    "    \"runtime\"\n",
    ")\n",
    "\n",
    "func main() {\n",
    "    fmt.Print(\"Go runs on \")\n",
    "    switch os := runtime.GOOS; os {\n",
    "    case \"darwin\":\n",
    "        fmt.Println(\"OS X.\")\n",
    "    case \"linux\":\n",
    "        fmt.Println(\"Linux.\")\n",
    "    default:\n",
    "        // freebsd, openbsd,\n",
    "        // plan9, windows...\n",
    "        fmt.Printf(\"%s.\\n\", os)\n",
    "    }\n",
    "}\n",
    "main()"
   ]
  },
  {
   "cell_type": "markdown",
   "metadata": {},
   "source": [
    "## Switch evaluation order\n",
    "Switch cases evaluate cases from top to bottom, stopping when a case succeeds.\n",
    "\n",
    "(For example,\n",
    "```GO\n",
    "switch i {\n",
    "case 0:\n",
    "case f():\n",
    "}\n",
    "```\n",
    "does not call f if i==0.)"
   ]
  },
  {
   "cell_type": "code",
   "execution_count": 30,
   "metadata": {},
   "outputs": [
    {
     "name": "stdout",
     "output_type": "stream",
     "text": [
      "When's Saturday?\n",
      "Too far away.\n"
     ]
    }
   ],
   "source": [
    "package main\n",
    "\n",
    "import (\n",
    "    \"fmt\"\n",
    "    \"time\"\n",
    ")\n",
    "\n",
    "func main() {\n",
    "    fmt.Println(\"When's Saturday?\")\n",
    "    today := time.Now().Weekday()\n",
    "    switch time.Saturday {\n",
    "    case today + 0:\n",
    "    fmt.Println(\"Today.\")\n",
    "    case today + 1:\n",
    "    fmt.Println(\"Tomorrow.\")\n",
    "    case today + 2:\n",
    "    fmt.Println(\"In two days.\")\n",
    "    case today + 3:\n",
    "    fmt.Println(\"In three days.\")\n",
    "    case today + 4:\n",
    "    fmt.Println(\"In four days.\")\n",
    "    default:\n",
    "    fmt.Println(\"Too far away.\")\n",
    "    }\n",
    "}\n",
    "main()"
   ]
  },
  {
   "cell_type": "markdown",
   "metadata": {},
   "source": [
    "# Switch with no condition\n",
    "\n",
    "Switch without a condition is the same as ``switch true``.\n",
    "\n",
    "This construct can be a clean way to write long if-then-else chains. It's basically trying to look for a ``true`` in the conditions below."
   ]
  },
  {
   "cell_type": "code",
   "execution_count": 31,
   "metadata": {},
   "outputs": [
    {
     "name": "stdout",
     "output_type": "stream",
     "text": [
      "Good afternoon.\n"
     ]
    }
   ],
   "source": [
    "package main\n",
    "\n",
    "import (\n",
    "    \"fmt\"\n",
    "    \"time\"\n",
    ")\n",
    "\n",
    "func main() {\n",
    "    t := time.Now()\n",
    "    switch {\n",
    "    case t.Hour() < 12:\n",
    "        fmt.Println(\"Good morning!\")\n",
    "    case t.Hour() < 17:\n",
    "        fmt.Println(\"Good afternoon.\")\n",
    "    default:\n",
    "        fmt.Println(\"Good evening.\")\n",
    "    }\n",
    "}\n",
    "main()"
   ]
  },
  {
   "cell_type": "markdown",
   "metadata": {},
   "source": [
    "# Defer\n",
    "A ``defer`` statement defers the execution of a function **until the surrounding function returns (aka parent func)**.\n",
    "\n",
    "The deferred call's **arguments are evaluated immediately**, but the function call **is not executed until the surrounding function returns**.\n",
    "\n",
    "``defer`` is often used where e.g. ``ensure`` and ``finally`` would be used in other languages.\n",
    "\n",
    "In Go language, multiple defer statements are allowed in the same program and **they are executed in LIFO**."
   ]
  },
  {
   "cell_type": "code",
   "execution_count": 32,
   "metadata": {},
   "outputs": [
    {
     "name": "stdout",
     "output_type": "stream",
     "text": [
      "hello\n",
      "main returned\n",
      "defer until main returned\n"
     ]
    }
   ],
   "source": [
    "package main\n",
    "\n",
    "import \"fmt\"\n",
    "\n",
    "func main() {\n",
    "    defer fmt.Println(\"defer until main returned\")\n",
    "\n",
    "    fmt.Println(\"hello\")\n",
    "    fmt.Println(\"main returned\")\n",
    "}\n",
    "main()\n"
   ]
  },
  {
   "cell_type": "markdown",
   "metadata": {},
   "source": [
    "# Stacking defers\n",
    "Deferred function calls are pushed onto a stack. When a function returns, its deferred calls are executed in last-in-first-out order.\n",
    "\n",
    "To learn more about defer statements read [this blog post](https://blog.golang.org/defer-panic-and-recover)."
   ]
  },
  {
   "cell_type": "code",
   "execution_count": 33,
   "metadata": {},
   "outputs": [
    {
     "name": "stdout",
     "output_type": "stream",
     "text": [
      "counting\n",
      "done\n",
      "9\n",
      "8\n",
      "7\n",
      "6\n",
      "5\n",
      "4\n",
      "3\n",
      "2\n",
      "1\n",
      "0\n"
     ]
    }
   ],
   "source": [
    "package main\n",
    "\n",
    "import \"fmt\"\n",
    "\n",
    "func main() {\n",
    "    fmt.Println(\"counting\")\n",
    "    \n",
    "    // for loop is not a function\n",
    "    for i := 0; i < 10; i++ {\n",
    "        defer fmt.Println(i)\n",
    "    }\n",
    "\n",
    "    fmt.Println(\"done\")\n",
    "}\n",
    "main()"
   ]
  },
  {
   "cell_type": "markdown",
   "metadata": {},
   "source": [
    "# Pointers\n",
    "Go has pointers. A pointer holds the memory address of a value.\n",
    "\n",
    "The type ``*T`` is a pointer to a T value. Its zero value is ``nil``.\n",
    "\n",
    "The ``&`` operator generates a pointer to its operand.\n",
    "```GO\n",
    "var p *int\n",
    "i := 42\n",
    "p = &i\n",
    "```\n",
    "\n",
    "The ``*`` operator denotes the pointer's underlying value.\n",
    "```\n",
    "fmt.Println(*p) // read i through the pointer p\n",
    "*p = 21         // set i through the pointer p\n",
    "```\n",
    "\n",
    "This is known as \"dereferencing\" or \"indirecting\".\n",
    "\n",
    "Unlike C, Go **has no pointer arithmetic**."
   ]
  },
  {
   "cell_type": "code",
   "execution_count": 34,
   "metadata": {},
   "outputs": [
    {
     "name": "stdout",
     "output_type": "stream",
     "text": [
      "42\n",
      "21\n",
      "73\n"
     ]
    }
   ],
   "source": [
    "package main\n",
    "\n",
    "import \"fmt\"\n",
    "\n",
    "func main() {\n",
    "    i, j := 42, 2701\n",
    "\n",
    "    p := &i         // point to i\n",
    "    fmt.Println(*p) // read i through the pointer\n",
    "    *p = 21         // set i through the pointer\n",
    "    fmt.Println(i)  // see the new value of i\n",
    "\n",
    "    p = &j         // point to j\n",
    "    *p = *p / 37   // divide j through the pointer\n",
    "    fmt.Println(j) // see the new value of j\n",
    "}\n",
    "main()"
   ]
  },
  {
   "cell_type": "markdown",
   "metadata": {},
   "source": [
    "# Structs\n",
    "A ``struct`` is a collection of fields.\n",
    "\n",
    "Struct fields are accessed using a dot ``.``."
   ]
  },
  {
   "cell_type": "code",
   "execution_count": 35,
   "metadata": {},
   "outputs": [
    {
     "name": "stdout",
     "output_type": "stream",
     "text": [
      "1 2\n",
      "{1 3}\n",
      "{4 4}\n"
     ]
    }
   ],
   "source": [
    "package main\n",
    "\n",
    "import \"fmt\"\n",
    "\n",
    "type Vertex struct {\n",
    "    X int\n",
    "    Y int\n",
    "}\n",
    "\n",
    "func main() {\n",
    "    a := Vertex{1, 2}\n",
    "    fmt.Println(a.X, a.Y)\n",
    "    \n",
    "    fmt.Println(Vertex{1,3})\n",
    "    \n",
    "    b := Vertex{}\n",
    "    b.X = 4\n",
    "    b.Y = 4\n",
    "    fmt.Println(b)\n",
    "}\n",
    "main()"
   ]
  },
  {
   "cell_type": "markdown",
   "metadata": {},
   "source": [
    "# Pointers to structs\n",
    "Struct fields can be accessed through a struct pointer.\n",
    "\n",
    "To access the field ``X`` of a struct when we have the struct pointer p we could write ``(*p).X``. However, that notation is cumbersome, so the language permits us instead to write just ``p.X``, **without the explicit dereference**. Note here that you can **only assume implicit defreference when accessing a field**."
   ]
  },
  {
   "cell_type": "code",
   "execution_count": 36,
   "metadata": {},
   "outputs": [
    {
     "name": "stdout",
     "output_type": "stream",
     "text": [
      "{1000000000 2}\n",
      "{10 10}\n",
      "&{10 10}\n",
      "{10 10}\n"
     ]
    }
   ],
   "source": [
    "package main\n",
    "\n",
    "import \"fmt\"\n",
    "\n",
    "type Vertex struct {\n",
    "    X int\n",
    "    Y int\n",
    "}\n",
    "\n",
    "func main() {\n",
    "    v := Vertex{1, 2}\n",
    "    p := &v\n",
    "    p.X = 1e9\n",
    "    fmt.Println(v)\n",
    "    \n",
    "    var p2 *Vertex = &v\n",
    "    p2.X = 10\n",
    "    p2.Y = 10\n",
    "    fmt.Println(v)\n",
    "    fmt.Println(p)\n",
    "    fmt.Println(*p)\n",
    "    \n",
    "}\n",
    "main()"
   ]
  },
  {
   "cell_type": "markdown",
   "metadata": {},
   "source": [
    "# Struct Literals\n",
    "A struct literal denotes a newly allocated struct value by listing the values of its fields.\n",
    "\n",
    "You can list just a subset of fields by using the ``Name:`` syntax. (And the order of named fields is irrelevant.)\n",
    "\n",
    "The special prefix `&` returns a pointer to the struct value.\n",
    "\n",
    "## What is Literal\n",
    "a literal is a notation for representing a fixed value in source code.\n",
    "```\n",
    "const num1 = 30; // 30 is a literal\n",
    "const str1 = \"Ambrose\" // Ambrose is a literal\n",
    "```"
   ]
  },
  {
   "cell_type": "code",
   "execution_count": 37,
   "metadata": {},
   "outputs": [
    {
     "name": "stdout",
     "output_type": "stream",
     "text": [
      "{1 2} &{1 2} {1 0} {0 0}\n"
     ]
    }
   ],
   "source": [
    "package main\n",
    "\n",
    "import \"fmt\"\n",
    "\n",
    "type Vertex struct {\n",
    "    X, Y int\n",
    "}\n",
    "\n",
    "var (\n",
    "    v1 = Vertex{1, 2}  // has type Vertex\n",
    "    v2 = Vertex{X: 1}  // Y:0 is implicit\n",
    "    v3 = Vertex{}      // X:0 and Y:0\n",
    "    p  = &Vertex{1, 2} // has type *Vertex\n",
    ")\n",
    "\n",
    "func main() {\n",
    "    fmt.Println(v1, p, v2, v3)\n",
    "}\n",
    "main()"
   ]
  },
  {
   "cell_type": "markdown",
   "metadata": {},
   "source": [
    "# Arrays\n",
    "The type ``[n]T`` is an array of ``n`` values of type `T`. Its length `n` is part of its type ([4]int and [5]int are distinct, incompatible types)\n",
    "\n",
    "The expression\n",
    "```\n",
    "var a [10]int\n",
    "```\n",
    "declares a variable a as an array of ten integers. Arrays do not need to be initialized explicitly; the zero value of an array is a ready-to-use array whose elements are themselves zeroed (like `c` in the example below).\n",
    "\n",
    "An array's length is part of its type, so **arrays cannot be resized**. This seems limiting, but don't worry; Go provides a convenient way of working with arrays. Like C, you **cannot use a variable to set the array size**.\n",
    "\n",
    "The in-memory representation of [4]int is just four integer values laid out sequentially:\n",
    "\n",
    "![arr_mem](https://blog.golang.org/slices-intro/slice-array.png)\n",
    "\n",
    "Go's arrays are values. **An array variable denotes the entire array**; it is **not a pointer to the first array element** (as would be the case in C). This means that **when you assign or pass around an array value you will make a copy of its contents**. (To avoid the copy you could pass a pointer to the array, but then that's a pointer to an array, not an array.) One way to think about arrays is as a sort of struct but with indexed rather than named fields: a fixed-size composite value.\n",
    "\n",
    "An array literal can be specified like so:\n",
    "```\n",
    "b := [2]string{\"Penn\", \"Teller\"}\n",
    "```\n",
    "Or, you can have the compiler count the array elements for you:\n",
    "```\n",
    "b := [...]string{\"Penn\", \"Teller\"}\n",
    "```\n",
    "In both cases, the type of b is [2]string."
   ]
  },
  {
   "cell_type": "code",
   "execution_count": 38,
   "metadata": {},
   "outputs": [
    {
     "name": "stdout",
     "output_type": "stream",
     "text": [
      "Hello World\n",
      "[Hello World]\n",
      "[2 3 5 7 11 13]\n",
      "[0 0 0]\n",
      "[Penn Teller]\n"
     ]
    }
   ],
   "source": [
    "package main\n",
    "\n",
    "import \"fmt\"\n",
    "\n",
    "func main() {\n",
    "    var a [2]string\n",
    "    a[0] = \"Hello\"\n",
    "    a[1] = \"World\"\n",
    "    fmt.Println(a[0], a[1])\n",
    "    fmt.Println(a)\n",
    "\n",
    "    primes := [6]int{2, 3, 5, 7, 11, 13}\n",
    "    fmt.Println(primes)\n",
    "    \n",
    "    //b := 5\n",
    "    //var c [b]string //this is not ok\n",
    "    \n",
    "    var c [3]int\n",
    "    fmt.Println(c)\n",
    "    \n",
    "    d := [...]string{\"Penn\", \"Teller\"}\n",
    "    fmt.Println(d)\n",
    "}\n",
    "main()"
   ]
  },
  {
   "cell_type": "markdown",
   "metadata": {},
   "source": [
    "# Slices\n",
    "An array has a fixed size. A slice, on the other hand, is a dynamically-sized, flexible view into the elements of an array. In practice, slices are much more common than arrays.\n",
    "\n",
    "The type ``[]T`` is a slice with elements of type ``T``.\n",
    "\n",
    "A slice is formed by specifying two indices, a low and high bound, separated by a colon:\n",
    "```go\n",
    "a[low : high]\n",
    "```\n",
    "This selects a half-open range which includes the first element, but excludes the last one.\n",
    "\n",
    "The following expression creates a slice which includes elements 1 through 3 of ``a``:\n",
    "```go\n",
    "a[1:4]\n",
    "```\n",
    "# Slices are like references to arrays\n",
    "**A slice does not store any data**, it just describes a section of an underlying array.\n",
    "\n",
    "Changing the elements of a slice modifies the corresponding elements of its underlying array.\n",
    "\n",
    "Other slices that share the same underlying array will see those changes."
   ]
  },
  {
   "cell_type": "code",
   "execution_count": 39,
   "metadata": {},
   "outputs": [
    {
     "name": "stdout",
     "output_type": "stream",
     "text": [
      "[3 5 7]\n",
      "[5 7 11]\n"
     ]
    }
   ],
   "source": [
    "package main\n",
    "\n",
    "import \"fmt\"\n",
    "\n",
    "func main() {\n",
    "    primes := [6]int{2, 3, 5, 7, 11, 13}\n",
    "\n",
    "    var s []int = primes[1:4]\n",
    "    fmt.Println(s)\n",
    "    \n",
    "    // there's a limit there.\n",
    "    a := primes[2:5]\n",
    "    \n",
    "    // you can't do this, but bcs you know the array size, so this is ok\n",
    "    //a := primes[3:9]\n",
    "    fmt.Println(a)\n",
    "\n",
    "}\n",
    "main()"
   ]
  },
  {
   "cell_type": "code",
   "execution_count": 40,
   "metadata": {},
   "outputs": [
    {
     "name": "stdout",
     "output_type": "stream",
     "text": [
      "[John Paul George Ringo]\n",
      "[John Paul] [Paul George]\n",
      "[John XXX] [XXX George]\n",
      "[John XXX George Ringo]\n"
     ]
    }
   ],
   "source": [
    "package main\n",
    "\n",
    "import \"fmt\"\n",
    "\n",
    "func main() {\n",
    "names := [4]string{\n",
    "    \"John\",\n",
    "    \"Paul\",\n",
    "    \"George\",\n",
    "    \"Ringo\",\n",
    "    }\n",
    "    fmt.Println(names)\n",
    "\n",
    "    a := names[0:2]\n",
    "    b := names[1:3]\n",
    "    fmt.Println(a, b)\n",
    "\n",
    "    b[0] = \"XXX\"\n",
    "    fmt.Println(a, b)\n",
    "    fmt.Println(names)\n",
    "}\n",
    "main()"
   ]
  },
  {
   "cell_type": "markdown",
   "metadata": {},
   "source": [
    "# Slice literals\n",
    "A slice literal is like an array literal without the length.\n",
    "\n",
    "This is an array literal:\n",
    "```\n",
    "[3]bool{true, true, false}\n",
    "```\n",
    "And this creates the same array as above, then builds a slice that references it:\n",
    "```\n",
    "// this returns a slice, rather than an array. It creates an array and then returns a slice pointing to it.\n",
    "[]bool{true, true, false}\n",
    "```"
   ]
  },
  {
   "cell_type": "code",
   "execution_count": 41,
   "metadata": {},
   "outputs": [
    {
     "name": "stdout",
     "output_type": "stream",
     "text": [
      "[2 3 5 7 11 13]\n",
      "[true false true true false true]\n",
      "[{2 true} {3 false} {5 true} {7 true} {11 false} {13 true}]\n"
     ]
    }
   ],
   "source": [
    "package main\n",
    "\n",
    "import \"fmt\"\n",
    "\n",
    "func main() {\n",
    "    q := []int{2, 3, 5, 7, 11, 13}\n",
    "    q1 := q[2:4]\n",
    "    fmt.Println(q)\n",
    "\n",
    "    r := []bool{true, false, true, true, false, true}\n",
    "    fmt.Println(r)\n",
    "\n",
    "    s := []struct {\n",
    "        i int\n",
    "        b bool\n",
    "    }{\n",
    "        {2, true},\n",
    "        {3, false},\n",
    "        {5, true},\n",
    "        {7, true},\n",
    "        {11, false},\n",
    "        {13, true},\n",
    "    }\n",
    "    fmt.Println(s)\n",
    "}\n",
    "main()"
   ]
  },
  {
   "cell_type": "markdown",
   "metadata": {},
   "source": [
    "# Slice defaults\n",
    "When slicing, you may omit the high or low bounds to use their defaults instead.\n",
    "\n",
    "The default is zero for the low bound and the length of the slice for the high bound.\n",
    "\n",
    "For the array\n",
    "```go\n",
    "var a [10]int\n",
    "```\n",
    "these slice expressions are equivalent:\n",
    "```go\n",
    "a[0:10]\n",
    "a[:10]\n",
    "a[0:]\n",
    "a[:]\n",
    "```"
   ]
  },
  {
   "cell_type": "code",
   "execution_count": 42,
   "metadata": {},
   "outputs": [
    {
     "name": "stdout",
     "output_type": "stream",
     "text": [
      "[3 5 7]\n",
      "[3 5]\n",
      "[5]\n"
     ]
    }
   ],
   "source": [
    "package main\n",
    "\n",
    "import \"fmt\"\n",
    "\n",
    "func main() {\n",
    "    s := []int{2, 3, 5, 7, 11, 13}\n",
    "\n",
    "    s = s[1:4]\n",
    "    fmt.Println(s)\n",
    "\n",
    "    s = s[:2]\n",
    "    fmt.Println(s)\n",
    "\n",
    "    s = s[1:]\n",
    "    fmt.Println(s)\n",
    "}\n",
    "main()"
   ]
  },
  {
   "cell_type": "markdown",
   "metadata": {},
   "source": [
    "# Slice length and capacity\n",
    "A slice has both **a length** and **a capacity**.\n",
    "\n",
    "The **length** of a slice is **the number of elements it contains**.\n",
    "\n",
    "The **capacity** of a slice is the number of elements in the underlying array, counting from the first element in the slice.\n",
    "\n",
    "The length and capacity of a slice ``s`` can be obtained using the expressions ``len(s)`` and ``cap(s)``.\n",
    "\n",
    "You can extend a slice's length by re-slicing it, provided it has sufficient capacity. Try changing one of the slice operations in the example program to extend it beyond its capacity and see what happens."
   ]
  },
  {
   "cell_type": "code",
   "execution_count": 43,
   "metadata": {},
   "outputs": [
    {
     "name": "stdout",
     "output_type": "stream",
     "text": [
      "len=6 cap=6 [2 3 5 7 11 13]\n",
      "len=0 cap=6 []\n",
      "len=4 cap=6 [2 3 5 7]\n",
      "len=2 cap=4 [5 7]\n"
     ]
    }
   ],
   "source": [
    "package main\n",
    "\n",
    "import \"fmt\"\n",
    "\n",
    "func main() {\n",
    "    s := []int{2, 3, 5, 7, 11, 13}\n",
    "    printSlice(s)\n",
    "\n",
    "    // Slice the slice to give it zero length.\n",
    "    s = s[:0]\n",
    "    printSlice(s)\n",
    "\n",
    "    // Extend its length.\n",
    "    s = s[:4]\n",
    "    printSlice(s)\n",
    "\n",
    "    // Drop its first two values.\n",
    "    s = s[2:]\n",
    "    printSlice(s)\n",
    "}\n",
    "\n",
    "func printSlice(s []int) {\n",
    "    fmt.Printf(\"len=%d cap=%d %v\\n\", len(s), cap(s), s)\n",
    "}\n",
    "main()"
   ]
  },
  {
   "cell_type": "markdown",
   "metadata": {},
   "source": [
    "# Nil slices\n",
    "The **zero value of a slice** is ``nil``.\n",
    "\n",
    "A **nil slice has a length and capacity of 0** and has no underlying array."
   ]
  },
  {
   "cell_type": "code",
   "execution_count": 44,
   "metadata": {},
   "outputs": [
    {
     "name": "stdout",
     "output_type": "stream",
     "text": [
      "[] 0 0\n",
      "nil!\n"
     ]
    }
   ],
   "source": [
    "package main\n",
    "\n",
    "import \"fmt\"\n",
    "\n",
    "func main() {\n",
    "    var s []int\n",
    "    fmt.Println(s, len(s), cap(s))\n",
    "    if s == nil {\n",
    "        fmt.Println(\"nil!\")\n",
    "    }\n",
    "}\n",
    "main()"
   ]
  },
  {
   "cell_type": "markdown",
   "metadata": {},
   "source": [
    "# Creating a slice with make\n",
    "Slices can be created with the built-in ``make`` function; this is how you create dynamically-sized arrays.\n",
    "\n",
    "The make function allocates a zeroed array and returns a slice that refers to that array:\n",
    "```\n",
    "a := make([]int, 5)  // len(a)=5\n",
    "```\n",
    "To specify a capacity, pass a third argument to make:\n",
    "```\n",
    "b := make([]int, 0, 5) // len(b)=0, cap(b)=5\n",
    "\n",
    "b = b[:cap(b)] // len(b)=5, cap(b)=5\n",
    "b = b[1:]      // len(b)=4, cap(b)=4\n",
    "```"
   ]
  },
  {
   "cell_type": "code",
   "execution_count": 45,
   "metadata": {},
   "outputs": [
    {
     "name": "stdout",
     "output_type": "stream",
     "text": [
      "a len=5 cap=5 [0 0 0 0 0]\n",
      "b len=0 cap=5 []\n",
      "c len=2 cap=5 [0 0]\n",
      "d len=3 cap=3 [0 0 0]\n"
     ]
    }
   ],
   "source": [
    "package main\n",
    "\n",
    "import \"fmt\"\n",
    "\n",
    "func main() {\n",
    "    a := make([]int, 5)\n",
    "    printSlice(\"a\", a)\n",
    "\n",
    "    b := make([]int, 0, 5)\n",
    "    printSlice(\"b\", b)\n",
    "\n",
    "    c := b[:2]\n",
    "    printSlice(\"c\", c)\n",
    "    \n",
    "    // see this is possible bcs c is a slice,you can extend it. It's operating on the underlying array\n",
    "    d := c[2:5]\n",
    "    printSlice(\"d\", d)\n",
    "}\n",
    "\n",
    "func printSlice(s string, x []int) {\n",
    "    fmt.Printf(\"%s len=%d cap=%d %v\\n\",\n",
    "    s, len(x), cap(x), x)\n",
    "}\n",
    "main()"
   ]
  },
  {
   "cell_type": "markdown",
   "metadata": {},
   "source": [
    "# Slice internals\n",
    "A slice is a descriptor of an array segment. It consists of a pointer to the array, the length of the segment, and its capacity (the maximum length of the segment).\n",
    "\n",
    "![slice_internal](https://blog.golang.org/slices-intro/slice-struct.png)\n",
    "\n",
    "A slice by make([]byte, 5), is structured like this:\n",
    "\n",
    "![slice_5](https://blog.golang.org/slices-intro/slice-1.png)\n",
    "\n",
    "The length is the number of elements referred to by the slice. The capacity is the number of elements in the underlying array (**beginning at the element referred to by the slice pointer**). The distinction between length and capacity will be made clear as we walk through the next few examples.\n",
    "\n",
    "As we slice s, observe the changes in the slice data structure and their relation to the underlying array:\n",
    "\n",
    "s = s[2:4]\n",
    "\n",
    "![s_24](https://blog.golang.org/slices-intro/slice-2.png)\n",
    "\n",
    "**Slicing does not copy the slice's data**. It creates a new slice value that points to the original array. This makes slice operations as efficient as manipulating array indices. Therefore, **modifying the elements (not the slice itself) of a re-slice modifies the elements of the original slice**:\n",
    "```go\n",
    "d := []byte{'r', 'o', 'a', 'd'}\n",
    "e := d[2:]\n",
    "// e == []byte{'a', 'd'}\n",
    "e[1] = 'm'\n",
    "// e == []byte{'a', 'm'}\n",
    "// d == []byte{'r', 'o', 'a', 'm'}\n",
    "```\n",
    "Earlier we sliced s to a length shorter than its capacity. We can grow s to its capacity by slicing it again:\n",
    "```go\n",
    "s = s[:cap(s)]\n",
    "```\n",
    "![cap_s](https://blog.golang.org/slices-intro/slice-3.png)\n",
    "A slice cannot be grown beyond its capacity. Attempting to do so will cause a runtime panic, just as when indexing outside the bounds of a slice or array. Similarly, **slices cannot be re-sliced below zero to access earlier elements in the array**."
   ]
  },
  {
   "cell_type": "markdown",
   "metadata": {},
   "source": [
    "# Slices of slices\n",
    "Slices can contain any type, including other slices."
   ]
  },
  {
   "cell_type": "code",
   "execution_count": 46,
   "metadata": {},
   "outputs": [
    {
     "name": "stdout",
     "output_type": "stream",
     "text": [
      "X _ X\n",
      "O _ X\n",
      "_ _ O\n"
     ]
    }
   ],
   "source": [
    "package main\n",
    "\n",
    "import (\n",
    "    \"fmt\"\n",
    "    \"strings\"\n",
    ")\n",
    "\n",
    "func main() {\n",
    "    // Create a tic-tac-toe board.\n",
    "    board := [][]string{\n",
    "        []string{\"_\", \"_\", \"_\"},\n",
    "        []string{\"_\", \"_\", \"_\"},\n",
    "        []string{\"_\", \"_\", \"_\"},\n",
    "    }\n",
    "\n",
    "    // The players take turns.\n",
    "    board[0][0] = \"X\"\n",
    "    board[2][2] = \"O\"\n",
    "    board[1][2] = \"X\"\n",
    "    board[1][0] = \"O\"\n",
    "    board[0][2] = \"X\"\n",
    "\n",
    "    for i := 0; i < len(board); i++ {\n",
    "        fmt.Printf(\"%s\\n\", strings.Join(board[i], \" \"))\n",
    "    }\n",
    "}\n",
    "main()"
   ]
  },
  {
   "cell_type": "markdown",
   "metadata": {},
   "source": [
    "# Growing Slice\n",
    "To increase the capacity of a slice one must create a new, larger slice and copy the contents of the original slice into it. This technique is how dynamic array implementations from other languages work behind the scenes. The next example doubles the capacity of s by making a new slice, t, copying the contents of s into t, and then assigning the slice value t to s:\n",
    "```go\n",
    "s = make([]byte, 5)\n",
    "t := make([]byte, len(s), (cap(s)+1)*2) // +1 in case cap(s) == 0\n",
    "for i := range s {\n",
    "        t[i] = s[i]\n",
    "}\n",
    "s = t\n",
    "```\n",
    "The looping piece of this common operation is made easier by the built-in copy function. As the name suggests, copy copies data from a source slice to a destination slice. It returns the number of elements copied.\n",
    "```go\n",
    "func copy(dst, src []T) int\n",
    "```\n",
    "The copy function supports copying between slices of different lengths (it will copy only up to the smaller number of elements). In addition, copy can handle source and destination slices that share the same underlying array, handling overlapping slices correctly.\n",
    "\n",
    "Using copy, we can simplify the code snippet above:\n",
    "\n",
    "```go\n",
    "t := make([]byte, len(s), (cap(s)+1)*2)\n",
    "copy(t, s)\n",
    "s = t\n",
    "```"
   ]
  },
  {
   "cell_type": "code",
   "execution_count": 47,
   "metadata": {},
   "outputs": [
    {
     "name": "stdout",
     "output_type": "stream",
     "text": [
      "s len=5 cap=5 [1 2 3 4 5]\n",
      "t len=5 cap=12 [0 0 0 0 0]\n",
      "s len=5 cap=12 [1 2 3 4 5]\n",
      "s1 len=5 cap=12 [1 2 3 4 5]\n"
     ]
    }
   ],
   "source": [
    "package main\n",
    "\n",
    "import (\n",
    "    \"fmt\"\n",
    "    \"strings\"\n",
    ")\n",
    "\n",
    "func main() {\n",
    "    // one way of growing a slice into double the size\n",
    "    s := []byte{1, 2, 3, 4, 5}\n",
    "    printSlice(\"s\", s)\n",
    "    t := make([]byte, len(s), (cap(s)+1)*2) // +1 in case cap(s) == 0\n",
    "    printSlice(\"t\", t)\n",
    "    for i := range s {\n",
    "        t[i] = s[i]\n",
    "    }\n",
    "    s = t\n",
    "    printSlice(\"s\", s)\n",
    "    \n",
    "    // a simplified way of growing a slice into double the size\n",
    "    t1 := make([]byte, len(s), (cap(s)+1)*2)\n",
    "    copy(t, s)\n",
    "    s1 := t\n",
    "    printSlice(\"s1\", s1)\n",
    "}\n",
    "\n",
    "func printSlice(name string, x []byte) {\n",
    "    fmt.Printf(\"%s len=%d cap=%d %v\\n\",\n",
    "    name, len(x), cap(x), x)\n",
    "}\n",
    "main()"
   ]
  },
  {
   "cell_type": "markdown",
   "metadata": {},
   "source": [
    "## Append\n",
    "A common operation is to append data to the end of a slice. This function appends byte elements to a slice of bytes, growing the slice if necessary, and returns the updated slice value:\n",
    "```go\n",
    "func AppendByte(slice []byte, data ...byte) []byte {\n",
    "    m := len(slice)\n",
    "    n := m + len(data)\n",
    "    if n > cap(slice) { // if necessary, reallocate\n",
    "        // allocate double what's needed, for future growth.\n",
    "        newSlice := make([]byte, (n+1)*2)\n",
    "        copy(newSlice, slice)\n",
    "        slice = newSlice\n",
    "    }\n",
    "    slice = slice[0:n]\n",
    "    copy(slice[m:n], data)\n",
    "    return slice\n",
    "}\n",
    "```\n",
    "One could use AppendByte like this:\n",
    "```go\n",
    "p := []byte{2, 3, 5}\n",
    "p = AppendByte(p, 7, 11, 13)\n",
    "// p == []byte{2, 3, 5, 7, 11, 13}\n",
    "```\n",
    "Functions like ``AppendByte`` are useful because they offer complete control over the way the slice is grown. Depending on the characteristics of the program, it may be desirable to allocate in smaller or larger chunks, or to put a ceiling on the size of a reallocation.\n",
    "\n",
    "But most programs don't need complete control, so Go provides a built-in ``append`` function that's good for most purposes; it has the signature\n",
    "```go\n",
    "func append(s []T, x ...T) []T\n",
    "```\n",
    "The append function appends the elements x to the end of the slice s, and grows the slice if a greater capacity is needed. **The new array size (aka new cap) is determined by the built-in func**.\n",
    "```go\n",
    "a := make([]int, 1)\n",
    "// a == []int{0}\n",
    "a = append(a, 1, 2, 3)\n",
    "// a == []int{0, 1, 2, 3}\n",
    "```\n",
    "To append one slice to another, use ... to expand the second argument to a list of arguments.\n",
    "```go\n",
    "a := []string{\"John\", \"Paul\"}\n",
    "b := []string{\"George\", \"Ringo\", \"Pete\"}\n",
    "a = append(a, b...) // equivalent to \"append(a, b[0], b[1], b[2])\"\n",
    "// a == []string{\"John\", \"Paul\", \"George\", \"Ringo\", \"Pete\"}\n",
    "```\n",
    "Since the zero value of a slice (nil) acts like a zero-length slice, you can declare a slice variable and then append to it in a loop:\n",
    "```go\n",
    "// Filter returns a new slice holding only\n",
    "// the elements of s that satisfy fn()\n",
    "func Filter(s []int, fn func(int) bool) []int {\n",
    "    var p []int // == nil\n",
    "    for _, v := range s {\n",
    "        if fn(v) {\n",
    "            p = append(p, v)\n",
    "        }\n",
    "    }\n",
    "    return p\n",
    "}\n",
    "```"
   ]
  },
  {
   "cell_type": "code",
   "execution_count": 48,
   "metadata": {},
   "outputs": [
    {
     "name": "stdout",
     "output_type": "stream",
     "text": [
      "Use Naive\n",
      "p len=3 cap=3 [2 3 5]\n",
      "p len=6 cap=14 [2 3 5 7 11 13]\n",
      "Use Built-in Append\n",
      "p len=3 cap=3 [2 3 5]\n",
      "p len=5 cap=6 [2 3 5 7 11]\n",
      "Append Slice to Slice\n",
      "p len=3 cap=3 [2 3 5]\n",
      "p len=5 cap=6 [2 3 5 1 4]\n"
     ]
    }
   ],
   "source": [
    "package main\n",
    "\n",
    "import (\n",
    "    \"fmt\"\n",
    "    \"strings\"\n",
    ")\n",
    "\n",
    "func main() {\n",
    "    // append to a slice using naive approach\n",
    "    fmt.Println(\"Use Naive\")\n",
    "    p := []byte{2, 3, 5}\n",
    "    printSlice(\"p\",p)\n",
    "    p = AppendByte(p, 7, 11, 13)\n",
    "    printSlice(\"p\",p)\n",
    "    \n",
    "    // append to a slice using more advanced\n",
    "    fmt.Println(\"Use Built-in Append\")\n",
    "    p := []byte{2, 3, 5}\n",
    "    printSlice(\"p\",p)\n",
    "    p = append(p, 7, 11)\n",
    "    printSlice(\"p\",p)\n",
    "    \n",
    "    // append a slice to a slice \n",
    "    fmt.Println(\"Append Slice to Slice\")\n",
    "    a := []byte{1,4}\n",
    "    p := []byte{2, 3, 5}\n",
    "    printSlice(\"p\",p)\n",
    "    p = append(p, a...)\n",
    "    printSlice(\"p\",p)\n",
    "}\n",
    "\n",
    "// a naive way of creating append, also double the array size (after_append_size + 1) * 2\n",
    "func AppendByte(slice []byte, data ...byte) []byte {\n",
    "    m := len(slice)\n",
    "    n := m + len(data)\n",
    "    if n > cap(slice) { // if necessary, reallocate\n",
    "        // allocate double what's needed, for future growth.\n",
    "        newSlice := make([]byte, (n+1)*2)\n",
    "        copy(newSlice, slice)\n",
    "        slice = newSlice\n",
    "    }\n",
    "    slice = slice[0:n]\n",
    "    copy(slice[m:n], data)\n",
    "    return slice\n",
    "}\n",
    "\n",
    "func printSlice(name string, x []byte) {\n",
    "    fmt.Printf(\"%s len=%d cap=%d %v\\n\",\n",
    "    name, len(x), cap(x), x)\n",
    "}\n",
    "main()"
   ]
  },
  {
   "cell_type": "markdown",
   "metadata": {},
   "source": [
    "# A possible \"gotcha\"\n",
    "As mentioned earlier, re-slicing a slice doesn't make a copy of the underlying array. **The full array will be kept in memory until it is no longer referenced**. Occasionally this can cause the program to hold all the data in memory when only a small piece of it is needed.\n",
    "\n",
    "To fix this problem one can copy the interesting data using the ``copy`` function to a new slice before returning it. \n",
    "```go\n",
    "func copy(dst, src []Type) int\n",
    "```\n",
    "Copy will **copy the acutal data**. The source and destination may overlap. Copy returns the number of elements copied, which will be the minimum of len(src) and len(dst)."
   ]
  },
  {
   "cell_type": "code",
   "execution_count": 49,
   "metadata": {},
   "outputs": [
    {
     "name": "stdout",
     "output_type": "stream",
     "text": [
      "3\n",
      "[1 2 3 4 5 6 7 8]\n",
      "[1 100 3]\n"
     ]
    }
   ],
   "source": [
    "package main\n",
    "\n",
    "import (\n",
    "    \"fmt\"\n",
    "    \"strings\"\n",
    ")\n",
    "\n",
    "func main(){\n",
    "    var large = []int{1,2,3,4,5,6,7,8}\n",
    "    var a = make([]int,3)\n",
    "    n := copy(a, large)\n",
    "    fmt.Println(n)\n",
    "    a[1] = 100\n",
    "    fmt.Println(large)\n",
    "    fmt.Println(a)\n",
    "}\n",
    "main()"
   ]
  },
  {
   "cell_type": "markdown",
   "metadata": {},
   "source": [
    "# Range\n",
    "The ``range`` form of the ``for`` loop **iterates over a slice or map**.\n",
    "\n",
    "When ranging over a slice, **two values are returned for each iteration**. The first is the index, and the second is a copy of the element at that index."
   ]
  },
  {
   "cell_type": "code",
   "execution_count": 50,
   "metadata": {},
   "outputs": [
    {
     "name": "stdout",
     "output_type": "stream",
     "text": [
      "2**0 = 1\n",
      "2**1 = 2\n",
      "2**2 = 4\n",
      "2**3 = 8\n",
      "2**4 = 16\n",
      "2**5 = 32\n",
      "2**6 = 64\n",
      "2**7 = 128\n"
     ]
    }
   ],
   "source": [
    "package main\n",
    "\n",
    "import \"fmt\"\n",
    "\n",
    "var pow = []int{1, 2, 4, 8, 16, 32, 64, 128}\n",
    "\n",
    "func main() {\n",
    "    for i, v := range pow {\n",
    "        fmt.Printf(\"2**%d = %d\\n\", i, v)\n",
    "    }\n",
    "}\n",
    "main()"
   ]
  },
  {
   "cell_type": "markdown",
   "metadata": {},
   "source": [
    "# Range continued\n",
    "You can skip the index or value by assigning to `_`.\n",
    "```go\n",
    "for i, _ := range pow\n",
    "for _, value := range pow\n",
    "```\n",
    "If you only want the index, you can omit the second variable.\n",
    "```go\n",
    "for i := range pow\n",
    "```\n",
    "This provides a **convenient way to iterate over the slice while changing its value**:\n",
    "```go\n",
    "for i := range pow {\n",
    "        pow[i] = 1 << uint(i) // == 2**i\n",
    "}\n",
    "```"
   ]
  },
  {
   "cell_type": "code",
   "execution_count": 51,
   "metadata": {},
   "outputs": [
    {
     "name": "stdout",
     "output_type": "stream",
     "text": [
      "1\n",
      "2\n",
      "4\n"
     ]
    }
   ],
   "source": [
    "package main\n",
    "\n",
    "import \"fmt\"\n",
    "\n",
    "func main() {\n",
    "    pow := make([]int, 3)\n",
    "    // use index only, such that you can change the value in the actual array.\n",
    "    for i := range pow {\n",
    "        pow[i] = 1 << uint(i) // == 2**i\n",
    "    }\n",
    "    for _, value := range pow {\n",
    "        fmt.Printf(\"%d\\n\", value)\n",
    "    }\n",
    "}\n",
    "main()"
   ]
  },
  {
   "cell_type": "markdown",
   "metadata": {},
   "source": [
    "# Maps\n",
    "A map maps keys to values.\n",
    "\n",
    "The zero value of a map is ``nil``. A ``nil`` map has no keys, nor can keys be added.\n",
    "\n",
    "The ``make`` function returns a map of the given type, initialized and ready for use."
   ]
  },
  {
   "cell_type": "code",
   "execution_count": 52,
   "metadata": {},
   "outputs": [
    {
     "name": "stdout",
     "output_type": "stream",
     "text": [
      "{40.68433 -74.39967} true\n"
     ]
    }
   ],
   "source": [
    "package main\n",
    "\n",
    "import \"fmt\"\n",
    "\n",
    "type Vertex struct {\n",
    "    Lat, Long float64\n",
    "}\n",
    "\n",
    "var m map[string]Vertex\n",
    "\n",
    "func main() {\n",
    "    m = make(map[string]Vertex)\n",
    "    m[\"Bell Labs\"] = Vertex{\n",
    "        40.68433, -74.39967,\n",
    "    }\n",
    "    fmt.Println(m[\"Bell Labs\"])\n",
    "}\n",
    "main()"
   ]
  },
  {
   "cell_type": "markdown",
   "metadata": {},
   "source": [
    "# Map Literals\n",
    "Map literals are like struct literals, but the keys are required.\n",
    "\n",
    "If the top-level type is just a type name, you can omit it from the elements of the literal."
   ]
  },
  {
   "cell_type": "code",
   "execution_count": 53,
   "metadata": {},
   "outputs": [
    {
     "name": "stdout",
     "output_type": "stream",
     "text": [
      "map[Bell Labs:{40.68433 -74.39967} Google:{37.42202 -122.08408}]\n"
     ]
    }
   ],
   "source": [
    "package main\n",
    "\n",
    "import \"fmt\"\n",
    "\n",
    "type Vertex struct {\n",
    "    Lat, Long float64\n",
    "}\n",
    "\n",
    "var m = map[string]Vertex{\n",
    "    \"Bell Labs\": Vertex{\n",
    "        40.68433, -74.39967,\n",
    "    },\n",
    "    \"Google\": Vertex{\n",
    "        37.42202, -122.08408,\n",
    "    },\n",
    "}\n",
    "\n",
    "func main() {\n",
    "    fmt.Println(m)\n",
    "}\n",
    "main()"
   ]
  },
  {
   "cell_type": "code",
   "execution_count": 54,
   "metadata": {},
   "outputs": [],
   "source": [
    "package main\n",
    "\n",
    "import \"fmt\"\n",
    "\n",
    "type Vertex struct {\n",
    "    Lat, Long float64\n",
    "}\n",
    "\n",
    "var m = map[string]Vertex{\n",
    "    \"Bell Labs\": {40.68433, -74.39967},\n",
    "    \"Google\":    {37.42202, -122.08408},\n",
    "}\n",
    "\n",
    "func main() {\n",
    "    fmt.Println(m)\n",
    "}\n"
   ]
  },
  {
   "cell_type": "markdown",
   "metadata": {},
   "source": [
    "# Mutating Maps\n",
    "Insert or update an element in map ``m``:\n",
    "```go\n",
    "m[key] = elem\n",
    "```\n",
    "Retrieve an element:\n",
    "```go\n",
    "elem = m[key]\n",
    "```\n",
    "Delete an element:\n",
    "```go\n",
    "delete(m, key)\n",
    "```\n",
    "Test that a key is present with a two-value assignment:\n",
    "```go\n",
    "elem, ok = m[key]\n",
    "```\n",
    "If ``key`` is in ``m``, ``ok`` is ``true``. If not, ``ok`` is ``false``.\n",
    "\n",
    "If ``key`` is not in the map, then ``elem`` is the zero value for the map's element type.\n",
    "\n",
    "Note: If ``elem`` or ``ok`` have not yet been declared you could use a short declaration form:\n",
    "```go\n",
    "elem, ok := m[key]\n",
    "```"
   ]
  },
  {
   "cell_type": "code",
   "execution_count": 55,
   "metadata": {},
   "outputs": [
    {
     "name": "stdout",
     "output_type": "stream",
     "text": [
      "The value: 42\n",
      "The value: 48\n",
      "The value: 0\n",
      "The value: 0 Present? false\n"
     ]
    }
   ],
   "source": [
    "package main\n",
    "\n",
    "import \"fmt\"\n",
    "\n",
    "func main() {\n",
    "    //both initalization are ok\n",
    "    var m map[string]int\n",
    "    //both are ok\n",
    "    m := make(map[string]int)\n",
    "\n",
    "    m[\"Answer\"] = 42\n",
    "    fmt.Println(\"The value:\", m[\"Answer\"])\n",
    "\n",
    "    m[\"Answer\"] = 48\n",
    "    fmt.Println(\"The value:\", m[\"Answer\"])\n",
    "\n",
    "    delete(m, \"Answer\")\n",
    "    fmt.Println(\"The value:\", m[\"Answer\"])\n",
    "\n",
    "    v, ok := m[\"Answer\"]\n",
    "    fmt.Println(\"The value:\", v, \"Present?\", ok)\n",
    "}\n",
    "main()"
   ]
  },
  {
   "cell_type": "markdown",
   "metadata": {},
   "source": [
    "# Function values\n",
    "Functions are values too. They can be passed around just like other values.\n",
    "\n",
    "Function values may be used as function arguments and return values."
   ]
  },
  {
   "cell_type": "code",
   "execution_count": 56,
   "metadata": {},
   "outputs": [
    {
     "name": "stdout",
     "output_type": "stream",
     "text": [
      "13\n",
      "5\n",
      "81\n"
     ]
    }
   ],
   "source": [
    "package main\n",
    "\n",
    "import (\n",
    "    \"fmt\"\n",
    "    \"math\"\n",
    ")\n",
    "\n",
    "func compute(fn func(float64, float64) float64) float64 {\n",
    "    return fn(3, 4)\n",
    "}\n",
    "\n",
    "func main() {\n",
    "    hypot := func(x, y float64) float64 {\n",
    "        return math.Sqrt(x*x + y*y)\n",
    "    }\n",
    "    fmt.Println(hypot(5, 12))\n",
    "\n",
    "    fmt.Println(compute(hypot))\n",
    "    fmt.Println(compute(math.Pow))\n",
    "}\n",
    "main()"
   ]
  },
  {
   "cell_type": "markdown",
   "metadata": {},
   "source": [
    "# Function closures\n",
    "Go functions may be closures. **A closure is a function value that references variables from outside its body**. The function may access and assign to the referenced variables; in this sense the function is \"bound\" to the variables.\n",
    "\n",
    "For example, the ``adder`` function returns a ``closure``. Each ``closure`` is bound to its own ``sum`` variable."
   ]
  },
  {
   "cell_type": "code",
   "execution_count": 57,
   "metadata": {},
   "outputs": [
    {
     "name": "stdout",
     "output_type": "stream",
     "text": [
      "0 0\n",
      "1 -2\n",
      "3 -6\n",
      "6 -12\n",
      "10 -20\n",
      "15 -30\n",
      "21 -42\n",
      "28 -56\n",
      "36 -72\n",
      "45 -90\n"
     ]
    }
   ],
   "source": [
    "package main\n",
    "\n",
    "import \"fmt\"\n",
    "\n",
    "/* \n",
    "This function adder returns another function, \n",
    "which we define anonymously in the body of adder. \n",
    "The returned function closes over the variable sum to form a closure.\n",
    "*/\n",
    "func adder() func(int) int {\n",
    "    sum := 0\n",
    "    return func(x int) int {\n",
    "        sum += x\n",
    "        return sum\n",
    "    }\n",
    "}\n",
    "\n",
    "/*\n",
    "We call pos, \n",
    "assigning the result (a function) to pos. \n",
    "This function value captures its own sum value, which will be updated each time we call pos.\n",
    "\n",
    "Think about it like this:\n",
    "pos is func, each time we call it, it executes the closure func once and returns what the closure func returns.\n",
    "You also don't have to reassign the new func to adder each time you call it.\n",
    "*/\n",
    "func main() {\n",
    "    pos, neg := adder(), adder()\n",
    "    for i := 0; i < 10; i++ {\n",
    "        fmt.Println(\n",
    "            pos(i),\n",
    "            neg(-2*i),\n",
    "        )\n",
    "    }\n",
    "}\n",
    "main()"
   ]
  },
  {
   "cell_type": "markdown",
   "metadata": {},
   "source": [
    "# Methods\n",
    "Go **does not have classes**. However, you can define methods on types.\n",
    "\n",
    "A method is a function with a special receiver argument.\n",
    "\n",
    "The receiver appears in its own argument list between the func keyword and the method name.\n",
    "\n",
    "In this example, the Abs method has **a receiver of type Vertex named v**.\n",
    "\n",
    "## Methods are functions\n",
    "Remember: **a method is just a function** with a receiver argument.\n",
    "\n",
    "Here's Abs written as a regular function with no change in functionality."
   ]
  },
  {
   "cell_type": "code",
   "execution_count": 58,
   "metadata": {},
   "outputs": [],
   "source": [
    "package main\n",
    "\n",
    "import (\n",
    "    \"fmt\"\n",
    "    \"math\"\n",
    ")\n",
    "\n",
    "type Vertex struct {\n",
    "    X, Y float64\n",
    "}\n",
    "\n",
    "func (b Vertex) Abs() float64 {\n",
    "    return math.Sqrt(b.X*b.X + b.Y*b.Y)\n",
    "}\n",
    "\n",
    "func main() {\n",
    "    v := Vertex{3, 4}\n",
    "    fmt.Println(v.Abs())\n",
    "}"
   ]
  },
  {
   "cell_type": "markdown",
   "metadata": {},
   "source": [
    "# Methods continued\n",
    "You can declare a method on non-struct types, too.\n",
    "\n",
    "In this example we see a numeric type ``MyFloat`` with an ``Abs`` method.\n",
    "\n",
    "You can only declare a method with a receiver whose type is defined in the same package as the method. You **cannot declare a method with a receiver whose type is defined in another package** (which includes the built-in types such as ``int``)."
   ]
  },
  {
   "cell_type": "code",
   "execution_count": 59,
   "metadata": {},
   "outputs": [
    {
     "name": "stdout",
     "output_type": "stream",
     "text": [
      "1.4142135623730951\n"
     ]
    }
   ],
   "source": [
    "package main\n",
    "\n",
    "import (\n",
    "    \"fmt\"\n",
    "    \"math\"\n",
    ")\n",
    "\n",
    "//You cannot declare a method with a receiver whose type is defined in another package \n",
    "//(which includes the built-in types such as int/float)\n",
    "//this is why you redefine it\n",
    "type MyFloat float64\n",
    "\n",
    "func (f MyFloat) Abs() float64 {\n",
    "    if f < 0 {\n",
    "        return float64(-f)\n",
    "    }\n",
    "    return float64(f)\n",
    "}\n",
    "\n",
    "func main() {\n",
    "    f := MyFloat(-math.Sqrt2)\n",
    "    fmt.Println(f.Abs())\n",
    "}\n",
    "main()"
   ]
  },
  {
   "cell_type": "markdown",
   "metadata": {},
   "source": [
    "# Pointer receivers\n",
    "You can declare methods with pointer receivers.\n",
    "\n",
    "This means the receiver type has the literal syntax ``*T`` for some type ``T``. (Also, ``T`` cannot itself be a pointer such as ``*int``.)\n",
    "\n",
    "For example, the ``Scale`` method here is defined on ``*Vertex``.\n",
    "\n",
    "Methods with pointer receivers can modify the value to which the receiver points (as ``Scale`` does here). **Since methods often need to modify their receiver, pointer receivers are more common than value receivers**.\n",
    "\n",
    "Try removing the ``*`` from the declaration of the ``Scale`` function on line 16 and observe how the program's behavior changes.\n",
    "\n",
    "With a value receiver, the ``Scale`` method operates on a copy of the original ``Vertex`` value. (This is the same behavior as for any other function argument.) The ``Scale`` method must have a pointer receiver to change the ``Vertex`` value declared in the main function.\n",
    "\n",
    "## Go Pass by Value\n",
    "Strictly speaking, there is only one way to pass parameters in Go - by value. To modify their receiver, you need the pointer. It will copy the value on each method call. "
   ]
  },
  {
   "cell_type": "code",
   "execution_count": 60,
   "metadata": {},
   "outputs": [
    {
     "name": "stdout",
     "output_type": "stream",
     "text": [
      "50\n"
     ]
    }
   ],
   "source": [
    "package main\n",
    "\n",
    "import (\n",
    "    \"fmt\"\n",
    "    \"math\"\n",
    ")\n",
    "\n",
    "type Vertex struct {\n",
    "    X, Y float64\n",
    "}\n",
    "\n",
    "func (v Vertex) Abs() float64 {\n",
    "    return math.Sqrt(v.X*v.X + v.Y*v.Y)\n",
    "}\n",
    "\n",
    "func (v *Vertex) Scale(f float64) {\n",
    "    v.X = v.X * f\n",
    "    v.Y = v.Y * f\n",
    "}\n",
    "\n",
    "func main() {\n",
    "    v := Vertex{3, 4}\n",
    "    v.Scale(10)\n",
    "    fmt.Println(v.Abs())\n",
    "}\n",
    "main()"
   ]
  },
  {
   "cell_type": "markdown",
   "metadata": {},
   "source": [
    "# Pointers and functions\n",
    "Here we see the ``Abs`` and ``Scale`` methods rewritten as functions.\n",
    "\n",
    "Again, try removing the * from line 16. Can you see why the behavior changes? What else did you need to change for the example to compile?"
   ]
  },
  {
   "cell_type": "code",
   "execution_count": 61,
   "metadata": {},
   "outputs": [
    {
     "name": "stdout",
     "output_type": "stream",
     "text": [
      "50\n"
     ]
    }
   ],
   "source": [
    "package main\n",
    "\n",
    "import (\n",
    "    \"fmt\"\n",
    "    \"math\"\n",
    ")\n",
    "\n",
    "type Vertex struct {\n",
    "    X, Y float64\n",
    "}\n",
    "\n",
    "func Abs(v Vertex) float64 {\n",
    "    return math.Sqrt(v.X*v.X + v.Y*v.Y)\n",
    "}\n",
    "\n",
    "func Scale(v *Vertex, f float64) {\n",
    "    v.X = v.X * f\n",
    "    v.Y = v.Y * f\n",
    "}\n",
    "\n",
    "func main() {\n",
    "    v := Vertex{3, 4}\n",
    "    Scale(&v, 10)\n",
    "    fmt.Println(Abs(v))\n",
    "}\n",
    "main()"
   ]
  },
  {
   "cell_type": "markdown",
   "metadata": {},
   "source": [
    "# Methods and pointer indirection\n",
    "Comparing the previous two programs, you might notice that functions with a pointer argument must take a pointer:\n",
    "```go\n",
    "var v Vertex\n",
    "ScaleFunc(v, 5)  // Compile error!\n",
    "ScaleFunc(&v, 5) // OK\n",
    "```\n",
    "while **methods with pointer receivers take either a value or a pointer as the receiver when they are called**:\n",
    "```go\n",
    "var v Vertex\n",
    "v.Scale(5)  // OK\n",
    "p := &v\n",
    "p.Scale(10) // OK\n",
    "```\n",
    "For the statement ``v.Scale(5)``, even though v is a value and not a pointer, the method with the pointer receiver is called automatically. That is, as a convenience, Go interprets the statement ``v.Scale(5)`` as ``(&v).Scale(5)`` since the ``Scale`` method has a pointer receiver."
   ]
  },
  {
   "cell_type": "code",
   "execution_count": 62,
   "metadata": {},
   "outputs": [
    {
     "name": "stdout",
     "output_type": "stream",
     "text": [
      "{60 80} &{96 72}\n"
     ]
    }
   ],
   "source": [
    "package main\n",
    "\n",
    "import \"fmt\"\n",
    "\n",
    "type Vertex struct {\n",
    "    X, Y float64\n",
    "}\n",
    "\n",
    "func (v *Vertex) Scale(f float64) {\n",
    "    v.X = v.X * f\n",
    "    v.Y = v.Y * f\n",
    "}\n",
    "\n",
    "func ScaleFunc(v *Vertex, f float64) {\n",
    "    v.X = v.X * f\n",
    "    v.Y = v.Y * f\n",
    "}\n",
    "\n",
    "func main() {\n",
    "    v := Vertex{3, 4}\n",
    "    v.Scale(2)\n",
    "    ScaleFunc(&v, 10)\n",
    "\n",
    "    p := &Vertex{4, 3}\n",
    "    p.Scale(3)\n",
    "    ScaleFunc(p, 8)\n",
    "\n",
    "    fmt.Println(v, p)\n",
    "}\n",
    "main()"
   ]
  },
  {
   "cell_type": "markdown",
   "metadata": {},
   "source": [
    "# Choosing a value or pointer receiver\n",
    "There are two reasons to use a pointer receiver.\n",
    "\n",
    "The first is so that the method can modify the value that its receiver points to.\n",
    "\n",
    "The second is to avoid copying the value on each method call. This can be more efficient if the receiver is a large struct, for example.\n",
    "\n",
    "In this example, both ``Scale`` and ``Abs`` are with receiver type ``*Vertex``, even though the ``Abs`` method needn't modify its receiver.\n",
    "\n",
    "In general, all methods on a given type should have either value or pointer receivers, but not a mixture of both. (We'll see why over the next few pages.)"
   ]
  },
  {
   "cell_type": "code",
   "execution_count": 63,
   "metadata": {},
   "outputs": [
    {
     "name": "stdout",
     "output_type": "stream",
     "text": [
      "Before scaling: &{X:3 Y:4}, Abs: 5\n",
      "After scaling: &{X:15 Y:20}, Abs: 25\n"
     ]
    }
   ],
   "source": [
    "package main\n",
    "\n",
    "import (\n",
    "    \"fmt\"\n",
    "    \"math\"\n",
    ")\n",
    "\n",
    "type Vertex struct {\n",
    "    X, Y float64\n",
    "}\n",
    "\n",
    "func (v *Vertex) Scale(f float64) {\n",
    "    v.X = v.X * f\n",
    "    v.Y = v.Y * f\n",
    "}\n",
    "\n",
    "func (v *Vertex) Abs() float64 {\n",
    "    return math.Sqrt(v.X*v.X + v.Y*v.Y)\n",
    "}\n",
    "\n",
    "func main() {\n",
    "    v := &Vertex{3, 4}\n",
    "    fmt.Printf(\"Before scaling: %+v, Abs: %v\\n\", v, v.Abs())\n",
    "    v.Scale(5)\n",
    "    fmt.Printf(\"After scaling: %+v, Abs: %v\\n\", v, v.Abs())\n",
    "}\n",
    "main()"
   ]
  },
  {
   "cell_type": "markdown",
   "metadata": {},
   "source": [
    "# Interfaces\n",
    "An interface type is defined as **a set of method signatures**.\n",
    "\n",
    "A value of interface type can hold any value that implements those methods. It will **convert the value to the interface**. As you can see, a is defined as ``Abser`` and f,v are of other types. When you assign f/v to a, Go will convert it to interface ``a`` for you.\n",
    "\n",
    "Note: There is an error in the example code on line 22. ``Vertex`` (the value type) doesn't implement ``Abser`` because the ``Abs`` method is defined only on ``*Vertex`` (the pointer type)."
   ]
  },
  {
   "cell_type": "code",
   "execution_count": 64,
   "metadata": {},
   "outputs": [
    {
     "name": "stdout",
     "output_type": "stream",
     "text": [
      "1.4142135623730951\n",
      "5\n"
     ]
    }
   ],
   "source": [
    "package main\n",
    "\n",
    "import (\n",
    "    \"fmt\"\n",
    "    \"math\"\n",
    ")\n",
    "\n",
    "type Abser interface {\n",
    "    Abs() float64\n",
    "}\n",
    "\n",
    "func main() {\n",
    "    var a Abser\n",
    "    f := MyFloat(-math.Sqrt2)\n",
    "    v := Vertex{3, 4}\n",
    "\n",
    "    a = f  // a MyFloat implements Abser\n",
    "    fmt.Println(a.Abs())\n",
    "    \n",
    "    a = &v // a *Vertex implements Abser\n",
    "    fmt.Println(a.Abs())\n",
    "    \n",
    "    // In the following line, v is a Vertex (not *Vertex)\n",
    "    // and does NOT implement Abser.\n",
    "    // a = v\n",
    "}\n",
    "\n",
    "type MyFloat float64\n",
    "\n",
    "func (f MyFloat) Abs() float64 {\n",
    "    if f < 0 {\n",
    "        return float64(-f)\n",
    "    }\n",
    "    return float64(f)\n",
    "}\n",
    "\n",
    "type Vertex struct {\n",
    "    X, Y float64\n",
    "}\n",
    "\n",
    "func (v *Vertex) Abs() float64 {\n",
    "    return math.Sqrt(v.X*v.X + v.Y*v.Y)\n",
    "}\n",
    "main()"
   ]
  },
  {
   "cell_type": "markdown",
   "metadata": {},
   "source": [
    "# Interfaces are implemented implicitly\n",
    "A type implements an interface by implementing its methods. There is no explicit declaration of intent, **no \"implements\" keyword**.\n",
    "\n",
    "Implicit interfaces decouple the definition of an interface from its implementation, which could then appear in any package without prearrangement."
   ]
  },
  {
   "cell_type": "code",
   "execution_count": 65,
   "metadata": {},
   "outputs": [
    {
     "name": "stdout",
     "output_type": "stream",
     "text": [
      "hello\n"
     ]
    }
   ],
   "source": [
    "package main\n",
    "\n",
    "import \"fmt\"\n",
    "\n",
    "type I interface {\n",
    "    M()\n",
    "}\n",
    "\n",
    "type T struct {\n",
    "    S string\n",
    "}\n",
    "\n",
    "// This method means type T implements the interface I,\n",
    "// but we don't need to explicitly declare that it does so.\n",
    "func (t T) M() {\n",
    "    fmt.Println(t.S)\n",
    "}\n",
    "\n",
    "func main() {\n",
    "    var i I = T{\"hello\"}\n",
    "    i.M()\n",
    "}\n",
    "main()"
   ]
  },
  {
   "cell_type": "markdown",
   "metadata": {},
   "source": [
    "# Interface values\n",
    "Under the hood, interface values can be thought of as a tuple of a value and a concrete type:\n",
    "```\n",
    "(value, type)\n",
    "```\n",
    "An interface value holds a value of a specific underlying concrete type.\n",
    "\n",
    "Calling a method on an interface value executes the method of the same name on its underlying type."
   ]
  },
  {
   "cell_type": "code",
   "execution_count": 66,
   "metadata": {},
   "outputs": [
    {
     "name": "stdout",
     "output_type": "stream",
     "text": [
      "(&{{{0xc00009d180 0xc000ab7748 406} 0x48ef5c0} 0x40b7150}, *struct { 𒀪 xreflect.InterfaceHeader; M func() })\n",
      "Hello\n",
      "(&{{{0x4e78c20 0xc0004144c8 142} 0x48ef5c0} 0x40b7150}, *struct { 𒀪 xreflect.InterfaceHeader; M func() })\n",
      "3.141592653589793\n"
     ]
    }
   ],
   "source": [
    "package main\n",
    "\n",
    "import (\n",
    "    \"fmt\"\n",
    "    \"math\"\n",
    ")\n",
    "\n",
    "type I interface {\n",
    "    M()\n",
    "}\n",
    "\n",
    "type T struct {\n",
    "    S string\n",
    "}\n",
    "\n",
    "func (t *T) M() {\n",
    "    fmt.Println(t.S)\n",
    "}\n",
    "\n",
    "type F float64\n",
    "\n",
    "func (f F) M() {\n",
    "    fmt.Println(f)\n",
    "}\n",
    "\n",
    "func main() {\n",
    "    var i I\n",
    "        // the following code would not compile in jupyter, but is legit\n",
    "        // you might want to do it by first use t = T; i = T to force the conversion\n",
    "//     i = &T{\"Hello\"}\n",
    "//     describe(i)\n",
    "//     i.M()\n",
    "    \n",
    "//     // repl.go:33:5: error compiling assignment: i = F(math.Pi)\n",
    "//     i = F(math.Pi)\n",
    "//     describe(i)\n",
    "//     i.M()\n",
    "    \n",
    "    t := &T{\"Hello\"}\n",
    "    i = t\n",
    "    describe(i)\n",
    "    i.M()\n",
    "    \n",
    "//     // repl.go:33:5: error compiling assignment: i = F(math.Pi)\n",
    "    f := F(math.Pi)\n",
    "    i = f\n",
    "    describe(i)\n",
    "    i.M()\n",
    "}\n",
    "\n",
    "func describe(i I) {\n",
    "    fmt.Printf(\"(%v, %T)\\n\", i, i)\n",
    "}\n",
    "main()"
   ]
  },
  {
   "cell_type": "markdown",
   "metadata": {},
   "source": [
    "# Interface values with nil underlying values\n",
    "If the concrete value inside the interface itself is nil, the method will be called with a nil receiver.\n",
    "\n",
    "In some languages this would trigger a null pointer exception, but in Go it is common to write methods that gracefully handle being called with a nil receiver (as with the method ``M`` in this example.)\n",
    "\n",
    "Note that an interface value that holds a nil concrete value is itself non-nil."
   ]
  },
  {
   "cell_type": "code",
   "execution_count": 67,
   "metadata": {},
   "outputs": [
    {
     "name": "stdout",
     "output_type": "stream",
     "text": [
      "(&{{{0xc00009d180 0xc000ab7c30 406} 0x48ef5c0} 0x40b7150}, *struct { 𒀪 xreflect.InterfaceHeader; M func() })\n",
      "<nil>\n",
      "(&{{{0xc00009d180 0xc0007b3680 22} 0x48ef5c0} 0x40b7150}, *struct { 𒀪 xreflect.InterfaceHeader; M func() })\n",
      "hello\n"
     ]
    }
   ],
   "source": [
    "package main\n",
    "\n",
    "import \"fmt\"\n",
    "\n",
    "type I interface {\n",
    "    M()\n",
    "}\n",
    "\n",
    "type T struct {\n",
    "    S string\n",
    "}\n",
    "\n",
    "func (t *T) M() {\n",
    "    if t == nil {\n",
    "        fmt.Println(\"<nil>\")\n",
    "        return\n",
    "    }\n",
    "    fmt.Println(t.S)\n",
    "}\n",
    "\n",
    "func main() {\n",
    "    var i I\n",
    "\n",
    "    var t *T\n",
    "    i = t\n",
    "    describe(i)\n",
    "    i.M()\n",
    "\n",
    "    i = &T{\"hello\"}\n",
    "    describe(i)\n",
    "    i.M()\n",
    "}\n",
    "\n",
    "func describe(i I) {\n",
    "    fmt.Printf(\"(%v, %T)\\n\", i, i)\n",
    "}\n",
    "main()"
   ]
  },
  {
   "cell_type": "markdown",
   "metadata": {},
   "source": [
    "# Nil interface values\n",
    "A nil interface value holds neither value nor concrete type.\n",
    "\n",
    "Calling a method on a nil interface is a run-time error because there is no type inside the interface tuple to indicate which concrete method to call."
   ]
  },
  {
   "cell_type": "code",
   "execution_count": 68,
   "metadata": {},
   "outputs": [
    {
     "name": "stdout",
     "output_type": "stream",
     "text": [
      "(<nil>, *struct { 𒀪 xreflect.InterfaceHeader; M func() })\n"
     ]
    },
    {
     "ename": "ERROR",
     "evalue": "reflect: call of reflect.Value.Field on zero Value",
     "output_type": "error",
     "traceback": [
      "reflect: call of reflect.Value.Field on zero Value"
     ]
    }
   ],
   "source": [
    "package main\n",
    "\n",
    "import \"fmt\"\n",
    "\n",
    "type I interface {\n",
    "    M()\n",
    "}\n",
    "\n",
    "func main() {\n",
    "    var i I\n",
    "    describe(i)\n",
    "    i.M()\n",
    "}\n",
    "\n",
    "func describe(i I) {\n",
    "    fmt.Printf(\"(%v, %T)\\n\", i, i)\n",
    "}\n",
    "main()"
   ]
  },
  {
   "cell_type": "markdown",
   "metadata": {},
   "source": [
    "# The empty interface\n",
    "The interface type that specifies zero methods is known as the empty interface:\n",
    "```\n",
    "interface{}\n",
    "```\n",
    "**An empty interface may hold values of any type**. (Every type implements at least zero methods.)\n",
    "\n",
    "Empty interfaces are used by code that handles values of unknown type. For example, ``fmt.Print`` takes any number of arguments of type ``interface{}``."
   ]
  },
  {
   "cell_type": "code",
   "execution_count": 69,
   "metadata": {},
   "outputs": [
    {
     "name": "stdout",
     "output_type": "stream",
     "text": [
      "(<nil>, <nil>)\n",
      "(42, int)\n",
      "(hello, string)\n"
     ]
    }
   ],
   "source": [
    "package main\n",
    "\n",
    "import \"fmt\"\n",
    "\n",
    "func main() {\n",
    "    var i interface{}\n",
    "    describe(i)\n",
    "\n",
    "    i = 42\n",
    "    describe(i)\n",
    "\n",
    "    i = \"hello\"\n",
    "    describe(i)\n",
    "}\n",
    "\n",
    "func describe(i interface{}) {\n",
    "    fmt.Printf(\"(%v, %T)\\n\", i, i)\n",
    "}\n",
    "\n",
    "main()"
   ]
  },
  {
   "cell_type": "markdown",
   "metadata": {},
   "source": [
    "# Type assertions\n",
    "A ``type assertion`` provides access to an interface value's underlying concrete value.\n",
    "```\n",
    "t := i.(T)\n",
    "```\n",
    "This statement asserts that the interface value ``i`` holds the concrete type ``T`` and assigns the underlying ``T`` value to the variable ``t``.\n",
    "\n",
    "If ``i`` does not hold a ``T``, the statement will trigger a panic.\n",
    "\n",
    "To test whether an interface value holds a specific type, a type assertion can return two values: the underlying value and a boolean value that reports whether the assertion succeeded.\n",
    "```\n",
    "t, ok := i.(T)\n",
    "```\n",
    "If ``i`` holds a ``T``, then ``t`` will be the underlying value and ``ok`` will be true.\n",
    "\n",
    "If not, ``ok`` will be false and `t` will be the zero value of type T, and no panic occurs.\n",
    "\n",
    "Note the similarity between this syntax and that of reading from a map."
   ]
  },
  {
   "cell_type": "code",
   "execution_count": 70,
   "metadata": {},
   "outputs": [
    {
     "name": "stdout",
     "output_type": "stream",
     "text": [
      "hello\n",
      "hello true\n",
      "0 false\n"
     ]
    }
   ],
   "source": [
    "package main\n",
    "\n",
    "import \"fmt\"\n",
    "\n",
    "func main() {\n",
    "    var i interface{} = \"hello\"\n",
    "    // convert i to type string, as i is an interface.\n",
    "    s := i.(string)\n",
    "    fmt.Println(s)\n",
    "\n",
    "    s, ok := i.(string)\n",
    "    fmt.Println(s, ok)\n",
    "\n",
    "    f, ok := i.(float64)\n",
    "    fmt.Println(f, ok)\n",
    "    \n",
    "    //panic\n",
    "    //f = i.(float64)\n",
    "    //fmt.Println(f)\n",
    "}\n",
    "main()"
   ]
  },
  {
   "cell_type": "markdown",
   "metadata": {},
   "source": [
    "# Type switches\n",
    "A type ``switch`` is a construct that permits several type assertions in series.\n",
    "\n",
    "A type switch is like a regular switch statement, but the cases in a type switch specify types (not values), and those values are compared against the type of the value held by the given interface value.\n",
    "```go\n",
    "switch v := i.(type) {\n",
    "case T:\n",
    "    // here v has type T\n",
    "case S:\n",
    "    // here v has type S\n",
    "default:\n",
    "    // no match; here v has the same type as i\n",
    "}\n",
    "```\n",
    "The declaration in a type switch has the same syntax as a type assertion ``i.(T)``, but the specific type ``T`` is replaced with the keyword ``type``.\n",
    "\n",
    "This switch statement tests whether the interface value `i` holds a value of type `T` or `S`. In each of the `T` and `S` cases, the variable `v` will be of type `T` or `S` respectively and hold the value held by `i`. In the default case (where there is no match), the variable `v` is of the same interface type and value as `i`."
   ]
  },
  {
   "cell_type": "code",
   "execution_count": 71,
   "metadata": {},
   "outputs": [],
   "source": [
    "package main\n",
    "\n",
    "import \"fmt\"\n",
    "\n",
    "func do(i interface{}) {\n",
    "    // instead of a concret type, use ``type`` keyword\n",
    "    switch v := i.(type) {\n",
    "    case int:\n",
    "        fmt.Printf(\"Twice %v is %v\\n\", v, v*2)\n",
    "    case string:\n",
    "        fmt.Printf(\"%q is %v bytes long\\n\", v, len(v))\n",
    "    default:\n",
    "        fmt.Printf(\"I don't know about type %T!\\n\", v)\n",
    "    }\n",
    "}\n",
    "\n",
    "func main() {\n",
    "    do(21)\n",
    "    do(\"hello\")\n",
    "    do(true)\n",
    "}\n"
   ]
  },
  {
   "cell_type": "markdown",
   "metadata": {},
   "source": [
    "# Stringers\n",
    "One of the most ubiquitous interfaces is ``Stringer`` defined by the ``fmt`` package.\n",
    "```go\n",
    "type Stringer interface {\n",
    "    String() string\n",
    "}\n",
    "```\n",
    "A Stringer is a type that can describe itself as a string. The fmt package (and many others) look for this interface to print values."
   ]
  },
  {
   "cell_type": "code",
   "execution_count": 72,
   "metadata": {},
   "outputs": [],
   "source": [
    "package main\n",
    "\n",
    "import \"fmt\"\n",
    "\n",
    "type Person struct {\n",
    "    Name string\n",
    "    Age  int\n",
    "}\n",
    "\n",
    "type Person2 struct {\n",
    "    Name string\n",
    "    Age  int\n",
    "}\n",
    "\n",
    "// this is how you format print a struct\n",
    "func (p Person) String() string {\n",
    "    return fmt.Sprintf(\"%v - (%v years)\", p.Name, p.Age)\n",
    "}\n",
    "\n",
    "func main() {\n",
    "    a := Person{\"Arthur Dent\", 42}\n",
    "    z := Person{\"Zaphod Beeblebrox\", 9001}\n",
    "    fmt.Println(a, z)\n",
    "    \n",
    "    b := Person2{\"Arthur Dent\", 42}\n",
    "    fmt.Println(b)\n",
    "}\n",
    "// The output:\n",
    "/*\n",
    "Arthur Dent - (42 years) Zaphod Beeblebrox - (9001 years)\n",
    "{Arthur Dent 42}\n",
    "*/\n"
   ]
  },
  {
   "cell_type": "markdown",
   "metadata": {},
   "source": [
    "# Errors\n",
    "Go programs express error state with ``error`` values.\n",
    "\n",
    "The `error` type is a **built-in interface** similar to `fmt.Stringer`:\n",
    "```\n",
    "type error interface {\n",
    "    Error() string\n",
    "}\n",
    "```\n",
    "(As with `fmt.Stringer`, the `fmt` package looks for the `error` interface when printing values.)\n",
    "\n",
    "Functions often return an `error` value, and calling code should handle errors by testing whether the error equals `nil`.\n",
    "```go\n",
    "i, err := strconv.Atoi(\"42\")\n",
    "if err != nil {\n",
    "    fmt.Printf(\"couldn't convert number: %v\\n\", err)\n",
    "    return\n",
    "}\n",
    "fmt.Println(\"Converted integer:\", i)\n",
    "```\n",
    "A nil `error` denotes success; a non-nil `error` denotes failure."
   ]
  },
  {
   "cell_type": "code",
   "execution_count": 73,
   "metadata": {},
   "outputs": [
    {
     "ename": "ERROR",
     "evalue": "repl.go:19:12: cannot convert type <*main.MyError> to interface <error>: missing method  Error",
     "output_type": "error",
     "traceback": [
      "repl.go:19:12: cannot convert type <*main.MyError> to interface <error>: missing method  Error"
     ]
    }
   ],
   "source": [
    "package main\n",
    "\n",
    "import (\n",
    "    \"fmt\"\n",
    "    \"time\"\n",
    ")\n",
    "\n",
    "type MyError struct {\n",
    "    When time.Time\n",
    "    What string\n",
    "}\n",
    "\n",
    "func (e *MyError) Error() string {\n",
    "    return fmt.Sprintf(\"at %v, %s\",\n",
    "        e.When, e.What)\n",
    "}\n",
    "\n",
    "func run() error {\n",
    "    return &MyError{\n",
    "        time.Now(),\n",
    "        \"it didn't work\",\n",
    "    }\n",
    "}\n",
    "\n",
    "func main() {\n",
    "    if err := run(); err != nil {\n",
    "        fmt.Println(err)\n",
    "    }\n",
    "}\n",
    "//output:\n",
    "//at 2009-11-10 23:00:00 +0000 UTC m=+0.000000001, it didn't work\n"
   ]
  },
  {
   "cell_type": "markdown",
   "metadata": {},
   "source": [
    "It’s possible to use **custom types as errors by implementing the Error() method on them**. Here’s a variant on the example above that uses a custom type to explicitly represent an argument error."
   ]
  },
  {
   "cell_type": "code",
   "execution_count": 74,
   "metadata": {},
   "outputs": [],
   "source": [
    "package main\n",
    "\n",
    "import (\n",
    "    \"fmt\"\n",
    "    \"math\"\n",
    ")\n",
    "\n",
    "type ErrNegativeSqrt float64\n",
    "\n",
    "func (e ErrNegativeSqrt) Error() string {\n",
    "    return fmt.Sprintf(\"Can't Sqrt negative number: %f\", float64(e))\n",
    "}\n",
    "\n",
    "func Sqrt(x float64) (float64, error) {\n",
    "    if x < 0 {\n",
    "        return 0, ErrNegativeSqrt(x)\n",
    "    }\n",
    "\n",
    "    return math.Sqrt(x), nil\n",
    "}\n",
    "\n",
    "func main() {\n",
    "    fmt.Println(Sqrt(2))\n",
    "    fmt.Println(Sqrt(-2))\n",
    "}\n",
    "\n",
    "// output:\n",
    "// 1.4142135623730951 <nil>\n",
    "// 0 Can't Sqrt negative number: -2.000000"
   ]
  },
  {
   "cell_type": "markdown",
   "metadata": {},
   "source": [
    "# Readers\n",
    "The ``io`` package specifies the ``io.Reader interface``, which represents the read end of a stream of data.\n",
    "\n",
    "The Go standard library contains [many implementations](https://golang.org/search?q=Read#Global) of these interfaces, including files, network connections, compressors, ciphers, and others.\n",
    "\n",
    "The ``io.Reader`` interface has a ``Read`` method:\n",
    "```\n",
    "func (T) Read(b []byte) (n int, err error)\n",
    "```\n",
    "``Read`` populates the given byte slice with data and returns the number of bytes populated and an error value. It returns an ``io.EOF`` error when the stream ends.\n",
    "\n",
    "The example code creates a ``strings.Reader`` and consumes its output 8 bytes at a time."
   ]
  },
  {
   "cell_type": "code",
   "execution_count": 75,
   "metadata": {},
   "outputs": [
    {
     "name": "stdout",
     "output_type": "stream",
     "text": [
      "n = 8 err = <nil> b = [72 101 108 108 111 44 32 82]\n",
      "b[:n] = \"Hello, R\"\n",
      "n = 6 err = <nil> b = [101 97 100 101 114 33 32 82]\n",
      "b[:n] = \"eader!\"\n",
      "n = 0 err = EOF b = [101 97 100 101 114 33 32 82]\n",
      "b[:n] = \"\"\n"
     ]
    }
   ],
   "source": [
    "package main\n",
    "\n",
    "import (\n",
    "    \"fmt\"\n",
    "    \"io\"\n",
    "    \"strings\"\n",
    ")\n",
    "\n",
    "func main() {\n",
    "    r := strings.NewReader(\"Hello, Reader!\")\n",
    "\n",
    "    b := make([]byte, 8)\n",
    "    for {\n",
    "        n, err := r.Read(b)\n",
    "        fmt.Printf(\"n = %v err = %v b = %v\\n\", n, err, b)\n",
    "        fmt.Printf(\"b[:n] = %q\\n\", b[:n])\n",
    "        if err == io.EOF {\n",
    "            break\n",
    "        }\n",
    "    }\n",
    "}\n",
    "main()"
   ]
  },
  {
   "cell_type": "markdown",
   "metadata": {},
   "source": [
    "# Images\n",
    "[Package image](https://golang.org/pkg/image/#Image) defines the ``Image`` interface:\n",
    "```go\n",
    "package image\n",
    "\n",
    "type Image interface {\n",
    "    ColorModel() color.Model\n",
    "    Bounds() Rectangle\n",
    "    At(x, y int) color.Color\n",
    "}\n",
    "```\n",
    "Note: the ``Rectangle`` return value of the ``Bounds`` method is actually an ``image.Rectangle``, as the declaration is inside package ``image``.\n",
    "\n",
    "(See [the documentation](https://golang.org/pkg/image/#Image) for all the details.)\n",
    "\n",
    "The ``color.Color`` and ``color.Model`` types are also interfaces, but we'll ignore that by using the predefined implementations ``color.RGBA`` and ``color.RGBAModel``. These interfaces and types are specified by the [image/color package](https://golang.org/pkg/image/color/)"
   ]
  },
  {
   "cell_type": "code",
   "execution_count": 76,
   "metadata": {},
   "outputs": [
    {
     "name": "stdout",
     "output_type": "stream",
     "text": [
      "(0,0)-(100,100)\n",
      "0 0 0 0\n"
     ]
    }
   ],
   "source": [
    "package main\n",
    "\n",
    "import (\n",
    "    \"fmt\"\n",
    "    \"image\"\n",
    ")\n",
    "\n",
    "func main() {\n",
    "    m := image.NewRGBA(image.Rect(0, 0, 100, 100))\n",
    "    fmt.Println(m.Bounds())\n",
    "    fmt.Println(m.At(0, 0).RGBA())\n",
    "}\n",
    "main()"
   ]
  },
  {
   "cell_type": "markdown",
   "metadata": {},
   "source": [
    "# Goroutines\n",
    "A `goroutine` is a lightweight thread managed by the Go runtime.\n",
    "```\n",
    "go f(x, y, z)\n",
    "```\n",
    "starts a new goroutine running\n",
    "```\n",
    "f(x, y, z)\n",
    "```\n",
    "The **evaluation of f, x, y, and z happens in the current goroutine** and the execution of f happens **in the new goroutine**.\n",
    "\n",
    "Goroutines run in the same address space, so access to shared memory must be synchronized. The ``sync`` package provides useful primitives, although you won't need them much in Go as there are other primitives."
   ]
  },
  {
   "cell_type": "markdown",
   "metadata": {},
   "source": [
    "# Channels\n",
    "Channels are a typed conduit (tube) through which you can send and receive values with the channel operator, ``<-``.\n",
    "\n",
    "```go\n",
    "ch <- v    // Send v to channel ch.\n",
    "v := <-ch  // Receive from ch, and\n",
    "           // assign value to v.\n",
    "```\n",
    "(The data flows in the direction of the arrow.)\n",
    "\n",
    "Like maps and slices, channels must be created before use:\n",
    "```go\n",
    "ch := make(chan int)\n",
    "```\n",
    "By default, **sends and receives block until the other side is ready**. What does this mean? When a data is sent to a channel, the control is blocked in the send statement until some other Goroutine reads from that channel. This allows goroutines to synchronize without explicit locks or condition variables. \n",
    "\n",
    "The example code sums the numbers in a slice, distributing the work between two goroutines. Once both goroutines have completed their computation, it calculates the final result."
   ]
  },
  {
   "cell_type": "code",
   "execution_count": 15,
   "metadata": {},
   "outputs": [
    {
     "name": "stdout",
     "output_type": "stream",
     "text": [
      "-5 17 12\n"
     ]
    }
   ],
   "source": [
    "package main\n",
    "\n",
    "import \"fmt\"\n",
    "\n",
    "func sum(s []int, c chan int) {\n",
    "    sum := 0\n",
    "    for _, v := range s {\n",
    "        sum += v\n",
    "    }\n",
    "    // this is sender\n",
    "    c <- sum // send sum to c\n",
    "}\n",
    "\n",
    "func main() {\n",
    "    s := []int{7, 2, 8, -9, 4, 0}\n",
    "\n",
    "    c := make(chan int)\n",
    "    go sum(s[:len(s)/2], c)\n",
    "    go sum(s[len(s)/2:], c)\n",
    "    // x,y are receiver. We would wait until both funcs are ready\n",
    "    x, y := <-c, <-c // receive from c\n",
    "\n",
    "    fmt.Println(x, y, x+y)\n",
    "}\n",
    "main()"
   ]
  },
  {
   "cell_type": "markdown",
   "metadata": {},
   "source": [
    "# Buffered Channels\n",
    "Channels can be ``buffered``. Provide the buffer length as the second argument to ``make`` to initialize a buffered channel:\n",
    "```\n",
    "ch := make(chan int, 100)\n",
    "```\n",
    "Sends to a buffered channel block only when the buffer is full. Receives block when the buffer is empty."
   ]
  },
  {
   "cell_type": "code",
   "execution_count": 17,
   "metadata": {},
   "outputs": [
    {
     "name": "stdout",
     "output_type": "stream",
     "text": [
      "1 true\n",
      "2 true\n"
     ]
    }
   ],
   "source": [
    "package main\n",
    "\n",
    "import \"fmt\"\n",
    "\n",
    "func main() {\n",
    "    ch := make(chan int, 2)\n",
    "    ch <- 1\n",
    "    ch <- 2\n",
    "    fmt.Println(<-ch)\n",
    "    fmt.Println(<-ch)\n",
    "}\n",
    "main()"
   ]
  },
  {
   "cell_type": "code",
   "execution_count": null,
   "metadata": {},
   "outputs": [],
   "source": []
  },
  {
   "cell_type": "code",
   "execution_count": null,
   "metadata": {},
   "outputs": [],
   "source": []
  }
 ],
 "metadata": {
  "kernelspec": {
   "display_name": "Go",
   "language": "go",
   "name": "gophernotes"
  },
  "language_info": {
   "codemirror_mode": "",
   "file_extension": ".go",
   "mimetype": "",
   "name": "go",
   "nbconvert_exporter": "",
   "pygments_lexer": "",
   "version": "go1.14.1"
  }
 },
 "nbformat": 4,
 "nbformat_minor": 2
}
