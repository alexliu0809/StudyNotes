{
 "cells": [
  {
   "cell_type": "markdown",
   "metadata": {},
   "source": [
    "# Variables Declaration"
   ]
  },
  {
   "cell_type": "code",
   "execution_count": 1,
   "metadata": {},
   "outputs": [
    {
     "data": {
      "text/plain": [
       "\u001b[36manswer\u001b[39m: \u001b[32mInt\u001b[39m = \u001b[32m42\u001b[39m"
      ]
     },
     "execution_count": 1,
     "metadata": {},
     "output_type": "execute_result"
    }
   ],
   "source": [
    "val answer = 8 * 5 + 2"
   ]
  },
  {
   "cell_type": "code",
   "execution_count": 2,
   "metadata": {},
   "outputs": [
    {
     "data": {
      "text/plain": [
       "\u001b[36mres1\u001b[39m: \u001b[32mDouble\u001b[39m = \u001b[32m21.0\u001b[39m"
      ]
     },
     "execution_count": 2,
     "metadata": {},
     "output_type": "execute_result"
    }
   ],
   "source": [
    "0.5 * answer"
   ]
  },
  {
   "cell_type": "markdown",
   "metadata": {},
   "source": [
    "A value declared with val is a constant"
   ]
  },
  {
   "cell_type": "code",
   "execution_count": 2,
   "metadata": {},
   "outputs": [
    {
     "name": "stderr",
     "output_type": "stream",
     "text": [
      "cmd2.sc:1: reassignment to val\n",
      "val res2 = answer = 0\n",
      "                  ^"
     ]
    },
    {
     "ename": "",
     "evalue": "",
     "output_type": "error",
     "traceback": [
      "Compilation Failed"
     ]
    }
   ],
   "source": [
    "answer = 0"
   ]
  },
  {
   "cell_type": "markdown",
   "metadata": {},
   "source": [
    "To declare a variable whose contents can vary, use a var"
   ]
  },
  {
   "cell_type": "code",
   "execution_count": 3,
   "metadata": {},
   "outputs": [
    {
     "data": {
      "text/plain": [
       "\u001b[36mcounter\u001b[39m: \u001b[32mInt\u001b[39m = \u001b[32m1\u001b[39m"
      ]
     },
     "execution_count": 3,
     "metadata": {},
     "output_type": "execute_result"
    }
   ],
   "source": [
    "var counter = 0\n",
    "counter = 1"
   ]
  },
  {
   "cell_type": "markdown",
   "metadata": {},
   "source": [
    "Specify the data type for a variable"
   ]
  },
  {
   "cell_type": "code",
   "execution_count": 4,
   "metadata": {},
   "outputs": [
    {
     "data": {
      "text/plain": [
       "\u001b[36mgreeting\u001b[39m: \u001b[32mString\u001b[39m = null"
      ]
     },
     "execution_count": 4,
     "metadata": {},
     "output_type": "execute_result"
    }
   ],
   "source": [
    "val greeting: String = null"
   ]
  },
  {
   "cell_type": "code",
   "execution_count": 5,
   "metadata": {},
   "outputs": [
    {
     "data": {
      "text/plain": [
       "\u001b[36mgreeting\u001b[39m: \u001b[32mAny\u001b[39m = Hello"
      ]
     },
     "execution_count": 5,
     "metadata": {},
     "output_type": "execute_result"
    }
   ],
   "source": [
    "val greeting: Any = \"Hello\""
   ]
  },
  {
   "cell_type": "markdown",
   "metadata": {},
   "source": [
    "There are no semicolons after variable declarations. In scala, semicolons are only required if you have multiple statements"
   ]
  },
  {
   "cell_type": "markdown",
   "metadata": {},
   "source": [
    "You can declare multiple values or variables together"
   ]
  },
  {
   "cell_type": "code",
   "execution_count": 6,
   "metadata": {},
   "outputs": [
    {
     "data": {
      "text/plain": [
       "\u001b[36mxmax\u001b[39m: \u001b[32mInt\u001b[39m = \u001b[32m100\u001b[39m\n",
       "\u001b[36mymax\u001b[39m: \u001b[32mInt\u001b[39m = \u001b[32m100\u001b[39m\n",
       "\u001b[36mgreeting\u001b[39m: \u001b[32mString\u001b[39m = null\n",
       "\u001b[36mmessage\u001b[39m: \u001b[32mString\u001b[39m = null"
      ]
     },
     "execution_count": 6,
     "metadata": {},
     "output_type": "execute_result"
    }
   ],
   "source": [
    "val xmax, ymax = 100 //set xmax, ymax =100\n",
    "var greeting, message: String = null //both initalized as null string"
   ]
  },
  {
   "cell_type": "markdown",
   "metadata": {},
   "source": [
    "# Commonly Used Type"
   ]
  },
  {
   "cell_type": "markdown",
   "metadata": {},
   "source": [
    "Seven numeric types: Byte, Char, Short, Int, Long, Float, Double\n",
    "\n",
    "These types are <span style=\"color:red\">classes</span>\n",
    "\n",
    "There's no distinction between primitive types and class types in Scala\n"
   ]
  },
  {
   "cell_type": "code",
   "execution_count": 7,
   "metadata": {},
   "outputs": [
    {
     "data": {
      "text/plain": [
       "\u001b[36mres6\u001b[39m: \u001b[32mString\u001b[39m = \u001b[32m\"1\"\u001b[39m"
      ]
     },
     "execution_count": 7,
     "metadata": {},
     "output_type": "execute_result"
    }
   ],
   "source": [
    "1.toString()"
   ]
  },
  {
   "cell_type": "code",
   "execution_count": 8,
   "metadata": {},
   "outputs": [
    {
     "data": {
      "text/plain": [
       "\u001b[36mres7\u001b[39m: \u001b[32mRange\u001b[39m.\u001b[32mInclusive\u001b[39m = \u001b[33mRange\u001b[39m(\u001b[32m1\u001b[39m, \u001b[32m2\u001b[39m, \u001b[32m3\u001b[39m, \u001b[32m4\u001b[39m, \u001b[32m5\u001b[39m, \u001b[32m6\u001b[39m, \u001b[32m7\u001b[39m, \u001b[32m8\u001b[39m, \u001b[32m9\u001b[39m, \u001b[32m10\u001b[39m)"
      ]
     },
     "execution_count": 8,
     "metadata": {},
     "output_type": "execute_result"
    }
   ],
   "source": [
    "1.to(10)"
   ]
  },
  {
   "cell_type": "code",
   "execution_count": 9,
   "metadata": {},
   "outputs": [
    {
     "data": {
      "text/plain": [
       "\u001b[36mres8\u001b[39m: \u001b[32mString\u001b[39m = \u001b[32m\"lo\"\u001b[39m"
      ]
     },
     "execution_count": 9,
     "metadata": {},
     "output_type": "execute_result"
    }
   ],
   "source": [
    "\"Hello\".intersect(\"World\") // get \"lo\""
   ]
  },
  {
   "cell_type": "markdown",
   "metadata": {},
   "source": [
    "There are classes RichInt, RichDouble and RichChar.\n",
    "\n",
    "For 1.to(10), 1 is firstly converted to a RichInt, then use the method of it"
   ]
  },
  {
   "cell_type": "markdown",
   "metadata": {},
   "source": [
    "In scala, You use methods to convert between numeric types (not cast like C)."
   ]
  },
  {
   "cell_type": "code",
   "execution_count": 10,
   "metadata": {},
   "outputs": [
    {
     "data": {
      "text/plain": [
       "\u001b[36mres9\u001b[39m: \u001b[32mInt\u001b[39m = \u001b[32m99\u001b[39m"
      ]
     },
     "execution_count": 10,
     "metadata": {},
     "output_type": "execute_result"
    }
   ],
   "source": [
    "99.44.toInt"
   ]
  },
  {
   "cell_type": "code",
   "execution_count": 11,
   "metadata": {},
   "outputs": [
    {
     "data": {
      "text/plain": [
       "\u001b[36mres10\u001b[39m: \u001b[32mChar\u001b[39m = \u001b[32m'c'\u001b[39m"
      ]
     },
     "execution_count": 11,
     "metadata": {},
     "output_type": "execute_result"
    }
   ],
   "source": [
    "99.toChar"
   ]
  },
  {
   "cell_type": "markdown",
   "metadata": {},
   "source": [
    "# Arithmetic and Operator Overloading"
   ]
  },
  {
   "cell_type": "code",
   "execution_count": 12,
   "metadata": {},
   "outputs": [
    {
     "data": {
      "text/plain": [
       "\u001b[36manswer\u001b[39m: \u001b[32mInt\u001b[39m = \u001b[32m42\u001b[39m"
      ]
     },
     "execution_count": 12,
     "metadata": {},
     "output_type": "execute_result"
    }
   ],
   "source": [
    "val answer = 8 * 5 + 2"
   ]
  },
  {
   "cell_type": "markdown",
   "metadata": {},
   "source": [
    "These operations are actually methods. For example\n",
    "\n",
    "a + b == a.+(b). \n",
    "\n",
    "Here + is the name of the method. Scala does allow non-alphanumeric characters in method names\n",
    "\n",
    "In General, you can write \n",
    "\n",
    "a method b\n",
    "\n",
    "as a short for \n",
    "\n",
    "a.method(b)"
   ]
  },
  {
   "cell_type": "code",
   "execution_count": 13,
   "metadata": {},
   "outputs": [
    {
     "data": {
      "text/plain": [
       "\u001b[36mres12_0\u001b[39m: \u001b[32mRange\u001b[39m.\u001b[32mInclusive\u001b[39m = \u001b[33mRange\u001b[39m(\u001b[32m1\u001b[39m, \u001b[32m2\u001b[39m, \u001b[32m3\u001b[39m, \u001b[32m4\u001b[39m, \u001b[32m5\u001b[39m, \u001b[32m6\u001b[39m, \u001b[32m7\u001b[39m, \u001b[32m8\u001b[39m, \u001b[32m9\u001b[39m, \u001b[32m10\u001b[39m)\n",
       "\u001b[36mres12_1\u001b[39m: \u001b[32mRange\u001b[39m.\u001b[32mInclusive\u001b[39m = \u001b[33mRange\u001b[39m(\u001b[32m1\u001b[39m, \u001b[32m2\u001b[39m, \u001b[32m3\u001b[39m, \u001b[32m4\u001b[39m, \u001b[32m5\u001b[39m, \u001b[32m6\u001b[39m, \u001b[32m7\u001b[39m, \u001b[32m8\u001b[39m, \u001b[32m9\u001b[39m, \u001b[32m10\u001b[39m)"
      ]
     },
     "execution_count": 13,
     "metadata": {},
     "output_type": "execute_result"
    }
   ],
   "source": [
    "1 to 10\n",
    "1.to(10)"
   ]
  },
  {
   "cell_type": "markdown",
   "metadata": {},
   "source": [
    "Scala does not have ++ or --. They use +=, -="
   ]
  },
  {
   "cell_type": "code",
   "execution_count": 14,
   "metadata": {},
   "outputs": [
    {
     "data": {
      "text/plain": [
       "\u001b[36mx\u001b[39m: \u001b[32mBigInt\u001b[39m = 1881676371789154860897069000"
      ]
     },
     "execution_count": 14,
     "metadata": {},
     "output_type": "execute_result"
    }
   ],
   "source": [
    "var x: BigInt = 1234567890\n",
    "x *= x * x"
   ]
  },
  {
   "cell_type": "markdown",
   "metadata": {},
   "source": [
    "# Calling Methods"
   ]
  },
  {
   "cell_type": "markdown",
   "metadata": {},
   "source": [
    "How to call other methods:"
   ]
  },
  {
   "cell_type": "code",
   "execution_count": 15,
   "metadata": {},
   "outputs": [
    {
     "data": {
      "text/plain": [
       "\u001b[36mres14\u001b[39m: \u001b[32mDouble\u001b[39m = \u001b[32m1.4142135623730951\u001b[39m"
      ]
     },
     "execution_count": 15,
     "metadata": {},
     "output_type": "execute_result"
    }
   ],
   "source": [
    "scala.math.sqrt(2)"
   ]
  },
  {
   "cell_type": "markdown",
   "metadata": {},
   "source": [
    "Some of the functions are parameterless, they doesn't modify the object."
   ]
  },
  {
   "cell_type": "code",
   "execution_count": 16,
   "metadata": {},
   "outputs": [
    {
     "name": "stdout",
     "output_type": "stream",
     "text": [
      "dabc"
     ]
    },
    {
     "data": {
      "text/plain": [
       "\u001b[36mc\u001b[39m: \u001b[32mString\u001b[39m = \u001b[32m\"dabc\"\u001b[39m\n",
       "\u001b[36mres15_1\u001b[39m: \u001b[32mString\u001b[39m = \u001b[32m\"abcd\"\u001b[39m"
      ]
     },
     "execution_count": 16,
     "metadata": {},
     "output_type": "execute_result"
    }
   ],
   "source": [
    "var c = \"dabc\"\n",
    "c.sorted\n",
    "print(c)"
   ]
  },
  {
   "cell_type": "markdown",
   "metadata": {},
   "source": [
    "# Indexing\n",
    "In scala, it is common to use a syntax that likes function call. To index a string, use s(i). You can think of it as an overload form of the () operator. It's implemented as a method with the name apply.\n",
    "\n",
    "Why not []? Still the functional way"
   ]
  },
  {
   "cell_type": "code",
   "execution_count": 17,
   "metadata": {},
   "outputs": [
    {
     "data": {
      "text/plain": [
       "\u001b[36ms\u001b[39m: \u001b[32mString\u001b[39m = \u001b[32m\"1233\"\u001b[39m\n",
       "\u001b[36mres16_1\u001b[39m: \u001b[32mChar\u001b[39m = \u001b[32m'3'\u001b[39m"
      ]
     },
     "execution_count": 17,
     "metadata": {},
     "output_type": "execute_result"
    }
   ],
   "source": [
    "val s = \"1233\"\n",
    "s(2)  // 0 Indexing"
   ]
  },
  {
   "cell_type": "markdown",
   "metadata": {},
   "source": [
    "Sometimes () will conflict with other scala features. You should use it explicitly "
   ]
  },
  {
   "cell_type": "code",
   "execution_count": 18,
   "metadata": {},
   "outputs": [
    {
     "data": {
      "text/plain": [
       "\u001b[36mres17_0\u001b[39m: \u001b[32mChar\u001b[39m = \u001b[32m'b'\u001b[39m\n",
       "\u001b[36mres17_1\u001b[39m: \u001b[32mChar\u001b[39m = \u001b[32m'b'\u001b[39m"
      ]
     },
     "execution_count": 18,
     "metadata": {},
     "output_type": "execute_result"
    }
   ],
   "source": [
    "//\"Bab\".sorted(3) // wrong\n",
    "//(\"Baba\".sorted)(3) // wrong\n",
    "(\"Baba\".sorted).apply(3)\n",
    "\"Baba\".sorted.apply(3)"
   ]
  },
  {
   "cell_type": "markdown",
   "metadata": {},
   "source": [
    "# Scaladoc\n",
    "Online www.scala-lang.org/api\n",
    "\n",
    "Offine www.scala-lang.org/download/all.html\n",
    "\n",
    "A few tips:\n",
    "* Methods can have functions as parameters.\n",
    "* Seq[Char]/ Then mean a sequence of chars. Seq[A] is a sequence of elements of some type A\n",
    "* Some methods have an \"implicit\" parameter. For example, the sorted method of StringOps is declared as:\n",
    "\n",
    "    def sorted\\[B >: Char\\](implicit ord: math.Ordering[B]): String.\n",
    "    \n",
    "  This means an ordering is supplied implicity. \\[B >: Char\\] means any supertype of Char."
   ]
  },
  {
   "cell_type": "markdown",
   "metadata": {},
   "source": [
    "# Conditional Expression\n",
    "An if/else have a value, namely the value of the expression that follows the if or else."
   ]
  },
  {
   "cell_type": "code",
   "execution_count": 19,
   "metadata": {},
   "outputs": [
    {
     "data": {
      "text/plain": [
       "\u001b[36mx\u001b[39m: \u001b[32mInt\u001b[39m = \u001b[32m2\u001b[39m\n",
       "\u001b[36ms\u001b[39m: \u001b[32mInt\u001b[39m = \u001b[32m2\u001b[39m"
      ]
     },
     "execution_count": 19,
     "metadata": {},
     "output_type": "execute_result"
    }
   ],
   "source": [
    "val x = 2\n",
    "var s = 1\n",
    "s = if (x > 0) 2 else -1\n",
    "//equals\n",
    "if (x>0) s = 2 else s = -1"
   ]
  },
  {
   "cell_type": "code",
   "execution_count": 20,
   "metadata": {},
   "outputs": [
    {
     "name": "stdout",
     "output_type": "stream",
     "text": [
      "()"
     ]
    },
    {
     "data": {
      "text/plain": [
       "\u001b[36mres19_1\u001b[39m: \u001b[32mAnyVal\u001b[39m = ()"
      ]
     },
     "execution_count": 20,
     "metadata": {},
     "output_type": "execute_result"
    }
   ],
   "source": [
    "print(if (x<0) s = 2)\n",
    "//equals\n",
    "if (x<0) 1 else ()"
   ]
  },
  {
   "cell_type": "markdown",
   "metadata": {},
   "source": [
    "Use braces if needed to use multiple lines."
   ]
  },
  {
   "cell_type": "code",
   "execution_count": 21,
   "metadata": {},
   "outputs": [
    {
     "data": {
      "text/plain": [
       "\u001b[36mres20\u001b[39m: \u001b[32mInt\u001b[39m = \u001b[32m1\u001b[39m"
      ]
     },
     "execution_count": 21,
     "metadata": {},
     "output_type": "execute_result"
    }
   ],
   "source": [
    "if (x > 0){\n",
    "    1\n",
    "}\n",
    "else if (x == 0) 0 else -1"
   ]
  },
  {
   "cell_type": "markdown",
   "metadata": {},
   "source": [
    "# Statement Termination\n",
    "Normally no semicolon, but if you want to have more than one statement on a single line, you can use semicolon."
   ]
  },
  {
   "cell_type": "code",
   "execution_count": 22,
   "metadata": {},
   "outputs": [
    {
     "data": {
      "text/plain": [
       "\u001b[36mn\u001b[39m: \u001b[32mInt\u001b[39m = \u001b[32m1\u001b[39m\n",
       "\u001b[36mr\u001b[39m: \u001b[32mInt\u001b[39m = \u001b[32m2\u001b[39m"
      ]
     },
     "execution_count": 22,
     "metadata": {},
     "output_type": "execute_result"
    }
   ],
   "source": [
    "var n = 2; var r = 1; if (n > 0) {r = r * n; n -= 1}"
   ]
  },
  {
   "cell_type": "markdown",
   "metadata": {},
   "source": [
    "# Block expression\n",
    "A block statment contains a sequence of expressions. The result is also an expression. The value of the block is the value of last expression"
   ]
  },
  {
   "cell_type": "code",
   "execution_count": 23,
   "metadata": {},
   "outputs": [
    {
     "data": {
      "text/plain": [
       "\u001b[36mx\u001b[39m: \u001b[32mDouble\u001b[39m = \u001b[32m1.0\u001b[39m\n",
       "\u001b[36mx0\u001b[39m: \u001b[32mDouble\u001b[39m = \u001b[32m0.5\u001b[39m\n",
       "\u001b[36my\u001b[39m: \u001b[32mDouble\u001b[39m = \u001b[32m1.0\u001b[39m\n",
       "\u001b[36my0\u001b[39m: \u001b[32mDouble\u001b[39m = \u001b[32m0.5\u001b[39m\n",
       "\u001b[36mdistance\u001b[39m: \u001b[32mDouble\u001b[39m = \u001b[32m0.7071067811865476\u001b[39m"
      ]
     },
     "execution_count": 23,
     "metadata": {},
     "output_type": "execute_result"
    }
   ],
   "source": [
    "//The value of the block is the last expression\n",
    "//assginments have no value. Or strictly speaking, it is unit. as ()\n",
    "val x = 1.0;val x0 = 0.5;val y =1.0;val y0=0.5; val distance = {val dx = x - x0; val dy = y - y0; scala.math.sqrt(dx*dx + dy*dy)}"
   ]
  },
  {
   "cell_type": "markdown",
   "metadata": {},
   "source": [
    "# Input and Output"
   ]
  },
  {
   "cell_type": "code",
   "execution_count": 24,
   "metadata": {},
   "outputs": [
    {
     "name": "stdout",
     "output_type": "stream",
     "text": [
      "Answer: 42\n",
      "Hello, blase! You are 32 years old.\n"
     ]
    },
    {
     "data": {
      "text/plain": [
       "\u001b[36mname\u001b[39m: \u001b[32mString\u001b[39m = \u001b[32m\"blase\"\u001b[39m\n",
       "\u001b[36mage\u001b[39m: \u001b[32mInt\u001b[39m = \u001b[32m32\u001b[39m"
      ]
     },
     "execution_count": 24,
     "metadata": {},
     "output_type": "execute_result"
    }
   ],
   "source": [
    "print(\"Answer: \")\n",
    "println(42)\n",
    "\n",
    "\n",
    "val name = \"blase\"\n",
    "val age = 32\n",
    "//C style\n",
    "printf(\"Hello, %s! You are %d years old.\\n\",name,age)\n",
    "\n",
    "\n",
    "//Read line from console.\n",
    "/*\n",
    "import scala.io\n",
    "val name1 = scala.io.StdIn.readLine(\"You name: \")\n",
    "print(\"Your age:\")\n",
    "val age1 = scala.io.StdIn.readInt()\n",
    "print(age1)\n",
    "print(name1)\n",
    "*/"
   ]
  },
  {
   "cell_type": "markdown",
   "metadata": {},
   "source": [
    "# Loops"
   ]
  },
  {
   "cell_type": "code",
   "execution_count": 25,
   "metadata": {},
   "outputs": [
    {
     "data": {
      "text/plain": [
       "\u001b[36mn\u001b[39m: \u001b[32mInt\u001b[39m = \u001b[32m0\u001b[39m\n",
       "\u001b[36mr\u001b[39m: \u001b[32mInt\u001b[39m = \u001b[32m1\u001b[39m"
      ]
     },
     "execution_count": 25,
     "metadata": {},
     "output_type": "execute_result"
    }
   ],
   "source": [
    "var n = 1\n",
    "var r = 1\n",
    "while (n > 0) {\n",
    "    r = r * n\n",
    "    n -= 1\n",
    "}"
   ]
  },
  {
   "cell_type": "markdown",
   "metadata": {},
   "source": [
    "Scala has <span style=\"color:red\">no</span> direct analog of the for(initializ;test;update) loop. You use for loop like python"
   ]
  },
  {
   "cell_type": "code",
   "execution_count": 26,
   "metadata": {},
   "outputs": [
    {
     "data": {
      "text/plain": [
       "\u001b[36msum\u001b[39m: \u001b[32mInt\u001b[39m = \u001b[32m0\u001b[39m"
      ]
     },
     "execution_count": 26,
     "metadata": {},
     "output_type": "execute_result"
    }
   ],
   "source": [
    "for (i <- 1 to n) // i traverse all values of the expreesion (i to n)\n",
    "    r = r * i\n",
    "\n",
    "var sum = 0\n",
    "for (ch <- \"Hello\") sum == ch"
   ]
  },
  {
   "cell_type": "markdown",
   "metadata": {},
   "source": [
    "Scala has <span style=\"color:red\">no</span>  break or continue. You can use boolean, return, or break method in breaks object"
   ]
  },
  {
   "cell_type": "markdown",
   "metadata": {},
   "source": [
    "# Advanced for Loops\n",
    "You can have mulitple generators of the form variable <- expression. Seperate them by semicolons."
   ]
  },
  {
   "cell_type": "code",
   "execution_count": 27,
   "metadata": {},
   "outputs": [
    {
     "name": "stdout",
     "output_type": "stream",
     "text": [
      " 11 12 13 21 22 23 31 32 33"
     ]
    }
   ],
   "source": [
    "for (i <- 1 to 3; j <-1 to 3) print(f\"${10 * i + j}%3d\")"
   ]
  },
  {
   "cell_type": "code",
   "execution_count": 28,
   "metadata": {},
   "outputs": [
    {
     "name": "stdout",
     "output_type": "stream",
     "text": [
      " 12 13 21 23 31 32"
     ]
    }
   ],
   "source": [
    "for (i <- 1 to 3; j <-1 to 3; if i!=j) print(f\"${10 * i + j}%3d\")"
   ]
  },
  {
   "cell_type": "code",
   "execution_count": 29,
   "metadata": {},
   "outputs": [
    {
     "data": {
      "text/plain": [
       "\u001b[36mres28\u001b[39m: \u001b[32mString\u001b[39m = \u001b[32m\"HIeflmlmop\"\u001b[39m"
      ]
     },
     "execution_count": 29,
     "metadata": {},
     "output_type": "execute_result"
    }
   ],
   "source": [
    "for (c <- \"Hello\"; i<- 0 to 1) yield (c + i) toChar"
   ]
  },
  {
   "cell_type": "markdown",
   "metadata": {},
   "source": [
    "# Functions\n",
    "You must specify the types of all parameters. However, as long as the function is not recursive, you dont need to specify the return type. The scala compilter infer the return type of the expression to the right of the = symbol"
   ]
  },
  {
   "cell_type": "markdown",
   "metadata": {},
   "source": [
    "One line func def:"
   ]
  },
  {
   "cell_type": "code",
   "execution_count": 30,
   "metadata": {},
   "outputs": [
    {
     "data": {
      "text/plain": [
       "defined \u001b[32mfunction\u001b[39m \u001b[36mabs\u001b[39m"
      ]
     },
     "execution_count": 30,
     "metadata": {},
     "output_type": "execute_result"
    }
   ],
   "source": [
    "def abs(x:Double) = if (x>=0) x else -x"
   ]
  },
  {
   "cell_type": "markdown",
   "metadata": {},
   "source": [
    "Multiple lines"
   ]
  },
  {
   "cell_type": "code",
   "execution_count": 31,
   "metadata": {},
   "outputs": [
    {
     "data": {
      "text/plain": [
       "defined \u001b[32mfunction\u001b[39m \u001b[36mfac\u001b[39m"
      ]
     },
     "execution_count": 31,
     "metadata": {},
     "output_type": "execute_result"
    }
   ],
   "source": [
    "//returns r\n",
    "def fac(n:Int) = {\n",
    "    var r = 1\n",
    "    for (i <-1 to n ) r = r * i\n",
    "    r\n",
    "}"
   ]
  },
  {
   "cell_type": "markdown",
   "metadata": {},
   "source": [
    "# Default and Named Args\n",
    "You can provide default arguments for functions that are used when you dont specify explicit value."
   ]
  },
  {
   "cell_type": "code",
   "execution_count": 32,
   "metadata": {},
   "outputs": [
    {
     "data": {
      "text/plain": [
       "defined \u001b[32mfunction\u001b[39m \u001b[36mdecorate\u001b[39m\n",
       "\u001b[36mres31_1\u001b[39m: \u001b[32mString\u001b[39m = \u001b[32m\"[hello]\"\u001b[39m"
      ]
     },
     "execution_count": 32,
     "metadata": {},
     "output_type": "execute_result"
    }
   ],
   "source": [
    "def decorate(str: String, left:String = \"[\", right:String = \"]\") = left + str + right\n",
    "decorate(\"hello\")"
   ]
  },
  {
   "cell_type": "markdown",
   "metadata": {},
   "source": [
    "# Variable Argument\n",
    "Take a variable number of arguments."
   ]
  },
  {
   "cell_type": "code",
   "execution_count": 33,
   "metadata": {},
   "outputs": [
    {
     "data": {
      "text/plain": [
       "defined \u001b[32mfunction\u001b[39m \u001b[36msum\u001b[39m\n",
       "\u001b[36ms\u001b[39m: \u001b[32mInt\u001b[39m = \u001b[32m67\u001b[39m"
      ]
     },
     "execution_count": 33,
     "metadata": {},
     "output_type": "execute_result"
    }
   ],
   "source": [
    "def sum(args: Int*) =  {\n",
    "    var res = 0\n",
    "    for (arg <- args) res += arg\n",
    "    res\n",
    "}\n",
    "val s = sum(1,23,2,41)"
   ]
  },
  {
   "cell_type": "markdown",
   "metadata": {},
   "source": [
    "If you already have a sequence of values, you cannot pass it directly to such a function. The sum function is called with one argument, that must be a single integer not a range. To resolve this, use :_*"
   ]
  },
  {
   "cell_type": "code",
   "execution_count": 34,
   "metadata": {},
   "outputs": [
    {
     "data": {
      "text/plain": [
       "\u001b[36ms\u001b[39m: \u001b[32mInt\u001b[39m = \u001b[32m15\u001b[39m"
      ]
     },
     "execution_count": 34,
     "metadata": {},
     "output_type": "execute_result"
    }
   ],
   "source": [
    "//val s = sum(1 to 5) // wrong\n",
    "val s = sum(1 to 5:_*)"
   ]
  },
  {
   "cell_type": "markdown",
   "metadata": {},
   "source": [
    "This call syntax is needed in a recursive definition:"
   ]
  },
  {
   "cell_type": "code",
   "execution_count": 35,
   "metadata": {},
   "outputs": [
    {
     "data": {
      "text/plain": [
       "defined \u001b[32mfunction\u001b[39m \u001b[36mrecursiveSum\u001b[39m"
      ]
     },
     "execution_count": 35,
     "metadata": {},
     "output_type": "execute_result"
    }
   ],
   "source": [
    "def recursiveSum(args:Int*) : Int = {\n",
    "    \n",
    "    if (args.length == 0) 0\n",
    "    else args.head + recursiveSum(args.tail : _*)\n",
    "    \n",
    "}"
   ]
  },
  {
   "cell_type": "markdown",
   "metadata": {},
   "source": [
    "Here, the head of a sequence is its initial element, and tail is a sequence of all other elements. It's again a sequence, we use :_* to conver to argument sequence"
   ]
  },
  {
   "cell_type": "markdown",
   "metadata": {},
   "source": [
    "# Procedures\n",
    "Function that returns no value. if the function body is enclosed in braces without a preceding = system, then the return type is unit. Such a func is called a procedure. A procedure returns no value, and you only call it for its side efect."
   ]
  },
  {
   "cell_type": "code",
   "execution_count": 36,
   "metadata": {},
   "outputs": [
    {
     "name": "stdout",
     "output_type": "stream",
     "text": [
      "-------\n",
      "|hello|\n",
      "-------\n"
     ]
    },
    {
     "data": {
      "text/plain": [
       "defined \u001b[32mfunction\u001b[39m \u001b[36mbox\u001b[39m"
      ]
     },
     "execution_count": 36,
     "metadata": {},
     "output_type": "execute_result"
    }
   ],
   "source": [
    "def box (s:String){\n",
    "    val border = \"-\" * (s.length + 2)\n",
    "    print(f\"$border%n|$s|%n$border%n\")\n",
    "}\n",
    "box(\"hello\")"
   ]
  },
  {
   "cell_type": "code",
   "execution_count": 37,
   "metadata": {},
   "outputs": [
    {
     "name": "stdout",
     "output_type": "stream",
     "text": [
      "-------\n",
      "|hello|\n",
      "-------\n"
     ]
    },
    {
     "data": {
      "text/plain": [
       "defined \u001b[32mfunction\u001b[39m \u001b[36mbox\u001b[39m"
      ]
     },
     "execution_count": 37,
     "metadata": {},
     "output_type": "execute_result"
    }
   ],
   "source": [
    "//equals\n",
    "def box (s:String):Unit = {\n",
    "    val border = \"-\" * (s.length + 2)\n",
    "    print(f\"$border%n|$s|%n$border%n\")\n",
    "}\n",
    "box(\"hello\")"
   ]
  },
  {
   "cell_type": "markdown",
   "metadata": {},
   "source": [
    "# Lazy Value\n",
    "When a val is declared as lazy, its initialization is defered until it is accessed for the first time. If the program never accesses words, then the file is never opened\n"
   ]
  },
  {
   "cell_type": "code",
   "execution_count": 38,
   "metadata": {},
   "outputs": [
    {
     "data": {
      "text/plain": [
       "\u001b[36mwords\u001b[39m: \u001b[32mio\u001b[39m.\u001b[32mBufferedSource\u001b[39m = \u001b[32m<lazy>\u001b[39m"
      ]
     },
     "execution_count": 38,
     "metadata": {},
     "output_type": "execute_result"
    }
   ],
   "source": [
    "lazy val words = scala.io.Source.fromFile(\"/urs/dsf/fs\")"
   ]
  },
  {
   "cell_type": "markdown",
   "metadata": {},
   "source": [
    "# Exceptions\n",
    "Works the same as in Java or C++. "
   ]
  },
  {
   "cell_type": "code",
   "execution_count": 39,
   "metadata": {},
   "outputs": [
    {
     "ename": "",
     "evalue": "",
     "output_type": "error",
     "traceback": [
      "\u001b[31mjava.lang.IllegalArgumentException: x neg\u001b[39m",
      "  $sess.cmd38Wrapper$Helper.<init>(\u001b[32mcmd38.sc\u001b[39m:\u001b[32m7\u001b[39m)",
      "  $sess.cmd38Wrapper.<init>(\u001b[32mcmd38.sc\u001b[39m:\u001b[32m425\u001b[39m)",
      "  $sess.cmd38$.<init>(\u001b[32mcmd38.sc\u001b[39m:\u001b[32m233\u001b[39m)",
      "  $sess.cmd38$.<clinit>(\u001b[32mcmd38.sc\u001b[39m:\u001b[32m-1\u001b[39m)"
     ]
    }
   ],
   "source": [
    "val x = -1\n",
    "if (x > 0){\n",
    "    scala.math.sqrt(x)\n",
    "}\n",
    "else\n",
    "{\n",
    "    throw new IllegalArgumentException(\"x neg\")\n",
    "}"
   ]
  },
  {
   "cell_type": "code",
   "execution_count": 39,
   "metadata": {},
   "outputs": [],
   "source": [
    "/*\n",
    "val in = new URL(\"www.baidu.com\").openStream()\n",
    "try{\n",
    "    process(in)\n",
    "}\n",
    "finally{\n",
    "    in.close()\n",
    "}\n",
    "*/"
   ]
  },
  {
   "cell_type": "markdown",
   "metadata": {},
   "source": [
    "# Fixed Length Arrays"
   ]
  },
  {
   "cell_type": "code",
   "execution_count": 40,
   "metadata": {},
   "outputs": [
    {
     "data": {
      "text/plain": [
       "\u001b[36mnums\u001b[39m: \u001b[32mArray\u001b[39m[\u001b[32mInt\u001b[39m] = \u001b[33mArray\u001b[39m(\u001b[32m0\u001b[39m, \u001b[32m0\u001b[39m, \u001b[32m0\u001b[39m, \u001b[32m0\u001b[39m, \u001b[32m0\u001b[39m, \u001b[32m0\u001b[39m, \u001b[32m0\u001b[39m, \u001b[32m0\u001b[39m, \u001b[32m0\u001b[39m, \u001b[32m0\u001b[39m)\n",
       "\u001b[36ma\u001b[39m: \u001b[32mArray\u001b[39m[\u001b[32mString\u001b[39m] = \u001b[33mArray\u001b[39m(null, null, null, null, null, null, null, null, null, null)"
      ]
     },
     "execution_count": 40,
     "metadata": {},
     "output_type": "execute_result"
    }
   ],
   "source": [
    "val nums = new Array[Int](10) // An array of ten integers, all initialized to 0\n",
    "val a = new Array[String](10) // all null"
   ]
  },
  {
   "cell_type": "markdown",
   "metadata": {},
   "source": [
    "No new when you supply initial values."
   ]
  },
  {
   "cell_type": "code",
   "execution_count": 41,
   "metadata": {},
   "outputs": [
    {
     "data": {
      "text/plain": [
       "\u001b[36ms\u001b[39m: \u001b[32mArray\u001b[39m[\u001b[32mString\u001b[39m] = \u001b[33mArray\u001b[39m(\u001b[32m\"Hello\"\u001b[39m, \u001b[32m\"World\"\u001b[39m)"
      ]
     },
     "execution_count": 41,
     "metadata": {},
     "output_type": "execute_result"
    }
   ],
   "source": [
    "val s = Array(\"Hello\", \"World\")"
   ]
  },
  {
   "cell_type": "markdown",
   "metadata": {},
   "source": [
    "# Vriable-Length Array"
   ]
  },
  {
   "cell_type": "code",
   "execution_count": 42,
   "metadata": {},
   "outputs": [
    {
     "data": {
      "text/plain": [
       "\u001b[32mimport \u001b[39m\u001b[36mscala.collection.mutable.ArrayBuffer\u001b[39m"
      ]
     },
     "execution_count": 42,
     "metadata": {},
     "output_type": "execute_result"
    }
   ],
   "source": [
    "import scala.collection.mutable.ArrayBuffer"
   ]
  },
  {
   "cell_type": "code",
   "execution_count": 43,
   "metadata": {},
   "outputs": [
    {
     "data": {
      "text/plain": [
       "\u001b[36mb\u001b[39m: \u001b[32mArrayBuffer\u001b[39m[\u001b[32mInt\u001b[39m] = \u001b[33mArrayBuffer\u001b[39m(\u001b[32m1\u001b[39m, \u001b[32m1\u001b[39m)\n",
       "\u001b[36mres42_1\u001b[39m: \u001b[32mArrayBuffer\u001b[39m[\u001b[32mInt\u001b[39m] = \u001b[33mArrayBuffer\u001b[39m(\u001b[32m1\u001b[39m, \u001b[32m1\u001b[39m)\n",
       "\u001b[36mres42_2\u001b[39m: \u001b[32mArrayBuffer\u001b[39m[\u001b[32mInt\u001b[39m] = \u001b[33mArrayBuffer\u001b[39m(\u001b[32m1\u001b[39m, \u001b[32m1\u001b[39m)\n",
       "\u001b[36mres42_4\u001b[39m: \u001b[32mInt\u001b[39m = \u001b[32m6\u001b[39m\n",
       "\u001b[36mres42_6\u001b[39m: \u001b[32mArray\u001b[39m[\u001b[32mInt\u001b[39m] = \u001b[33mArray\u001b[39m(\u001b[32m1\u001b[39m, \u001b[32m1\u001b[39m)"
      ]
     },
     "execution_count": 43,
     "metadata": {},
     "output_type": "execute_result"
    }
   ],
   "source": [
    "val b = ArrayBuffer[Int]()\n",
    "b += 1\n",
    "b += (1,2,3,4)\n",
    "b.insert(2,6)\n",
    "b.remove(2)\n",
    "b.remove(2,3)\n",
    "b.toArray"
   ]
  },
  {
   "cell_type": "markdown",
   "metadata": {},
   "source": [
    "# Traversing Arrays and Array Buffers"
   ]
  },
  {
   "cell_type": "code",
   "execution_count": 44,
   "metadata": {},
   "outputs": [
    {
     "name": "stdout",
     "output_type": "stream",
     "text": [
      "0:1\n",
      "1:2\n",
      "2:3\n",
      "3:4\n"
     ]
    },
    {
     "data": {
      "text/plain": [
       "\u001b[36ma\u001b[39m: \u001b[32mArray\u001b[39m[\u001b[32mInt\u001b[39m] = \u001b[33mArray\u001b[39m(\u001b[32m1\u001b[39m, \u001b[32m2\u001b[39m, \u001b[32m3\u001b[39m, \u001b[32m4\u001b[39m)"
      ]
     },
     "execution_count": 44,
     "metadata": {},
     "output_type": "execute_result"
    }
   ],
   "source": [
    "val a = Array(1,2,3,4)\n",
    "for (i <- 0 to a.length - 1) //Also use i <- 0 until a.length -- until goes from 0 to a.length - 1\n",
    "{\n",
    "    println(s\"$i:${a(i)}\")\n",
    "}"
   ]
  },
  {
   "cell_type": "markdown",
   "metadata": {},
   "source": [
    "In general, the construct for (i <- range) make the variable i traverse all values of the range"
   ]
  },
  {
   "cell_type": "code",
   "execution_count": 45,
   "metadata": {},
   "outputs": [
    {
     "data": {
      "text/plain": [
       "\u001b[36mres44_0\u001b[39m: \u001b[32mRange\u001b[39m = \u001b[33mRange\u001b[39m(\u001b[32m0\u001b[39m, \u001b[32m2\u001b[39m, \u001b[32m4\u001b[39m, \u001b[32m6\u001b[39m, \u001b[32m8\u001b[39m, \u001b[32m10\u001b[39m)\n",
       "\u001b[36mres44_1\u001b[39m: \u001b[32mRange\u001b[39m = \u001b[33mRange\u001b[39m(\u001b[32m10\u001b[39m, \u001b[32m9\u001b[39m, \u001b[32m8\u001b[39m, \u001b[32m7\u001b[39m, \u001b[32m6\u001b[39m, \u001b[32m5\u001b[39m, \u001b[32m4\u001b[39m, \u001b[32m3\u001b[39m, \u001b[32m2\u001b[39m, \u001b[32m1\u001b[39m, \u001b[32m0\u001b[39m)"
      ]
     },
     "execution_count": 45,
     "metadata": {},
     "output_type": "execute_result"
    }
   ],
   "source": [
    "0 to 10 by 2\n",
    "(0 to 10).indices.reverse"
   ]
  },
  {
   "cell_type": "markdown",
   "metadata": {},
   "source": [
    "If you dont need the array index in the loop, use for (element <- a)"
   ]
  },
  {
   "cell_type": "code",
   "execution_count": 46,
   "metadata": {},
   "outputs": [
    {
     "name": "stdout",
     "output_type": "stream",
     "text": [
      "1234"
     ]
    },
    {
     "data": {
      "text/plain": [
       "\u001b[36ma\u001b[39m: \u001b[32mArray\u001b[39m[\u001b[32mInt\u001b[39m] = \u001b[33mArray\u001b[39m(\u001b[32m1\u001b[39m, \u001b[32m2\u001b[39m, \u001b[32m3\u001b[39m, \u001b[32m4\u001b[39m)"
      ]
     },
     "execution_count": 46,
     "metadata": {},
     "output_type": "execute_result"
    }
   ],
   "source": [
    "val a = Array(1,2,3,4)\n",
    "for (i <- a)\n",
    "    print(i)"
   ]
  },
  {
   "cell_type": "markdown",
   "metadata": {},
   "source": [
    "# Transforming Array\n",
    "Take in an array and transform it in some other way. Use yield."
   ]
  },
  {
   "cell_type": "code",
   "execution_count": 47,
   "metadata": {},
   "outputs": [
    {
     "data": {
      "text/plain": [
       "\u001b[36ma\u001b[39m: \u001b[32mArray\u001b[39m[\u001b[32mInt\u001b[39m] = \u001b[33mArray\u001b[39m(\u001b[32m2\u001b[39m, \u001b[32m3\u001b[39m, \u001b[32m4\u001b[39m, \u001b[32m5\u001b[39m, \u001b[32m6\u001b[39m)\n",
       "\u001b[36mresult\u001b[39m: \u001b[32mArray\u001b[39m[\u001b[32mInt\u001b[39m] = \u001b[33mArray\u001b[39m(\u001b[32m4\u001b[39m, \u001b[32m6\u001b[39m, \u001b[32m8\u001b[39m, \u001b[32m10\u001b[39m, \u001b[32m12\u001b[39m)"
      ]
     },
     "execution_count": 47,
     "metadata": {},
     "output_type": "execute_result"
    }
   ],
   "source": [
    "val a = Array(2,3,4,5,6)\n",
    "val result = for (elem <- a) yield 2 * elem"
   ]
  },
  {
   "cell_type": "markdown",
   "metadata": {},
   "source": [
    "The result here is a new collection - the original collection is not affected"
   ]
  },
  {
   "cell_type": "code",
   "execution_count": 48,
   "metadata": {},
   "outputs": [
    {
     "data": {
      "text/plain": [
       "\u001b[36mresult\u001b[39m: \u001b[32mArray\u001b[39m[\u001b[32mInt\u001b[39m] = \u001b[33mArray\u001b[39m(\u001b[32m4\u001b[39m, \u001b[32m8\u001b[39m, \u001b[32m12\u001b[39m)\n",
       "\u001b[36mres47_1\u001b[39m: \u001b[32mArray\u001b[39m[\u001b[32mInt\u001b[39m] = \u001b[33mArray\u001b[39m(\u001b[32m4\u001b[39m, \u001b[32m8\u001b[39m, \u001b[32m12\u001b[39m)"
      ]
     },
     "execution_count": 48,
     "metadata": {},
     "output_type": "execute_result"
    }
   ],
   "source": [
    "val result = for (elem <- a if elem %2 ==0 ) yield 2 * elem //strict grammar\n",
    "a.filter(_%2 == 0).map(_*2) //looks better"
   ]
  },
  {
   "cell_type": "code",
   "execution_count": 49,
   "metadata": {},
   "outputs": [
    {
     "data": {
      "text/plain": [
       "\u001b[36mb\u001b[39m: \u001b[32mArray\u001b[39m[\u001b[32mInt\u001b[39m] = \u001b[33mArray\u001b[39m(\u001b[32m1\u001b[39m, \u001b[32m2\u001b[39m, \u001b[32m3\u001b[39m, \u001b[32m-1\u001b[39m, \u001b[32m-2\u001b[39m, \u001b[32m3\u001b[39m)\n",
       "\u001b[36mresult\u001b[39m: \u001b[32mArray\u001b[39m[\u001b[32mInt\u001b[39m] = \u001b[33mArray\u001b[39m(\u001b[32m1\u001b[39m, \u001b[32m2\u001b[39m, \u001b[32m3\u001b[39m, \u001b[32m3\u001b[39m)\n",
       "\u001b[36mposres\u001b[39m: \u001b[32mcollection\u001b[39m.\u001b[32mimmutable\u001b[39m.\u001b[32mIndexedSeq\u001b[39m[\u001b[32mInt\u001b[39m] = \u001b[33mVector\u001b[39m(\u001b[32m1\u001b[39m, \u001b[32m2\u001b[39m, \u001b[32m3\u001b[39m, \u001b[32m3\u001b[39m)"
      ]
     },
     "execution_count": 49,
     "metadata": {},
     "output_type": "execute_result"
    }
   ],
   "source": [
    "// Remove negative.\n",
    "val b = Array(1,2,3,-1,-2,3)\n",
    "val result = for (elem <- b if elem >= 0) yield elem\n",
    "val posres = for (idx <- b.indices if b(idx) >= 0) yield b(idx)"
   ]
  },
  {
   "cell_type": "markdown",
   "metadata": {},
   "source": [
    "# Common Array Algos"
   ]
  },
  {
   "cell_type": "markdown",
   "metadata": {},
   "source": [
    "Give stats"
   ]
  },
  {
   "cell_type": "code",
   "execution_count": 50,
   "metadata": {},
   "outputs": [
    {
     "data": {
      "text/plain": [
       "\u001b[36mres49\u001b[39m: \u001b[32mInt\u001b[39m = \u001b[32m11\u001b[39m"
      ]
     },
     "execution_count": 50,
     "metadata": {},
     "output_type": "execute_result"
    }
   ],
   "source": [
    "Array(1,2,3,5).sum"
   ]
  },
  {
   "cell_type": "code",
   "execution_count": 51,
   "metadata": {},
   "outputs": [
    {
     "data": {
      "text/plain": [
       "\u001b[36mres50_0\u001b[39m: \u001b[32mString\u001b[39m = \u001b[32m\"a\"\u001b[39m\n",
       "\u001b[36mres50_1\u001b[39m: \u001b[32mString\u001b[39m = \u001b[32m\"Had\"\u001b[39m\n",
       "\u001b[36mb\u001b[39m: \u001b[32mArrayBuffer\u001b[39m[\u001b[32mInt\u001b[39m] = \u001b[33mArrayBuffer\u001b[39m(\u001b[32m1\u001b[39m, \u001b[32m7\u001b[39m, \u001b[32m2\u001b[39m, \u001b[32m9\u001b[39m)\n",
       "\u001b[36mbSorted\u001b[39m: \u001b[32mArrayBuffer\u001b[39m[\u001b[32mInt\u001b[39m] = \u001b[33mArrayBuffer\u001b[39m(\u001b[32m1\u001b[39m, \u001b[32m2\u001b[39m, \u001b[32m7\u001b[39m, \u001b[32m9\u001b[39m)\n",
       "\u001b[36mdesc\u001b[39m: \u001b[32mArrayBuffer\u001b[39m[\u001b[32mInt\u001b[39m] = \u001b[33mArrayBuffer\u001b[39m(\u001b[32m9\u001b[39m, \u001b[32m7\u001b[39m, \u001b[32m2\u001b[39m, \u001b[32m1\u001b[39m)"
      ]
     },
     "execution_count": 51,
     "metadata": {},
     "output_type": "execute_result"
    }
   ],
   "source": [
    "ArrayBuffer(\"Mary\", \"Had\", \"a\").max\n",
    "ArrayBuffer(\"Mary\", \"Had\", \"a\").min\n",
    "val b = ArrayBuffer(1,7,2,9)\n",
    "val bSorted = b.sorted\n",
    "val desc = b.sortWith( (x,y) => x > y) //Supply customer func"
   ]
  },
  {
   "cell_type": "markdown",
   "metadata": {},
   "source": [
    "Convert to string. Dont use toString"
   ]
  },
  {
   "cell_type": "code",
   "execution_count": 52,
   "metadata": {},
   "outputs": [
    {
     "data": {
      "text/plain": [
       "\u001b[36mres51_0\u001b[39m: \u001b[32mString\u001b[39m = \u001b[32m\"1 and 7 and 2 and 9\"\u001b[39m\n",
       "\u001b[36mres51_1\u001b[39m: \u001b[32mString\u001b[39m = \u001b[32m\"<1,7,2,9>\"\u001b[39m"
      ]
     },
     "execution_count": 52,
     "metadata": {},
     "output_type": "execute_result"
    }
   ],
   "source": [
    "b.mkString(\" and \")\n",
    "b.mkString(\"<\",\",\",\">\")"
   ]
  },
  {
   "cell_type": "markdown",
   "metadata": {},
   "source": [
    "# Deciphering Scala doc"
   ]
  },
  {
   "cell_type": "markdown",
   "metadata": {},
   "source": [
    "See PDF 3.6 page 41(book) / 64(pdf)"
   ]
  },
  {
   "cell_type": "markdown",
   "metadata": {},
   "source": [
    "# Multi Dimension Array"
   ]
  },
  {
   "cell_type": "code",
   "execution_count": 53,
   "metadata": {},
   "outputs": [
    {
     "data": {
      "text/plain": [
       "\u001b[36mmatrix\u001b[39m: \u001b[32mArray\u001b[39m[\u001b[32mArray\u001b[39m[\u001b[32mDouble\u001b[39m]] = \u001b[33mArray\u001b[39m(\n",
       "  \u001b[33mArray\u001b[39m(\u001b[32m0.0\u001b[39m, \u001b[32m0.0\u001b[39m, \u001b[32m0.0\u001b[39m, \u001b[32m0.0\u001b[39m),\n",
       "  \u001b[33mArray\u001b[39m(\u001b[32m0.0\u001b[39m, \u001b[32m0.0\u001b[39m, \u001b[32m0.0\u001b[39m, \u001b[32m0.0\u001b[39m),\n",
       "  \u001b[33mArray\u001b[39m(\u001b[32m0.0\u001b[39m, \u001b[32m0.0\u001b[39m, \u001b[32m0.0\u001b[39m, \u001b[32m2.0\u001b[39m)\n",
       ")"
      ]
     },
     "execution_count": 53,
     "metadata": {},
     "output_type": "execute_result"
    }
   ],
   "source": [
    "val matrix = Array.ofDim[Double](3,4)\n",
    "matrix(2)(3) = 2"
   ]
  },
  {
   "cell_type": "markdown",
   "metadata": {},
   "source": [
    "var the row length"
   ]
  },
  {
   "cell_type": "code",
   "execution_count": 54,
   "metadata": {},
   "outputs": [
    {
     "data": {
      "text/plain": [
       "\u001b[36mtriangle\u001b[39m: \u001b[32mArray\u001b[39m[\u001b[32mArray\u001b[39m[\u001b[32mInt\u001b[39m]] = \u001b[33mArray\u001b[39m(\n",
       "  \u001b[33mArray\u001b[39m(\u001b[32m0\u001b[39m),\n",
       "  \u001b[33mArray\u001b[39m(\u001b[32m0\u001b[39m, \u001b[32m0\u001b[39m),\n",
       "  \u001b[33mArray\u001b[39m(\u001b[32m0\u001b[39m, \u001b[32m0\u001b[39m, \u001b[32m0\u001b[39m),\n",
       "  \u001b[33mArray\u001b[39m(\u001b[32m0\u001b[39m, \u001b[32m0\u001b[39m, \u001b[32m0\u001b[39m, \u001b[32m0\u001b[39m),\n",
       "  \u001b[33mArray\u001b[39m(\u001b[32m0\u001b[39m, \u001b[32m0\u001b[39m, \u001b[32m0\u001b[39m, \u001b[32m0\u001b[39m, \u001b[32m0\u001b[39m),\n",
       "  \u001b[33mArray\u001b[39m(\u001b[32m0\u001b[39m, \u001b[32m0\u001b[39m, \u001b[32m0\u001b[39m, \u001b[32m0\u001b[39m, \u001b[32m0\u001b[39m, \u001b[32m0\u001b[39m),\n",
       "  \u001b[33mArray\u001b[39m(\u001b[32m0\u001b[39m, \u001b[32m0\u001b[39m, \u001b[32m0\u001b[39m, \u001b[32m0\u001b[39m, \u001b[32m0\u001b[39m, \u001b[32m0\u001b[39m, \u001b[32m0\u001b[39m),\n",
       "  \u001b[33mArray\u001b[39m(\u001b[32m0\u001b[39m, \u001b[32m0\u001b[39m, \u001b[32m0\u001b[39m, \u001b[32m0\u001b[39m, \u001b[32m0\u001b[39m, \u001b[32m0\u001b[39m, \u001b[32m0\u001b[39m, \u001b[32m0\u001b[39m),\n",
       "  \u001b[33mArray\u001b[39m(\u001b[32m0\u001b[39m, \u001b[32m0\u001b[39m, \u001b[32m0\u001b[39m, \u001b[32m0\u001b[39m, \u001b[32m0\u001b[39m, \u001b[32m0\u001b[39m, \u001b[32m0\u001b[39m, \u001b[32m0\u001b[39m, \u001b[32m0\u001b[39m),\n",
       "  \u001b[33mArray\u001b[39m(\u001b[32m0\u001b[39m, \u001b[32m0\u001b[39m, \u001b[32m0\u001b[39m, \u001b[32m0\u001b[39m, \u001b[32m0\u001b[39m, \u001b[32m0\u001b[39m, \u001b[32m0\u001b[39m, \u001b[32m0\u001b[39m, \u001b[32m0\u001b[39m, \u001b[32m0\u001b[39m)\n",
       ")"
      ]
     },
     "execution_count": 54,
     "metadata": {},
     "output_type": "execute_result"
    }
   ],
   "source": [
    "val triangle = new Array[Array[Int]](10)\n",
    "for (i <- triangle.indices)\n",
    "{\n",
    "    triangle(i) = new Array[Int](i+1)\n",
    "}"
   ]
  },
  {
   "cell_type": "markdown",
   "metadata": {},
   "source": [
    "# Map\n",
    "It has two map: Hashtable and balanced tree. Normall HashTable"
   ]
  },
  {
   "cell_type": "code",
   "execution_count": 55,
   "metadata": {},
   "outputs": [
    {
     "data": {
      "text/plain": [
       "\u001b[36mscores\u001b[39m: \u001b[32mMap\u001b[39m[\u001b[32mString\u001b[39m, \u001b[32mInt\u001b[39m] = \u001b[33mMap\u001b[39m(\u001b[32m\"a\"\u001b[39m -> \u001b[32m1\u001b[39m, \u001b[32m\"b\"\u001b[39m -> \u001b[32m2\u001b[39m)"
      ]
     },
     "execution_count": 55,
     "metadata": {},
     "output_type": "execute_result"
    }
   ],
   "source": [
    "val scores = Map(\"a\" -> 1, \"b\" -> 2) // Contents Cannot be changed"
   ]
  },
  {
   "cell_type": "code",
   "execution_count": 56,
   "metadata": {},
   "outputs": [
    {
     "name": "stdout",
     "output_type": "stream",
     "text": [
      "Map(A -> 1, C -> 3, B -> 2)Map(D -> 4, A -> 1, C -> 3, B -> 2)Map(A -> 1, C -> 3, B -> 2)"
     ]
    },
    {
     "data": {
      "text/plain": [
       "\u001b[36mscore_mut\u001b[39m: \u001b[32mcollection\u001b[39m.\u001b[32mmutable\u001b[39m.\u001b[32mMap\u001b[39m[\u001b[32mString\u001b[39m, \u001b[32mInt\u001b[39m] = \u001b[33mMap\u001b[39m(\u001b[32m\"A\"\u001b[39m -> \u001b[32m1\u001b[39m, \u001b[32m\"C\"\u001b[39m -> \u001b[32m3\u001b[39m, \u001b[32m\"B\"\u001b[39m -> \u001b[32m2\u001b[39m)\n",
       "\u001b[36mres55_1\u001b[39m: \u001b[32mcollection\u001b[39m.\u001b[32mmutable\u001b[39m.\u001b[32mMap\u001b[39m[\u001b[32mString\u001b[39m, \u001b[32mInt\u001b[39m] = \u001b[33mMap\u001b[39m(\u001b[32m\"A\"\u001b[39m -> \u001b[32m1\u001b[39m, \u001b[32m\"C\"\u001b[39m -> \u001b[32m3\u001b[39m, \u001b[32m\"B\"\u001b[39m -> \u001b[32m2\u001b[39m)\n",
       "\u001b[36mres55_5\u001b[39m: \u001b[32mcollection\u001b[39m.\u001b[32mmutable\u001b[39m.\u001b[32mMap\u001b[39m[\u001b[32mString\u001b[39m, \u001b[32mInt\u001b[39m] = \u001b[33mMap\u001b[39m(\u001b[32m\"A\"\u001b[39m -> \u001b[32m1\u001b[39m, \u001b[32m\"C\"\u001b[39m -> \u001b[32m3\u001b[39m, \u001b[32m\"B\"\u001b[39m -> \u001b[32m2\u001b[39m)"
      ]
     },
     "execution_count": 56,
     "metadata": {},
     "output_type": "execute_result"
    }
   ],
   "source": [
    "val score_mut = scala.collection.mutable.Map(\"A\" -> 1, \"B\" -> 2)\n",
    "score_mut += \"C\" -> 3\n",
    "print(score_mut)\n",
    "score_mut(\"D\") = 4\n",
    "print(score_mut)\n",
    "score_mut -= \"D\"\n",
    "print(score_mut)"
   ]
  },
  {
   "cell_type": "code",
   "execution_count": 57,
   "metadata": {},
   "outputs": [
    {
     "data": {
      "text/plain": [
       "\u001b[36mascore\u001b[39m: \u001b[32mInt\u001b[39m = \u001b[32m1\u001b[39m\n",
       "\u001b[36mbscore\u001b[39m: \u001b[32mInt\u001b[39m = \u001b[32m1\u001b[39m\n",
       "\u001b[36mcscore\u001b[39m: \u001b[32mInt\u001b[39m = \u001b[32m1\u001b[39m"
      ]
     },
     "execution_count": 57,
     "metadata": {},
     "output_type": "execute_result"
    }
   ],
   "source": [
    "val ascore = scores(\"a\")\n",
    "val bscore = if (scores.contains(\"a\")) scores(\"a\") else 0\n",
    "val cscore = scores.getOrElse(\"a\",0)"
   ]
  },
  {
   "cell_type": "code",
   "execution_count": 58,
   "metadata": {},
   "outputs": [
    {
     "name": "stdout",
     "output_type": "stream",
     "text": [
      "(a,1)\n",
      "(b,2)\n"
     ]
    },
    {
     "data": {
      "text/plain": [
       "\u001b[36mm\u001b[39m: \u001b[32mMap\u001b[39m[\u001b[32mString\u001b[39m, \u001b[32mInt\u001b[39m] = \u001b[33mMap\u001b[39m(\u001b[32m\"a\"\u001b[39m -> \u001b[32m1\u001b[39m, \u001b[32m\"b\"\u001b[39m -> \u001b[32m2\u001b[39m)"
      ]
     },
     "execution_count": 58,
     "metadata": {},
     "output_type": "execute_result"
    }
   ],
   "source": [
    "val m = Map(\"a\" -> 1, \"b\" -> 2)\n",
    "for ( (k,v) <- m) \n",
    "{\n",
    "    println(k,v)\n",
    "}"
   ]
  },
  {
   "cell_type": "code",
   "execution_count": 59,
   "metadata": {},
   "outputs": [
    {
     "data": {
      "text/plain": [
       "\u001b[36mres58\u001b[39m: \u001b[32mMap\u001b[39m[\u001b[32mInt\u001b[39m, \u001b[32mString\u001b[39m] = \u001b[33mMap\u001b[39m(\u001b[32m1\u001b[39m -> \u001b[32m\"a\"\u001b[39m, \u001b[32m2\u001b[39m -> \u001b[32m\"b\"\u001b[39m)"
      ]
     },
     "execution_count": 59,
     "metadata": {},
     "output_type": "execute_result"
    }
   ],
   "source": [
    "//Reverse A map\n",
    "for ( (k,v) <- m )\n",
    "yield(v,k)"
   ]
  },
  {
   "cell_type": "markdown",
   "metadata": {},
   "source": [
    "# Sorted Map"
   ]
  },
  {
   "cell_type": "code",
   "execution_count": 59,
   "metadata": {},
   "outputs": [],
   "source": [
    "//val scores = scala.collection.mutable.TreeMap[Char, Char]() Not runnable for some reason"
   ]
  },
  {
   "cell_type": "code",
   "execution_count": 60,
   "metadata": {},
   "outputs": [
    {
     "data": {
      "text/plain": [
       "\u001b[36mres59\u001b[39m: (\u001b[32mInt\u001b[39m, \u001b[32mDouble\u001b[39m, \u001b[32mString\u001b[39m) = (\u001b[32m1\u001b[39m, \u001b[32m3.14\u001b[39m, \u001b[32m\"Fred\"\u001b[39m)"
      ]
     },
     "execution_count": 60,
     "metadata": {},
     "output_type": "execute_result"
    }
   ],
   "source": [
    "(1, 3.14, \"Fred\")"
   ]
  },
  {
   "cell_type": "markdown",
   "metadata": {},
   "source": [
    "# Tuples"
   ]
  },
  {
   "cell_type": "code",
   "execution_count": 61,
   "metadata": {},
   "outputs": [
    {
     "data": {
      "text/plain": [
       "\u001b[36mt\u001b[39m: (\u001b[32mInt\u001b[39m, \u001b[32mDouble\u001b[39m, \u001b[32mString\u001b[39m) = (\u001b[32m1\u001b[39m, \u001b[32m3.14\u001b[39m, \u001b[32m\"Fred\"\u001b[39m)\n",
       "\u001b[36msec\u001b[39m: \u001b[32mDouble\u001b[39m = \u001b[32m3.14\u001b[39m\n",
       "\u001b[36mfirst\u001b[39m: \u001b[32mInt\u001b[39m = \u001b[32m1\u001b[39m\n",
       "\u001b[36msecond\u001b[39m: \u001b[32mDouble\u001b[39m = \u001b[32m3.14\u001b[39m\n",
       "\u001b[36mthird\u001b[39m: \u001b[32mString\u001b[39m = \u001b[32m\"Fred\"\u001b[39m"
      ]
     },
     "execution_count": 61,
     "metadata": {},
     "output_type": "execute_result"
    }
   ],
   "source": [
    "val t = (1, 3.14, \"Fred\")\n",
    "val sec = t._2\n",
    "val (first, second, third) = t"
   ]
  },
  {
   "cell_type": "markdown",
   "metadata": {},
   "source": [
    "# Zipping"
   ]
  },
  {
   "cell_type": "code",
   "execution_count": 62,
   "metadata": {},
   "outputs": [
    {
     "data": {
      "text/plain": [
       "\u001b[36msymbols\u001b[39m: \u001b[32mArray\u001b[39m[\u001b[32mString\u001b[39m] = \u001b[33mArray\u001b[39m(\u001b[32m\"<\"\u001b[39m, \u001b[32m\"-\"\u001b[39m, \u001b[32m\">\"\u001b[39m)"
      ]
     },
     "execution_count": 62,
     "metadata": {},
     "output_type": "execute_result"
    }
   ],
   "source": [
    "val symbols = Array(\"<\", \"-\", \">\")"
   ]
  },
  {
   "cell_type": "code",
   "execution_count": 63,
   "metadata": {},
   "outputs": [
    {
     "data": {
      "text/plain": [
       "\u001b[36mcounts\u001b[39m: \u001b[32mArray\u001b[39m[\u001b[32mInt\u001b[39m] = \u001b[33mArray\u001b[39m(\u001b[32m2\u001b[39m, \u001b[32m10\u001b[39m, \u001b[32m2\u001b[39m)"
      ]
     },
     "execution_count": 63,
     "metadata": {},
     "output_type": "execute_result"
    }
   ],
   "source": [
    "val counts = Array(2,10,2)"
   ]
  },
  {
   "cell_type": "code",
   "execution_count": 64,
   "metadata": {},
   "outputs": [
    {
     "data": {
      "text/plain": [
       "\u001b[36mpairs\u001b[39m: \u001b[32mArray\u001b[39m[(\u001b[32mString\u001b[39m, \u001b[32mInt\u001b[39m)] = \u001b[33mArray\u001b[39m((\u001b[32m\"<\"\u001b[39m, \u001b[32m2\u001b[39m), (\u001b[32m\"-\"\u001b[39m, \u001b[32m10\u001b[39m), (\u001b[32m\">\"\u001b[39m, \u001b[32m2\u001b[39m))"
      ]
     },
     "execution_count": 64,
     "metadata": {},
     "output_type": "execute_result"
    }
   ],
   "source": [
    "var pairs = symbols.zip(counts)"
   ]
  },
  {
   "cell_type": "code",
   "execution_count": 65,
   "metadata": {},
   "outputs": [
    {
     "data": {
      "text/plain": [
       "\u001b[36mres64\u001b[39m: \u001b[32mArray\u001b[39m[(\u001b[32mInt\u001b[39m, \u001b[32mString\u001b[39m)] = \u001b[33mArray\u001b[39m(\n",
       "  (\u001b[32m2\u001b[39m, \u001b[32m\"<\"\u001b[39m),\n",
       "  (\u001b[32m2\u001b[39m, \u001b[32m\"-\"\u001b[39m),\n",
       "  (\u001b[32m2\u001b[39m, \u001b[32m\">\"\u001b[39m),\n",
       "  (\u001b[32m10\u001b[39m, \u001b[32m\"<\"\u001b[39m),\n",
       "  (\u001b[32m10\u001b[39m, \u001b[32m\"-\"\u001b[39m),\n",
       "  (\u001b[32m10\u001b[39m, \u001b[32m\">\"\u001b[39m),\n",
       "  (\u001b[32m2\u001b[39m, \u001b[32m\"<\"\u001b[39m),\n",
       "  (\u001b[32m2\u001b[39m, \u001b[32m\"-\"\u001b[39m),\n",
       "  (\u001b[32m2\u001b[39m, \u001b[32m\">\"\u001b[39m)\n",
       ")"
      ]
     },
     "execution_count": 65,
     "metadata": {},
     "output_type": "execute_result"
    }
   ],
   "source": [
    "for (count <- counts; symbol <- symbols) yield (count,symbol)"
   ]
  },
  {
   "cell_type": "markdown",
   "metadata": {},
   "source": [
    "# Identifiers"
   ]
  },
  {
   "cell_type": "markdown",
   "metadata": {},
   "source": [
    "Unicode characters are allowed. U can also use operator characters in identifies:"
   ]
  },
  {
   "cell_type": "code",
   "execution_count": 66,
   "metadata": {},
   "outputs": [
    {
     "data": {
      "text/plain": [
       "\u001b[36m√\u001b[39m: \u001b[32mDouble\u001b[39m => \u001b[32mDouble\u001b[39m = <function1>"
      ]
     },
     "execution_count": 66,
     "metadata": {},
     "output_type": "execute_result"
    }
   ],
   "source": [
    "val √ = scala.math.sqrt _ // Defines a function"
   ]
  },
  {
   "cell_type": "markdown",
   "metadata": {},
   "source": [
    "# Infix Operators"
   ]
  },
  {
   "cell_type": "markdown",
   "metadata": {},
   "source": [
    "Binary operators\n",
    "\n",
    "You can write\n",
    " \n",
    "a identifier b\n",
    "\n",
    "This is actually a method call"
   ]
  },
  {
   "cell_type": "code",
   "execution_count": 67,
   "metadata": {},
   "outputs": [
    {
     "data": {
      "text/plain": [
       "\u001b[36mres66_0\u001b[39m: \u001b[32mRange\u001b[39m.\u001b[32mInclusive\u001b[39m = \u001b[33mRange\u001b[39m(\u001b[32m1\u001b[39m, \u001b[32m2\u001b[39m, \u001b[32m3\u001b[39m, \u001b[32m4\u001b[39m, \u001b[32m5\u001b[39m, \u001b[32m6\u001b[39m, \u001b[32m7\u001b[39m, \u001b[32m8\u001b[39m, \u001b[32m9\u001b[39m, \u001b[32m10\u001b[39m)\n",
       "\u001b[36mres66_1\u001b[39m: \u001b[32mRange\u001b[39m.\u001b[32mInclusive\u001b[39m = \u001b[33mRange\u001b[39m(\u001b[32m1\u001b[39m, \u001b[32m2\u001b[39m, \u001b[32m3\u001b[39m, \u001b[32m4\u001b[39m, \u001b[32m5\u001b[39m, \u001b[32m6\u001b[39m, \u001b[32m7\u001b[39m, \u001b[32m8\u001b[39m, \u001b[32m9\u001b[39m, \u001b[32m10\u001b[39m)"
      ]
     },
     "execution_count": 67,
     "metadata": {},
     "output_type": "execute_result"
    }
   ],
   "source": [
    "1 to 10\n",
    "1.to(10)"
   ]
  },
  {
   "cell_type": "markdown",
   "metadata": {},
   "source": [
    "This is called an infix expression because the operator is between the arguments. The operator can contain letters or operator characters"
   ]
  },
  {
   "cell_type": "code",
   "execution_count": 68,
   "metadata": {},
   "outputs": [
    {
     "data": {
      "text/plain": [
       "\u001b[36mres67_0\u001b[39m: (\u001b[32mInt\u001b[39m, \u001b[32mInt\u001b[39m) = (\u001b[32m1\u001b[39m, \u001b[32m10\u001b[39m)\n",
       "\u001b[36mres67_1\u001b[39m: (\u001b[32mInt\u001b[39m, \u001b[32mInt\u001b[39m) = (\u001b[32m1\u001b[39m, \u001b[32m10\u001b[39m)"
      ]
     },
     "execution_count": 68,
     "metadata": {},
     "output_type": "execute_result"
    }
   ],
   "source": [
    "1 -> 10\n",
    "1.->(10)"
   ]
  },
  {
   "cell_type": "markdown",
   "metadata": {},
   "source": [
    "To define an operator in your own class, simply define a method whose name is taht of the desired operator. "
   ]
  },
  {
   "cell_type": "code",
   "execution_count": 69,
   "metadata": {},
   "outputs": [
    {
     "name": "stdout",
     "output_type": "stream",
     "text": [
      "(6,4)\n"
     ]
    },
    {
     "data": {
      "text/plain": [
       "defined \u001b[32mclass\u001b[39m \u001b[36mFraction\u001b[39m\n",
       "\u001b[36mb\u001b[39m: \u001b[32mFraction\u001b[39m = $sess.cmd68Wrapper$Helper$Fraction@4b99aedc\n",
       "\u001b[36ma\u001b[39m: \u001b[32mFraction\u001b[39m = $sess.cmd68Wrapper$Helper$Fraction@70235454"
      ]
     },
     "execution_count": 69,
     "metadata": {},
     "output_type": "execute_result"
    }
   ],
   "source": [
    "class Fraction(n:Int, d:Int)\n",
    "{\n",
    "    private val mn:Int = n\n",
    "    private val md:Int = d\n",
    "    \n",
    "    def *(other:Fraction) = new Fraction(mn * other.mn, md * other.md)\n",
    "    def printval() = println(mn,md)\n",
    "}\n",
    "val b = new Fraction(3,1)\n",
    "val a = new Fraction(2,4)\n",
    "(a*b).printval"
   ]
  },
  {
   "cell_type": "markdown",
   "metadata": {},
   "source": [
    "# Unary Operators"
   ]
  },
  {
   "cell_type": "markdown",
   "metadata": {},
   "source": [
    "Four operators are allowed as prefix operators -- +, -, !, ~.\n",
    "\n",
    "They are converted into calls to methods with the name unary_opeartor."
   ]
  },
  {
   "cell_type": "code",
   "execution_count": 70,
   "metadata": {},
   "outputs": [
    {
     "data": {
      "text/plain": [
       "\u001b[36ma\u001b[39m: \u001b[32mInt\u001b[39m = \u001b[32m3\u001b[39m\n",
       "\u001b[36mres69_1\u001b[39m: \u001b[32mInt\u001b[39m = \u001b[32m-3\u001b[39m\n",
       "\u001b[36mres69_2\u001b[39m: \u001b[32mInt\u001b[39m = \u001b[32m-3\u001b[39m"
      ]
     },
     "execution_count": 70,
     "metadata": {},
     "output_type": "execute_result"
    }
   ],
   "source": [
    "var a = 3\n",
    "-a\n",
    "a.unary_-"
   ]
  },
  {
   "cell_type": "markdown",
   "metadata": {},
   "source": [
    "If a unary operator follows its argument, it is postfixed operator. \n",
    "\n",
    "a identifier\n",
    "\n",
    "It's the same as call a.identifier()"
   ]
  },
  {
   "cell_type": "code",
   "execution_count": 71,
   "metadata": {},
   "outputs": [
    {
     "data": {
      "text/plain": [
       "\u001b[36mres70_0\u001b[39m: \u001b[32mString\u001b[39m = \u001b[32m\"42\"\u001b[39m\n",
       "\u001b[36mres70_1\u001b[39m: \u001b[32mString\u001b[39m = \u001b[32m\"42\"\u001b[39m"
      ]
     },
     "execution_count": 71,
     "metadata": {},
     "output_type": "execute_result"
    }
   ],
   "source": [
    "42 toString\n",
    "\n",
    "42.toString()"
   ]
  },
  {
   "cell_type": "markdown",
   "metadata": {},
   "source": [
    "# Assignment Operator\n",
    "\n",
    "a operator=b \n",
    "\n",
    "a = a operator b"
   ]
  },
  {
   "cell_type": "markdown",
   "metadata": {},
   "source": [
    "# Precedence\n",
    "Two or more operators in a row without parenthesis, the ones with higher precedence are executed first. See 145/168 for e.g."
   ]
  },
  {
   "cell_type": "markdown",
   "metadata": {},
   "source": [
    "# Associativity"
   ]
  },
  {
   "cell_type": "markdown",
   "metadata": {},
   "source": [
    "When you have a sequence of operators of the same precedence, the associativity determines whether they are evaluated left to right or right to left."
   ]
  },
  {
   "cell_type": "code",
   "execution_count": 72,
   "metadata": {},
   "outputs": [
    {
     "data": {
      "text/plain": [
       "\u001b[36mres71\u001b[39m: \u001b[32mInt\u001b[39m = \u001b[32m6\u001b[39m"
      ]
     },
     "execution_count": 72,
     "metadata": {},
     "output_type": "execute_result"
    }
   ],
   "source": [
    "//left - right\n",
    "17 - 2 - 9"
   ]
  },
  {
   "cell_type": "markdown",
   "metadata": {},
   "source": [
    "In scala, all operators are left-associated except:\n",
    "operators that end in \":\" and assignment operators like \"=\""
   ]
  },
  {
   "cell_type": "code",
   "execution_count": 73,
   "metadata": {},
   "outputs": [
    {
     "data": {
      "text/plain": [
       "\u001b[36mres72\u001b[39m: \u001b[32mList\u001b[39m[\u001b[32mInt\u001b[39m] = \u001b[33mList\u001b[39m(\u001b[32m1\u001b[39m, \u001b[32m2\u001b[39m)"
      ]
     },
     "execution_count": 73,
     "metadata": {},
     "output_type": "execute_result"
    }
   ],
   "source": [
    "1 :: 2 :: Nil //Constructing lists."
   ]
  },
  {
   "cell_type": "code",
   "execution_count": 74,
   "metadata": {},
   "outputs": [
    {
     "data": {
      "text/plain": [
       "\u001b[36mres73\u001b[39m: \u001b[32mList\u001b[39m[\u001b[32mInt\u001b[39m] = \u001b[33mList\u001b[39m(\u001b[32m1\u001b[39m, \u001b[32m3\u001b[39m)"
      ]
     },
     "execution_count": 74,
     "metadata": {},
     "output_type": "execute_result"
    }
   ],
   "source": [
    "1 :: (3 :: Nil) // First need to form a list containing 2, and that list becomes the tail of the list whose head is 1."
   ]
  },
  {
   "cell_type": "code",
   "execution_count": 75,
   "metadata": {},
   "outputs": [
    {
     "data": {
      "text/plain": [
       "\u001b[36mres74_0\u001b[39m: \u001b[32mList\u001b[39m[\u001b[32mInt\u001b[39m] = \u001b[33mList\u001b[39m(\u001b[32m2\u001b[39m)\n",
       "\u001b[36mres74_1\u001b[39m: \u001b[32mList\u001b[39m[\u001b[32mInt\u001b[39m] = \u001b[33mList\u001b[39m(\u001b[32m2\u001b[39m)"
      ]
     },
     "execution_count": 75,
     "metadata": {},
     "output_type": "execute_result"
    }
   ],
   "source": [
    "2 :: Nil\n",
    "Nil.::(2)"
   ]
  },
  {
   "cell_type": "markdown",
   "metadata": {},
   "source": [
    "# Higher Order Functions"
   ]
  },
  {
   "cell_type": "markdown",
   "metadata": {},
   "source": [
    "You can sotre a function ina variable."
   ]
  },
  {
   "cell_type": "code",
   "execution_count": 76,
   "metadata": {},
   "outputs": [
    {
     "data": {
      "text/plain": [
       "\u001b[32mimport \u001b[39m\u001b[36mscala.math._\n",
       "\u001b[39m\n",
       "\u001b[36mnum\u001b[39m: \u001b[32mDouble\u001b[39m = \u001b[32m3.14\u001b[39m\n",
       "\u001b[36mfun\u001b[39m: \u001b[32mDouble\u001b[39m => \u001b[32mDouble\u001b[39m = <function1>"
      ]
     },
     "execution_count": 76,
     "metadata": {},
     "output_type": "execute_result"
    }
   ],
   "source": [
    "import scala.math._\n",
    "val num = 3.14\n",
    "// the _ behind ceil function indicates that you really meant the function, and you didnt just foreget to supply the arguments\n",
    "val fun = ceil _"
   ]
  },
  {
   "cell_type": "markdown",
   "metadata": {},
   "source": [
    "Method: function of a class/object -- ceil from scala.math object\n",
    "\n",
    "Technically, _ turns the ceil method into a function. In scla, you cannot manipulate methods, only functions. The type of the function is Double => Double. In contrast, the type of the ceil  method is (Double)Double, without an arrow.\n",
    "\n",
    "If you have a method from a class. The syntax is slightly different."
   ]
  },
  {
   "cell_type": "code",
   "execution_count": 77,
   "metadata": {},
   "outputs": [
    {
     "data": {
      "text/plain": [
       "\u001b[36mf\u001b[39m: (\u001b[32mString\u001b[39m, \u001b[32mInt\u001b[39m) => \u001b[32mChar\u001b[39m = <function2>\n",
       "\u001b[36mf1\u001b[39m: (\u001b[32mString\u001b[39m, \u001b[32mInt\u001b[39m) => \u001b[32mChar\u001b[39m = <function2>"
      ]
     },
     "execution_count": 77,
     "metadata": {},
     "output_type": "execute_result"
    }
   ],
   "source": [
    "val f = (_:String).charAt(_:Int) // specifies a function\n",
    "val f1 : (String,Int) => Char = _.charAt(_)"
   ]
  },
  {
   "cell_type": "markdown",
   "metadata": {},
   "source": [
    "What can you do with a func? \n",
    "* call it\n",
    "* pass it around"
   ]
  },
  {
   "cell_type": "code",
   "execution_count": 78,
   "metadata": {},
   "outputs": [
    {
     "data": {
      "text/plain": [
       "\u001b[36mres77\u001b[39m: \u001b[32mDouble\u001b[39m = \u001b[32m5.0\u001b[39m"
      ]
     },
     "execution_count": 78,
     "metadata": {},
     "output_type": "execute_result"
    }
   ],
   "source": [
    "fun(4.5)"
   ]
  },
  {
   "cell_type": "code",
   "execution_count": 79,
   "metadata": {},
   "outputs": [
    {
     "data": {
      "text/plain": [
       "\u001b[36mres78\u001b[39m: \u001b[32mArray\u001b[39m[\u001b[32mDouble\u001b[39m] = \u001b[33mArray\u001b[39m(\u001b[32m4.0\u001b[39m, \u001b[32m2.0\u001b[39m, \u001b[32m2.0\u001b[39m)"
      ]
     },
     "execution_count": 79,
     "metadata": {},
     "output_type": "execute_result"
    }
   ],
   "source": [
    "Array(3.14,1.42,2.0).map(fun)"
   ]
  },
  {
   "cell_type": "markdown",
   "metadata": {},
   "source": [
    "# Anonymous Func\n",
    "You dont have to name the function"
   ]
  },
  {
   "cell_type": "code",
   "execution_count": 80,
   "metadata": {},
   "outputs": [
    {
     "data": {
      "text/plain": [
       "\u001b[36mres79_0\u001b[39m: \u001b[32mDouble\u001b[39m => \u001b[32mDouble\u001b[39m = <function1>\n",
       "\u001b[36mtri1\u001b[39m: \u001b[32mDouble\u001b[39m => \u001b[32mDouble\u001b[39m = <function1>\n",
       "defined \u001b[32mfunction\u001b[39m \u001b[36mtri2\u001b[39m"
      ]
     },
     "execution_count": 80,
     "metadata": {},
     "output_type": "execute_result"
    }
   ],
   "source": [
    "(x:Double) => 3*x\n",
    "val tri1 = (x:Double) => 3*x\n",
    "def tri2(x:Double) = 3 * x"
   ]
  },
  {
   "cell_type": "code",
   "execution_count": 81,
   "metadata": {},
   "outputs": [
    {
     "data": {
      "text/plain": [
       "\u001b[36mres80_0\u001b[39m: \u001b[32mArray\u001b[39m[\u001b[32mDouble\u001b[39m] = \u001b[33mArray\u001b[39m(\u001b[32m9.42\u001b[39m, \u001b[32m4.26\u001b[39m, \u001b[32m6.0\u001b[39m)\n",
       "\u001b[36mres80_1\u001b[39m: \u001b[32mArray\u001b[39m[\u001b[32mDouble\u001b[39m] = \u001b[33mArray\u001b[39m(\u001b[32m9.42\u001b[39m, \u001b[32m4.26\u001b[39m, \u001b[32m6.0\u001b[39m)"
      ]
     },
     "execution_count": 81,
     "metadata": {},
     "output_type": "execute_result"
    }
   ],
   "source": [
    "Array(3.14,1.42,2.0).map((x:Double) => 3*x)\n",
    "Array(3.14,1.42,2.0).map{(x:Double) => 3*x} //braces is also fine"
   ]
  },
  {
   "cell_type": "markdown",
   "metadata": {},
   "source": [
    "Anything defined with def in REPL or a class or object is a method, not a function. Not like jupyter. So Jupyter is misleading. A function def has a function type"
   ]
  },
  {
   "cell_type": "code",
   "execution_count": 81,
   "metadata": {},
   "outputs": [],
   "source": [
    "//def triple(x:Double) = 3 * x //method\n",
    "//val triple = (x:Double) => 3*x //func"
   ]
  },
  {
   "cell_type": "markdown",
   "metadata": {},
   "source": [
    "# Function with Function Para"
   ]
  },
  {
   "cell_type": "code",
   "execution_count": 82,
   "metadata": {},
   "outputs": [
    {
     "data": {
      "text/plain": [
       "defined \u001b[32mfunction\u001b[39m \u001b[36mval_at_a_quater\u001b[39m\n",
       "\u001b[36mres81_1\u001b[39m: \u001b[32mDouble\u001b[39m = \u001b[32m1.0\u001b[39m\n",
       "\u001b[36mres81_2\u001b[39m: \u001b[32mDouble\u001b[39m = \u001b[32m0.5\u001b[39m"
      ]
     },
     "execution_count": 82,
     "metadata": {},
     "output_type": "execute_result"
    }
   ],
   "source": [
    "def val_at_a_quater(f:(Double) => Double) = f(0.25)\n",
    "val_at_a_quater(ceil _)\n",
    "val_at_a_quater(sqrt _)"
   ]
  },
  {
   "cell_type": "markdown",
   "metadata": {},
   "source": [
    "What's the type of val_at_a_quater? It's a function with one parameter, so it is written as (Param) => result.\n",
    "\n",
    "parametertype is a func. So it is \n",
    "\n",
    "( (Double) => Double) => Double"
   ]
  },
  {
   "cell_type": "markdown",
   "metadata": {},
   "source": [
    "A function can also produce a function:"
   ]
  },
  {
   "cell_type": "code",
   "execution_count": 83,
   "metadata": {},
   "outputs": [
    {
     "data": {
      "text/plain": [
       "defined \u001b[32mfunction\u001b[39m \u001b[36mmulBy\u001b[39m\n",
       "\u001b[36mtime5\u001b[39m: \u001b[32mDouble\u001b[39m => \u001b[32mDouble\u001b[39m = <function1>\n",
       "\u001b[36mres82_2\u001b[39m: \u001b[32mDouble\u001b[39m = \u001b[32m100.0\u001b[39m"
      ]
     },
     "execution_count": 83,
     "metadata": {},
     "output_type": "execute_result"
    }
   ],
   "source": [
    "def mulBy(factor:Double) = (x:Double) => factor * x //see produce a func that takes x and factor x.\n",
    "val time5 = mulBy(5)\n",
    "time5(20)"
   ]
  },
  {
   "cell_type": "markdown",
   "metadata": {},
   "source": [
    "The type of mulBy: \n",
    "\n",
    "(Double) => ( (Double) => Double)"
   ]
  },
  {
   "cell_type": "markdown",
   "metadata": {},
   "source": [
    "# Parameter Inference"
   ]
  },
  {
   "cell_type": "markdown",
   "metadata": {},
   "source": [
    "When you pass an anonymous func to another fun/method. scala helps you deduce types when possible."
   ]
  },
  {
   "cell_type": "code",
   "execution_count": 84,
   "metadata": {},
   "outputs": [
    {
     "data": {
      "text/plain": [
       "defined \u001b[32mfunction\u001b[39m \u001b[36mtest_f\u001b[39m\n",
       "\u001b[36mres83_1\u001b[39m: \u001b[32mDouble\u001b[39m = \u001b[32m0.75\u001b[39m\n",
       "\u001b[36mres83_2\u001b[39m: \u001b[32mDouble\u001b[39m = \u001b[32m0.75\u001b[39m\n",
       "\u001b[36mres83_3\u001b[39m: \u001b[32mDouble\u001b[39m = \u001b[32m0.75\u001b[39m\n",
       "\u001b[36mres83_4\u001b[39m: \u001b[32mDouble\u001b[39m = \u001b[32m0.75\u001b[39m"
      ]
     },
     "execution_count": 84,
     "metadata": {},
     "output_type": "execute_result"
    }
   ],
   "source": [
    "def test_f(f:(Double) => Double) = f(0.25) //func test_f takes in a func f with double -> double. and call f(0.25)\n",
    "//You dont have to write\n",
    "test_f((x:Double) => 3 * (x))\n",
    "//You just write:\n",
    "test_f( (x) => 3 * x)\n",
    "//If func only has one para,\n",
    "test_f( x => 3 *x)\n",
    "// If a parameter occurs only once on the right hand side of the =>, replace with underscore.\n",
    "test_f(3 * _)"
   ]
  },
  {
   "cell_type": "markdown",
   "metadata": {},
   "source": [
    "It only works when the parameter types are known.\n",
    "```scala\n",
    "val fun = 3 * _ //cant infer type\n",
    "val fun = 3 * (_:Double)//Ok\n",
    "val fun:(Double) => Double = 3*_ //Ok\n",
    "```"
   ]
  },
  {
   "cell_type": "markdown",
   "metadata": {},
   "source": [
    "# Use higher Order func"
   ]
  },
  {
   "cell_type": "code",
   "execution_count": 85,
   "metadata": {},
   "outputs": [
    {
     "data": {
      "text/plain": [
       "\u001b[36mres84\u001b[39m: \u001b[32mcollection\u001b[39m.\u001b[32mimmutable\u001b[39m.\u001b[32mIndexedSeq\u001b[39m[\u001b[32mDouble\u001b[39m] = \u001b[33mVector\u001b[39m(\u001b[32m0.1\u001b[39m, \u001b[32m0.2\u001b[39m, \u001b[32m0.30000000000000004\u001b[39m)"
      ]
     },
     "execution_count": 85,
     "metadata": {},
     "output_type": "execute_result"
    }
   ],
   "source": [
    "(1 to 3).map(0.1 * _)"
   ]
  },
  {
   "cell_type": "code",
   "execution_count": 86,
   "metadata": {},
   "outputs": [
    {
     "name": "stdout",
     "output_type": "stream",
     "text": [
      "*\n",
      "**\n",
      "***\n"
     ]
    }
   ],
   "source": [
    "(1 to 3).map(\"*\" * _).foreach(println)"
   ]
  },
  {
   "cell_type": "code",
   "execution_count": 87,
   "metadata": {},
   "outputs": [
    {
     "data": {
      "text/plain": [
       "\u001b[36mres86\u001b[39m: \u001b[32mcollection\u001b[39m.\u001b[32mimmutable\u001b[39m.\u001b[32mIndexedSeq\u001b[39m[\u001b[32mInt\u001b[39m] = \u001b[33mVector\u001b[39m(\u001b[32m2\u001b[39m, \u001b[32m4\u001b[39m)"
      ]
     },
     "execution_count": 87,
     "metadata": {},
     "output_type": "execute_result"
    }
   ],
   "source": [
    "(1 to 5).filter(_ % 2 == 0)"
   ]
  },
  {
   "cell_type": "code",
   "execution_count": 88,
   "metadata": {},
   "outputs": [
    {
     "data": {
      "text/plain": [
       "\u001b[36mres87\u001b[39m: \u001b[32mInt\u001b[39m = \u001b[32m120\u001b[39m"
      ]
     },
     "execution_count": 88,
     "metadata": {},
     "output_type": "execute_result"
    }
   ],
   "source": [
    "(1 to 5).reduceLeft(_ * _)"
   ]
  },
  {
   "cell_type": "markdown",
   "metadata": {},
   "source": [
    "# Closure"
   ]
  },
  {
   "cell_type": "markdown",
   "metadata": {},
   "source": [
    "Define a function inside any scope: in a package, in a class or even inside another function / method. A closure consists of code together with the definitions of any nonlocal vairables that the code uses. These funcs are implemented as objects of classes. See 163/186"
   ]
  },
  {
   "cell_type": "markdown",
   "metadata": {},
   "source": [
    "# Curry"
   ]
  },
  {
   "cell_type": "markdown",
   "metadata": {},
   "source": [
    "Curry is the process of returning a function that takes two args into a func that takes one argument."
   ]
  },
  {
   "cell_type": "code",
   "execution_count": 89,
   "metadata": {},
   "outputs": [
    {
     "data": {
      "text/plain": [
       "\u001b[36mmul\u001b[39m: (\u001b[32mInt\u001b[39m, \u001b[32mInt\u001b[39m) => \u001b[32mInt\u001b[39m = <function2>\n",
       "\u001b[36mmulOneAtTime\u001b[39m: \u001b[32mInt\u001b[39m => \u001b[32mInt\u001b[39m => \u001b[32mInt\u001b[39m = <function1>\n",
       "\u001b[36mres88_2\u001b[39m: \u001b[32mInt\u001b[39m = \u001b[32m42\u001b[39m\n",
       "defined \u001b[32mfunction\u001b[39m \u001b[36mmulOneAtATime1\u001b[39m\n",
       "\u001b[36mres88_4\u001b[39m: \u001b[32mInt\u001b[39m = \u001b[32m12\u001b[39m"
      ]
     },
     "execution_count": 89,
     "metadata": {},
     "output_type": "execute_result"
    }
   ],
   "source": [
    "val mul = (x:Int, y:Int) => x*y\n",
    "\n",
    "// Curry func in variable\n",
    "val mulOneAtTime = (x:Int) => ((y:Int) => x*y)\n",
    "mulOneAtTime(6)(7)\n",
    "\n",
    "// Curry func in func def\n",
    "def mulOneAtATime1(x:Int)(y:Int) = x*y\n",
    "mulOneAtATime1(3)(4)"
   ]
  },
  {
   "cell_type": "markdown",
   "metadata": {},
   "source": [
    "# Return Func\n",
    "In scala, you dont need return to return func values. The return value is simply the value of the function body.\n",
    "\n",
    "However, you can use return to return a value from an anonymous function to an enclosing named function."
   ]
  },
  {
   "cell_type": "code",
   "execution_count": 90,
   "metadata": {},
   "outputs": [
    {
     "data": {
      "text/plain": [
       "defined \u001b[32mfunction\u001b[39m \u001b[36mindexOf\u001b[39m\n",
       "\u001b[36mres89_1\u001b[39m: \u001b[32mInt\u001b[39m = \u001b[32m1\u001b[39m"
      ]
     },
     "execution_count": 90,
     "metadata": {},
     "output_type": "execute_result"
    }
   ],
   "source": [
    "def indexOf(str: String, ch: Char):Int = {\n",
    "    var i = 0\n",
    "    while (i != str.length){\n",
    "        if (str(i) == ch) return i // return from a closure.\n",
    "        i += 1\n",
    "    }\n",
    "    return -1\n",
    "}\n",
    "indexOf(\"adfadfs\",'d')"
   ]
  },
  {
   "cell_type": "markdown",
   "metadata": {},
   "source": [
    "The below part can be viewed as anonymous func. If you use return, you need to specify return type\n",
    "```scala\n",
    "{\n",
    "        if (str(i) == ch) return i // return from a closure.\n",
    "        i += 1\n",
    "}\n",
    "```"
   ]
  },
  {
   "cell_type": "markdown",
   "metadata": {},
   "source": [
    "# Switch Statment"
   ]
  },
  {
   "cell_type": "code",
   "execution_count": 91,
   "metadata": {},
   "outputs": [
    {
     "data": {
      "text/plain": [
       "\u001b[36mch\u001b[39m: \u001b[32mChar\u001b[39m = \u001b[32m'*'\u001b[39m\n",
       "\u001b[36msign\u001b[39m: \u001b[32mInt\u001b[39m = \u001b[32m0\u001b[39m"
      ]
     },
     "execution_count": 91,
     "metadata": {},
     "output_type": "execute_result"
    }
   ],
   "source": [
    "val ch = '*'\n",
    "var sign = ch match {\n",
    "    case '+'| '(' | ')' => 1\n",
    "    case '=' => 2\n",
    "    case _ => 0\n",
    "}"
   ]
  },
  {
   "cell_type": "markdown",
   "metadata": {},
   "source": [
    "# Guard Statment\n",
    "Guard statment can be any Boolean condition."
   ]
  },
  {
   "cell_type": "code",
   "execution_count": 92,
   "metadata": {},
   "outputs": [
    {
     "data": {
      "text/plain": [
       "\u001b[36mt1\u001b[39m: \u001b[32mInt\u001b[39m = \u001b[32m5\u001b[39m\n",
       "\u001b[36msign\u001b[39m: \u001b[32mInt\u001b[39m = \u001b[32m0\u001b[39m"
      ]
     },
     "execution_count": 92,
     "metadata": {},
     "output_type": "execute_result"
    }
   ],
   "source": [
    "val t1 = 5\n",
    "var sign = t1 match {\n",
    "    case _ if Character.isDigit(t1) => Character.digit(t1,10)\n",
    "    case '+'| '(' | ')' => 1\n",
    "    case '=' => 2\n",
    "    case _ => 0\n",
    "}"
   ]
  },
  {
   "cell_type": "code",
   "execution_count": 93,
   "metadata": {},
   "outputs": [
    {
     "name": "stdout",
     "output_type": "stream",
     "text": [
      "5"
     ]
    },
    {
     "data": {
      "text/plain": [
       "\u001b[36mch\u001b[39m: \u001b[32mChar\u001b[39m = \u001b[32m'f'\u001b[39m\n",
       "\u001b[36mdigit\u001b[39m: \u001b[32mInt\u001b[39m = \u001b[32m5\u001b[39m\n",
       "\u001b[36mstr\u001b[39m: \u001b[32mString\u001b[39m = \u001b[32m\"dfasdf\"\u001b[39m\n",
       "\u001b[36mres92_3\u001b[39m: \u001b[32mAnyVal\u001b[39m = ()"
      ]
     },
     "execution_count": 93,
     "metadata": {},
     "output_type": "execute_result"
    }
   ],
   "source": [
    "var ch = 'f'\n",
    "var digit = -1\n",
    "val str = \"dfasdf\"\n",
    "\n",
    "//basically you can also use a var in switch case\n",
    "str(1) match{\n",
    "    case '+' => 1\n",
    "    case '-' => -1\n",
    "    case ch => digit = 5 //value is assigned to the variable\n",
    "    case _ => digit = 100\n",
    "}\n",
    "print(digit)"
   ]
  },
  {
   "cell_type": "code",
   "execution_count": 93,
   "metadata": {},
   "outputs": [],
   "source": [
    "//Type parttern\n",
    "/*\n",
    "\n",
    "//You need a identifier before the type annotation in case statement.\n",
    "\n",
    "//Try this and it should work:\n",
    "\n",
    "object Main {\n",
    "    def main(args: Array[String]) {\n",
    "        val x = \"AA\"\n",
    "        checkType(x)\n",
    "    }\n",
    "\n",
    "    def checkType(cls: AnyRef) {\n",
    "        cls match {\n",
    "            case x: String => println(\"is a String:\"+ x)\n",
    "            case x: Date => println(\"is a Date:\" + x)\n",
    "            case _ => println(\"others\")\n",
    "        }\n",
    "    }\n",
    "}\n",
    "\n",
    "*/"
   ]
  },
  {
   "cell_type": "markdown",
   "metadata": {},
   "source": [
    "# Match Array"
   ]
  },
  {
   "cell_type": "code",
   "execution_count": 94,
   "metadata": {},
   "outputs": [
    {
     "data": {
      "text/plain": [
       "\u001b[36marr\u001b[39m: \u001b[32mArray\u001b[39m[\u001b[32mInt\u001b[39m] = \u001b[33mArray\u001b[39m(\u001b[32m0\u001b[39m, \u001b[32m2\u001b[39m, \u001b[32m3\u001b[39m, \u001b[32m4\u001b[39m)\n",
       "\u001b[36mres93_1\u001b[39m: \u001b[32mString\u001b[39m = \u001b[32m\"0 ...\"\u001b[39m\n",
       "\u001b[36mlst\u001b[39m: \u001b[32mList\u001b[39m[\u001b[32mInt\u001b[39m] = \u001b[33mList\u001b[39m(\u001b[32m1\u001b[39m, \u001b[32m0\u001b[39m)\n",
       "\u001b[36mres93_3\u001b[39m: \u001b[32mString\u001b[39m = \u001b[32m\"1\"\u001b[39m\n",
       "\u001b[36mpair\u001b[39m: (\u001b[32mInt\u001b[39m, \u001b[32mInt\u001b[39m) = (\u001b[32m1\u001b[39m, \u001b[32m2\u001b[39m)\n",
       "\u001b[36mres93_5\u001b[39m: \u001b[32mString\u001b[39m = \u001b[32m\"2\"\u001b[39m"
      ]
     },
     "execution_count": 94,
     "metadata": {},
     "output_type": "execute_result"
    }
   ],
   "source": [
    "val arr = Array(0,2,3,4)\n",
    "arr match{\n",
    "    case Array(0) => \"0\"\n",
    "    case Array(x,y) => s\"$x $y\"\n",
    "    case Array(0, _*) => \"0 ...\"\n",
    "    case _ => \"something else\"\n",
    "}\n",
    "val lst = 1::0::Nil\n",
    "lst match{\n",
    "    case 0::Nil => \"0\"\n",
    "    case _ => \"1\"\n",
    "}\n",
    "val pair = (1,2)\n",
    "pair match{\n",
    "    case(_, 2) => \"2\"\n",
    "    case(_, 1) => \"1\"\n",
    "}"
   ]
  },
  {
   "cell_type": "markdown",
   "metadata": {},
   "source": [
    "If a pattern has alternatives, you cannot use variables other than _\n",
    "```scala\n",
    "case (_,0) | (0,_)\n",
    "```"
   ]
  },
  {
   "cell_type": "markdown",
   "metadata": {},
   "source": [
    "# Partial Function\n",
    "a function which my not be defined for all inputs\n",
    "\n",
    "对给定的输入参数类型，偏函数只能接受该类型的某些特定的值。一个定义为(Int) => String 的偏函数可能不能接受所有Int值为输入。\n",
    "\n",
    "isDefinedAt 是PartialFunction的一个方法，用来确定PartialFunction是否能接受一个给定的参数。"
   ]
  },
  {
   "cell_type": "code",
   "execution_count": 95,
   "metadata": {},
   "outputs": [
    {
     "data": {
      "text/plain": [
       "\u001b[36mf\u001b[39m: \u001b[32mPartialFunction\u001b[39m[\u001b[32mChar\u001b[39m, \u001b[32mInt\u001b[39m] = <function1>\n",
       "\u001b[36mres94_1\u001b[39m: \u001b[32mInt\u001b[39m = \u001b[32m-1\u001b[39m\n",
       "\u001b[36mres94_2\u001b[39m: \u001b[32mBoolean\u001b[39m = \u001b[32mfalse\u001b[39m\n",
       "\u001b[36mres94_3\u001b[39m: \u001b[32mcollection\u001b[39m.\u001b[32mimmutable\u001b[39m.\u001b[32mIndexedSeq\u001b[39m[\u001b[32mInt\u001b[39m] = \u001b[33mVector\u001b[39m(\u001b[32m-1\u001b[39m, \u001b[32m0\u001b[39m, \u001b[32m0\u001b[39m, \u001b[32m0\u001b[39m, \u001b[32m1\u001b[39m, \u001b[32m0\u001b[39m, \u001b[32m0\u001b[39m)"
      ]
     },
     "execution_count": 95,
     "metadata": {},
     "output_type": "execute_result"
    }
   ],
   "source": [
    "val f:PartialFunction[Char, Int] = {case '+' => 1; case '-' => -1} \n",
    "f('-')\n",
    "//f('0') // error\n",
    "f.isDefinedAt('0') //false\n",
    "\n",
    "\"- 3 + 4\".map {case '+' => 1; case '-' => -1; case _ => 0} //partial func"
   ]
  },
  {
   "cell_type": "markdown",
   "metadata": {},
   "source": [
    "Seq[A] is partial func [Int, A]. Map[k,v] is partial[k,v]"
   ]
  },
  {
   "cell_type": "code",
   "execution_count": null,
   "metadata": {},
   "outputs": [],
   "source": []
  },
  {
   "cell_type": "code",
   "execution_count": null,
   "metadata": {},
   "outputs": [],
   "source": []
  },
  {
   "cell_type": "code",
   "execution_count": null,
   "metadata": {},
   "outputs": [],
   "source": []
  },
  {
   "cell_type": "code",
   "execution_count": null,
   "metadata": {},
   "outputs": [],
   "source": []
  },
  {
   "cell_type": "markdown",
   "metadata": {},
   "source": [
    "# Practice Question Answers"
   ]
  },
  {
   "cell_type": "code",
   "execution_count": 96,
   "metadata": {},
   "outputs": [
    {
     "data": {
      "text/plain": [
       "\u001b[32mimport \u001b[39m\u001b[36mscala.math.BigInt\n",
       "\n",
       "\u001b[39m\n",
       "defined \u001b[32mobject\u001b[39m \u001b[36mChapter01\u001b[39m"
      ]
     },
     "execution_count": 96,
     "metadata": {},
     "output_type": "execute_result"
    }
   ],
   "source": [
    "import scala.math.BigInt\n",
    "\n",
    "object Chapter01 {\n",
    "\n",
    "  /**\n",
    "   * Task 1:\n",
    "   *\n",
    "   * In the Scala REPL, type `3.` followed by the Tab key. What methods can be applied?\n",
    "   *\n",
    "   * Solution:\n",
    "   *\n",
    "   * On my machine, when typing `3.` and pressing the Tab key for the first time,\n",
    "   * these methods are available:\n",
    "   * {{{\n",
    "   * %   &   *   +   -   /   >   >=   >>   >>>   ^   asInstanceOf   isInstanceOf\n",
    "   * toByte   toChar   toDouble   toFloat   toInt   toLong   toShort   toString\n",
    "   * unary_+   unary_-   unary_~   |\n",
    "   * }}}\n",
    "   * And when pressing the Tab key the second time:\n",
    "   * {{{\n",
    "   * !=   %   *   -   <    <=       ==   >=   >>>   asInstanceOf   getClass   isInstanceOf\n",
    "   * toChar     toFloat   toLong    toString   unary_-   |\n",
    "   * ##   &   +   /   <<   <init>   >    >>   ^     equals         hashCode\n",
    "   * toByte         toDouble   toInt     toShort   unary_+    unary_~\n",
    "   * }}}\n",
    "   */\n",
    "\n",
    "  /**\n",
    "   * Task 2:\n",
    "   *\n",
    "   * In the Scala REPL, compute the square root of 3, and then square that value.\n",
    "   * By how much does the result differ from 3? (Hint: The res variables are your friend.)\n",
    "   *\n",
    "   * Solution:\n",
    "   *\n",
    "   * {{{\n",
    "   * scala> Math.sqrt(3)\n",
    "   * res0: Double = 1.7320508075688772\n",
    "   *\n",
    "   * scala> res0 * res0\n",
    "   * res1: Double = 2.9999999999999996\n",
    "   *\n",
    "   * scala> 3 - res1\n",
    "   * res2: Double = 4.440892098500626E-16\n",
    "   * }}}\n",
    "   */\n",
    "\n",
    "  /**\n",
    "   * Task 3:\n",
    "   *\n",
    "   * Are the res variables `val` or `var` ?\n",
    "   *\n",
    "   * Solution:\n",
    "   *\n",
    "   * They are `val`:\n",
    "   * {{{\n",
    "   * scala> res2 = 1.0\n",
    "   * <console>:13: error: reassignment to val\n",
    "   *        res2 = 1.0\n",
    "   *             ^\n",
    "   * }}}\n",
    "   */\n",
    "\n",
    "  /**\n",
    "   * Task 4:\n",
    "   *\n",
    "   * Scala lets you multiply a string with a number - try out `\"crazy\" * 3` in the REPL.\n",
    "   * What does this operation do? Where can you find it in `Scaladoc`?\n",
    "   *\n",
    "   * Solution:\n",
    "   *\n",
    "   * This operation concatenates the given string to itself the given number of times:\n",
    "   * {{{\n",
    "   * scala> \"crazy\" * 3\n",
    "   * res3: String = crazycrazycrazy\n",
    "   * }}}\n",
    "   * It can be found in `Scaladoc` by searching for `StringOps` class, it has the following\n",
    "   * method:\n",
    "   * {{{\n",
    "   * def *(n: Int): String\n",
    "   * Return the current string concatenated n times.\n",
    "   * }}}\n",
    "   */\n",
    "\n",
    "  /**\n",
    "   * Task 5:\n",
    "   *\n",
    "   * What does `10 max 2` mean? In which class is the `max` method defined?\n",
    "   *\n",
    "   * Solution:\n",
    "   *\n",
    "   * It compares two integer values and returns the maximum value.\n",
    "   * The `max` method is defined in `RichInt` class.\n",
    "   * The `Int` value `10` is first converted to a `RichInt` and then the `max` method is called\n",
    "   * on that value.\n",
    "   */\n",
    "\n",
    "  /**\n",
    "   * Task 6:\n",
    "   *\n",
    "   * Using `BigInt`, compute `2^^1024`.\n",
    "   */\n",
    "  def computeBigInt(): BigInt = BigInt(2).pow(1024)\n",
    "\n",
    "  /**\n",
    "   * Task 7:\n",
    "   *\n",
    "   * What do you need to `import` so that you can get a random prime as\n",
    "   * `probablePrime(100, Random)`, without any qualifiers before `probablePrime` and `Random`?\n",
    "   */\n",
    "  def task7(): BigInt = {\n",
    "    import scala.BigInt._\n",
    "    import scala.util._\n",
    "\n",
    "    probablePrime(100, Random)\n",
    "  }\n",
    "\n",
    "  /**\n",
    "   * Task 8:\n",
    "   *\n",
    "   * One way to create random file or directory names is to produce a random `BigInt`\n",
    "   * and convert it to base `36`, yielding a `string` such as \"qsnvbevtomcj38o06kul\".\n",
    "   * Poke around `Scaladoc` to find a way of doing this in Scala.\n",
    "   */\n",
    "  def randomFileName(): String = util.Random.alphanumeric.take(20).mkString.toLowerCase\n",
    "\n",
    "  /**\n",
    "   * Task 9:\n",
    "   *\n",
    "   * How do you get the first character of a string in Scala? The last character?\n",
    "   */\n",
    "  def task9(): Unit = {\n",
    "    val str = \"Some string\"\n",
    "\n",
    "    val first = str(0)\n",
    "    val first2 = str.head\n",
    "\n",
    "    val last = str(str.length - 1)\n",
    "    val last2 = str.last\n",
    "  }\n",
    "\n",
    "  /**\n",
    "   * Task 10:\n",
    "   *\n",
    "   * What do the `take`, `drop`, `takeRight`, and `dropRight` string functions do?\n",
    "   * What advantage or disadvantage do they have over using `substring`?\n",
    "   *\n",
    "   * Solution:\n",
    "   *\n",
    "   * The advantage is that they don't throw `IndexOutOfBoundsException`.\n",
    "   * See examples below:\n",
    "   */\n",
    "  def task10(): Unit = {\n",
    "    val str = \"Some string\"\n",
    "\n",
    "    val first10 = str.take(15) // \"Some string\", no IndexOutOfBoundsException exception !\n",
    "    val empty = \"\".drop(5) // \"\", no IndexOutOfBoundsException exception !\n",
    "\n",
    "    val take = str.take(4) // \"Some\"\n",
    "    val drop = str.drop(5) // \"string\"\n",
    "\n",
    "    val takeRight = str.takeRight(6) // \"string\"\n",
    "    val dropRight = str.dropRight(7) // \"Some\"\n",
    "  }\n",
    "}\n"
   ]
  },
  {
   "cell_type": "code",
   "execution_count": 97,
   "metadata": {},
   "outputs": [
    {
     "data": {
      "text/plain": [
       "\u001b[32mimport \u001b[39m\u001b[36mscala.math.Numeric.IntIsIntegral\n",
       "\n",
       "\u001b[39m\n",
       "defined \u001b[32mobject\u001b[39m \u001b[36mChapter02\u001b[39m"
      ]
     },
     "execution_count": 97,
     "metadata": {},
     "output_type": "execute_result"
    }
   ],
   "source": [
    "import scala.math.Numeric.IntIsIntegral\n",
    "\n",
    "object Chapter02 {\n",
    "\n",
    "  /**\n",
    "   * Task 1:\n",
    "   *\n",
    "   * The `signum` of a number is `1` if the number is positive, `–1` if it is negative,\n",
    "   * and `0` if it is zero. Write a function that computes this value.\n",
    "   */\n",
    "  def signum(n: Int): Int = {\n",
    "    if (n < 0) -1\n",
    "    else if (n > 0) 1\n",
    "    else 0\n",
    "  }\n",
    "\n",
    "  /**\n",
    "   * Task 2:\n",
    "   *\n",
    "   * What is the value of an empty block expression `{}`? What is its type?\n",
    "   *\n",
    "   * Solution:\n",
    "   *\n",
    "   * The value of an empty block expression `{}` is `()` and it's type is `scala.Unit`.\n",
    "   * Which is equivalent to `java.lang.Void`.\n",
    "   */\n",
    "  def task2(): Unit = {}\n",
    "\n",
    "  /**\n",
    "   * Task 3:\n",
    "   *\n",
    "   * Come up with one situation where the assignment `x = y = 1` is valid in Scala.\n",
    "   * (Hint: Pick a suitable type for `x`.)\n",
    "   */\n",
    "  def task3(): Unit = {\n",
    "    var y: Int = 0\n",
    "    var x: Unit = ()\n",
    "    x = y = 1\n",
    "  }\n",
    "\n",
    "  /**\n",
    "   * Task 4:\n",
    "   *\n",
    "   * Write a `Scala` equivalent for the `Java` loop\n",
    "   * {{{\n",
    "   * for (int i = 10; i >= 0; i--) System.out.println(i);\n",
    "   * }}}\n",
    "   */\n",
    "  def task4(): Unit = for (i <- 10 to (0, -1)) println(i)\n",
    "\n",
    "  /**\n",
    "   * Task 5:\n",
    "   *\n",
    "   * Write a procedure `countdown(n: Int)` that prints the numbers from n to 0.\n",
    "   */\n",
    "  def countdown(n: Int): Unit = for (i <- n to (0, -1)) println(i)\n",
    "\n",
    "  /**\n",
    "   * Task 6:\n",
    "   *\n",
    "   * Write a `for` loop for computing the product of the Unicode codes of all letters\n",
    "   * in a string. For example, the product of the characters in \"Hello\" is 825152896.\n",
    "   */\n",
    "  def productLoop(s: String): Int = {\n",
    "    var result = 1\n",
    "    for (c <- s) result *= c.toInt\n",
    "\n",
    "    result\n",
    "  }\n",
    "\n",
    "  /**\n",
    "   * Task 7:\n",
    "   *\n",
    "   * Solve the preceding exercise without writing a loop.\n",
    "   * (Hint: Look at the `StringOps` Scaladoc.)\n",
    "   */\n",
    "  def productNoLoop(s: String): Int = s.map(_.toInt).product\n",
    "\n",
    "  /**\n",
    "   * Task 8:\n",
    "   *\n",
    "   * Write a function `product(s : String)` that computes the product, as described\n",
    "   * in the preceding exercises.\n",
    "   */\n",
    "  def product(s : String): Int = productLoop(s)\n",
    "\n",
    "  /**\n",
    "   * Task 9:\n",
    "   *\n",
    "   * Make the function of the preceding exercise a recursive function.\n",
    "   */\n",
    "  def productRecursive(s : String): Int = {\n",
    "    if (s.isEmpty) {\n",
    "      return 1\n",
    "    }\n",
    "\n",
    "    s.head.toInt * productLoop(s.tail)\n",
    "  }\n",
    "\n",
    "  /**\n",
    "   * Task 10:\n",
    "   *\n",
    "   * Write a function that computes `x^^n`, where `n` is an integer. Use the following\n",
    "   * recursive definition:\n",
    "   * {{{\n",
    "   * x^n = y^2 if n is even and positive, where y = x^(n / 2).\n",
    "   * x^n = x * x^(n – 1) if n is odd and positive.\n",
    "   * x^0 = 1.\n",
    "   * x^n = 1 / (x^–n) if n is negative.\n",
    "   * }}}\n",
    "   * Don't use a `return` statement.\n",
    "   */\n",
    "  def pow(x: Int, n: Int): Double = {\n",
    "    if (n == 0) 1\n",
    "    else if (n < 0) 1 / pow(x, -n)\n",
    "    else if (n % 2 != 0) x * pow(x, n - 1)\n",
    "    else {\n",
    "      val y = pow(x, n / 2)\n",
    "      y * y\n",
    "    }\n",
    "  }\n",
    "}"
   ]
  },
  {
   "cell_type": "code",
   "execution_count": 98,
   "metadata": {},
   "outputs": [
    {
     "data": {
      "text/plain": [
       "\u001b[32mimport \u001b[39m\u001b[36mjava.awt.datatransfer.{DataFlavor, SystemFlavorMap}\n",
       "\u001b[39m\n",
       "\u001b[32mimport \u001b[39m\u001b[36mjava.util.TimeZone\n",
       "\n",
       "\u001b[39m\n",
       "\u001b[32mimport \u001b[39m\u001b[36mscala.collection.mutable\n",
       "\u001b[39m\n",
       "\u001b[32mimport \u001b[39m\u001b[36mscala.collection.mutable.ArrayBuffer\n",
       "\u001b[39m\n",
       "\u001b[32mimport \u001b[39m\u001b[36mscala.util.{Random, Sorting}\n",
       "\n",
       "\u001b[39m\n",
       "defined \u001b[32mobject\u001b[39m \u001b[36mChapter03\u001b[39m"
      ]
     },
     "execution_count": 98,
     "metadata": {},
     "output_type": "execute_result"
    }
   ],
   "source": [
    "\n",
    "import java.awt.datatransfer.{DataFlavor, SystemFlavorMap}\n",
    "import java.util.TimeZone\n",
    "\n",
    "import scala.collection.mutable\n",
    "import scala.collection.mutable.ArrayBuffer\n",
    "import scala.util.{Random, Sorting}\n",
    "\n",
    "object Chapter03 {\n",
    "\n",
    "  /**\n",
    "   * Task 1:\n",
    "   *   Write a code snippet that sets a to an array of n random integers\n",
    "   *   between 0 (inclusive) and n (exclusive)\n",
    "   */\n",
    "  def randomIntArray(n: Int): Array[Int] = {\n",
    "    val a = new Array[Int](n)\n",
    "    for (i <- a.indices) {\n",
    "      a(i) = Random.nextInt(n)\n",
    "    }\n",
    "\n",
    "    a\n",
    "  }\n",
    "\n",
    "  /**\n",
    "   * Task 2:\n",
    "   *   Write a loop that swaps adjacent elements of an array of integers.\n",
    "   *   For example, Array(1, 2, 3, 4, 5) becomes Array(2, 1, 4, 3, 5)\n",
    "   */\n",
    "  def swapAdjacent(a: Array[Int]): Array[Int] = {\n",
    "    for (i <- 1 until a.length if (i % 2) != 0) {\n",
    "      val tmp = a(i - 1)\n",
    "      a(i - 1) = a(i)\n",
    "      a(i) = tmp\n",
    "    }\n",
    "\n",
    "    a\n",
    "  }\n",
    "\n",
    "  /**\n",
    "   * Task 3:\n",
    "   *   Repeat the preceding assignment, but produce a new array\n",
    "   *   with the swapped values. Use for/yield\n",
    "   */\n",
    "  def swapAdjacentYield(a: Array[Int]) = {\n",
    "    for (i <- a.indices) yield a(\n",
    "      if ((i % 2) == 0)\n",
    "        if (i + 1 == a.length) i\n",
    "        else i + 1\n",
    "      else i - 1\n",
    "    )\n",
    "  }\n",
    "\n",
    "  /**\n",
    "   * Task 4:\n",
    "   *   Given an array of integers, produce a new array that contains\n",
    "   *   all positive values of the original array, in their original order,\n",
    "   *   followed by all values that are zero or negative,\n",
    "   *   in their original order\n",
    "   */\n",
    "  def positivesThenNegatives(a: Array[Int]): Array[Int] = {\n",
    "    val length = a.length\n",
    "    val b = new Array[Int](length)\n",
    "    var index = 0\n",
    "    for (i <- 0 until length if a(i) > 0) {\n",
    "      b(index) = a(i)\n",
    "      index += 1\n",
    "    }\n",
    "\n",
    "    if (index < length) {\n",
    "      for (i <- 0 until length if a(i) <= 0) {\n",
    "        b(index) = a(i)\n",
    "        index += 1\n",
    "      }\n",
    "    }\n",
    "\n",
    "    b\n",
    "  }\n",
    "\n",
    "  /**\n",
    "   * Task 5:\n",
    "   *   How do you compute the average of an Array[Double] ?\n",
    "   */\n",
    "  def computeAverage(a: Array[Double]): Double = {\n",
    "    a.sum / a.length\n",
    "  }\n",
    "\n",
    "  /**\n",
    "   * Reverses the given array in place.\n",
    "   *\n",
    "   * <p>Got from here:\n",
    "   * <br>http://javarevisited.blogspot.de/2015/03/how-to-reverse-array-in-place-in-java.html\n",
    "   */\n",
    "  private def reverse[T](a: Array[T]): Array[T] = {\n",
    "    for (i <- 0 until a.length / 2) {\n",
    "      // swap elements\n",
    "      val temp = a(i)\n",
    "      val j = a.length - 1 - i\n",
    "      a(i) = a(j)\n",
    "      a(j) = temp\n",
    "    }\n",
    "\n",
    "    a\n",
    "  }\n",
    "\n",
    "  /**\n",
    "   * Task 6a:\n",
    "   *   How do you rearrange the elements of an Array[Int]\n",
    "   *   so that they appear in reverse sorted order?\n",
    "   */\n",
    "  def reverseSortArray(a: Array[Int]): Array[Int] = {\n",
    "    Sorting.quickSort(a)\n",
    "    reverse(a)\n",
    "  }\n",
    "\n",
    "  /**\n",
    "   * Task 6b:\n",
    "   *   How do you rearrange the elements of an ArrayBuffer[Int]\n",
    "   *   so that they appear in reverse sorted order?\n",
    "   */\n",
    "  def reverseSortArrayBuffer(buf: ArrayBuffer[Int]): ArrayBuffer[Int] = {\n",
    "    val arr: Array[Int] = reverseSortArray(buf.toArray)\n",
    "    buf.clear()\n",
    "    arr.copyToBuffer(buf)\n",
    "    buf\n",
    "  }\n",
    "\n",
    "  /**\n",
    "   * Task 7:\n",
    "   *   Write a code snippet that produces all values from an array with duplicates removed.\n",
    "   *   (Hint: Look at Scaladoc.)\n",
    "   */\n",
    "  def removeDuplicates(a: Array[Int]): Array[Int] = a.distinct\n",
    "\n",
    "  /**\n",
    "   * Task 8:\n",
    "   *   Rewrite the example at the end of Section 3.4, \"Transforming Arrays\", on page 34\n",
    "   *   using the drop method for dropping the index of the first match.\n",
    "   *   Look the method up in Scaladoc.\n",
    "   */\n",
    "  def dropNegativesExceptFirst(a: ArrayBuffer[Int]): ArrayBuffer[Int] = {\n",
    "    val allNegativeIndexes = for (i <- a.indices if a(i) < 0) yield i\n",
    "    val indexes = allNegativeIndexes.drop(1)\n",
    "\n",
    "    for (j <- indexes.indices.reverse) a.remove(indexes(j))\n",
    "    a\n",
    "  }\n",
    "\n",
    "  /**\n",
    "   * Task 9:\n",
    "   *   Make a collection of all time zones returned by java.util.TimeZone.getAvailableIDs\n",
    "   *   that are in America. Strip off the \"America/\" prefix and sort the result.\n",
    "   */\n",
    "  def americaTimeZones: Array[String] = {\n",
    "    TimeZone.getAvailableIDs.filter(_.startsWith(\"America/\"))\n",
    "      .map(_.stripPrefix(\"America/\"))\n",
    "      .sorted\n",
    "  }\n",
    "\n",
    "  /**\n",
    "   * Task 10:\n",
    "   *   Import java.awt.datatransfer._ and make an object of type SystemFlavorMap with the call\n",
    "   *\n",
    "   *   val flavors = SystemFlavorMap.getDefaultFlavorMap().asInstanceOf[SystemFlavorMap]\n",
    "   *\n",
    "   *   Then call the getNativesForFlavor method with parameter DataFlavor.imageFlavor\n",
    "   *   and get the return value as a Scala buffer. (Why this obscure class? It’s hard\n",
    "   *   to find uses of java.util.List in the standard Java library.)\n",
    "   */\n",
    "  def javaListAsScalaBuffer: mutable.Buffer[String] = {\n",
    "    import scala.collection.JavaConversions.asScalaBuffer\n",
    "\n",
    "    SystemFlavorMap.getDefaultFlavorMap.asInstanceOf[SystemFlavorMap]\n",
    "      .getNativesForFlavor(DataFlavor.imageFlavor)\n",
    "  }\n",
    "}\n"
   ]
  },
  {
   "cell_type": "code",
   "execution_count": 99,
   "metadata": {},
   "outputs": [
    {
     "data": {
      "text/plain": [
       "\u001b[32mimport \u001b[39m\u001b[36mjava.util\n",
       "\u001b[39m\n",
       "\u001b[32mimport \u001b[39m\u001b[36mjava.util.Scanner\n",
       "\n",
       "\u001b[39m\n",
       "\u001b[32mimport \u001b[39m\u001b[36mscala.collection.JavaConversions.{mapAsScalaMap, propertiesAsScalaMap}\n",
       "\u001b[39m\n",
       "\u001b[32mimport \u001b[39m\u001b[36mscala.collection.immutable.SortedMap\n",
       "\u001b[39m\n",
       "\u001b[32mimport \u001b[39m\u001b[36mscala.collection.mutable\n",
       "\u001b[39m\n",
       "\u001b[32mimport \u001b[39m\u001b[36mscala.collection.mutable.ListBuffer\n",
       "\n",
       "\u001b[39m\n",
       "defined \u001b[32mobject\u001b[39m \u001b[36mChapter04\u001b[39m"
      ]
     },
     "execution_count": 99,
     "metadata": {},
     "output_type": "execute_result"
    }
   ],
   "source": [
    "import java.util\n",
    "import java.util.Scanner\n",
    "\n",
    "import scala.collection.JavaConversions.{mapAsScalaMap, propertiesAsScalaMap}\n",
    "import scala.collection.immutable.SortedMap\n",
    "import scala.collection.mutable\n",
    "import scala.collection.mutable.ListBuffer\n",
    "\n",
    "object Chapter04 {\n",
    "\n",
    "  /**\n",
    "   * Task 1:\n",
    "   *   Set up a map of prices for a number of gizmos that you covet.\n",
    "   *   Then produce a second map with the same keys and the prices at a 10 percent discount.\n",
    "   */\n",
    "  def gizmosWithReducedPrice(): Map[String, Int] = {\n",
    "    val gizmos = Map(\"iPhone\" -> 600,\n",
    "      \"iPad\" -> 500,\n",
    "      \"MacBook Pro\" -> 2000,\n",
    "      \"ScalaDays 2016 Berlin\" -> 750)\n",
    "\n",
    "    gizmos.mapValues(price => price - (price / 10))\n",
    "  }\n",
    "\n",
    "  /**\n",
    "   * Task 2:\n",
    "   *   Write a program that reads words from a file. Use a mutable map to count\n",
    "   *   how often each word appears. To read the words, simply use a java.util.Scanner:\n",
    "   * <blockquote><code>\n",
    "   *     val in = new java.util.Scanner(new java.io.File(\"myfile.txt\")) <br/>\n",
    "   *     while (in.hasNext()) process in.next()\n",
    "   * </code></blockquote>\n",
    "   */\n",
    "  def countWordsMutableMap(): mutable.Map[String, Int] = {\n",
    "    val words = new mutable.HashMap[String, Int]\n",
    "\n",
    "    processWords(w => words(w) = words.getOrElse(w, 0) + 1)\n",
    "    words\n",
    "  }\n",
    "\n",
    "  private def processWords(process: String => Unit): Unit = {\n",
    "    val in = new Scanner(getClass.getResourceAsStream(\"/myfile.txt\"))\n",
    "    try {\n",
    "      while (in.hasNext) {\n",
    "        process(in.next())\n",
    "      }\n",
    "    } finally {\n",
    "      in.close()\n",
    "    }\n",
    "  }\n",
    "\n",
    "  /**\n",
    "   * Task 3:\n",
    "   *   Repeat the preceding exercise with an immutable map.\n",
    "   */\n",
    "  def countWordsImmutableMap(): Map[String, Int] = {\n",
    "    var words = Map[String, Int]()\n",
    "\n",
    "    processWords(w => words += w -> (words.getOrElse(w, 0) + 1))\n",
    "    words\n",
    "  }\n",
    "\n",
    "  /**\n",
    "   * Task 4:\n",
    "   *   Repeat the preceding exercise with a sorted map,\n",
    "   *   so that the words are printed in sorted order.\n",
    "   */\n",
    "  def countWordsSortedMap(): Map[String, Int] = {\n",
    "    var words = SortedMap[String, Int]()\n",
    "\n",
    "    processWords(w => words += w -> (words.getOrElse(w, 0) + 1))\n",
    "    words\n",
    "  }\n",
    "\n",
    "  /**\n",
    "   * Task 5:\n",
    "   *   Repeat the preceding exercise with a java.util.TreeMap\n",
    "   *   that you adapt to the Scala API.\n",
    "   */\n",
    "  def countWordsTreeMap(): mutable.Map[String, Int] = {\n",
    "    val words = new util.TreeMap[String, Int]()\n",
    "\n",
    "    processWords(w => words(w) = words.getOrElse(w, 0) + 1)\n",
    "    words\n",
    "  }\n",
    "\n",
    "  /**\n",
    "   * Task 6:\n",
    "   *   Define a linked hash map that maps \"Monday\" to java.util.Calendar.MONDAY,\n",
    "   *   and similarly for the other weekdays. Demonstrate that the elements\n",
    "   *   are visited in insertion order.\n",
    "   */\n",
    "  def weekdaysLinkedHashMap(): mutable.Map[String, Int] = {\n",
    "    val weekdays = mutable.LinkedHashMap[String, Int](\"Monday\" -> util.Calendar.MONDAY)\n",
    "    weekdays += (\"Tuesday\" -> util.Calendar.TUESDAY,\n",
    "      \"Wednesday\" -> util.Calendar.WEDNESDAY,\n",
    "      \"Thursday\" -> util.Calendar.THURSDAY,\n",
    "      \"Friday\" -> util.Calendar.FRIDAY,\n",
    "      \"Saturday\" -> util.Calendar.SATURDAY,\n",
    "      \"Sunday\" -> util.Calendar.SUNDAY)\n",
    "\n",
    "    weekdays\n",
    "  }\n",
    "\n",
    "  /**\n",
    "   * Task 7:\n",
    "   *   Print a table of all Java properties, like this:\n",
    "   * <blockquote><code>\n",
    "   *   java.runtime.name     | Java(TM) SE Runtime Environment <br/>\n",
    "   *   sun.boot.library.path | /home/apps/jdk1.6.0_21/jre/lib/i386 <br/>\n",
    "   *   java.vm.version       | 17.0-b16 <br/>\n",
    "   *   java.vm.vendor        | Sun Microsystems Inc. <br/>\n",
    "   *   java.vendor.url       | http://java.sun.com/ <br/>\n",
    "   *   path.separator        | : <br/>\n",
    "   *   java.vm.name          | Java HotSpot(TM) Server VM <br/>\n",
    "   * </code></blockquote>\n",
    "   *   You need to find the length of the longest key before you can print the table.\n",
    "   */\n",
    "  def formatJavaProperties(): List[String] = {\n",
    "    val props: collection.Map[String, String] = System.getProperties\n",
    "    val maxKeyLen = props.foldLeft(0)((maxLen, entry) => {\n",
    "      if (maxLen < entry._1.length) entry._1.length\n",
    "      else maxLen\n",
    "    })\n",
    "\n",
    "    val result = ListBuffer[String]()\n",
    "    for ((key, value) <- props) {\n",
    "      result += key.padTo(maxKeyLen, ' ') + \" | \" + value\n",
    "    }\n",
    "\n",
    "    result.toList\n",
    "  }\n",
    "\n",
    "  /**\n",
    "   * Task 8:\n",
    "   *   Write a function minmax(values: Array[Int]) that returns a pair containing\n",
    "   *   the smallest and largest values in the array.\n",
    "   */\n",
    "  def minmax(values: Array[Int]): (Int, Int) = (values.min, values.max)\n",
    "\n",
    "  /**\n",
    "   * Task 9:\n",
    "   *   Write a function lteqgt(values: Array[Int], v: Int) that returns a triple containing\n",
    "   *   the counts of values less than v , equal to v , and greater than v.\n",
    "   */\n",
    "  def lteqgt(values: Array[Int], v: Int): (Int, Int, Int) = {\n",
    "//    val count = values.count _\n",
    "//\n",
    "//    (count(_ < v), count(_ == v), count(_ > v))\n",
    "    var lt, eq, gt = 0\n",
    "\n",
    "    for (e <- values) {\n",
    "      if (e < v) lt += 1\n",
    "      else if (e == v) eq += 1\n",
    "      else gt += 1\n",
    "    }\n",
    "\n",
    "    (lt, eq, gt)\n",
    "  }\n",
    "\n",
    "  def main(args: Array[String]) {\n",
    "    // task 2\n",
    "    println(countWordsMutableMap().mkString(\"\\n\"))\n",
    "\n",
    "    // task 7\n",
    "    println(formatJavaProperties().mkString(\"\\n\"))\n",
    "\n",
    "    // task 10\n",
    "    println(\"Hello\".zip(\"World\").mkString(\"\\n\"))\n",
    "  }\n",
    "}\n"
   ]
  },
  {
   "cell_type": "code",
   "execution_count": 100,
   "metadata": {},
   "outputs": [
    {
     "data": {
      "text/plain": [
       "\u001b[32mimport \u001b[39m\u001b[36mscala.annotation.tailrec\n",
       "\u001b[39m\n",
       "\u001b[32mimport \u001b[39m\u001b[36mscala.collection.mutable.{ArrayBuffer, ListBuffer}\n",
       "\n",
       "\u001b[39m\n",
       "defined \u001b[32mobject\u001b[39m \u001b[36mChapter11\u001b[39m"
      ]
     },
     "execution_count": 100,
     "metadata": {},
     "output_type": "execute_result"
    }
   ],
   "source": [
    "import scala.annotation.tailrec\n",
    "import scala.collection.mutable.{ArrayBuffer, ListBuffer}\n",
    "\n",
    "object Chapter11 {\n",
    "\n",
    "  /**\n",
    "   * Task 1:\n",
    "   *\n",
    "   * According to the precedence rules, how are `3 + 4 -> 5` and `3 -> 4 + 5` evaluated?\n",
    "   *\n",
    "   * Solution:\n",
    "   *\n",
    "   * Since `+` and `-` has the same precedence, then:\n",
    "   * `3 + 4 -> 5` evaluated as `(3 + 4) -> 5` and\n",
    "   * `3 -> 4 + 5` evaluated as `(3 -> 4) + 5`\n",
    "   */\n",
    "\n",
    "  /**\n",
    "   * Task 2:\n",
    "   *\n",
    "   * The `BigInt` class has a `pow` method, not an operator.\n",
    "   * Why didn't the Scala library designers choose `**` (as in Fortran) or `^` (as in Pascal)\n",
    "   * for a power operator?\n",
    "   *\n",
    "   * Solution:\n",
    "   *\n",
    "   * First, the precedence is determined by the first character, the `**` operator would has\n",
    "   * the same precedence as `*`, `/` operators, but `pow` operation should have higher precedence.\n",
    "   * Second, the `^` operator is already exists for `BigInt` class, which is\n",
    "   * \"Bitwise exclusive-or of BigInts\".\n",
    "   */\n",
    "\n",
    "  /**\n",
    "   * Task 3:\n",
    "   *\n",
    "   * Implement the `Fraction` class with operations `+`, `-`, `*`, `/`. Normalize fractions,\n",
    "   * for example turning `15/-6` into `-5/2`. Divide by the greatest common divisor, like this:\n",
    "   * {{{\n",
    "   *  class Fraction(n: Int, d: Int) {\n",
    "   *    private val num: Int = if (d == 0) 1 else n * sign(d) / gcd(n, d)\n",
    "   *    private val den: Int = if (d == 0) 0 else d * sign(d) / gcd(n, d)\n",
    "   *    override def toString = num + \"/\" + den\n",
    "   *    def sign(a: Int) = if (a > 0) 1 else if (a < 0) -1 else 0\n",
    "   *    def gcd(a: Int, b: Int): Int = if (b == 0) abs(a) else gcd(b, a % b)\n",
    "   *    ...\n",
    "   *  }\n",
    "   * }}}\n",
    "   */\n",
    "  class Fraction private(n: Int, d: Int) {\n",
    "\n",
    "    val num: Int = if (d == 0) 1 else n * sign(d) / gcd(n, d)\n",
    "\n",
    "    val den: Int = if (d == 0) 0 else d * sign(d) / gcd(n, d)\n",
    "\n",
    "    private def sign(a: Int) =\n",
    "      if (a > 0) 1\n",
    "      else if (a < 0) -1\n",
    "      else 0\n",
    "\n",
    "    @tailrec\n",
    "    private def gcd(a: Int, b: Int): Int =\n",
    "      if (b == 0) Math.abs(a)\n",
    "      else gcd(b, a % b)\n",
    "\n",
    "    def +(other: Fraction): Fraction = sumOp(other, _ + _)\n",
    "\n",
    "    def -(other: Fraction): Fraction = sumOp(other, _ - _)\n",
    "\n",
    "    def *(other: Fraction): Fraction = Fraction(num * other.num, den * other.den)\n",
    "\n",
    "    def /(other: Fraction): Fraction = Fraction(num * other.den, den * other.num)\n",
    "\n",
    "    private def sumOp(other: Fraction, op: (Int, Int) => Int): Fraction = {\n",
    "      Fraction(op(num * other.den, den * other.num), den * other.den)\n",
    "    }\n",
    "\n",
    "    override def equals(that: Any): Boolean = that match {\n",
    "      case that: Fraction => num == that.num && den == that.den\n",
    "      case _ => false\n",
    "    }\n",
    "\n",
    "    override def hashCode: Int = {\n",
    "      val prime = 31\n",
    "      var result = 1\n",
    "      result = prime * result + num\n",
    "      result = prime * result + den\n",
    "      result\n",
    "    }\n",
    "\n",
    "    override def toString = num + \"/\" + den\n",
    "  }\n",
    "\n",
    "  object Fraction {\n",
    "    def apply(n: Int, d: Int) = new Fraction(n, d)\n",
    "  }\n",
    "\n",
    "  /**\n",
    "   * Task 4:\n",
    "   *\n",
    "   * Implement a class `Money` with fields for dollars and cents. Supply `+`, `-` operators\n",
    "   * as well as comparison operators `==` and `<`. For example,\n",
    "   * {{{\n",
    "   *  Money(1, 75) + Money(0, 50) == Money(2, 25)\n",
    "   *  }}}\n",
    "   * should be true. Should you also supply `*` and `/` operators? Why or why not?\n",
    "   *\n",
    "   * Solution:\n",
    "   *\n",
    "   * Operators `*` and `/` for `Money` class doesn't make sense, since usually money multiplied\n",
    "   * or divided by concrete number, not another amount of money.\n",
    "   */\n",
    "  class Money private(d: Int, c: Int) {\n",
    "\n",
    "    if (d < 0) throw new IllegalArgumentException(\"d: \" + d)\n",
    "    if (c < 0) throw new IllegalArgumentException(\"c: \" + c)\n",
    "\n",
    "    val dollars: Int = if (c > 99) d + (c / 100) else d\n",
    "    val cents: Int = if (c > 99) c % 100 else c\n",
    "\n",
    "    def +(other: Money): Money = Money(dollars + other.dollars, cents + other.cents)\n",
    "\n",
    "    def -(other: Money): Money = {\n",
    "      val d: Int = dollars - other.dollars\n",
    "      val c: Int = cents - other.cents\n",
    "      if (c < 0) Money(d - 1, c + 100)\n",
    "      else Money(d, c)\n",
    "    }\n",
    "\n",
    "    def ==(other: Money): Boolean = dollars == other.dollars && cents == other.cents\n",
    "\n",
    "    def <(other: Money): Boolean = (dollars * 100) + cents < (other.dollars * 100) + other.cents\n",
    "\n",
    "    override def toString = \"%d.%02d\".format(dollars, + cents)\n",
    "  }\n",
    "\n",
    "  object Money {\n",
    "    def apply(d: Int, c: Int) = new Money(d, c)\n",
    "  }\n",
    "\n",
    "  /**\n",
    "   * Task 5:\n",
    "   *\n",
    "   * Provide operators that construct an HTML table. For example,\n",
    "   * {{{\n",
    "   *  Table() | \"Java\" | \"Scala\" || \"Gosling\" | \"Odersky\" || \"JVM\" | \"JVM, .NET\"\n",
    "   * }}}\n",
    "   * should produce\n",
    "   * {{{\n",
    "   *  <table><tr><td>Java</td><td>Scala</td</tr><tr><td>Gosling...\n",
    "   * }}}\n",
    "   */\n",
    "  class Table private {\n",
    "\n",
    "    private val table = new ListBuffer[ListBuffer[String]]\n",
    "\n",
    "    def |(cell: String): Table = {\n",
    "      if (table.isEmpty) {\n",
    "        table += new ListBuffer[String]\n",
    "      }\n",
    "\n",
    "      table.last += cell\n",
    "      this\n",
    "    }\n",
    "\n",
    "    def ||(cell: String): Table = {\n",
    "      table += new ListBuffer[String]\n",
    "      table.last += cell\n",
    "      this\n",
    "    }\n",
    "\n",
    "    def toHtml: String = {\n",
    "      val sb = new StringBuilder(\"<table>\")\n",
    "      for (row <- table) {\n",
    "        sb ++= \"<tr>\"\n",
    "        for (cell <- row) {\n",
    "          sb ++= \"<td>\"\n",
    "          sb ++= cell\n",
    "          sb ++= \"</td>\"\n",
    "        }\n",
    "\n",
    "        sb ++= \"</tr>\"\n",
    "      }\n",
    "\n",
    "      sb ++= \"</table>\"\n",
    "      sb.toString()\n",
    "    }\n",
    "\n",
    "    override def toString = table.mkString(\"\\n\")\n",
    "  }\n",
    "\n",
    "  object Table {\n",
    "    def apply() = new Table\n",
    "  }\n",
    "\n",
    "  /**\n",
    "   * Task 6:\n",
    "   *\n",
    "   * Provide a class `ASCIIArt` whose objects contain figures such as\n",
    "   * {{{\n",
    "   *   /\\_/\\\n",
    "   *  ( ' ' )\n",
    "   *  (  -  )\n",
    "   *   | | |\n",
    "   *  (__|__)\n",
    "   * }}}\n",
    "   * Supply operators for combining two `ASCIIArt` figures horizontally\n",
    "   * {{{\n",
    "   *   /\\_/\\     -----\n",
    "   *  ( ' ' )  / Hello \\\n",
    "   *  (  -  ) <  Scala |\n",
    "   *   | | |   \\ Coder /\n",
    "   *  (__|__)    -----\n",
    "   * }}}\n",
    "   * or vertically. Choose operators with appropriate precedence.\n",
    "   */\n",
    "  class ASCIIArt(val rows: List[String] = Nil) {\n",
    "\n",
    "    def +(row: String): ASCIIArt = new ASCIIArt(rows :+ row)\n",
    "\n",
    "    def |(other: ASCIIArt): ASCIIArt = {\n",
    "      val padLen = rows.foldLeft(0) {(len, s) =>\n",
    "        if (len > s.length) len\n",
    "        else s.length\n",
    "      }\n",
    "      val result = new ArrayBuffer[String]\n",
    "      result ++= rows\n",
    "\n",
    "      val buf = new StringBuilder\n",
    "      var i = 0\n",
    "      for (row <- other.rows) {\n",
    "        if (i >= result.length) {\n",
    "          result += \"\"\n",
    "        }\n",
    "\n",
    "        buf.clear()\n",
    "        buf ++= result(i)\n",
    "        while (buf.length < padLen) {\n",
    "          buf.append(' ')\n",
    "        }\n",
    "\n",
    "        buf ++= row\n",
    "        result(i) = buf.toString()\n",
    "        i += 1\n",
    "      }\n",
    "\n",
    "      new ASCIIArt(result.toList)\n",
    "    }\n",
    "\n",
    "    override def toString = rows.mkString(\"\\n\")\n",
    "  }\n",
    "\n",
    "  /**\n",
    "   * Task 7:\n",
    "   *\n",
    "   * Implement a class `BitSequence` that stores a sequence of 64 bits packed in a `Long` value.\n",
    "   * Supply `apply` and `update` operators to get and set an individual bit.\n",
    "   */\n",
    "  class BitSequence {\n",
    "\n",
    "    private var bits: Long = 0\n",
    "\n",
    "    def apply(i: Int): Int = get(mask(i))\n",
    "\n",
    "    def update(i: Int, bit: Int): Unit = set(mask(i), bit)\n",
    "\n",
    "    private def mask(i: Int): Long = 1L << i\n",
    "\n",
    "    private def get(mask: Long): Int =\n",
    "      if ((bits & mask) == mask) 1\n",
    "      else 0\n",
    "\n",
    "    private def set(mask: Long, bit: Int): Unit =\n",
    "      if (bit == 0) bits &= ~mask\n",
    "      else bits |= mask\n",
    "  }\n",
    "\n",
    "  /**\n",
    "   * Task 8:\n",
    "   *\n",
    "   * Provide a class `Matrix` - you can choose whether you want to implement `2 x 2` matrices,\n",
    "   * square matrices of any size, or `m x n` matrices. Supply operations `+` and `*`.\n",
    "   * The latter should also work with scalars, for example `mat * 2`.\n",
    "   * A single element should be accessible as `mat(row, col)`.\n",
    "   */\n",
    "  class Matrix private(private val rows: Int,\n",
    "                       private val cols: Int,\n",
    "                       private val data: IndexedSeq[Int]) {\n",
    "\n",
    "    def +(other: Matrix): Matrix = {\n",
    "      val thisSize = size\n",
    "      if (thisSize != other.size) {\n",
    "        throw new IllegalArgumentException(\"matrices are not of the same size\" +\n",
    "          \", expected: \" + thisSize + \", actual: \" + other.size)\n",
    "      }\n",
    "\n",
    "      Matrix.init(rows, cols)((row, col) => this(row, col) + other(row, col))\n",
    "    }\n",
    "\n",
    "    def *(value: Int): Matrix =\n",
    "      Matrix.init(rows, cols)((row, col) => this(row, col) * value)\n",
    "\n",
    "    def *(other: Matrix): Matrix = {\n",
    "      val (m1, n1) = size\n",
    "      val (m2, n2) = other.size\n",
    "      if (n1 != m2) {\n",
    "        throw new IllegalArgumentException(\"matrices are not multiplication compatible\" +\n",
    "          \", expected rows: \" + n1 + \", actual: \" + m2)\n",
    "      }\n",
    "\n",
    "      Matrix.init(m1, n2) { (row, col) => (0 until n1).foldLeft(0)((sum, i) =>\n",
    "        sum + data(row * n1 + i) * other.data(i * n2 + col))\n",
    "      }\n",
    "    }\n",
    "\n",
    "    def apply(row: Int, col: Int): Int = data(row * cols + col)\n",
    "\n",
    "    def size: (Int, Int) = (rows, cols)\n",
    "\n",
    "    override def toString = {\n",
    "      val sb = new StringBuilder\n",
    "      for (row <- 0 until rows) {\n",
    "        if (row > 0) {\n",
    "          sb ++= \"\\n\"\n",
    "        }\n",
    "\n",
    "        sb ++= \"[\"\n",
    "        for (col <- 0 until cols) {\n",
    "          if (col > 0) {\n",
    "            sb ++= \", \"\n",
    "          }\n",
    "\n",
    "          sb.append(data(row * cols + col))\n",
    "        }\n",
    "        sb ++= \"]\"\n",
    "      }\n",
    "\n",
    "      sb.toString()\n",
    "    }\n",
    "  }\n",
    "\n",
    "  object Matrix {\n",
    "    def apply(rows: Int, cols: Int)(data: Int*): Matrix = {\n",
    "      if ((rows * cols) != data.length) {\n",
    "        throw new IllegalArgumentException(\"(\" + rows + \" x \" + cols +\n",
    "          \") data length: \" + data.length)\n",
    "      }\n",
    "\n",
    "      new Matrix(rows, cols, data.toIndexedSeq)\n",
    "    }\n",
    "\n",
    "    private def init(rows: Int, cols: Int)(op: (Int, Int) => Int): Matrix = {\n",
    "      val data = new Array[Int](rows * cols)\n",
    "      for (row <- 0 until rows) {\n",
    "        for (col <- 0 until cols) {\n",
    "          data(row * cols + col) = op(row, col)\n",
    "        }\n",
    "      }\n",
    "\n",
    "      new Matrix(rows, cols, data)\n",
    "    }\n",
    "  }\n",
    "\n",
    "  /**\n",
    "   * Task 9:\n",
    "   *\n",
    "   * Define an `unapply` operation for the `RichFile` class that extracts the file path, name,\n",
    "   * and extension. For example, the `file/home/cay/readme.txt` has path `/home/cay`,\n",
    "   * name `readme`, and extension `txt`.\n",
    "   */\n",
    "  object RichFile {\n",
    "    \n",
    "    private val pathNameExtRegex = \"\"\"file(.*)/(.+)\\.(.*)\"\"\".r\n",
    "\n",
    "    def unapply(file: String): Option[(String, String, String)] = file match {\n",
    "      case pathNameExtRegex(path, name, extension) => Some((path, name, extension))\n",
    "      case _ => None\n",
    "    }\n",
    "  }\n",
    "\n",
    "  /**\n",
    "   * Task 10:\n",
    "   *\n",
    "   * Define an `unapplySeq` operation for the `RichFile` class that extracts all path segments.\n",
    "   * For example, for the `file/home/cay/readme.txt`, you should produce a sequence of\n",
    "   * three segments: `home`, `cay`, and `readme.txt`.\n",
    "   */\n",
    "  object RichFile2 {\n",
    "\n",
    "    private val pathSeqRegex = \"\"\"([^/]+)/?\"\"\".r\n",
    "\n",
    "    def unapplySeq(file: String): Option[Seq[String]] = {\n",
    "      val seq = new ListBuffer[String]\n",
    "      for (pathSeqRegex(p) <- pathSeqRegex.findAllIn(file)) {\n",
    "        seq += p\n",
    "      }\n",
    "\n",
    "      if (seq.nonEmpty && seq.head == \"file\") Some(seq.tail)\n",
    "      else None\n",
    "    }\n",
    "  }\n",
    "}\n"
   ]
  },
  {
   "cell_type": "code",
   "execution_count": 101,
   "metadata": {},
   "outputs": [
    {
     "data": {
      "text/plain": [
       "defined \u001b[32mobject\u001b[39m \u001b[36mChapter12\u001b[39m"
      ]
     },
     "execution_count": 101,
     "metadata": {},
     "output_type": "execute_result"
    }
   ],
   "source": [
    "\n",
    "\n",
    "object Chapter12 {\n",
    "\n",
    "  /**\n",
    "   * Task 1:\n",
    "   *\n",
    "   * Write a function `values(fun: (Int) => Int, low: Int, high: Int)` that yields a collection\n",
    "   * of function inputs and outputs in a given range. For example, `values(x => x * x, -5, 5)`\n",
    "   * should produce a collection of pairs `(-5, 25)`, `(-4, 16)`, `(-3, 9)`, ..., `(5, 25)`.\n",
    "   */\n",
    "  def values(fun: (Int) => Int, low: Int, high: Int): Seq[(Int, Int)] = {\n",
    "    for (i <- low to high) yield (i, fun(i))\n",
    "  }\n",
    "\n",
    "  /**\n",
    "   * Task 2:\n",
    "   *\n",
    "   * How do you get the largest element of an array with `reduceLeft`?\n",
    "   */\n",
    "  def largestElement(arr: Array[Int]): Int = arr.reduceLeft((a, b) => if (a > b) a else b)\n",
    "\n",
    "  /**\n",
    "   * Task 3:\n",
    "   *\n",
    "   * Implement the `factorial` function using `to` and `reduceLeft`, without a loop or recursion.\n",
    "   */\n",
    "  def factorial(n: Int): Int = if (n <= 0) 1 else (1 to n).reduceLeft(_ * _)\n",
    "\n",
    "  /**\n",
    "   * Task 4:\n",
    "   *\n",
    "   * The previous implementation needed a special case when `n < 1`. Show how you can avoid this\n",
    "   * with `foldLeft`. (Look at the Scaladoc for `foldLeft`. It’s like `reduceLeft`, except that\n",
    "   * the first value in the chain of combined values is supplied in the call.)\n",
    "   */\n",
    "  def factorial2(n: Int): Int = (1 to n).foldLeft(1)(_ * _)\n",
    "\n",
    "  /**\n",
    "   * Task 5:\n",
    "   *\n",
    "   * Write a function `largest(fun: (Int) => Int, inputs: Seq[Int])` that yields the largest\n",
    "   * value of a function within a given sequence of inputs. For example,\n",
    "   * `largest(x => 10 * x - x * x, 1 to 10)` should return `25`. Don't use a loop or recursion.\n",
    "   */\n",
    "  def largest(fun: (Int) => Int, inputs: Seq[Int]): Int = {\n",
    "    inputs.map(fun(_)).reduceLeft((a, b) => if (a > b) a else b)\n",
    "  }\n",
    "\n",
    "  /**\n",
    "   * Task 6:\n",
    "   *\n",
    "   * Modify the previous function to return the input at which the output is largest. For example,\n",
    "   * `largestAt(x => 10 * x - x * x, 1 to 10)` should return `5`. Don't use a loop or recursion.\n",
    "   */\n",
    "  def largestAt(fun: (Int) => Int, inputs: Seq[Int]): Int = {\n",
    "    val valueWithInput: (Int, Int) = inputs.map(i => (fun(i), i)).reduceLeft {(a, b) =>\n",
    "      if (a._1 > b._1) a\n",
    "      else b\n",
    "    }\n",
    "\n",
    "    valueWithInput._2\n",
    "  }\n",
    "\n",
    "  /**\n",
    "   * Task 7:\n",
    "   *\n",
    "   * It's easy to get a sequence of pairs, for example\n",
    "   * {{{\n",
    "   *  val pairs = (1 to 10) zip (11 to 20)\n",
    "   * }}}\n",
    "   * Now suppose you want to do something with such a sequence - say, add up the values.\n",
    "   * But you can't do\n",
    "   * {{{\n",
    "   *  pairs.map(_ + _)\n",
    "   * }}}\n",
    "   * The function `_ + _` takes two `Int` parameters, not an `(Int, Int)` pair. Write a function\n",
    "   * `adjustToPair` that receives a function of type `(Int, Int) => Int` and returns the equivalent\n",
    "   * function that operates on a pair. For example, `adjustToPair(_ * _)((6, 7))` is `42`.\n",
    "   * Then use this function in conjunction with `map` to compute the sums of the elements in pairs.\n",
    "   */\n",
    "  def adjustToPair(fun: (Int, Int) => Int): ((Int, Int)) => Int = {\n",
    "    (pair: (Int, Int)) => fun(pair._1, pair._2)\n",
    "  }\n",
    "\n",
    "// Or using currying:\n",
    "//\n",
    "//  def adjustToPair(fun: (Int, Int) => Int)(pair: (Int, Int)): Int = {\n",
    "//    fun(pair._1, pair._2)\n",
    "//  }\n",
    "\n",
    "  def mapPairs(pairs: Seq[(Int, Int)], fun: (Int, Int) => Int): Seq[Int] = {\n",
    "    pairs.map(adjustToPair(fun))\n",
    "  }\n",
    "\n",
    "  /**\n",
    "   * Task 8:\n",
    "   *\n",
    "   * In Section 12.8, \"Currying\", on page 149, you saw the `corresponds` method used with two\n",
    "   * arrays of strings. Make a call to corresponds that checks whether the elements in an\n",
    "   * array of strings have the lengths given in an array of integers.\n",
    "   */\n",
    "  def correspondsLen(strings: Array[String], lengths: Array[Int]): Boolean = {\n",
    "    strings.corresponds(lengths)(_.length == _)\n",
    "  }\n",
    "\n",
    "  /**\n",
    "   * Task 9:\n",
    "   *\n",
    "   * Implement `corresponds` without currying. Then try the call from the preceding exercise.\n",
    "   * What problem do you encounter?\n",
    "   *\n",
    "   * Solution:\n",
    "   *\n",
    "   * Without currying the compiler is not be able to infer the types for predicate function.\n",
    "   * So, it should be called like this:\n",
    "   * {{{\n",
    "   *  corresponds2(Array(\"a\"), Array(1), (a: String, b: Int) => a.length == b)\n",
    "   * }}}\n",
    "   */\n",
    "  def corresponds2[A, B](ax: Array[A], bx: Array[B], predicate: (A, B) => Boolean): Boolean = {\n",
    "    ax.corresponds(bx)(predicate)\n",
    "  }\n",
    "\n",
    "  /**\n",
    "   * Task 10:\n",
    "   *\n",
    "   * Implement an `unless` control abstraction that works just like `if`, but with an inverted\n",
    "   * condition. Does the first parameter need to be a call-by-name parameter? Do you need currying?\n",
    "   *\n",
    "   * Solution:\n",
    "   *\n",
    "   * The first parameter not need to be a call-by-name parameter since it is evaluated only once.\n",
    "   * Yes, we need currying, with it looks exactly like an `if` expression.\n",
    "   */\n",
    "  def unless(cond: Boolean)(block: => Unit): Unit = if (!cond) block\n",
    "}\n"
   ]
  },
  {
   "cell_type": "code",
   "execution_count": 102,
   "metadata": {},
   "outputs": [
    {
     "data": {
      "text/plain": [
       "defined \u001b[32mobject\u001b[39m \u001b[36mChapter14\u001b[39m"
      ]
     },
     "execution_count": 102,
     "metadata": {},
     "output_type": "execute_result"
    }
   ],
   "source": [
    "\n",
    "\n",
    "object Chapter14 {\n",
    "\n",
    "  /**\n",
    "   * Task 1:\n",
    "   *\n",
    "   * Your Java Development Kit distribution has the source code for much of the JDK in the\n",
    "   * `src.zip` file. Unzip and search for case labels (regular expression `case [^:]+:`).\n",
    "   * Then look for comments starting with `//` and containing `[Ff]alls? thr` to catch comments\n",
    "   * such as `// Falls through` or `// just fall thru`.\n",
    "   * Assuming the JDK programmers follow the Java code convention, which requires such a comment,\n",
    "   * what percentage of cases falls through?\n",
    "   *\n",
    "   * Solution:\n",
    "   * {{{\n",
    "   *  mkdir /tmp/java-test/src\n",
    "   *  unzip /usr/lib/jvm/java-7-oracle/src.zip -d /tmp/java-test/src\n",
    "   *  cd /tmp/java-test\n",
    "   *  grep --include=*.java -r -E 'case [^:]+:' src > 1.txt\n",
    "   *  grep --include=*.java -r -E '//.*[Ff]alls? thr' src > 2.txt\n",
    "   * }}}\n",
    "   * As a result on my machine there is around 9500 lines in the first file and\n",
    "   * 100 lines in the second file. Then:\n",
    "   * {{{\n",
    "   *  (100 * 100%) / 9500 = 1%\n",
    "   * }}}\n",
    "   */\n",
    "\n",
    "  /**\n",
    "   * Task 2:\n",
    "   *\n",
    "   * Using pattern matching, write a function `swap` that receives a pair of integers and\n",
    "   * returns the pair with the components swapped.\n",
    "   */\n",
    "  def swap(pair: (Int, Int)): (Int, Int) = pair match {\n",
    "    case (one, two) => (two, one)\n",
    "  }\n",
    "\n",
    "  /**\n",
    "   * Task 3:\n",
    "   *\n",
    "   * Using pattern matching, write a function `swap` that swaps the first two elements of\n",
    "   * an array provided its length is at least two.\n",
    "   */\n",
    "  def swap2(arr: Array[Int]): Array[Int] = arr match {\n",
    "    case Array(first, second, _*) =>\n",
    "      arr(0) = second\n",
    "      arr(1) = first\n",
    "      arr\n",
    "    case _ => arr\n",
    "  }\n",
    "\n",
    "  /**\n",
    "   * Task 4:\n",
    "   *\n",
    "   * Add a case class `Multiple` that is a subclass of the `Item` class. For example,\n",
    "   * `Multiple(10, Article(\"Blackwell Toaster\", 29.95))` describes ten toasters. Of course,\n",
    "   * you should be able to handle any items, such as bundles or multiples, in the second argument.\n",
    "   * Extend the `price` function to handle this new case.\n",
    "   */\n",
    "  sealed abstract class Item\n",
    "  case class Article(description: String, price: Double) extends Item\n",
    "  case class Bundle(description: String, discount: Double, items: Item*) extends Item\n",
    "  case class Multiple(count: Int, item: Item) extends Item\n",
    "\n",
    "  def price(it: Item): Double = it match {\n",
    "    case Article(_, p) => p\n",
    "    case Bundle(_, disc, its @ _*) => its.map(price).sum - disc\n",
    "    case Multiple(count, item) => count * price(item)\n",
    "  }\n",
    "\n",
    "  /**\n",
    "   * Task 5:\n",
    "   *\n",
    "   * One can use lists to model trees that store values only in the leaves. For example, the list\n",
    "   * `((3 8) 2 (5))` describes the tree\n",
    "   * {{{\n",
    "   *     *\n",
    "   *    /|\\\n",
    "   *   * 2 *\n",
    "   *  /\\   |\n",
    "   * 3 8   5\n",
    "   * }}}\n",
    "   * However, some of the list elements are numbers and others are lists. In Scala, you cannot\n",
    "   * have heterogeneous lists, so you have to use a `List[Any]`. Write a `leafSum` function to\n",
    "   * compute the sum of all elements in the leaves, using pattern matching to differentiate\n",
    "   * between numbers and lists.\n",
    "   */\n",
    "  def leafSum(xs: List[Any]): Double = {\n",
    "    xs.foldLeft(0.0) {(acc: Double, item) => item match {\n",
    "        case n: Number => acc + n.doubleValue()\n",
    "        case list: List[_] => acc + leafSum(list)\n",
    "        case _ => acc\n",
    "      }\n",
    "    }\n",
    "  }\n",
    "\n",
    "  /**\n",
    "   * Task 6:\n",
    "   *\n",
    "   * A better way of modeling such trees is with case classes. Let's start with binary trees.\n",
    "   * {{{\n",
    "   * sealed abstract class BinaryTree\n",
    "   * case class Leaf(value: Int) extends BinaryTree\n",
    "   * case class Node(left: BinaryTree, right: BinaryTree) extends BinaryTree\n",
    "   * }}}\n",
    "   * Write a function to compute the sum of all elements in the leaves.\n",
    "   */\n",
    "  object Task6 {\n",
    "\n",
    "    sealed abstract class BinaryTree\n",
    "\n",
    "    case class Leaf(value: Int) extends BinaryTree\n",
    "\n",
    "    case class Node(left: BinaryTree, right: BinaryTree) extends BinaryTree\n",
    "\n",
    "    def leafSum(bt: BinaryTree): Int = bt match {\n",
    "      case leaf: Leaf => leaf.value\n",
    "      case left Node right => leafSum(left) + leafSum(right)\n",
    "    }\n",
    "  }\n",
    "\n",
    "  /**\n",
    "   * Task 7:\n",
    "   *\n",
    "   * Extend the tree in the preceding exercise so that each node can have an arbitrary number\n",
    "   * of children, and reimplement the `leafSum` function. The tree in exercise 5 should be as\n",
    "   * {{{\n",
    "   *  Node(Node(Leaf(3), Leaf(8)), Leaf(2), Node(Leaf(5)))\n",
    "   * }}}\n",
    "   */\n",
    "  object Task7 {\n",
    "\n",
    "    sealed abstract class BinaryTree\n",
    "\n",
    "    case class Leaf(value: Int) extends BinaryTree\n",
    "\n",
    "    case class Node(children: BinaryTree*) extends BinaryTree\n",
    "\n",
    "    def leafSum(bt: BinaryTree): Int = bt match {\n",
    "      case leaf: Leaf => leaf.value\n",
    "      case node: Node => node.children.foldLeft(0)((acc, item) => acc + leafSum(item))\n",
    "    }\n",
    "  }\n",
    "\n",
    "  /**\n",
    "   * Task 8:\n",
    "   *\n",
    "   * Extend the tree in the preceding exercise so that each non-leaf node stores an operator\n",
    "   * in addition to the child nodes. Then write a function `eval` that computes the value.\n",
    "   * For example, the tree\n",
    "   * {{{\n",
    "   *     +\n",
    "   *    /|\\\n",
    "   *   * 2 -\n",
    "   *  /\\   |\n",
    "   * 3 8   5\n",
    "   * }}}\n",
    "   * has value `(3 x 8) + 2 + (-5) = 21`.\n",
    "   */\n",
    "  object Task8 {\n",
    "\n",
    "    sealed abstract class BinaryTree\n",
    "\n",
    "    case class Leaf(value: Int) extends BinaryTree\n",
    "\n",
    "    case class Node(op: Op, children: BinaryTree*) extends BinaryTree\n",
    "\n",
    "    class Op private(val identity: Int, op: (Int, Int) => Int) {\n",
    "      def apply(a: Int, b: Int): Int = op(a, b)\n",
    "    }\n",
    "\n",
    "    object Op {\n",
    "      val Plus = new Op(0, _ + _)\n",
    "      val Minus = new Op(0, _ - _)\n",
    "      val Product = new Op(1, _ * _)\n",
    "    }\n",
    "\n",
    "    def eval(bt: BinaryTree): Int = bt match {\n",
    "      case leaf: Leaf => leaf.value\n",
    "      case node: Node => node.children.foldLeft(node.op.identity) { (acc, item) =>\n",
    "        node.op(acc, eval(item))\n",
    "      }\n",
    "    }\n",
    "  }\n",
    "\n",
    "  /**\n",
    "   * Task 9:\n",
    "   *\n",
    "   * Write a function that computes the sum of the non-None values in a `List[Option[Int]]`.\n",
    "   * Don't use a match statement.\n",
    "   */\n",
    "  def sumOfNonNoneValues(xs: List[Option[Int]]): Int = xs.foldLeft(0) { (acc, item) =>\n",
    "    acc + item.getOrElse(0)\n",
    "  }\n",
    "\n",
    "  /**\n",
    "   * Task 10:\n",
    "   *\n",
    "   * Write a function that composes two functions of type `Double => Option[Double]`, yielding\n",
    "   * another function of the same type. The composition should yield `None` if either function does.\n",
    "   * For example,\n",
    "   * {{{\n",
    "   *  def f(x: Double) = if (x >= 0) Some(sqrt(x)) else None\n",
    "   *  def g(x: Double) = if (x != 1) Some(1 / (x - 1)) else None\n",
    "   *  val h = compose(f, g)\n",
    "   * }}}\n",
    "   * Then `h(2)` is `Some(1)`, and `h(1)` and `h(0)` are `None`.\n",
    "   */\n",
    "  def compose(f1: Double => Option[Double], f2: Double => Option[Double]): Double => Option[Double] = {\n",
    "    (x: Double) => f2(x) match {\n",
    "      case Some(y) => f1(y)\n",
    "      case None => None\n",
    "    }\n",
    "  }\n",
    "}\n"
   ]
  }
 ],
 "metadata": {
  "kernelspec": {
   "display_name": "Scala",
   "language": "scala",
   "name": "scala"
  },
  "language_info": {
   "codemirror_mode": "text/x-scala",
   "file_extension": ".scala",
   "mimetype": "text/x-scala",
   "name": "scala211",
   "nbconvert_exporter": "script",
   "pygments_lexer": "scala",
   "version": "2.11.11"
  }
 },
 "nbformat": 4,
 "nbformat_minor": 2
}
