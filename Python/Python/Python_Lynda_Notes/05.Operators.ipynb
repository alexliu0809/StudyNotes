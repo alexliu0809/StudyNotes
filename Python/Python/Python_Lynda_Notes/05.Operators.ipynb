{
 "cells": [
  {
   "cell_type": "markdown",
   "metadata": {},
   "source": [
    "# Operators"
   ]
  },
  {
   "cell_type": "markdown",
   "metadata": {},
   "source": [
    "## Simple arithmetic"
   ]
  },
  {
   "cell_type": "code",
   "execution_count": 1,
   "metadata": {
    "collapsed": false
   },
   "outputs": [
    {
     "name": "stdout",
     "output_type": "stream",
     "text": [
      "10\n",
      "25\n",
      "0\n",
      "1.6666666666666667\n",
      "1.6666666666666667\n",
      "2\n",
      "(1, 2)\n",
      "3\n"
     ]
    }
   ],
   "source": [
    "#Simple arithmetic\n",
    "a = 5+5\n",
    "print(a)\n",
    "a = 5*5\n",
    "print(a)\n",
    "a = 5-5\n",
    "print(a)\n",
    "a = 5.0/3.0 #float\n",
    "print(a)\n",
    "a = 5/3 #int division\n",
    "print(a)\n",
    "a = 5%3\n",
    "print(a)\n",
    "print(divmod(5,3)) #both divisor and module\n",
    "a = 1\n",
    "a += 2 #a = 3\n",
    "print(a)"
   ]
  },
  {
   "cell_type": "markdown",
   "metadata": {},
   "source": [
    "## Bitwise Op:"
   ]
  },
  {
   "cell_type": "code",
   "execution_count": 2,
   "metadata": {
    "collapsed": false
   },
   "outputs": [
    {
     "name": "stdout",
     "output_type": "stream",
     "text": [
      "00000011\n",
      "01010101\n",
      "10101010\n",
      "11111111\n",
      "00000000\n",
      "10101010000\n",
      "00000101\n"
     ]
    }
   ],
   "source": [
    "#print binary of a number:\n",
    "print(\"{:08b}\".format(a)); #not supported by python 2. Import from future.\n",
    "\n",
    "\n",
    "#Bitwise Operators.\n",
    "x,y = 0x55,0xaa\n",
    "print(\"{:08b}\".format(x));\n",
    "print(\"{:08b}\".format(y));\n",
    "print(\"{:08b}\".format(x|y));\n",
    "print(\"{:08b}\".format(x&y));\n",
    "print(\"{:08b}\".format(x<<4)); #add 0\n",
    "print(\"{:08b}\".format(x>>4)); #clear the first 4 bits\n"
   ]
  },
  {
   "cell_type": "markdown",
   "metadata": {},
   "source": [
    "## Comparing Operators"
   ]
  },
  {
   "cell_type": "code",
   "execution_count": 3,
   "metadata": {
    "collapsed": false
   },
   "outputs": [
    {
     "name": "stdout",
     "output_type": "stream",
     "text": [
      "True\n",
      "False\n",
      "True\n",
      "4297148656\n",
      "4297148656\n",
      "4360182792\n",
      "4360182600\n"
     ]
    }
   ],
   "source": [
    "#Comparing Operators: is ==.\n",
    "print(5<6) #compare value\n",
    "print(x is y) #compare id\n",
    "print(5==5) #compare value\n",
    "\n",
    "\n",
    "x,y = (5),(5)\n",
    "print(id(x))\n",
    "print(id(y))\n",
    "#Tuples have the same ids\n",
    "\n",
    "x,y = [5],[5]\n",
    "print(id(x))\n",
    "print(id(y))\n",
    "#lists have different ids\n"
   ]
  },
  {
   "cell_type": "markdown",
   "metadata": {},
   "source": [
    "## Boolearn Operators"
   ]
  },
  {
   "cell_type": "code",
   "execution_count": 4,
   "metadata": {
    "collapsed": false
   },
   "outputs": [
    {
     "name": "stdout",
     "output_type": "stream",
     "text": [
      "False\n",
      "True\n",
      "True\n",
      "False\n"
     ]
    }
   ],
   "source": [
    "#Boolearn Operators: and/or different from &,|\n",
    "x = True\n",
    "print(True and False) #boolean op\n",
    "print(True and True) #boolean op\n",
    "print(True & True) #bit op, tho the results are the same\n",
    "print(True & False)"
   ]
  },
  {
   "cell_type": "markdown",
   "metadata": {},
   "source": [
    "## Slice Operators"
   ]
  },
  {
   "cell_type": "code",
   "execution_count": 5,
   "metadata": {
    "collapsed": false
   },
   "outputs": [
    {
     "name": "stdout",
     "output_type": "stream",
     "text": [
      "1\n",
      "[1, 2, 3, 4, 5]\n",
      "[1, 3, 5]\n",
      "[0, 99, 2, 99, 4, 5, 6, 7, 8, 9, 10, 11, 12, 13, 14, 15, 16, 17, 18, 19, 20, 21, 22, 23, 24, 25, 26, 27, 28, 29, 30, 31, 32, 33, 34, 35, 36, 37, 38, 39, 40, 41, 42, 43, 44, 45, 46, 47, 48, 49, 50, 51, 52, 53, 54, 55, 56, 57, 58, 59, 60, 61, 62, 63, 64, 65, 66, 67, 68, 69, 70, 71, 72, 73, 74, 75, 76, 77, 78, 79, 80, 81, 82, 83, 84, 85, 86, 87, 88, 89, 90, 91, 92, 93, 94, 95, 96, 97, 98, 99]\n"
     ]
    }
   ],
   "source": [
    "#Slice Operators.\n",
    "mylist = [1,2,3,4,5,6,7,8,9,10] #index is 0 based.\n",
    "print(mylist[0])\n",
    "print(mylist[0:5]) #0--4. The last one is not included. Ranges in Python never includes the last one.\n",
    "print(mylist[0:5:2]) #0:5 from 0-4. 0:5:2 from 0 every 2 elements. i=i+2.\n",
    "\n",
    "mylist[:] = range(100)\n",
    "#list = 0-99\n",
    "\n",
    "mylist[1:5:2] = (99,99) #change 1,3.\n",
    "print(mylist)\n",
    "#helpful for matrix manipulation\n"
   ]
  },
  {
   "cell_type": "code",
   "execution_count": null,
   "metadata": {
    "collapsed": true
   },
   "outputs": [],
   "source": []
  }
 ],
 "metadata": {
  "anaconda-cloud": {},
  "kernelspec": {
   "display_name": "Python [conda root]",
   "language": "python",
   "name": "conda-root-py"
  },
  "language_info": {
   "codemirror_mode": {
    "name": "ipython",
    "version": 3
   },
   "file_extension": ".py",
   "mimetype": "text/x-python",
   "name": "python",
   "nbconvert_exporter": "python",
   "pygments_lexer": "ipython3",
   "version": "3.5.2"
  }
 },
 "nbformat": 4,
 "nbformat_minor": 1
}
