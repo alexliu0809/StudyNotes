{
 "cells": [
  {
   "cell_type": "markdown",
   "metadata": {},
   "source": [
    "# File I/O"
   ]
  },
  {
   "cell_type": "markdown",
   "metadata": {},
   "source": [
    "## Read and Write"
   ]
  },
  {
   "cell_type": "code",
   "execution_count": 1,
   "metadata": {
    "collapsed": false
   },
   "outputs": [
    {
     "name": "stdout",
     "output_type": "stream",
     "text": [
      "01 This is a line of text\n",
      "02 This is a line of text\n",
      "03 This is a line of text\n",
      "04 This is a line of text\n",
      "05 This is a line of text\n"
     ]
    }
   ],
   "source": [
    "#simple opfen\n",
    "def main():\n",
    "    f = open(\"lines.txt\")\n",
    "    for ln in f:\n",
    "        print(ln,end = '')\n",
    "\n",
    "if __name__==\"__main__\": main()"
   ]
  },
  {
   "cell_type": "code",
   "execution_count": 2,
   "metadata": {
    "collapsed": false
   },
   "outputs": [
    {
     "name": "stdout",
     "output_type": "stream",
     "text": [
      "01 This is a line of text\n",
      "\n",
      "02 This is a line of text\n",
      "\n",
      "03 This is a line of text\n",
      "\n",
      "04 This is a line of text\n",
      "\n",
      "05 This is a line of text\n",
      "\n"
     ]
    }
   ],
   "source": [
    "#add open mode\n",
    "def main():\n",
    "    f = open(\"lines.txt\",\"r\") #w write, a append, rb binary, rt text file\n",
    "    outf = open(\"newlines.txt\",\"w\")\n",
    "    for ln in f:\n",
    "        print(ln, file = outf ,end = '')#out to a file\n",
    "        print(ln)\n",
    "\n",
    "if __name__==\"__main__\": main()"
   ]
  },
  {
   "cell_type": "markdown",
   "metadata": {},
   "source": [
    "## Buffer Read"
   ]
  },
  {
   "cell_type": "code",
   "execution_count": 3,
   "metadata": {
    "collapsed": false
   },
   "outputs": [
    {
     "name": "stdout",
     "output_type": "stream",
     "text": [
      "......."
     ]
    }
   ],
   "source": [
    "#buffer read big file\n",
    "def main():\n",
    "    buffersize = 50000 #define the size of chunk, 50000 bytes\n",
    "    f = open(\"bigfile.txt\",\"r\") #w write, a append, rb binary, rt text file\n",
    "    outf = open(\"newbig.txt\",\"w\")\n",
    "    buffer = f.read(buffersize)\n",
    "    \n",
    "    while len(buffer): #while buffer len !=0\n",
    "        outf.write(buffer) #write the buffer\n",
    "        print('.',end='')\n",
    "        buffer = f.read(buffersize) #read a buffer with buffersize\n",
    "\n",
    "if __name__==\"__main__\": main()"
   ]
  },
  {
   "cell_type": "markdown",
   "metadata": {},
   "source": [
    "## Read Binary Files"
   ]
  },
  {
   "cell_type": "code",
   "execution_count": 4,
   "metadata": {
    "collapsed": false
   },
   "outputs": [
    {
     "name": "stdout",
     "output_type": "stream",
     "text": [
      "..."
     ]
    }
   ],
   "source": [
    "#Binary Files\n",
    "def main():\n",
    "    buffersize = 50000\n",
    "    f = open(\"olives.jpg\",'rb')\n",
    "    fout = open('newolives.jpg','wb')\n",
    "    buffer = f.read(buffersize) #not iterabal.\n",
    "    \n",
    "    while len(buffer)>0:\n",
    "        fout.write(buffer)\n",
    "        print('.',end='')\n",
    "        buffer = f.read(buffersize)\n",
    "\n",
    "if __name__==\"__main__\": main()"
   ]
  },
  {
   "cell_type": "code",
   "execution_count": null,
   "metadata": {
    "collapsed": true
   },
   "outputs": [],
   "source": []
  }
 ],
 "metadata": {
  "anaconda-cloud": {},
  "kernelspec": {
   "display_name": "Python [conda root]",
   "language": "python",
   "name": "conda-root-py"
  },
  "language_info": {
   "codemirror_mode": {
    "name": "ipython",
    "version": 3
   },
   "file_extension": ".py",
   "mimetype": "text/x-python",
   "name": "python",
   "nbconvert_exporter": "python",
   "pygments_lexer": "ipython3",
   "version": "3.5.2"
  }
 },
 "nbformat": 4,
 "nbformat_minor": 1
}
