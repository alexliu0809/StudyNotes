{
 "cells": [
  {
   "cell_type": "markdown",
   "metadata": {},
   "source": [
    "# Loops"
   ]
  },
  {
   "cell_type": "markdown",
   "metadata": {},
   "source": [
    "## while loops"
   ]
  },
  {
   "cell_type": "code",
   "execution_count": 1,
   "metadata": {
    "collapsed": false
   },
   "outputs": [
    {
     "name": "stdout",
     "output_type": "stream",
     "text": [
      "1\n",
      "2\n",
      "3\n",
      "4\n"
     ]
    }
   ],
   "source": [
    "#while loops\n",
    "a,b = 1,1\n",
    "while b<5:\n",
    "    print(a)\n",
    "    b += 1\n",
    "    a += 1\n"
   ]
  },
  {
   "cell_type": "markdown",
   "metadata": {},
   "source": [
    "## For Loop"
   ]
  },
  {
   "cell_type": "code",
   "execution_count": 2,
   "metadata": {
    "collapsed": false
   },
   "outputs": [
    {
     "name": "stdout",
     "output_type": "stream",
     "text": [
      "01 This is a line of text\n",
      "\n",
      "02 This is a line of text\n",
      "\n",
      "03 This is a line of text\n",
      "\n",
      "04 This is a line of text\n",
      "\n",
      "05 This is a line of text\n",
      "\n",
      "01 This is a line of text\n",
      "01 This is a line of text\n",
      "02 This is a line of text\n",
      "02 This is a line of text\n",
      "03 This is a line of text\n",
      "03 This is a line of text\n",
      "04 This is a line of text\n",
      "04 This is a line of text\n",
      "05 This is a line of text\n",
      "05 This is a line of text\n",
      "s\n",
      "t\n",
      "r\n",
      "i\n",
      "n\n",
      "g\n",
      "1\n",
      "3\n"
     ]
    }
   ],
   "source": [
    "#Iterating with for.\n",
    "fh = open('lines.txt')\n",
    "for line in fh:\n",
    "    print(line)\n",
    "\n",
    "#the output is different because line is like \"abc\\n\". print add another '\\n'\n",
    "\n",
    "\n",
    "#Solution:\n",
    "#import __future__\n",
    "#then use python3\n",
    "fh = open('lines.txt')\n",
    "for line in fh:\n",
    "    print(line,end='') #note that end is not supported by python2\n",
    "    print(line.strip()) #or line.strip is also ok\n",
    "\n",
    "for letter in \"string\":\n",
    "    print(letter)\n",
    "\n",
    "#How to acheive for (int i = 1; i<=50; i+=2)\n",
    "for i in range(1,5,2):\n",
    "    print(i)"
   ]
  },
  {
   "cell_type": "markdown",
   "metadata": {},
   "source": [
    "## Enumerating Inerators"
   ]
  },
  {
   "cell_type": "code",
   "execution_count": 3,
   "metadata": {
    "collapsed": false
   },
   "outputs": [
    {
     "name": "stdout",
     "output_type": "stream",
     "text": [
      "0 t\n",
      "1 h\n",
      "2 i\n",
      "3 s\n",
      "4  \n",
      "5 i\n",
      "6 s\n",
      "7  \n",
      "8 a\n",
      "9  \n",
      "10 s\n",
      "11 t\n",
      "12 r\n",
      "13 i\n",
      "14 n\n",
      "15 g\n"
     ]
    }
   ],
   "source": [
    "s = \"this is a string\"\n",
    "for index,letter in enumerate(s): #return a index and the value\n",
    "    print(index,letter)"
   ]
  },
  {
   "cell_type": "markdown",
   "metadata": {},
   "source": [
    "## Break and Continue"
   ]
  },
  {
   "cell_type": "code",
   "execution_count": 4,
   "metadata": {
    "collapsed": false
   },
   "outputs": [
    {
     "name": "stdout",
     "output_type": "stream",
     "text": [
      "f\n"
     ]
    }
   ],
   "source": [
    "#Break and Continue.\n",
    "for c in \"adfgs\":\n",
    "    if c != \"f\":\n",
    "        continue\n",
    "    else:\n",
    "        print(c)\n",
    "        break"
   ]
  },
  {
   "cell_type": "code",
   "execution_count": null,
   "metadata": {
    "collapsed": true
   },
   "outputs": [],
   "source": []
  }
 ],
 "metadata": {
  "kernelspec": {
   "display_name": "Python [conda root]",
   "language": "python",
   "name": "conda-root-py"
  },
  "language_info": {
   "codemirror_mode": {
    "name": "ipython",
    "version": 3
   },
   "file_extension": ".py",
   "mimetype": "text/x-python",
   "name": "python",
   "nbconvert_exporter": "python",
   "pygments_lexer": "ipython3",
   "version": "3.5.2"
  }
 },
 "nbformat": 4,
 "nbformat_minor": 1
}
