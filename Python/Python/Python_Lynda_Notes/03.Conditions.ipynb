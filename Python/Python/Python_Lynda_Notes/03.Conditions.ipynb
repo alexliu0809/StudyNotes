{
 "cells": [
  {
   "cell_type": "markdown",
   "metadata": {},
   "source": [
    "# Conditions"
   ]
  },
  {
   "cell_type": "code",
   "execution_count": 1,
   "metadata": {
    "collapsed": false
   },
   "outputs": [
    {
     "name": "stdout",
     "output_type": "stream",
     "text": [
      "a<b\n",
      "v is not 0,1,2\n",
      "first\n",
      "a<b\n",
      "0\n"
     ]
    }
   ],
   "source": [
    "#Conditions:\n",
    "#simple if\n",
    "a,b = 0,1\n",
    "if a<b:\n",
    "    print(\"a<b\")\n",
    "else:\n",
    "    print(\"a>=b\")\n",
    "\n",
    "#elif (else if)\n",
    "v = 3\n",
    "if v == 0:\n",
    "    print(\"v=0\")\n",
    "elif v==1:\n",
    "    print(\"v=1\")\n",
    "elif v==2:\n",
    "    print(\"v=2\")\n",
    "else: #default case\n",
    "    print(\"v is not 0,1,2\")\n",
    "\n",
    "\n",
    "#Python does not have a switch case. We use a different strategy.\n",
    "choices = dict(\n",
    "\n",
    "    one = \"first\",\n",
    "    two = \"second\",\n",
    "    three = \"thrid\"\n",
    "\n",
    ")\n",
    "v = 'one'\n",
    "print(choices[v]) #use a dict to replace\n",
    "\n",
    "\n",
    "#simplifed if else\n",
    "v = \"a<b\" if a<b else \"a>b\"\n",
    "print(v)\n",
    "v = a if a<b else b\n",
    "print(v)\n"
   ]
  }
 ],
 "metadata": {
  "anaconda-cloud": {},
  "kernelspec": {
   "display_name": "Python [conda root]",
   "language": "python",
   "name": "conda-root-py"
  },
  "language_info": {
   "codemirror_mode": {
    "name": "ipython",
    "version": 3
   },
   "file_extension": ".py",
   "mimetype": "text/x-python",
   "name": "python",
   "nbconvert_exporter": "python",
   "pygments_lexer": "ipython3",
   "version": "3.5.2"
  }
 },
 "nbformat": 4,
 "nbformat_minor": 1
}
