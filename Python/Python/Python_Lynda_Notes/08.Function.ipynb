{
 "cells": [
  {
   "cell_type": "markdown",
   "metadata": {
    "collapsed": false
   },
   "source": [
    "# Function"
   ]
  },
  {
   "cell_type": "markdown",
   "metadata": {
    "collapsed": true
   },
   "source": [
    "## Simple Function Declaration"
   ]
  },
  {
   "cell_type": "code",
   "execution_count": 1,
   "metadata": {
    "collapsed": false
   },
   "outputs": [
    {
     "name": "stdout",
     "output_type": "stream",
     "text": [
      "This is a func 42\n",
      "This is a func 0\n",
      "ArgsOpt\n",
      "0\n"
     ]
    }
   ],
   "source": [
    "#One Notice about Function declaration\n",
    "'''\n",
    "I dont know how python interpreter works\n",
    "but python does allow same function to be defined twice.\n",
    "I think if the function is called. Python executed the recently declared one\n",
    "and I persume that python parse the code in a top-down approach\n",
    "'''\n",
    "\n",
    "\n",
    "def main():\n",
    "    testfunc(42)\n",
    "    testfunc()\n",
    "    \n",
    "    #Args(1) #python requires you to pass all the arguments.\n",
    "    #To make arguments optional:\n",
    "    ArgsOpt()\n",
    "    ArgsNone()\n",
    "\n",
    "    emptyfunc()\n",
    "\n",
    "def testfunc(num = 0):\n",
    "    print(\"This is a func\",num)\n",
    "\n",
    "def Args(arg1,arg2):\n",
    "    pass\n",
    "\n",
    "def ArgsOpt(arg1=1,arg2=2):\n",
    "    print(\"ArgsOpt\")\n",
    "    pass\n",
    "\n",
    "def ArgsNone(arg1 = None): #to test if the value is passed, use None,\n",
    "    if (arg1 == None):\n",
    "        arg1 = 0\n",
    "        print(arg1)\n",
    "\n",
    "#testfunc()\n",
    "#Python does not allow direct call before the function is declared\n",
    "\n",
    "#def testfunc():\n",
    "#python does not allow empty function.\n",
    "\n",
    "#solution: pass.\n",
    "def emptyfunc():\n",
    "    pass\n",
    "\n",
    "main()"
   ]
  },
  {
   "cell_type": "markdown",
   "metadata": {},
   "source": [
    "## Arbitary List of Arguments and keyword args"
   ]
  },
  {
   "cell_type": "code",
   "execution_count": 2,
   "metadata": {
    "collapsed": false
   },
   "outputs": [
    {
     "name": "stdout",
     "output_type": "stream",
     "text": [
      "5 6 (11, 12, 13)\n",
      "1\n",
      "(5, 6, 7)\n",
      "100\n",
      "two 200\n",
      "one 100\n"
     ]
    }
   ],
   "source": [
    "#the arguments can be the mix of arbitary list of arguments + kwargs.\n",
    "#but the sequence of the arguments should be : normal + arbitary + kwargs.\n",
    "def main1():\n",
    "    ArbArg(5,6,11,12,13)\n",
    "    kwArgs(1,5,6,7,one = 100, two = 200)\n",
    "\n",
    "def ArbArg(this, that, *args):\n",
    "    print (this,that,args) #args are defined as tuples. args = (11,12,13)\n",
    "    #assign value from arbitary args quickly:\n",
    "    if len(args) == 2:(a,b) = args\n",
    "\n",
    "def kwArgs(this,*args,**kwargs): #kwargs is a dictionary.\n",
    "    print(this)\n",
    "    print(args)\n",
    "    print(kwargs[\"one\"])\n",
    "    #if the name of kwargs are not known:\n",
    "    for k in kwargs: print(k,kwargs[k]) #also, can use sorted to sort the dict.\n",
    "\n",
    "main1()"
   ]
  },
  {
   "cell_type": "markdown",
   "metadata": {},
   "source": [
    "## return values"
   ]
  },
  {
   "cell_type": "code",
   "execution_count": 3,
   "metadata": {
    "collapsed": false
   },
   "outputs": [
    {
     "name": "stdout",
     "output_type": "stream",
     "text": [
      "this is a string\n",
      "range(1, 3)\n",
      "1\n",
      "2\n"
     ]
    }
   ],
   "source": [
    "def main2():\n",
    "    print(returnFunc())\n",
    "    print(returnFunc1()) #return is a list\n",
    "    for n in returnFunc1():#you can also iterate a list.\n",
    "        print(n)\n",
    "\n",
    "def returnFunc():\n",
    "    return \"this is a string\"\n",
    "def returnFunc1():\n",
    "    return range(1,3)\n",
    "\n",
    "main2()"
   ]
  },
  {
   "cell_type": "markdown",
   "metadata": {},
   "source": [
    "## Generator function"
   ]
  },
  {
   "cell_type": "code",
   "execution_count": 4,
   "metadata": {
    "collapsed": false
   },
   "outputs": [
    {
     "name": "stdout",
     "output_type": "stream",
     "text": [
      "<generator object real_include_range at 0x10881e7d8>\n",
      "Real Range\n",
      "0\n",
      "1\n",
      "2\n",
      "Real Range\n",
      "1\n",
      "2\n",
      "3\n",
      "Real Range\n",
      "1\n",
      "3\n",
      "1\n",
      "3\n",
      "5\n",
      "7\n",
      "9\n"
     ]
    }
   ],
   "source": [
    "#it generates an iterator object, which can be used like any iterator object in python.\n",
    "def main3():\n",
    "    y = real_include_range(5)\n",
    "    print(y)\n",
    "    #Special Note\n",
    "    #the above line will not execute the generator.\n",
    "    #If you print y. You can see \"<generator object yrange at 0x401f30>\" So you can treat the generator as\n",
    "    #an iterator. You have to use it in iteration so that it is called.\n",
    "    #so you can't not just simply call a generator like a function, it will not be executed.\n",
    "    \n",
    "    for i in real_include_range(2):\n",
    "        print(i)\n",
    "    for i in real_include_range(1,3):\n",
    "        print(i)\n",
    "    for i in real_include_range(1,4,2):\n",
    "        print(i)\n",
    "    \n",
    "    for i in includesive_range(1,10,2):\n",
    "        print(i)\n",
    "    #includesive_range(25) not executable. its because 25 is considered as the first argument, which is start.\n",
    "\n",
    "\n",
    "\n",
    "def includesive_range(start,stop,step = 1):\n",
    "    i = start\n",
    "    while i<=stop:\n",
    "        yield i #it returns i. but the next time the function is called, it starts from the next line after yield\n",
    "        i += step\n",
    "    #this is not exactly how range is written, because of the fixed args. reasons explained above\n",
    "    #also, args cannot be: start = 0, stop because of the order required.\n",
    "    \n",
    "#build a real range\n",
    "def real_include_range(*args):\n",
    "    print(\"Real Range\")\n",
    "    num = len(args)\n",
    "    if num<1 : raise TypeErrpr(\"at least 1 args\")\n",
    "    elif num == 1:\n",
    "        start = 0\n",
    "        step = 1\n",
    "        stop = args[0]\n",
    "    elif num == 2:\n",
    "        (start,stop) = args\n",
    "        step = 1\n",
    "    elif num == 3:\n",
    "        (start,stop,step) = args\n",
    "    else: raise TypeErrpr(\"too many args\")\n",
    "\n",
    "    i = start\n",
    "    while i<=stop:\n",
    "        yield i #it returns i. but the next time the function is called, it starts from the next line after yield\n",
    "        i += step\n",
    "\n",
    "\n",
    "main3()"
   ]
  },
  {
   "cell_type": "code",
   "execution_count": null,
   "metadata": {
    "collapsed": true
   },
   "outputs": [],
   "source": []
  }
 ],
 "metadata": {
  "anaconda-cloud": {},
  "kernelspec": {
   "display_name": "Python [conda root]",
   "language": "python",
   "name": "conda-root-py"
  },
  "language_info": {
   "codemirror_mode": {
    "name": "ipython",
    "version": 3
   },
   "file_extension": ".py",
   "mimetype": "text/x-python",
   "name": "python",
   "nbconvert_exporter": "python",
   "pygments_lexer": "ipython3",
   "version": "3.5.2"
  }
 },
 "nbformat": 4,
 "nbformat_minor": 1
}
