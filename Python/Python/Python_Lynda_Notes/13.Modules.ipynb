{
 "cells": [
  {
   "cell_type": "markdown",
   "metadata": {},
   "source": [
    "# Modules"
   ]
  },
  {
   "cell_type": "markdown",
   "metadata": {},
   "source": [
    "## System modules"
   ]
  },
  {
   "cell_type": "code",
   "execution_count": 1,
   "metadata": {
    "collapsed": false
   },
   "outputs": [
    {
     "name": "stdout",
     "output_type": "stream",
     "text": [
      "Python version 3.5.2\n",
      "darwin\n",
      "posix\n",
      "/Users/Enze/anaconda/bin:/Users/Enze/anaconda/bin:/Volumes/HD0/Applications/CMake.app/Contents/bin:/usr/local/bin:/usr/bin:/bin:/usr/sbin:/sbin\n",
      "/Users/Enze/Dropbox/PythonPractice/PythonPractice/PythonNotes\n",
      "642\n",
      "[0, 1, 2, 3, 4]\n",
      "[3, 4, 0, 1, 2]\n",
      "2017-01-13 10:31:52.560623\n",
      "2017 1 13\n"
     ]
    }
   ],
   "source": [
    "import sys\n",
    "import os\n",
    "import urllib.request as url\n",
    "import random\n",
    "import datetime\n",
    "\n",
    "def main():\n",
    "    print('Python version {}.{}.{}'.format(*sys.version_info))\n",
    "    print(sys.platform)\n",
    "    \n",
    "    print(os.name)\n",
    "    print(os.getenv('PATH'))\n",
    "    print(os.getcwd())\n",
    "    \n",
    "    #read page. commented because too long\n",
    "    #page = url.urlopen(\"http://www.bw.org\")\n",
    "    #for ln in page: print(str(ln,encoding=\"utf_8\"),end='')\n",
    "    \n",
    "    print(random.randint(1,1000))\n",
    "    x = list(range(5))\n",
    "    print(x)\n",
    "    random.shuffle(x)\n",
    "    print(x)\n",
    "    \n",
    "    now =datetime.datetime.now()\n",
    "    print(now)\n",
    "    print(now.year,now.month,now.day)\n",
    "    \n",
    "if __name__ == \"__main__\": main()"
   ]
  },
  {
   "cell_type": "markdown",
   "metadata": {},
   "source": [
    "## ThirdParty Modules"
   ]
  },
  {
   "cell_type": "code",
   "execution_count": 2,
   "metadata": {
    "collapsed": false
   },
   "outputs": [
    {
     "name": "stdout",
     "output_type": "stream",
     "text": [
      "<class 'numpy.ndarray'>\n",
      "(3,)\n",
      "1 2 3\n",
      "[5 2 3]\n",
      "(2, 3)\n",
      "1 2 4\n"
     ]
    }
   ],
   "source": [
    "#Install Third Party Module First\n",
    "#Then import it\n",
    "\n",
    "import numpy as np\n",
    "a = np.array([1, 2, 3])  # Create a rank 1 array\n",
    "print(type(a))            # Prints \"<type 'numpy.ndarray'>\"\n",
    "print(a.shape)            # Prints \"(3,)\"\n",
    "print(a[0], a[1], a[2])   # Prints \"1 2 3\"\n",
    "a[0] = 5                 # Change an element of the array\n",
    "print(a)                  # Prints \"[5, 2, 3]\"\n",
    "\n",
    "b = np.array([[1,2,3],[4,5,6]])   # Create a rank 2 array\n",
    "print(b.shape)                     # Prints \"(2, 3)\"\n",
    "print(b[0, 0], b[0, 1], b[1, 0])   # Prints \"1 2 4\""
   ]
  },
  {
   "cell_type": "markdown",
   "metadata": {},
   "source": [
    "## Creating Own Modules"
   ]
  },
  {
   "cell_type": "code",
   "execution_count": 3,
   "metadata": {
    "collapsed": false
   },
   "outputs": [
    {
     "name": "stdout",
     "output_type": "stream",
     "text": [
      "Content-type: text/html\n",
      "\n",
      "In Phoenix, Arizona, it is now twenty-nine til eleven, on Friday, 13 January 2017.\n",
      "1.1.0\n",
      "1.1.0\n"
     ]
    }
   ],
   "source": [
    "#Suppose the module is called saytime.py\n",
    "#how to import and run the file you created?\n",
    "\n",
    "import saytime,sys,time\n",
    "\n",
    "t = time.localtime() #a function defined\n",
    "print(\"Content-type: text/html\\n\")\n",
    "print(\n",
    "    \"In Phoenix, Arizona, it is now \" + \n",
    "    saytime.saytime_t(t).words() + time.strftime(', on %A, %d %B %Y.'))\n",
    "    #saytime is the name of the py file\n",
    "    #saytime_t is the name of the class.\n",
    "    #words is a method inside.\n",
    "    \n",
    "print(saytime.__version__) #__version__ is just a var defined in saytime.\n",
    "#it is not in any class\n",
    "\n",
    "\n",
    "saytime.printVer() #a function defined\n",
    "    \n"
   ]
  },
  {
   "cell_type": "code",
   "execution_count": null,
   "metadata": {
    "collapsed": true
   },
   "outputs": [],
   "source": []
  }
 ],
 "metadata": {
  "anaconda-cloud": {},
  "kernelspec": {
   "display_name": "Python [conda root]",
   "language": "python",
   "name": "conda-root-py"
  },
  "language_info": {
   "codemirror_mode": {
    "name": "ipython",
    "version": 3
   },
   "file_extension": ".py",
   "mimetype": "text/x-python",
   "name": "python",
   "nbconvert_exporter": "python",
   "pygments_lexer": "ipython3",
   "version": "3.5.2"
  }
 },
 "nbformat": 4,
 "nbformat_minor": 1
}
