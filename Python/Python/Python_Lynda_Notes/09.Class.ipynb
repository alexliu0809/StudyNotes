{
 "cells": [
  {
   "cell_type": "markdown",
   "metadata": {},
   "source": [
    "# 9.Classes"
   ]
  },
  {
   "cell_type": "markdown",
   "metadata": {},
   "source": [
    "## Syntax"
   ]
  },
  {
   "cell_type": "code",
   "execution_count": 1,
   "metadata": {
    "collapsed": false
   },
   "outputs": [
    {
     "name": "stdout",
     "output_type": "stream",
     "text": [
      "Constructor\n",
      "Quaak 4\n",
      "Walks like a duck\n"
     ]
    }
   ],
   "source": [
    "#A class is a buleprint for an object\n",
    "#object is an instance of a class\n",
    "class Duck:\n",
    "    #attributes do not have to be defined in the class. just assgin the value in init.\n",
    "    \n",
    "    #A constructor can be left out if nothing to be done.\n",
    "    def __init__(self, value): #constructor. \n",
    "        print(\"Constructor\")\n",
    "        self.v = value #self an attribute called v to value. do not need to define this in the class\n",
    "    \n",
    "    def quack(self): #each method should have self. which is referencing to the instance.object, not the class.\n",
    "        print(\"Quaak\",self.v)\n",
    "    def walk(self):\n",
    "        print(\"Walks like a duck\")\n",
    "def main():\n",
    "    donald = Duck(4) #create an instance\n",
    "    donald.quack() #reference an attribute. in this case this attribute is a method.\n",
    "    donald.walk() #automatically pass donald into it.\n",
    "\n",
    "if __name__ == \"__main__\":main()"
   ]
  },
  {
   "cell_type": "markdown",
   "metadata": {},
   "source": [
    "## Attributes"
   ]
  },
  {
   "cell_type": "code",
   "execution_count": 2,
   "metadata": {
    "collapsed": false
   },
   "outputs": [
    {
     "name": "stdout",
     "output_type": "stream",
     "text": [
      "blue\n",
      "yellow\n",
      "blue\n",
      "white\n",
      "white\n"
     ]
    }
   ],
   "source": [
    "class Duck:\n",
    "    #attributes do not have to be defined in the class. just assgin the value in init.\n",
    "    #attributes can also be defined outside the class. but it is not suggested.\n",
    "    def __init__(self, color = \"white\",**kwargs): #constructor. \n",
    "        self.color = color #define an attribute, and set val\n",
    "        self.vars = kwargs\n",
    "        \n",
    "    #define methods to get and set attributes.\n",
    "    def set_color(self,color):\n",
    "        self.color = color\n",
    "    def get_color(self):\n",
    "        return self.color\n",
    "    #a better way\n",
    "    def set_color_enforce(self, **kwargs):#enforce encapsulation\n",
    "        self.color=kwargs.get(\"color\",\"white\")\n",
    "        \n",
    "    def set_feet(self,feet):\n",
    "        self.vars[\"feet\"] = feet\n",
    "    def get_feet(self):\n",
    "        return self.vars[\"feet\"]\n",
    "def main():\n",
    "    donald = Duck(\"yellow\",feet = \"blue\") #create an instance\n",
    "    donald.color = \"blue\" #set attribute outside the class\n",
    "    print(donald.color) #shoud be blue\n",
    "    donald.set_color(\"yellow\")\n",
    "    print(donald.color)\n",
    "    \n",
    "    donald.set_color_enforce(color = \"blue\") #set blue\n",
    "    print(donald.color)\n",
    "    donald.set_color_enforce(feet = \"yellow\") #user can't set feet here, use default white.\n",
    "    print(donald.color)\n",
    "    \n",
    "    donald.set_feet(\"white\")#originally blue\n",
    "    print(donald.get_feet()) #set feet to white\n",
    "    \n",
    "if __name__ == \"__main__\":main()"
   ]
  },
  {
   "cell_type": "markdown",
   "metadata": {},
   "source": [
    "## Inheritance"
   ]
  },
  {
   "cell_type": "code",
   "execution_count": 3,
   "metadata": {
    "collapsed": false
   },
   "outputs": [
    {
     "name": "stdout",
     "output_type": "stream",
     "text": [
      "Quaak\n",
      "I can walk\n",
      "Walks like a duck\n",
      "I have clothes\n",
      "I can walk\n",
      "A dog's cloth\n"
     ]
    }
   ],
   "source": [
    "class Animal:\n",
    "    def talk(self): print(\"I can talk\")\n",
    "    def walk(self): print(\"I can walk\")\n",
    "    def clothes(self):print(\"I have clothes\")\n",
    "    \n",
    "class Duck(Animal): #inheritance: is implemented by adding this in the class def.\n",
    "    \n",
    "    def quack(self): \n",
    "        print(\"Quaak\")\n",
    "        \n",
    "    def walk(self):\n",
    "        super().walk() #here we rewrite the method walk. to perform the walk from parent. super().walk()\n",
    "        print(\"Walks like a duck\")\n",
    "\n",
    "class Dog(Animal):\n",
    "    def clothes(self):\n",
    "        print(\"A dog's cloth\")\n",
    "        \n",
    "def main():\n",
    "    donald = Duck()\n",
    "    donald.quack() \n",
    "    donald.walk() \n",
    "    donald.clothes()#automatically inherit the method\n",
    "    \n",
    "    fido = Dog()\n",
    "    fido.walk()\n",
    "    fido.clothes()\n",
    "    \n",
    "if __name__ == \"__main__\":main()"
   ]
  },
  {
   "cell_type": "markdown",
   "metadata": {},
   "source": [
    "## PolyMorphism"
   ]
  },
  {
   "cell_type": "code",
   "execution_count": 4,
   "metadata": {
    "collapsed": false
   },
   "outputs": [
    {
     "name": "stdout",
     "output_type": "stream",
     "text": [
      "Quaak\n",
      "Walks like a duck\n",
      "The duck cant bark\n",
      "Duck's fur\n",
      "Dog cant quack\n",
      "Walks like a dog\n",
      "bark\n",
      "Dog's fur\n",
      "The duck cant bark\n",
      "Dog cant quack\n"
     ]
    }
   ],
   "source": [
    "#Must share the same Interface to perform PolyMorphism\n",
    "class Duck(): \n",
    "    \n",
    "    def quack(self): \n",
    "        print(\"Quaak\")\n",
    "        \n",
    "    def walk(self):\n",
    "        print(\"Walks like a duck\")\n",
    "\n",
    "    def bark(self):\n",
    "        print(\"The duck cant bark\")\n",
    "        \n",
    "    def fur(self):\n",
    "        print(\"Duck's fur\")\n",
    "        \n",
    "class Dog():\n",
    "    def bark(self):\n",
    "        print(\"bark\")\n",
    "    \n",
    "    def fur(self):\n",
    "        print(\"Dog's fur\")\n",
    "        \n",
    "    def quack(self): \n",
    "        print(\"Dog cant quack\")\n",
    "        \n",
    "    def walk(self):\n",
    "        print(\"Walks like a dog\")\n",
    "\n",
    "def in_the_pond(duck):\n",
    "    duck.quack() #only need to have the interface, doesn't matter cat/dog/duck\n",
    "\n",
    "def in_the_forest(dog):\n",
    "    dog.bark()\n",
    "        \n",
    "def main():\n",
    "    donald = Duck()   \n",
    "    fido = Dog()\n",
    "\n",
    "\n",
    "    for o in (donald,fido): #same interface, no difference.\n",
    "        o.quack()\n",
    "        o.walk()\n",
    "        o.bark()\n",
    "        o.fur()\n",
    "        \n",
    "    in_the_forest(donald) #you can pass donald into it,because everything is an object\n",
    "    #it is just whether donald is defined the interface or not.\n",
    "    in_the_pond(fido)\n",
    "        \n",
    "if __name__ == \"__main__\":main()"
   ]
  },
  {
   "cell_type": "markdown",
   "metadata": {},
   "source": [
    "## Generator"
   ]
  },
  {
   "cell_type": "code",
   "execution_count": 5,
   "metadata": {
    "collapsed": false
   },
   "outputs": [
    {
     "name": "stdout",
     "output_type": "stream",
     "text": [
      "<__main__.inclusive_range object at 0x107062710>\n",
      "0\n",
      "5\n",
      "10\n",
      "15\n",
      "20\n",
      "25\n",
      "0\n",
      "1\n",
      "2\n",
      "3\n",
      "5\n",
      "6\n"
     ]
    }
   ],
   "source": [
    "class inclusive_range:\n",
    "    def __init__(self, *args):\n",
    "        numargs = len(args)\n",
    "        if numargs < 1: raise TypeError(\"Requires at least 1 arg\")\n",
    "        elif numargs == 1:\n",
    "            self.stop = args[0]\n",
    "            self.start = 0\n",
    "            self.step = 1\n",
    "        elif numargs == 2:\n",
    "            (self.start,self.stop) = args\n",
    "            self.step = 1\n",
    "        elif numargs ==3:\n",
    "            (self.start,self.stop,self.step) = args\n",
    "        else: raise TypeError(\"Too many args\")\n",
    "    \n",
    "    #define the iterator of the class. It's the same as functions. also using yeild\n",
    "    def __iter__(self):\n",
    "        i = self.start\n",
    "        while i<= self.stop:\n",
    "            yield i\n",
    "            i += self.step\n",
    "\n",
    "def main():\n",
    "    o = inclusive_range(0,25,5)#define the iterator.\n",
    "    \n",
    "    print(o) #o its an iterator\n",
    "    for i in o: #o is not executed endless the iterator is used.\n",
    "        print(i)\n",
    "        \n",
    "    o = inclusive_range(3)\n",
    "    for i in o:\n",
    "        print(i)\n",
    "        \n",
    "    o = inclusive_range(5,6)\n",
    "    for i in o:\n",
    "        print(i)\n",
    "    \n",
    "\n",
    "if __name__ == \"__main__\":main()"
   ]
  },
  {
   "cell_type": "markdown",
   "metadata": {},
   "source": [
    "## Decorators"
   ]
  },
  {
   "cell_type": "code",
   "execution_count": 6,
   "metadata": {
    "collapsed": false
   },
   "outputs": [
    {
     "name": "stdout",
     "output_type": "stream",
     "text": [
      "blue\n",
      "blue\n"
     ]
    }
   ],
   "source": [
    "#Decorator are special functions that return other functions\n",
    "#used to modify how a function works\n",
    "\n",
    "#The tutorial dose not explain this clearly. \n",
    "# ----------------------------------- Not Clear ----------------------------------#\n",
    "class Duck:\n",
    "    def __init__(self, **kwargs):\n",
    "        self.properties = kwargs\n",
    "\n",
    "    def quack(self):\n",
    "        print('Quaaack!')\n",
    "\n",
    "    def walk(self):\n",
    "        print('Walks like a duck.')\n",
    "\n",
    "    def get_properties(self):\n",
    "        return self.properties\n",
    "\n",
    "    def get_property(self, key):\n",
    "        return self.properties.get(key, None)\n",
    "\n",
    "    @property\n",
    "    def color(self):\n",
    "        return self.properties.get('color',None)\n",
    "    @color.setter\n",
    "    def color(self, c):\n",
    "        self.properties['color'] = c\n",
    "    \n",
    "    @color.deleter \n",
    "    def color(self):\n",
    "        del sel.properties['color']\n",
    "    \n",
    "def main():\n",
    "    donald = Duck(color = 'blue')\n",
    "    print(donald.get_property('color'))\n",
    "    \n",
    "    print(donald.color)\n",
    "\n",
    "if __name__ == \"__main__\": main()\n"
   ]
  },
  {
   "cell_type": "code",
   "execution_count": null,
   "metadata": {
    "collapsed": true
   },
   "outputs": [],
   "source": []
  }
 ],
 "metadata": {
  "anaconda-cloud": {},
  "kernelspec": {
   "display_name": "Python [conda root]",
   "language": "python",
   "name": "conda-root-py"
  },
  "language_info": {
   "codemirror_mode": {
    "name": "ipython",
    "version": 3
   },
   "file_extension": ".py",
   "mimetype": "text/x-python",
   "name": "python",
   "nbconvert_exporter": "python",
   "pygments_lexer": "ipython3",
   "version": "3.5.2"
  }
 },
 "nbformat": 4,
 "nbformat_minor": 1
}
