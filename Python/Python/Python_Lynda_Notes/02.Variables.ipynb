{
 "cells": [
  {
   "cell_type": "markdown",
   "metadata": {},
   "source": [
    "# Variables"
   ]
  },
  {
   "cell_type": "markdown",
   "metadata": {},
   "source": [
    "## Integers"
   ]
  },
  {
   "cell_type": "code",
   "execution_count": 1,
   "metadata": {
    "collapsed": false
   },
   "outputs": [
    {
     "name": "stdout",
     "output_type": "stream",
     "text": [
      "4297149840\n",
      "<class 'int'>\n",
      "<class 'int'>\n",
      "4297149840\n",
      "4297149872\n",
      "<class 'int'>\n",
      "<class 'float'>\n",
      "<class 'float'>\n",
      "<class 'float'>\n",
      "<class 'int'>\n",
      "<class 'float'>\n"
     ]
    }
   ],
   "source": [
    "#Objects. In python3 everything is object.\n",
    "# -including var, functions, even code.\n",
    "# each object has an ID, Type and Val(contents). ID is unique.\n",
    "x = 42\n",
    "print(id(x))\n",
    "print(type(x))\n",
    "#all variables in Python are first class objects: what looks like simple var could be more complex\n",
    "\n",
    "\n",
    "#Mutable objects may change value, immutable objects may not\n",
    "#Objects may look like its value changes - this can be observed using id()\n",
    "x = 42\n",
    "print(type(x))\n",
    "print(id(x)) #id 1\n",
    "x = 43\n",
    "print(id(x)) #id 2\n",
    "#2 ids are different.\n",
    "#Integers are immutable. We are just pointing to an object.\n",
    "\n",
    "#Numbers: Int/Float\n",
    "a = 42\n",
    "b = 42.0\n",
    "c = 42.0 / 9.0  #float division c = 4.xxx\n",
    "d = 42/9        #integer division d=4\n",
    "e = int(42.5)\n",
    "f = float(42)\n",
    "print(type(a)) #class int\n",
    "print(type(b)) #class float\n",
    "print(type(c)) #class float\n",
    "print(type(d)) #class int\n",
    "print(type(e)) #class int\n",
    "print(type(f)) #class float\n"
   ]
  },
  {
   "cell_type": "markdown",
   "metadata": {},
   "source": [
    "## String"
   ]
  },
  {
   "cell_type": "code",
   "execution_count": 2,
   "metadata": {
    "collapsed": false
   },
   "outputs": [
    {
     "name": "stdout",
     "output_type": "stream",
     "text": [
      "this is a \n",
      " string\n",
      "this is a \\n string\n",
      "This is a 42 string!\n",
      "h\n",
      "    line1\n",
      "    line2\n",
      "    line3\n",
      "    \n"
     ]
    }
   ],
   "source": [
    "#Change String + Tuple. You may use a different type to do that.\n",
    "# Immutable:\n",
    "# Int/str/tuples\n",
    "# mutable:\n",
    "# lists,dict,other objects depending on implementatiton\n",
    "\n",
    "\n",
    "\n",
    "#Strings:\n",
    "s = \"this is a \\n string\" #strings are immutable. Both '' and \"\" are okay. Escape characters like \\n also work\n",
    "t = r\"this is a \\n string\" #r defines a raw string. no translation for escape charactersfe\n",
    "#Python 3: s = \"this is a {} string!\".format(n) Insert(n)\n",
    "#Python 2:\n",
    "u = \"This is a %s string!\"%a #this is like printf.\n",
    "print(s)\n",
    "print(t)\n",
    "print(u)\n",
    "#indexing:\n",
    "print(s[1])\n",
    "\n",
    "#backslash \"\\\" is used to escape the newline (eliminate new line)\n",
    "v = '''\\\n",
    "    line1\n",
    "    line2\n",
    "    line3\n",
    "    '''\n",
    "print(v)"
   ]
  },
  {
   "cell_type": "markdown",
   "metadata": {},
   "source": [
    "## List and Tuple"
   ]
  },
  {
   "cell_type": "code",
   "execution_count": 3,
   "metadata": {
    "collapsed": false
   },
   "outputs": [
    {
     "name": "stdout",
     "output_type": "stream",
     "text": [
      "<class 'tuple'> (1, 2, 3)\n",
      "<class 'list'> [1, 2, 7, 3, 5]\n",
      "1\n",
      "2\n",
      "3\n"
     ]
    }
   ],
   "source": [
    "#Lists and Tuples.\n",
    "tu = (1,2,3) #tuple parenth, cant change, because its immutable.\n",
    "ls = [1,2,3] #list tpye square brackets\n",
    "ls.append(5)\n",
    "ls.insert(2,7)\n",
    "print(type(tu),tu)\n",
    "print(type(ls),ls)\n",
    "#list and tuples and strings can be used as iterators.\n",
    "for i in tu:\n",
    "    print (i)"
   ]
  },
  {
   "cell_type": "markdown",
   "metadata": {},
   "source": [
    "## Dictionary"
   ]
  },
  {
   "cell_type": "code",
   "execution_count": 4,
   "metadata": {
    "collapsed": false
   },
   "outputs": [
    {
     "name": "stdout",
     "output_type": "stream",
     "text": [
      "{'two': 2, 'three': 3, 'one': 1}\n",
      "two 2\n",
      "three 3\n",
      "one 1\n",
      "one 1\n",
      "three 3\n",
      "two 2\n",
      "five five\n",
      "one 1\n",
      "seven 7\n",
      "three 3\n",
      "two 2\n",
      "4297149840\n",
      "4297149840\n",
      "True\n",
      "4361296776\n",
      "4361296520\n",
      "True\n",
      "False\n"
     ]
    }
   ],
   "source": [
    "#Dictionary.\n",
    "myDict = {\"one\":1, \"two\":2, \"three\":3}\n",
    "print(myDict)\n",
    "for k in myDict: #for each key.\n",
    "    print(k,myDict[k])\n",
    "for k in sorted(myDict.keys()):\n",
    "    print(k,myDict[k])\n",
    "\n",
    "anotherDict = dict(\n",
    "    one = 1,\n",
    "    two = 2,\n",
    "    three = 3,\n",
    "    five = \"five\"\n",
    ")\n",
    "anotherDict['seven']  = 7 #inert a new value.\n",
    "for k in sorted(anotherDict.keys()):\n",
    "    print(k,anotherDict[k])\n",
    "\n",
    "\n",
    "#Identity of an obejct.\n",
    "int1 = 42\n",
    "int2 = 42\n",
    "print(id(int1))\n",
    "print(id(int2))\n",
    "print(int1 is int2) #is compares the id\n",
    "#integer simply points to same one object.\n",
    "#bool,int points to the same object.\n",
    "\n",
    "dict1 = dict(x = 42)\n",
    "dict2 = dict(x = 42)\n",
    "print(id(dict1))\n",
    "print(id(dict2))\n",
    "print(dict1 == dict2) #equals: value\n",
    "print(dict1 is dict2) #id"
   ]
  },
  {
   "cell_type": "code",
   "execution_count": null,
   "metadata": {
    "collapsed": true
   },
   "outputs": [],
   "source": []
  }
 ],
 "metadata": {
  "anaconda-cloud": {},
  "kernelspec": {
   "display_name": "Python [conda root]",
   "language": "python",
   "name": "conda-root-py"
  },
  "language_info": {
   "codemirror_mode": {
    "name": "ipython",
    "version": 3
   },
   "file_extension": ".py",
   "mimetype": "text/x-python",
   "name": "python",
   "nbconvert_exporter": "python",
   "pygments_lexer": "ipython3",
   "version": "3.5.2"
  }
 },
 "nbformat": 4,
 "nbformat_minor": 1
}
