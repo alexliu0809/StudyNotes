{
 "cells": [
  {
   "cell_type": "markdown",
   "metadata": {},
   "source": [
    "# Expections"
   ]
  },
  {
   "cell_type": "code",
   "execution_count": 1,
   "metadata": {
    "collapsed": false
   },
   "outputs": [
    {
     "name": "stdout",
     "output_type": "stream",
     "text": [
      "error [Errno 2] No such file or directory: 'xlines.txt'\n",
      "error\n",
      "filename not end with txt\n"
     ]
    }
   ],
   "source": [
    "#how to catch the expections.\n",
    "#same as java\n",
    "#use try except. Like try catch:\n",
    "try:\n",
    "    fh = open('xlines.txt')\n",
    "    for line in fh.readlines():\n",
    "        print(line)\n",
    "except IOError as e:\n",
    "    print(\"error {}\".format(e))\n",
    "#execution will stop after an exception happens. The following code will not be executed.\n",
    "\n",
    "\n",
    "#or\n",
    "try:\n",
    "    fh = open('xlines.txt')\n",
    "    for line in fh.readlines():\n",
    "        print(line)\n",
    "except: #catch any excepetion: except Exception as e:\n",
    "    print(\"error\")\n",
    "\n",
    "#Define your own exception\n",
    "def readfile(filename):\n",
    "    if filename.endswith(\".txt\"):\n",
    "        fh = open(filename)\n",
    "        return fh.readlines()\n",
    "    else: raise ValueError(\"filename not end with txt\")\n",
    "\n",
    "try:\n",
    "    readfile(\"b.adf\")\n",
    "except Exception as e:\n",
    "    print(e) #output self-defined exception"
   ]
  },
  {
   "cell_type": "code",
   "execution_count": null,
   "metadata": {
    "collapsed": true
   },
   "outputs": [],
   "source": []
  }
 ],
 "metadata": {
  "kernelspec": {
   "display_name": "Python [conda root]",
   "language": "python",
   "name": "conda-root-py"
  },
  "language_info": {
   "codemirror_mode": {
    "name": "ipython",
    "version": 3
   },
   "file_extension": ".py",
   "mimetype": "text/x-python",
   "name": "python",
   "nbconvert_exporter": "python",
   "pygments_lexer": "ipython3",
   "version": "3.5.2"
  }
 },
 "nbformat": 4,
 "nbformat_minor": 1
}
