{
 "cells": [
  {
   "cell_type": "markdown",
   "metadata": {},
   "source": [
    "# Syntax"
   ]
  },
  {
   "cell_type": "markdown",
   "metadata": {},
   "source": [
    "## Python Interpreter"
   ]
  },
  {
   "cell_type": "code",
   "execution_count": 1,
   "metadata": {
    "collapsed": true
   },
   "outputs": [],
   "source": [
    "#!/usr/bin/python2.7\n",
    "#First line make sure that the script still can be executed even tho the env changes.\n",
    "#path to the python interpreter.\n",
    "#Shebang line. path to the interpreter that will be used to run the script. \"#\" is hash. \"!\" is bang xD"
   ]
  },
  {
   "cell_type": "markdown",
   "metadata": {},
   "source": [
    "## Indentation"
   ]
  },
  {
   "cell_type": "code",
   "execution_count": 2,
   "metadata": {
    "collapsed": true
   },
   "outputs": [],
   "source": [
    "#White Space: Python Interprete code based on indentation. Blank Space served as {} in other languages.\n",
    "#We need to indent the code correctly.\n",
    "#If just one line of code, you can put this on the same line."
   ]
  },
  {
   "cell_type": "markdown",
   "metadata": {},
   "source": [
    "## Function Call"
   ]
  },
  {
   "cell_type": "code",
   "execution_count": 3,
   "metadata": {
    "collapsed": false
   },
   "outputs": [
    {
     "name": "stdout",
     "output_type": "stream",
     "text": [
      "egg\n"
     ]
    }
   ],
   "source": [
    "#Python does not support calling functions directly (means not in a function) before its defined.\n",
    "#egg()\n",
    "#def egg()\n",
    "\n",
    "#This can work\n",
    "def main():\n",
    "    egg()\n",
    "\n",
    "def egg():\n",
    "    print(\"egg\")\n",
    "\n",
    "\n",
    "\n",
    "if __name__ == \"__main__\": main()\n",
    "#if the python interpreter is running that module (the source file) as the main program,\n",
    "#it sets the special __name__ variable to have a value \"__main__\".\n",
    "#It generally used for testing. You can contain a test suite in the .py file.\n",
    "#with this line, the testing code will only be executed when you run the .py file as main\n",
    "\n",
    "#python does allow same function to be define for multi times.\n",
    "#but I think it executes the one last declared.\n",
    "#and I assume that python interprete the code from top to bottom"
   ]
  },
  {
   "cell_type": "markdown",
   "metadata": {},
   "source": [
    "## Comments"
   ]
  },
  {
   "cell_type": "code",
   "execution_count": 4,
   "metadata": {
    "collapsed": false
   },
   "outputs": [
    {
     "data": {
      "text/plain": [
       "'\\n    this is \\n    a \\n    multiline\\n    comment\\n'"
      ]
     },
     "execution_count": 4,
     "metadata": {},
     "output_type": "execute_result"
    }
   ],
   "source": [
    "# Comments\n",
    "# use \"#\". Hash mark. Pound Sign\n",
    "#multiline comments: using ' ' '\n",
    "'''\n",
    "    this is \n",
    "    a \n",
    "    multiline\n",
    "    comment\n",
    "'''\n",
    "#The output is because technically speaking '''xxx''' are strings"
   ]
  },
  {
   "cell_type": "markdown",
   "metadata": {},
   "source": [
    "## Assignment Operator"
   ]
  },
  {
   "cell_type": "code",
   "execution_count": 5,
   "metadata": {
    "collapsed": true
   },
   "outputs": [],
   "source": [
    "# Assignment : =\n",
    "# Assigning multiple values are allowed:\n",
    "a,b = 1,2\n",
    "a,b = b,a #swap values. Be cautious when using this."
   ]
  },
  {
   "cell_type": "markdown",
   "metadata": {},
   "source": [
    "## Conditions"
   ]
  },
  {
   "cell_type": "code",
   "execution_count": 6,
   "metadata": {
    "collapsed": false
   },
   "outputs": [
    {
     "name": "stdout",
     "output_type": "stream",
     "text": [
      "a (5) is not less than b (1)\n",
      "a (5) is not less than b (1)\n",
      "bar\n",
      "c\n"
     ]
    }
   ],
   "source": [
    "# Conditionals\n",
    "a, b = 5, 1 # assign multiple values at a time. a = 0; b = 1;\n",
    "if a < b:\n",
    "    print(\"a ({}) is less than b ({})\".format(a, b)) # {} will be replaced by the values of a and b.\n",
    "else:\n",
    "    print(\"a ({}) is not less than b ({})\".format(a, b))\n",
    "\n",
    "#this is also ok, \"\" and '' are the same:\n",
    "if (a < b):\n",
    "    print('a ({}) is less than b ({})'.format(a, b)) # {} will be replaced by the values of a and b.\n",
    "else:\n",
    "    print('a ({}) is not less than b ({})'.format(a, b))\n",
    "\n",
    "#this is ok too:\n",
    "print(\"foo\" if a<b else \"bar\") #conditional statement in if statement.\n",
    "s = \"a>b\" if a>b else \"b>a\" #same as the language above s = a>b if a>b. else s = b>a.\n",
    "                            #This is called conditiona value\n",
    "#elseif.\n",
    "if (a<b):\n",
    "    print(\"a\")\n",
    "elif(b>2):\n",
    "    print(\"b\")\n",
    "else:\n",
    "    print(\"c\")"
   ]
  },
  {
   "cell_type": "markdown",
   "metadata": {},
   "source": [
    "## Functions"
   ]
  },
  {
   "cell_type": "code",
   "execution_count": 7,
   "metadata": {
    "collapsed": false
   },
   "outputs": [
    {
     "name": "stdout",
     "output_type": "stream",
     "text": [
      "1 is special\n"
     ]
    }
   ],
   "source": [
    "# Functions:\n",
    "#define a function: def + name(args):\n",
    "#Dont forget the columns\n",
    "def isprime(n = 3): #Set default value. If no argument passed, n is 3.\n",
    "    if n == 1: #if state\n",
    "        print(\"1 is special\")\n",
    "        return False\n",
    "    for x in range(2, n): #for statement. Also through iterator.\n",
    "        if n % x == 0:\n",
    "            print(\"{} equals {} x {}\".format(n, x, n // x)) #print like printf\n",
    "            return False #return a value\n",
    "    else:\n",
    "        print(n, \"is a prime number\") #using \",\" anoother way of printing\n",
    "        return True\n",
    "\n",
    "for n in range(1, 2):\n",
    "    isprime(n)"
   ]
  },
  {
   "cell_type": "markdown",
   "metadata": {},
   "source": [
    "## Class"
   ]
  },
  {
   "cell_type": "code",
   "execution_count": 8,
   "metadata": {
    "collapsed": false
   },
   "outputs": [
    {
     "name": "stdout",
     "output_type": "stream",
     "text": [
      "1\n",
      "1\n"
     ]
    }
   ],
   "source": [
    "#define a class:\n",
    "#class + name():\n",
    "#Defining class is like defining functions.\n",
    "#All method in the class has the first argument self.\n",
    "\n",
    "class Fibonacci():#define a class called Fibonacci\n",
    "    def __init__(self, a, b): #_init_, constructor. Important: First arugment is self for every functions.\n",
    "        self.a = a\n",
    "        self.b = b\n",
    "    #call constructor to get an instance.\n",
    "    \n",
    "    def series(self): #same, you need to define self first. However, you dont need to pass self.\n",
    "        while(True):\n",
    "            yield(self.b)\n",
    "            self.a, self.b = self.b, self.a + self.b #increment this inside the function.\n",
    "\n",
    "f = Fibonacci(0, 1) #create an instance.\n",
    "for r in f.series(): #run series once, return in r, do the loop, run f.series again.\n",
    "    # you have to increment the result in the generator.\n",
    "    if r >= 2: break\n",
    "    print(r)"
   ]
  },
  {
   "cell_type": "code",
   "execution_count": null,
   "metadata": {
    "collapsed": true
   },
   "outputs": [],
   "source": []
  }
 ],
 "metadata": {
  "kernelspec": {
   "display_name": "Python [conda root]",
   "language": "python",
   "name": "conda-root-py"
  },
  "language_info": {
   "codemirror_mode": {
    "name": "ipython",
    "version": 3
   },
   "file_extension": ".py",
   "mimetype": "text/x-python",
   "name": "python",
   "nbconvert_exporter": "python",
   "pygments_lexer": "ipython3",
   "version": "3.5.2"
  }
 },
 "nbformat": 4,
 "nbformat_minor": 1
}
