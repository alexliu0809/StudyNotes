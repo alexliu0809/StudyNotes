{
 "cells": [
  {
   "cell_type": "markdown",
   "metadata": {},
   "source": [
    "# MCMC with Cython"
   ]
  },
  {
   "cell_type": "markdown",
   "metadata": {},
   "source": [
    "## Performance profiling of Python baseline version"
   ]
  },
  {
   "cell_type": "code",
   "execution_count": null,
   "metadata": {
    "collapsed": true
   },
   "outputs": [],
   "source": [
    "%matplotlib inline\n",
    "\n",
    "import numpy as np\n",
    "import scipy as sp\n",
    "import pandas as pd\n",
    "import matplotlib.pyplot as plt\n",
    "import seaborn as sns\n",
    "\n",
    "from scipy.stats import norm\n",
    "np.random.seed(123)"
   ]
  },
  {
   "cell_type": "markdown",
   "metadata": {},
   "source": [
    "## Original implementation"
   ]
  },
  {
   "cell_type": "code",
   "execution_count": null,
   "metadata": {
    "collapsed": true
   },
   "outputs": [],
   "source": [
    "def sampler(data, samples, mu_init=.5, proposal_width=.5, mu_prior_mu=0, mu_prior_sd=1.):\n",
    "    mu_current = mu_init\n",
    "    posterior = [mu_current]\n",
    "    for i in range(samples):\n",
    "        # suggest new position\n",
    "        mu_proposal = norm(mu_current, proposal_width).rvs()\n",
    "\n",
    "        # Compute likelihood by multiplying probabilities of each data point\n",
    "        likelihood_current = norm(mu_current, 1).pdf(data).prod()\n",
    "        likelihood_proposal = norm(mu_proposal, 1).pdf(data).prod()\n",
    "        \n",
    "        # Compute prior probability of current and proposed mu        \n",
    "        prior_current = norm(mu_prior_mu, mu_prior_sd).pdf(mu_current)\n",
    "        prior_proposal = norm(mu_prior_mu, mu_prior_sd).pdf(mu_proposal)\n",
    "        \n",
    "        p_current = likelihood_current * prior_current\n",
    "        p_proposal = likelihood_proposal * prior_proposal\n",
    "        \n",
    "        # Accept proposal?\n",
    "        p_accept = p_proposal / p_current\n",
    "        accept = np.random.rand() < p_accept\n",
    "        \n",
    "        if accept:\n",
    "            mu_current = mu_proposal\n",
    "        \n",
    "        posterior.append(mu_current)\n",
    "        \n",
    "    return posterior"
   ]
  },
  {
   "cell_type": "code",
   "execution_count": null,
   "metadata": {
    "collapsed": true
   },
   "outputs": [],
   "source": [
    "np.random.seed(123)\n",
    "data = np.random.randn(20)"
   ]
  },
  {
   "cell_type": "code",
   "execution_count": null,
   "metadata": {},
   "outputs": [],
   "source": [
    "%%time \n",
    "np.random.seed(123)\n",
    "posterior = sampler(data, samples=1500, mu_init=1.0)\n",
    "posterior"
   ]
  },
  {
   "cell_type": "markdown",
   "metadata": {},
   "source": [
    "## Convert to log pdfs and log likelihoods\n",
    "\n",
    "* The likelihood calculation `norm(mu, sigma).pdf(data).prod()` is at a risk of floating point underflow if we compute the product of many values all < 1.\n",
    "* Switching from the product of probabilites to the sum of log probabilites is a better approach.\n",
    "* We can also remove the computation of some transcendental functions.\n",
    "* SciPy has a `norm(mu, sigma).logpdf(data).sum()` that we can use instead."
   ]
  },
  {
   "cell_type": "code",
   "execution_count": null,
   "metadata": {
    "collapsed": true
   },
   "outputs": [],
   "source": [
    "def log_sampler(data, samples=4, mu_init=.5, proposal_width=.5, plot=False, mu_prior_mu=0, mu_prior_sd=1.):\n",
    "    mu_current = mu_init\n",
    "    posterior = [mu_current]\n",
    "    for i in range(samples):\n",
    "        # suggest new position\n",
    "        mu_proposal = norm(mu_current, proposal_width).rvs()\n",
    "\n",
    "        # Compute likelihood by adding log probabilities of each data point\n",
    "        log_likelihood_current = norm(mu_current, 1).logpdf(data).sum()\n",
    "        log_likelihood_proposal = norm(mu_proposal, 1).logpdf(data).sum()\n",
    "        \n",
    "        # Compute prior log probability of current and proposed mu        \n",
    "        log_prior_current = norm(mu_prior_mu, mu_prior_sd).logpdf(mu_current)\n",
    "        log_prior_proposal = norm(mu_prior_mu, mu_prior_sd).logpdf(mu_proposal)\n",
    "        \n",
    "        log_p_current = log_likelihood_current + log_prior_current\n",
    "        log_p_proposal = log_likelihood_proposal + log_prior_proposal\n",
    "        \n",
    "        # Accept proposal?\n",
    "        log_p_accept = log_p_proposal - log_p_current\n",
    "        accept = np.random.rand() < np.exp(log_p_accept)\n",
    "        \n",
    "        if accept:\n",
    "            # Update position\n",
    "            mu_current = mu_proposal\n",
    "        \n",
    "        posterior.append(mu_current)\n",
    "        \n",
    "    return posterior"
   ]
  },
  {
   "cell_type": "code",
   "execution_count": null,
   "metadata": {},
   "outputs": [],
   "source": [
    "%%time\n",
    "np.random.seed(123)\n",
    "log_posterior = log_sampler(data, samples=1500, mu_init=1.0)"
   ]
  },
  {
   "cell_type": "markdown",
   "metadata": {},
   "source": [
    "### Verify correctness"
   ]
  },
  {
   "cell_type": "code",
   "execution_count": null,
   "metadata": {},
   "outputs": [],
   "source": [
    "np.allclose(posterior, log_posterior)"
   ]
  },
  {
   "cell_type": "markdown",
   "metadata": {},
   "source": [
    "### What we did\n",
    "\n",
    "* Converted all priors, likelihoods, and posteriors to log-versions of same.\n",
    "* Verified that we get the same results.\n",
    "* Net speedup: nothing."
   ]
  },
  {
   "cell_type": "markdown",
   "metadata": {},
   "source": [
    "## Let's re-implement the `logpdf()` computation\n",
    "\n",
    "* We saw previously that SciPy's stats computations are less than optimal.\n",
    "* Let's re-implement the `norm().logpdf().sum()` using numpy array operations only.\n",
    "\n",
    "$$ \\log \\left(p(x|\\mu, \\sigma) \\right) = \\log\\left(\\prod_i^n N(x_i|\\mu, \\sigma) \\right) $$\n",
    "\n",
    "$$ = \\log\\left(\\prod_i^n \\frac{1}{\\sqrt{2 \\pi \\sigma^2}} \\exp \\left( - \\frac{(x_i - \\mu)^2}{2 \\sigma^2} \\right) \\right) $$\n",
    "\n",
    "$$ = \\frac{-n}{2}\\log(2 \\pi \\sigma^2) - \\frac{1}{2 \\sigma^2} \\sum_i^n (x_i - \\mu)^2 $$"
   ]
  },
  {
   "cell_type": "code",
   "execution_count": null,
   "metadata": {
    "collapsed": true
   },
   "outputs": [],
   "source": [
    "from numpy import pi\n",
    "def norm_logpdf(mu, sigma, x):\n",
    "    n = x.shape[0]\n",
    "    return - n / 2.0 * (np.log(2 * pi) + 2.0 * np.log(sigma)) - (0.5 / sigma**2) * np.sum((x - mu)**2)"
   ]
  },
  {
   "cell_type": "code",
   "execution_count": null,
   "metadata": {},
   "outputs": [],
   "source": [
    "x = np.linspace(-1, 3, 1000)\n",
    "norm_logpdf(1.0, 1.0, x), norm(1.0, 1.0).logpdf(x).sum()"
   ]
  },
  {
   "cell_type": "code",
   "execution_count": null,
   "metadata": {},
   "outputs": [],
   "source": [
    "%%timeit x=np.linspace(-1, 3, 1000)\n",
    "norm(1.0, 1.0).logpdf(x).sum()"
   ]
  },
  {
   "cell_type": "code",
   "execution_count": null,
   "metadata": {},
   "outputs": [],
   "source": [
    "%%timeit x=np.linspace(-1, 3, 1000)\n",
    "norm_logpdf(1.0, 1.0, x)"
   ]
  },
  {
   "cell_type": "code",
   "execution_count": null,
   "metadata": {
    "collapsed": true
   },
   "outputs": [],
   "source": [
    "def log_sampler_v2(data, samples, mu_init=.5, proposal_width=.5, mu_prior_mu=0, mu_prior_sd=1.):\n",
    "    mu_current = mu_init\n",
    "    posterior = [mu_current]\n",
    "    for i in range(samples):\n",
    "        # suggest new position\n",
    "        mu_proposal = np.random.normal(mu_current, proposal_width)\n",
    "\n",
    "        # Compute likelihood by adding log probabilities of each data point\n",
    "        log_likelihood_current = norm_logpdf(mu_current, 1, data)\n",
    "        log_likelihood_proposal = norm_logpdf(mu_proposal, 1, data)\n",
    "        \n",
    "        # Compute prior log probability of current and proposed mu\n",
    "        log_prior_current = norm_logpdf(mu_prior_mu, mu_prior_sd, np.array([mu_current]))\n",
    "        log_prior_proposal = norm_logpdf(mu_prior_mu, mu_prior_sd, np.array([mu_proposal]))\n",
    "        \n",
    "        log_p_current = log_likelihood_current + log_prior_current\n",
    "        log_p_proposal = log_likelihood_proposal + log_prior_proposal\n",
    "        \n",
    "        # Accept proposal?\n",
    "        log_p_accept = log_p_proposal - log_p_current\n",
    "        accept = np.random.rand() < np.exp(log_p_accept)\n",
    "        \n",
    "        if accept:\n",
    "            # Update position\n",
    "            mu_current = mu_proposal\n",
    "        \n",
    "        posterior.append(mu_current)\n",
    "        \n",
    "    return posterior"
   ]
  },
  {
   "cell_type": "code",
   "execution_count": null,
   "metadata": {},
   "outputs": [],
   "source": [
    "np.random.seed(123)\n",
    "posterior_0 = log_sampler(data, samples=1500, mu_init=1.0)\n",
    "np.random.seed(123)\n",
    "posterior_1 = log_sampler_v2(data, samples=1500, mu_init=1.0)\n",
    "np.allclose(posterior_0, posterior_1)"
   ]
  },
  {
   "cell_type": "code",
   "execution_count": null,
   "metadata": {},
   "outputs": [],
   "source": [
    "%%time\n",
    "np.random.seed(123)\n",
    "log_posterior = log_sampler_v2(data, samples=15000, mu_init=1.0)"
   ]
  },
  {
   "cell_type": "code",
   "execution_count": null,
   "metadata": {},
   "outputs": [],
   "source": [
    "%%prun\n",
    "log_sampler_v2(data, samples=15000, mu_init=1.0)"
   ]
  },
  {
   "cell_type": "markdown",
   "metadata": {},
   "source": [
    "```\n",
    "         375004 function calls in 2.893 seconds\n",
    "\n",
    "   Ordered by: internal time\n",
    "\n",
    "   ncalls  tottime  percall  cumtime  percall filename:lineno(function)\n",
    "    60000    0.728    0.000    2.121    0.000 <ipython-input-12-75eaa9180db6>:2(norm_logpdf)\n",
    "    60000    0.581    0.000    1.393    0.000 fromnumeric.py:1710(sum)\n",
    "        1    0.437    0.437    2.893    2.893 <ipython-input-16-05520a17552a>:1(log_sampler_v2)\n",
    "    60000    0.323    0.000    0.643    0.000 _methods.py:31(_sum)\n",
    "    60000    0.319    0.000    0.319    0.000 {method 'reduce' of 'numpy.ufunc' objects}\n",
    "    60000    0.169    0.000    0.169    0.000 {built-in method builtins.isinstance}\n",
    "    30000    0.134    0.000    0.134    0.000 {built-in method numpy.core.multiarray.array}\n",
    "    15000    0.092    0.000    0.092    0.000 {method 'normal' of 'mtrand.RandomState' objects}\n",
    "    15000    0.069    0.000    0.069    0.000 {method 'rand' of 'mtrand.RandomState' objects}\n",
    "    15000    0.041    0.000    0.041    0.000 {method 'append' of 'list' objects}\n",
    "```"
   ]
  },
  {
   "cell_type": "markdown",
   "metadata": {},
   "source": [
    "### What we did\n",
    "\n",
    "* Re-implemented the `scipy.stats.norm().logpdf()` in NumPy.\n",
    "* Verified correctness.\n",
    "* Performance improvement over baseline: ~50x. "
   ]
  },
  {
   "cell_type": "markdown",
   "metadata": {},
   "source": [
    "## This is our starting point for the Cython version\n",
    "\n",
    "* Next step: create a Cython version of `log_sampler()`, verify correctness."
   ]
  },
  {
   "cell_type": "code",
   "execution_count": null,
   "metadata": {
    "collapsed": true
   },
   "outputs": [],
   "source": [
    "%load_ext Cython"
   ]
  },
  {
   "cell_type": "code",
   "execution_count": null,
   "metadata": {
    "collapsed": true
   },
   "outputs": [],
   "source": [
    "%%cython\n",
    "# cython: profile=True\n",
    "\n",
    "import numpy as np\n",
    "cimport numpy as cnp\n",
    "from numpy import pi\n",
    "\n",
    "cdef double norm_logpdf(double mu, double sigma, cnp.ndarray[double] x):\n",
    "    n = x.shape[0]\n",
    "    return - n / 2.0 * (np.log(2 * pi) + 2.0 * np.log(sigma)) - (0.5 / sigma**2) * np.sum((x - mu)**2)\n",
    "\n",
    "\n",
    "def log_sampler_cy(data, samples=4, mu_init=.5, proposal_width=.5, mu_prior_mu=0, mu_prior_sd=1.):\n",
    "    mu_current = mu_init\n",
    "    posterior = [mu_current]\n",
    "    for i in range(samples):\n",
    "        # suggest new position\n",
    "        mu_proposal = np.random.normal(mu_current, proposal_width)\n",
    "\n",
    "        # Compute likelihood by adding log probabilities of each data point\n",
    "        log_likelihood_current = norm_logpdf(mu_current, 1, data)\n",
    "        log_likelihood_proposal = norm_logpdf(mu_proposal, 1, data)\n",
    "        \n",
    "        # Compute prior log probability of current and proposed mu\n",
    "        log_prior_current = norm_logpdf(mu_prior_mu, mu_prior_sd, np.array([mu_current]))\n",
    "        log_prior_proposal = norm_logpdf(mu_prior_mu, mu_prior_sd, np.array([mu_proposal]))\n",
    "        \n",
    "        log_p_current = log_likelihood_current + log_prior_current\n",
    "        log_p_proposal = log_likelihood_proposal + log_prior_proposal\n",
    "        \n",
    "        # Accept proposal?\n",
    "        log_p_accept = log_p_proposal - log_p_current\n",
    "        accept = np.random.rand() < np.exp(log_p_accept)\n",
    "        \n",
    "        if accept:\n",
    "            # Update position\n",
    "            mu_current = mu_proposal\n",
    "        \n",
    "        posterior.append(mu_current)\n",
    "        \n",
    "    return posterior"
   ]
  },
  {
   "cell_type": "code",
   "execution_count": null,
   "metadata": {},
   "outputs": [],
   "source": [
    "np.random.seed(123)\n",
    "posterior_v2 = log_sampler_v2(data, samples=15000, mu_init=1.0)\n",
    "np.random.seed(123)\n",
    "posterior_cy = log_sampler_cy(data, samples=15000, mu_init=1.0)\n",
    "np.allclose(posterior_v2, posterior_cy)"
   ]
  },
  {
   "cell_type": "code",
   "execution_count": null,
   "metadata": {},
   "outputs": [],
   "source": [
    "%%timeit np.random.seed(123)\n",
    "posterior_cy = log_sampler_cy(data, samples=15000, mu_init=1.0)"
   ]
  },
  {
   "cell_type": "code",
   "execution_count": null,
   "metadata": {},
   "outputs": [],
   "source": [
    "%%timeit np.random.seed(123)\n",
    "posterior_cy = log_sampler_v2(data, samples=15000, mu_init=1.0)"
   ]
  },
  {
   "cell_type": "markdown",
   "metadata": {},
   "source": [
    "### What we did\n",
    "* Converted `log_sampler_v2()` to Cythonized `log_sampler_cy()`, verified correctness.\n",
    "* Performance improvement over previous version: negligible.\n",
    "* Why?\n",
    "* Next step: focus on `norm_logpdf()`"
   ]
  },
  {
   "cell_type": "markdown",
   "metadata": {},
   "source": [
    "## Add static types to `norm_logpdf()`\n",
    "\n",
    "Focusing on `norm_logpdf()`, let's add static typing, explicit loops, and tighten up the computation."
   ]
  },
  {
   "cell_type": "code",
   "execution_count": null,
   "metadata": {},
   "outputs": [],
   "source": [
    "%%cython -a\n",
    "# cython: profile=True\n",
    "\n",
    "from libc.math cimport log as clog, pi as cpi\n",
    "import numpy as np\n",
    "cimport numpy as cnp\n",
    "from numpy import pi\n",
    "\n",
    "cdef double norm_logpdf(double mu, double sigma, cnp.ndarray[double] x):\n",
    "    cdef double s = 0.0\n",
    "    cdef int n = x.shape[0]\n",
    "    cdef int i\n",
    "    for i in range(n):\n",
    "        s += (x[i] - mu)**2\n",
    "    return - n / 2.0 * (clog(2 * cpi) + 2.0 * clog(sigma)) - (0.5 / sigma / sigma) * s\n",
    "\n",
    "\n",
    "def log_sampler_cy_v2(data, samples=4, mu_init=.5, proposal_width=.5, mu_prior_mu=0, mu_prior_sd=1.):\n",
    "    mu_current = mu_init\n",
    "    posterior = [mu_current]\n",
    "    for i in range(samples):\n",
    "        # suggest new position\n",
    "        mu_proposal = np.random.normal(mu_current, proposal_width)\n",
    "\n",
    "        # Compute likelihood by adding log probabilities of each data point\n",
    "        log_likelihood_current = norm_logpdf(mu_current, 1, data)\n",
    "        log_likelihood_proposal = norm_logpdf(mu_proposal, 1, data)\n",
    "        \n",
    "        # Compute prior log probability of current and proposed mu\n",
    "        log_prior_current = norm_logpdf(mu_prior_mu, mu_prior_sd, np.array([mu_current]))\n",
    "        log_prior_proposal = norm_logpdf(mu_prior_mu, mu_prior_sd, np.array([mu_proposal]))\n",
    "        \n",
    "        log_p_current = log_likelihood_current + log_prior_current\n",
    "        log_p_proposal = log_likelihood_proposal + log_prior_proposal\n",
    "        \n",
    "        # Accept proposal?\n",
    "        log_p_accept = log_p_proposal - log_p_current\n",
    "        accept = np.random.rand() < np.exp(log_p_accept)\n",
    "        \n",
    "        if accept:\n",
    "            mu_current = mu_proposal\n",
    "        \n",
    "        posterior.append(mu_current)\n",
    "        \n",
    "    return posterior"
   ]
  },
  {
   "cell_type": "code",
   "execution_count": null,
   "metadata": {},
   "outputs": [],
   "source": [
    "np.random.seed(123)\n",
    "posterior_v2 = log_sampler_v2(data, samples=15000, mu_init=1.0)\n",
    "np.random.seed(123)\n",
    "posterior_cy = log_sampler_cy_v2(data, samples=15000, mu_init=1.0)\n",
    "np.allclose(posterior_v2, posterior_cy)"
   ]
  },
  {
   "cell_type": "code",
   "execution_count": null,
   "metadata": {},
   "outputs": [],
   "source": [
    "%%timeit np.random.seed(123)\n",
    "log_sampler_cy(data, samples=15000, mu_init=1.0)"
   ]
  },
  {
   "cell_type": "code",
   "execution_count": null,
   "metadata": {},
   "outputs": [],
   "source": [
    "%%timeit np.random.seed(123)\n",
    "log_sampler_cy_v2(data, samples=15000, mu_init=1.0)"
   ]
  },
  {
   "cell_type": "code",
   "execution_count": null,
   "metadata": {},
   "outputs": [],
   "source": [
    "634. / 119."
   ]
  },
  {
   "cell_type": "markdown",
   "metadata": {},
   "source": [
    "### What we did\n",
    "* Added static types to `norm_logpdf()`.\n",
    "* Performance improvement over previous version: ~5x.\n",
    "* Next step: remove all Python interaction in `norm_logpdf()`.\n",
    "* We'll also factor out the usage of the `np.random` module, and add static typing to the sampler."
   ]
  },
  {
   "cell_type": "markdown",
   "metadata": {},
   "source": [
    "## Remove all Python interaction in `norm_logpdf()`\n",
    "\n",
    "Pull out all the stops on `norm_logpdf()`."
   ]
  },
  {
   "cell_type": "code",
   "execution_count": null,
   "metadata": {},
   "outputs": [],
   "source": [
    "%%cython -a\n",
    "# cython: profile=True\n",
    "\n",
    "cimport cython\n",
    "from libc.math cimport log as clog, pi as cpi, exp as cexp\n",
    "import numpy as np\n",
    "cimport numpy as cnp\n",
    "from numpy import pi\n",
    "\n",
    "# cython compile-time constant\n",
    "# http://cython.readthedocs.io/en/latest/src/userguide/language_basics.html#compile-time-definitions\n",
    "DEF LOG_2_PI = 1.8378770664093453\n",
    "\n",
    "@cython.boundscheck(False)\n",
    "@cython.wraparound(False)\n",
    "@cython.cdivision(True)\n",
    "cdef double norm_logpdf(double mu, double sigma, cnp.ndarray[double, mode='c'] x):\n",
    "    cdef int i, n = x.shape[0]\n",
    "    cdef double s = 0.0\n",
    "    for i in range(n):\n",
    "        s += (x[i] - mu) * (x[i] - mu)\n",
    "    return - 0.5 * n * LOG_2_PI - n * clog(sigma) - s / (2.0 * sigma * sigma)\n",
    "\n",
    "cdef double sample_norm(double mu, double sigma):\n",
    "    return np.random.normal(mu, sigma)\n",
    "\n",
    "cdef bint accept_p(double log_p_accept):\n",
    "    return np.random.rand() < cexp(log_p_accept)\n",
    "\n",
    "@cython.boundscheck(False)\n",
    "@cython.wraparound(False)\n",
    "def log_sampler_cy_v3(cnp.ndarray[double] data,\n",
    "                      int samples,\n",
    "                      double mu_init=.5,\n",
    "                      double proposal_width=.5,\n",
    "                      double mu_prior_mu=0,\n",
    "                      double mu_prior_sd=1.):\n",
    "    \n",
    "    cdef:\n",
    "        double mu_proposal, log_likelihood_current, log_likelihood_proposal\n",
    "        double log_prior_current, log_prior_proposal\n",
    "        double log_p_current, log_p_proposal\n",
    "        double log_p_accept\n",
    "        bint accept\n",
    "        double mu_current = mu_init\n",
    "        list posterior = [mu_current]\n",
    "        int i\n",
    "        cnp.ndarray[double, mode='c'] np_buf = np.empty((1,), dtype='f8')\n",
    "        \n",
    "        \n",
    "    for i in range(samples):\n",
    "        # suggest new position\n",
    "        mu_proposal = sample_norm(mu_current, proposal_width)\n",
    "\n",
    "        # Compute likelihood by adding log probabilities of each data point\n",
    "        log_likelihood_current = norm_logpdf(mu_current, 1, data)\n",
    "        log_likelihood_proposal = norm_logpdf(mu_proposal, 1, data)\n",
    "        \n",
    "        # Compute prior log probability of current and proposed mu\n",
    "        np_buf[0] = mu_current\n",
    "        log_prior_current = norm_logpdf(mu_prior_mu, mu_prior_sd, np_buf)\n",
    "        np_buf[0] = mu_proposal\n",
    "        log_prior_proposal = norm_logpdf(mu_prior_mu, mu_prior_sd, np_buf)\n",
    "        \n",
    "        log_p_current = log_likelihood_current + log_prior_current\n",
    "        log_p_proposal = log_likelihood_proposal + log_prior_proposal\n",
    "        \n",
    "        # Accept proposal?\n",
    "        log_p_accept = log_p_proposal - log_p_current\n",
    "        \n",
    "        if accept_p(log_p_accept):\n",
    "            # Update position\n",
    "            mu_current = mu_proposal\n",
    "        \n",
    "        posterior.append(mu_current)\n",
    "        \n",
    "    return posterior"
   ]
  },
  {
   "cell_type": "code",
   "execution_count": null,
   "metadata": {},
   "outputs": [],
   "source": [
    "%%prun\n",
    "np.random.seed(123)\n",
    "posterior_cy = log_sampler_cy_v3(data, samples=15000, mu_init=1.0)"
   ]
  },
  {
   "cell_type": "code",
   "execution_count": null,
   "metadata": {},
   "outputs": [],
   "source": [
    "%%timeit np.random.seed(123)\n",
    "posterior_cy = log_sampler_cy_v3(data, samples=15000, mu_init=1.0)"
   ]
  },
  {
   "cell_type": "code",
   "execution_count": null,
   "metadata": {},
   "outputs": [],
   "source": [
    "np.random.seed(123)\n",
    "posterior_v2 = log_sampler_v2(data, samples=15000, mu_init=1.0)\n",
    "np.random.seed(123)\n",
    "posterior_v3 = log_sampler_cy_v3(data, samples=15000, mu_init=1.0)\n",
    "np.allclose(posterior_v2, posterior_v3)"
   ]
  },
  {
   "cell_type": "markdown",
   "metadata": {},
   "source": [
    "### What we did\n",
    "* Removed all Python interaction in `norm_logpdf`\n",
    "  * Used a compile-time-constant.\n",
    "  * Removed boundschecking, wraparound checking, and use C-division semantics.\n",
    "* Add static typing to `log_sampler()`.\n",
    "* Performance improvement over previous version: ~2x.\n",
    "\n",
    "### Next steps\n",
    "* Remove Python interaction in `sample_norm()` and `accept_p()`.\n",
    "* This will demonstrate using an external Cython package."
   ]
  },
  {
   "cell_type": "code",
   "execution_count": null,
   "metadata": {
    "collapsed": true
   },
   "outputs": [],
   "source": []
  }
 ],
 "metadata": {
  "kernelspec": {
   "display_name": "Python 3",
   "language": "python",
   "name": "python3"
  },
  "language_info": {
   "codemirror_mode": {
    "name": "ipython",
    "version": 3
   },
   "file_extension": ".py",
   "mimetype": "text/x-python",
   "name": "python",
   "nbconvert_exporter": "python",
   "pygments_lexer": "ipython3",
   "version": "3.6.1"
  }
 },
 "nbformat": 4,
 "nbformat_minor": 2
}
