{
 "cells": [
  {
   "cell_type": "markdown",
   "metadata": {},
   "source": [
    "# Extension Types\n",
    "\n",
    "Wherein we learn about one of Cython's most powerful features -- easy creation of Python extension types."
   ]
  },
  {
   "cell_type": "code",
   "execution_count": null,
   "metadata": {},
   "outputs": [],
   "source": [
    "%load_ext Cython"
   ]
  },
  {
   "cell_type": "markdown",
   "metadata": {},
   "source": [
    "## Random Number generation\n",
    "\n",
    "We will implement a very simple random number generator, the [linear congruential generator (LCG)](https://en.wikipedia.org/wiki/Linear_congruential_generator):\n",
    "\n",
    "$$X_{n+1} = (aX_n + c)\\mod m$$\n",
    "\n",
    "We'll use $a=1664525$, $c=1013904223$, and $m=2^{32}$.\n",
    "\n",
    "*Caveat emptor*: Don't use these simple RNGs for anything real, especially with [much better implementations](https://docs.scipy.org/doc/numpy/reference/routines.random.html) so readily available."
   ]
  },
  {
   "cell_type": "markdown",
   "metadata": {},
   "source": [
    "## Pure Python version"
   ]
  },
  {
   "cell_type": "code",
   "execution_count": null,
   "metadata": {
    "collapsed": true
   },
   "outputs": [],
   "source": [
    "class PyLCG(object):\n",
    "    \n",
    "    def __init__(self, a=1664525, c=1013904223, m=2**32, seed=0):\n",
    "        self.a = a\n",
    "        self.c = c\n",
    "        if m <= 0:\n",
    "            raise ValueError(\"m must be > 0, given {}\".format(m))\n",
    "        self.m = m\n",
    "        # The RNG state.\n",
    "        self.x = seed\n",
    "        \n",
    "    def _advance(self):\n",
    "        r = self.x\n",
    "        self.x = (self.a * self.x + self.c) % self.m\n",
    "        return r\n",
    "        \n",
    "    def randint(self, size=None):\n",
    "        if size is None:\n",
    "            return self._advance()\n",
    "        return np.asarray([self._advance() for _ in range(size)])"
   ]
  },
  {
   "cell_type": "markdown",
   "metadata": {},
   "source": [
    "### Tests and timing"
   ]
  },
  {
   "cell_type": "code",
   "execution_count": null,
   "metadata": {
    "collapsed": true
   },
   "outputs": [],
   "source": [
    "%matplotlib inline\n",
    "import matplotlib.pyplot as plt\n",
    "import seaborn as sns\n",
    "import numpy as np"
   ]
  },
  {
   "cell_type": "code",
   "execution_count": null,
   "metadata": {},
   "outputs": [],
   "source": [
    "rng = PyLCG()\n",
    "nums = rng.randint(size=10000) % 100\n",
    "sns.distplot(nums, bins=100, kde=False);"
   ]
  },
  {
   "cell_type": "code",
   "execution_count": null,
   "metadata": {},
   "outputs": [],
   "source": [
    "%%timeit rng = PyLCG()\n",
    "nums = rng.randint(size=10000)"
   ]
  },
  {
   "cell_type": "markdown",
   "metadata": {},
   "source": [
    "## Cython version, extension types, and `cdef class`"
   ]
  },
  {
   "cell_type": "code",
   "execution_count": null,
   "metadata": {},
   "outputs": [],
   "source": [
    "%%cython -a\n",
    "\n",
    "import numpy as np\n",
    "cimport numpy as cnp\n",
    "cimport cython\n",
    "\n",
    "# Creates a new extension type: https://docs.python.org/3/extending/newtypes.html\n",
    "cdef class CyLCG:\n",
    "    \n",
    "    # We declare the compile-time types of our *instance* attributes here.\n",
    "    # This is similar to C++ class declaration syntax.\n",
    "    cdef long a, c, m, x\n",
    "    \n",
    "    # Special Cython-defined initializer.\n",
    "    # Called before __init__ to initialize all C-level attributes.\n",
    "    def __cinit__(self, long a=1664525, long c=1013904223, long m=2**32, long seed=0):\n",
    "        self.a = a\n",
    "        self.c = c\n",
    "        if m <= 0:\n",
    "            raise ValueError(\"m must be > 0, given {}\".format(m))\n",
    "        self.m = m\n",
    "        self.x = seed\n",
    "    \n",
    "    # cdef / cpdef methods are supported\n",
    "    @cython.cdivision(True)\n",
    "    cpdef long _advance(self):\n",
    "        cdef long r = self.x\n",
    "        self.x = (self.a * self.x + self.c) % self.m\n",
    "        return r\n",
    "    \n",
    "    # Regular def method\n",
    "    @cython.boundscheck(False)\n",
    "    @cython.wraparound(False)\n",
    "    def randint(self, size=None):\n",
    "        cdef long r\n",
    "        if size is None:\n",
    "            # Call to self._advance() here is efficient and at the C level.\n",
    "            r = self._advance()\n",
    "            return r\n",
    "        cdef long[::1] a = np.empty((size,), dtype='i8')\n",
    "        cdef int i\n",
    "        cdef int n = int(size)\n",
    "        for i in range(n):\n",
    "            a[i] = self._advance()\n",
    "        return np.asarray(a)"
   ]
  },
  {
   "cell_type": "markdown",
   "metadata": {},
   "source": [
    "### Tests and timing"
   ]
  },
  {
   "cell_type": "code",
   "execution_count": null,
   "metadata": {},
   "outputs": [],
   "source": [
    "rng = CyLCG()\n",
    "nums = rng.randint(size=10000) % 100\n",
    "sns.distplot(nums, bins=100, kde=False);"
   ]
  },
  {
   "cell_type": "code",
   "execution_count": null,
   "metadata": {},
   "outputs": [],
   "source": [
    "%%timeit rng = CyLCG()\n",
    "nums = rng.randint(size=10000)"
   ]
  },
  {
   "cell_type": "markdown",
   "metadata": {},
   "source": [
    "### Pure-python memory footprint\n",
    "The sum of the number of bytes in:\n",
    "* the `PyLCG()` object itself\n",
    "* the instance `__dict__`\n",
    "* and each key / value in the instance `__dict__`"
   ]
  },
  {
   "cell_type": "code",
   "execution_count": null,
   "metadata": {
    "collapsed": true
   },
   "outputs": [],
   "source": [
    "import sys"
   ]
  },
  {
   "cell_type": "code",
   "execution_count": null,
   "metadata": {},
   "outputs": [],
   "source": [
    "pyrng = PyLCG()\n",
    "(sys.getsizeof(pyrng) # the object itself\n",
    " + sys.getsizeof(pyrng.__dict__)  # the instance __dict__\n",
    " + sum(sys.getsizeof(k) + sys.getsizeof(v) for k, v in pyrng.__dict__.items())) # k/v memory use"
   ]
  },
  {
   "cell_type": "markdown",
   "metadata": {},
   "source": [
    "We could improve this by using a `__slots__` attribute, but won't go down that road."
   ]
  },
  {
   "cell_type": "markdown",
   "metadata": {},
   "source": [
    "### Cython memory footprint\n",
    "The sum of the number of bytes in:\n",
    "* The `CyLCG()` object itself\n",
    "* each instance `long`"
   ]
  },
  {
   "cell_type": "code",
   "execution_count": null,
   "metadata": {},
   "outputs": [],
   "source": [
    "(sys.getsizeof(CyLCG()) # the object itself\n",
    " + 4 * 8) # The 4 8-byte longs (a, c, m, x)"
   ]
  },
  {
   "cell_type": "markdown",
   "metadata": {},
   "source": [
    "## Public / private instance attributes"
   ]
  },
  {
   "cell_type": "markdown",
   "metadata": {},
   "source": [
    "### Extension type instance attributes are not visibile to Python by default"
   ]
  },
  {
   "cell_type": "code",
   "execution_count": null,
   "metadata": {
    "collapsed": true
   },
   "outputs": [],
   "source": [
    "cyrng = CyLCG(seed=42)"
   ]
  },
  {
   "cell_type": "code",
   "execution_count": null,
   "metadata": {},
   "outputs": [],
   "source": [
    "cyrng.a, cyrng.c, cyrng.m, cyrng.x\n",
    "# => all give `AttributeError`"
   ]
  },
  {
   "cell_type": "markdown",
   "metadata": {},
   "source": [
    "### Extension type instances aren't open to new attributes"
   ]
  },
  {
   "cell_type": "code",
   "execution_count": null,
   "metadata": {},
   "outputs": [],
   "source": [
    "cyrng.z = 15"
   ]
  },
  {
   "cell_type": "markdown",
   "metadata": {},
   "source": [
    "### But we can control that with `public` and `readonly` declarations"
   ]
  },
  {
   "cell_type": "code",
   "execution_count": null,
   "metadata": {},
   "outputs": [],
   "source": [
    "%%cython -a\n",
    "\n",
    "import numpy as np\n",
    "cimport cython\n",
    "\n",
    "cdef class CyLCGOpen:\n",
    "    \n",
    "    cdef public long x\n",
    "    cdef readonly long a, c, m\n",
    "    \n",
    "    def __cinit__(self, long a=1664525, long c=1013904223, long m=2**32, long seed=0):\n",
    "        self.a = a\n",
    "        self.c = c\n",
    "        if m <= 0:\n",
    "            raise ValueError(\"m must be > 0, given {}\".format(m))\n",
    "        self.m = m\n",
    "        self.x = seed\n",
    "        \n",
    "    # cdef / cpdef methods are supported\n",
    "    @cython.cdivision(True)        \n",
    "    cpdef long _advance(self):\n",
    "        cdef long r = self.x\n",
    "        self.x = (self.a * self.x + self.c) % self.m\n",
    "        return r\n",
    "    \n",
    "    # Regular def method\n",
    "    @cython.boundscheck(False)\n",
    "    @cython.wraparound(False)\n",
    "    def randint(self, size=None):\n",
    "        cdef long r\n",
    "        if size is None:\n",
    "            # Call to self._advance() here is efficient and at the C level.\n",
    "            r = self._advance()\n",
    "            return r\n",
    "        cdef long[::1] a = np.empty((size,), dtype='i8')\n",
    "        cdef int i\n",
    "        cdef int n = int(size)\n",
    "        for i in range(n):\n",
    "            a[i] = self._advance()\n",
    "        return np.asarray(a)"
   ]
  },
  {
   "cell_type": "code",
   "execution_count": null,
   "metadata": {
    "collapsed": true
   },
   "outputs": [],
   "source": [
    "lcg_open = CyLCGOpen()"
   ]
  },
  {
   "cell_type": "code",
   "execution_count": null,
   "metadata": {},
   "outputs": [],
   "source": [
    "# now we can see all the instance attributes\n",
    "lcg_open.a, lcg_open.c, lcg_open.m, lcg_open.x"
   ]
  },
  {
   "cell_type": "code",
   "execution_count": null,
   "metadata": {},
   "outputs": [],
   "source": [
    "# and we can modify `x`\n",
    "lcg_open.x = 42\n",
    "lcg_open.x"
   ]
  },
  {
   "cell_type": "code",
   "execution_count": null,
   "metadata": {},
   "outputs": [],
   "source": [
    "# but we can't modify `readonly` attributes\n",
    "lcg_open.a = -1"
   ]
  },
  {
   "cell_type": "markdown",
   "metadata": {},
   "source": [
    "### Cython extension types in more depth\n",
    "* [cython.org docs](http://cython.readthedocs.io/en/latest/src/userguide/extension_types.html)\n",
    "* [_Cython_ Book, chapter 5](http://shop.oreilly.com/product/0636920033431.do)"
   ]
  }
 ],
 "metadata": {
  "kernelspec": {
   "display_name": "Python 3",
   "language": "python",
   "name": "python3"
  },
  "language_info": {
   "codemirror_mode": {
    "name": "ipython",
    "version": 3
   },
   "file_extension": ".py",
   "mimetype": "text/x-python",
   "name": "python",
   "nbconvert_exporter": "python",
   "pygments_lexer": "ipython3",
   "version": "3.6.1"
  }
 },
 "nbformat": 4,
 "nbformat_minor": 2
}
