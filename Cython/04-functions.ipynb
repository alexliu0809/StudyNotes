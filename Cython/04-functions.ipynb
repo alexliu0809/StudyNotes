{
 "cells": [
  {
   "cell_type": "markdown",
   "metadata": {},
   "source": [
    "# Cython functions\n",
    "* Cython supports 3 kinds of functions:\n",
    "  * Python `def` functions -- compiled Python functions that work with Python types.\n",
    "  * C-level `cdef` functions -- low-overhead C-level functions that support C-only types.\n",
    "  * Hybrid `cpdef` functions -- C-level function with auto-generated Python compatibility wrappers."
   ]
  },
  {
   "cell_type": "code",
   "execution_count": null,
   "metadata": {
    "collapsed": true
   },
   "outputs": [],
   "source": [
    "%load_ext Cython"
   ]
  },
  {
   "cell_type": "markdown",
   "metadata": {},
   "source": [
    "## `def` functions in Cython: identical to `builtin_function_or_method`\n",
    "\n",
    "* Expects Python objects as inputs; always returns a Python object."
   ]
  },
  {
   "cell_type": "code",
   "execution_count": null,
   "metadata": {},
   "outputs": [],
   "source": [
    "def pyfunc(a, b):\n",
    "    \"\"\"Adds its arguments polymorphically, in pure Python.\"\"\"\n",
    "    return a + b\n",
    "\n",
    "print(type(pyfunc))\n",
    "print(dir(pyfunc))"
   ]
  },
  {
   "cell_type": "code",
   "execution_count": null,
   "metadata": {},
   "outputs": [],
   "source": [
    "%%cython\n",
    "\n",
    "def cyfunc(a, b):\n",
    "    \"\"\"Adds its arguments polymorphically, in Cython!\"\"\"\n",
    "    return a + b\n",
    "\n",
    "print(type(cyfunc))\n",
    "print(dir(cyfunc))"
   ]
  },
  {
   "cell_type": "markdown",
   "metadata": {},
   "source": [
    "### Cython functions don't have dynamic attributes that Python functions have"
   ]
  },
  {
   "cell_type": "code",
   "execution_count": null,
   "metadata": {},
   "outputs": [],
   "source": [
    "set(dir(pyfunc)) - set(dir(cyfunc))"
   ]
  },
  {
   "cell_type": "code",
   "execution_count": null,
   "metadata": {},
   "outputs": [],
   "source": [
    "assert pyfunc(1, 2) == cyfunc(1, 2)\n",
    "assert pyfunc('a', 'b') == cyfunc('a', 'b')\n",
    "\n",
    "class klass:\n",
    "    def __add__(self, other):\n",
    "        print(\"Salut!\")\n",
    "        return 42\n",
    "\n",
    "print(cyfunc(klass(), klass()))"
   ]
  },
  {
   "cell_type": "markdown",
   "metadata": {},
   "source": [
    "## `cdef` functions: C-functions with Python-like syntax"
   ]
  },
  {
   "cell_type": "code",
   "execution_count": null,
   "metadata": {},
   "outputs": [],
   "source": [
    "%%cython\n",
    "\n",
    "cdef untyped(a, b):\n",
    "    return a + b\n",
    "\n",
    "print(untyped(1, 2), untyped('a', 'b'))\n",
    "\n",
    "cdef int typed(double a, double b):\n",
    "    return <int>(a + b) # Type casting in Cython.\n",
    "\n",
    "print(typed(1, 2), typed(3.14, 2.72))\n",
    "\n",
    "# print(typed('a', 'b')) <<<<<<<<<<< Compilation Error, not ValueError / RuntimeError."
   ]
  },
  {
   "cell_type": "markdown",
   "metadata": {},
   "source": [
    "### `cdef` variables / functions not visible to Python outside defining scope"
   ]
  },
  {
   "cell_type": "code",
   "execution_count": null,
   "metadata": {},
   "outputs": [],
   "source": [
    "untyped(1, 2), typed(1, 2)"
   ]
  },
  {
   "cell_type": "markdown",
   "metadata": {},
   "source": [
    "### Pop quiz:\n",
    "\n",
    "* Conjecture what Cython does when executing `print(typed(1, 2))` to make the `print()` call work."
   ]
  },
  {
   "cell_type": "markdown",
   "metadata": {},
   "source": [
    "## `cpdef` functions: two functions in one!"
   ]
  },
  {
   "cell_type": "code",
   "execution_count": null,
   "metadata": {},
   "outputs": [],
   "source": [
    "%%cython -a\n",
    "    \n",
    "\n",
    "# cpdef functions are just like cdef functions with\n",
    "# an implicitly defined Python wrapper for free.\n",
    "cpdef int cpdef_func(int y, int z):\n",
    "    return y + z\n",
    "\n",
    "# Call directly from other Cython code:\n",
    "print(cpdef_func(1, 2))"
   ]
  },
  {
   "cell_type": "code",
   "execution_count": null,
   "metadata": {},
   "outputs": [],
   "source": [
    "# Call from Python (via Python wrapper)\n",
    "cpdef_func(1, 2)"
   ]
  },
  {
   "cell_type": "markdown",
   "metadata": {},
   "source": [
    "### Pop quiz:\n",
    "\n",
    "* given that a `cpdef` function is like a `cdef` function with the constraint of using only Python-convertible types in its signature, what C types can we not use with a `cpdef` function?"
   ]
  },
  {
   "cell_type": "markdown",
   "metadata": {},
   "source": [
    "## `cdef` and `cpdef` functions and error propogation"
   ]
  },
  {
   "cell_type": "code",
   "execution_count": null,
   "metadata": {},
   "outputs": [],
   "source": [
    "%%cython\n",
    "\n",
    "cpdef int unchecked_div(int a, int b):\n",
    "    return <int>(a / b)\n",
    "\n",
    "# This result is concerning...\n",
    "print(unchecked_div(1, 0))"
   ]
  },
  {
   "cell_type": "code",
   "execution_count": null,
   "metadata": {},
   "outputs": [],
   "source": [
    "%%cython\n",
    "\n",
    "cpdef int checked_div(int a, int b) except *:\n",
    "    return <int>(a / b)\n",
    "\n",
    "# This is better...\n",
    "print(checked_div(1, 0)) # ZeroDivisionError: float division"
   ]
  },
  {
   "cell_type": "markdown",
   "metadata": {},
   "source": [
    "### Raising exceptions inside cpdef / cdef functions with C return types"
   ]
  },
  {
   "cell_type": "code",
   "execution_count": null,
   "metadata": {
    "collapsed": true
   },
   "outputs": [],
   "source": [
    "%%cython\n",
    "\n",
    "cpdef int func() except -1: # we guarantee that -1 is never a valid return value, \n",
    "    # ...                   # so Cython can use it as a sentinel to flag that an \n",
    "    raise ValueError(\"...\") # exception has occurred."
   ]
  },
  {
   "cell_type": "code",
   "execution_count": null,
   "metadata": {},
   "outputs": [],
   "source": [
    "func()"
   ]
  },
  {
   "cell_type": "code",
   "execution_count": null,
   "metadata": {
    "collapsed": true
   },
   "outputs": [],
   "source": []
  }
 ],
 "metadata": {
  "kernelspec": {
   "display_name": "Python 3",
   "language": "python",
   "name": "python3"
  },
  "language_info": {
   "codemirror_mode": {
    "name": "ipython",
    "version": 3
   },
   "file_extension": ".py",
   "mimetype": "text/x-python",
   "name": "python",
   "nbconvert_exporter": "python",
   "pygments_lexer": "ipython3",
   "version": "3.6.1"
  }
 },
 "nbformat": 4,
 "nbformat_minor": 2
}
