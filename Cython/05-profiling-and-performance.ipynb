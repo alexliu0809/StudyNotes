{
 "cells": [
  {
   "cell_type": "markdown",
   "metadata": {},
   "source": [
    "# Profiling and Performance"
   ]
  },
  {
   "cell_type": "markdown",
   "metadata": {},
   "source": [
    "## Step one: get runtime performance numbers"
   ]
  },
  {
   "cell_type": "code",
   "execution_count": null,
   "metadata": {
    "collapsed": true
   },
   "outputs": [],
   "source": [
    "%load_ext Cython"
   ]
  },
  {
   "cell_type": "code",
   "execution_count": null,
   "metadata": {
    "collapsed": true
   },
   "outputs": [],
   "source": [
    "%%cython\n",
    "# cython: profile=True\n",
    "\n",
    "def outer(int n):\n",
    "    # Contrived, I admit...\n",
    "    for _ in range(n):\n",
    "        inner(n)\n",
    "    return inner(n)\n",
    "\n",
    "cdef int inner(int n):\n",
    "    res = 0\n",
    "    for i in range(n):\n",
    "        res += i\n",
    "    return res\n",
    "\n",
    "def reverse(l):\n",
    "    if len(l) <= 1:\n",
    "        return l\n",
    "    return _reverse_helper(l, [])\n",
    "\n",
    "cdef _reverse_helper(l, a):\n",
    "    if not l:\n",
    "        return a\n",
    "    return _reverse_helper(l[:-1], a + [l[-1]])"
   ]
  },
  {
   "cell_type": "code",
   "execution_count": null,
   "metadata": {
    "collapsed": true
   },
   "outputs": [],
   "source": [
    "reverse(list(range(10)))"
   ]
  },
  {
   "cell_type": "code",
   "execution_count": null,
   "metadata": {
    "collapsed": true
   },
   "outputs": [],
   "source": [
    "%%prun\n",
    "reverse(list(range(10000)))"
   ]
  },
  {
   "cell_type": "code",
   "execution_count": null,
   "metadata": {
    "collapsed": true
   },
   "outputs": [],
   "source": [
    "%%prun\n",
    "outer(10000)"
   ]
  },
  {
   "cell_type": "markdown",
   "metadata": {},
   "source": [
    "## Step two: line-level annotations"
   ]
  },
  {
   "cell_type": "code",
   "execution_count": null,
   "metadata": {
    "collapsed": true
   },
   "outputs": [],
   "source": [
    "%%cython -a\n",
    "\n",
    "def outer(int n):\n",
    "    for _ in range(n):\n",
    "        inner(n)\n",
    "    return inner(n)\n",
    "\n",
    "cdef int inner(int n):\n",
    "    res = 0\n",
    "    for i in range(n):\n",
    "        res += i\n",
    "    return res\n",
    "\n",
    "def reverse(l):\n",
    "    if len(l) <= 1:\n",
    "        return l\n",
    "    return _reverse_helper(l, [])\n",
    "\n",
    "cdef list _reverse_helper(list l, list a):\n",
    "    if not l:\n",
    "        return a\n",
    "    return _reverse_helper(l[:-1], a + [l[-1]])"
   ]
  },
  {
   "cell_type": "markdown",
   "metadata": {
    "collapsed": true
   },
   "source": [
    "## Exercises\n",
    "\n",
    "* With the help of profiling and annotations, modify the implementations of `outer` and `inner` and see what difference it makes in runtime and in code generated.\n",
    "* Can you add static C typing to make the `for` loops and loop bodies efficient?"
   ]
  },
  {
   "cell_type": "code",
   "execution_count": null,
   "metadata": {
    "collapsed": true
   },
   "outputs": [],
   "source": []
  }
 ],
 "metadata": {
  "kernelspec": {
   "display_name": "Python 3",
   "language": "python",
   "name": "python3"
  },
  "language_info": {
   "codemirror_mode": {
    "name": "ipython",
    "version": 3
   },
   "file_extension": ".py",
   "mimetype": "text/x-python",
   "name": "python",
   "nbconvert_exporter": "python",
   "pygments_lexer": "ipython3",
   "version": "3.6.1"
  }
 },
 "nbformat": 4,
 "nbformat_minor": 2
}
